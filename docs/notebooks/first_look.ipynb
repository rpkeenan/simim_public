{
 "cells": [
  {
   "cell_type": "markdown",
   "metadata": {},
   "source": [
    "# A Basic SimIM Example\n",
    "\n",
    "Outline\n",
    "- Make a luminosity function\n",
    "- Make a light cone\n",
    "- Make a spectral cube\n",
    "- Make a power spectrum\n",
    "- Apply instrument response\n",
    "- Make a timestream"
   ]
  },
  {
   "cell_type": "markdown",
   "metadata": {},
   "source": []
  }
 ],
 "metadata": {
  "language_info": {
   "name": "python"
  }
 },
 "nbformat": 4,
 "nbformat_minor": 2
}
