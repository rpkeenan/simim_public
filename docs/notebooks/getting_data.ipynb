{
 "cells": [
  {
   "cell_type": "markdown",
   "metadata": {},
   "source": [
    "# Downloading Simulation Data\n",
    "\n",
    "## Simulation Access with SimIM\n",
    "\n",
    "**SimIM** draws galaxy (and dark matter halo) properties from cosmological\n",
    "simulations. The first step to using **SimIM** is therefore to download \n",
    "the necessary subhalo catalogs. Currently, **SimIM** supports subhalo \n",
    "catalogs from [Illustris](https://www.illustris-project.org/) and\n",
    "[IllustrisTNG](https://www.tng-project.org/), along with the \n",
    "[UniverseMachine](https://www.peterbehroozi.com/data.html) halo catalogs \n",
    "for the BolshoiPlanck and MultiDark simulations. Details on each simulation\n",
    "can be found on the linked web pages and associated publications. Any work\n",
    "using **SimIM** should separately acknowledge and reference the simulation\n",
    "used."
   ]
  },
  {
   "cell_type": "markdown",
   "metadata": {},
   "source": [
    "## Downloading a Simulation\n",
    "\n",
    "In this example and throughout the **SimIM** documentation we use \n",
    "TNG100-3-Dark simulation. This is a simulation box with 100 Mpc \n",
    "sides, a dark matter particle mass of $4\\times10^8$ $M_\\odot$, and \n",
    "no Baryonic physics. We use this simulation because the total data \n",
    "volume is relatively small (~3 GB compared to ~1 TB for the full \n",
    "physics, full resolution TNG300-1 simulation). For most scientific\n",
    "applications it is advisable to utilize a higher resolution simulation.\n",
    "However the smaller, low-resolution TNG100-3 can be downloaded, \n",
    "formatted, and loaded much more quickly, making it useful for \n",
    "demonstration and testing purposes."
   ]
  },
  {
   "cell_type": "markdown",
   "metadata": {},
   "source": [
    "We can start by loading the ``simim.siminterface`` module, which is used for downloading and interacting with simulation halo catalogs:"
   ]
  },
  {
   "cell_type": "code",
   "execution_count": null,
   "metadata": {},
   "outputs": [],
   "source": [
    "import simim.siminterface as sim"
   ]
  },
  {
   "cell_type": "markdown",
   "metadata": {},
   "source": [
    "If this is your first time using **SimIM** on a machine, \n",
    "you may also need to run the following lines and follow the prompts to set a path in which to store downloaded simulation data."
   ]
  },
  {
   "cell_type": "code",
   "execution_count": null,
   "metadata": {},
   "outputs": [],
   "source": [
    "from simim import setupimsim\n",
    "setupimsim()"
   ]
  },
  {
   "cell_type": "markdown",
   "metadata": {},
   "source": [
    "Now we can proceed to download the subhalo catalogs for our prefered\n",
    "simulation. Note that this is a large quantity of data and can take some\n",
    "time depending on your internet connection. This initial download is in \n",
    "the raw format provided by the original halo catalogs, we will translate \n",
    "it to SimIM's format in a second step.\n",
    "\n",
    "For Illustris and IllustrisTNG data, you will need an API key from the\n",
    "Illustris/TNG project, which can be obtained [here](https://www.tng-project.org/users/register/). For UniverseMachine catalogs no key is required."
   ]
  },
  {
   "cell_type": "code",
   "execution_count": null,
   "metadata": {},
   "outputs": [],
   "source": [
    "# download the data - set the redownload parameter to True\n",
    "# if you want to overwrite snapshots already saved on your \n",
    "# machine.\n",
    "\n",
    "api_key = '[fill in your API key here]' # Replace this with a string containing key\n",
    "cat = sim.illustris_catalogs('TNG100-3-Dark',api_key)\n",
    "cat.download_meta()\n",
    "cat.download()"
   ]
  },
  {
   "cell_type": "markdown",
   "metadata": {},
   "source": [
    "Now that the simulation is downloaded we can reformat it to \n",
    "use with **SimIM**. This procedure reformats the data in a uniform\n",
    "format used by **SimIM** to interface with all supported simulations.\n",
    "\n",
    "Formatting is handled by the ``cat.format`` method.\n",
    "A few options are supported for formatting. Setting the ``basic`` \n",
    "parameter to ``True`` keeps only a minimal set of halo properties - \n",
    "position velocity, mass, radius, and a few others - which in the\n",
    "formatted catalog. This can be done to save space when other \n",
    "properties will not be needed.\n",
    "\n",
    "Setting the ``realtime_clean_raw`` parameter to ``True`` will delete\n",
    "the unformatted data (which is kept on the disk by default) as the\n",
    "**SimIM** formatted file is generated. This can save a significant \n",
    "amount of disk space when working with larger simulations, but will\n",
    "require re-downloading data if something goes wrong. We can then \n",
    "also delete the data later, once we've verified that the catalog has\n",
    "been successfully converted to the **SimIM** format, and this approach\n",
    "should be prefered when disk space is not a concern."
   ]
  },
  {
   "cell_type": "code",
   "execution_count": null,
   "metadata": {},
   "outputs": [
    {
     "name": "stdout",
     "output_type": "stream",
     "text": [
      "Formatting snap 0\n",
      "warning: zero groups, empty return (snap=0).\n",
      "Formatting snap 1\n",
      "warning: zero groups, empty return (snap=1).\n",
      "Formatting snap 2\n",
      "Formatting snap 3\n",
      "Formatting snap 4\n",
      "Formatting snap 5\n",
      "Formatting snap 6\n",
      "Formatting snap 7\n",
      "Formatting snap 8\n",
      "Formatting snap 9\n",
      "Formatting snap 10\n",
      "Formatting snap 11\n",
      "Formatting snap 12\n",
      "Formatting snap 13\n",
      "Formatting snap 14\n",
      "Formatting snap 15\n",
      "Formatting snap 16\n",
      "Formatting snap 17\n",
      "Formatting snap 18\n",
      "Formatting snap 19\n",
      "Formatting snap 20\n",
      "Formatting snap 21\n",
      "Formatting snap 22\n",
      "Formatting snap 23\n",
      "Formatting snap 24\n",
      "Formatting snap 25\n",
      "Formatting snap 26\n",
      "Formatting snap 27\n",
      "Formatting snap 28\n",
      "Formatting snap 29\n",
      "Formatting snap 30\n",
      "Formatting snap 31\n",
      "Formatting snap 32\n",
      "Formatting snap 33\n",
      "Formatting snap 34\n",
      "Formatting snap 35\n",
      "Formatting snap 36\n",
      "Formatting snap 37\n",
      "Formatting snap 38\n",
      "Formatting snap 39\n",
      "Formatting snap 40\n",
      "Formatting snap 41\n",
      "Formatting snap 42\n",
      "Formatting snap 43\n",
      "Formatting snap 44\n",
      "Formatting snap 45\n",
      "Formatting snap 46\n",
      "Formatting snap 47\n",
      "Formatting snap 48\n",
      "Formatting snap 49\n",
      "Formatting snap 50\n",
      "Formatting snap 51\n",
      "Formatting snap 52\n",
      "Formatting snap 53\n",
      "Formatting snap 54\n",
      "Formatting snap 55\n",
      "Formatting snap 56\n",
      "Formatting snap 57\n",
      "Formatting snap 58\n",
      "Formatting snap 59\n",
      "Formatting snap 60\n",
      "Formatting snap 61\n",
      "Formatting snap 62\n",
      "Formatting snap 63\n",
      "Formatting snap 64\n",
      "Formatting snap 65\n",
      "Formatting snap 66\n",
      "Formatting snap 67\n",
      "Formatting snap 68\n",
      "Formatting snap 69\n",
      "Formatting snap 70\n",
      "Formatting snap 71\n",
      "Formatting snap 72\n",
      "Formatting snap 73\n",
      "Formatting snap 74\n",
      "Formatting snap 75\n",
      "Formatting snap 76\n",
      "Formatting snap 77\n",
      "Formatting snap 78\n",
      "Formatting snap 79\n",
      "Formatting snap 80\n",
      "Formatting snap 81\n",
      "Formatting snap 82\n",
      "Formatting snap 83\n",
      "Formatting snap 84\n",
      "Formatting snap 85\n",
      "Formatting snap 86\n",
      "Formatting snap 87\n",
      "Formatting snap 88\n",
      "Formatting snap 89\n",
      "Formatting snap 90\n",
      "Formatting snap 91\n",
      "Formatting snap 92\n",
      "Formatting snap 93\n",
      "Formatting snap 94\n",
      "Formatting snap 95\n",
      "Formatting snap 96\n",
      "Formatting snap 97\n",
      "Formatting snap 98\n",
      "Formatting snap 99\n"
     ]
    }
   ],
   "source": [
    "cat.format(remake=True,basic=False,realtime_clean_raw=False)"
   ]
  },
  {
   "cell_type": "markdown",
   "metadata": {},
   "source": [
    "To remove the unformatted versions of the catalog, we can now call\n",
    "the ``cat.clean_raw`` method."
   ]
  },
  {
   "cell_type": "code",
   "execution_count": null,
   "metadata": {},
   "outputs": [],
   "source": [
    "cat.clean_raw()"
   ]
  },
  {
   "cell_type": "markdown",
   "metadata": {},
   "source": [
    "## Partial Simulation Downloads\n",
    "\n",
    "It is also possible to save time and disk space by only downloading \n",
    "and formatting snapshots you need. For instance, if we only wanted the\n",
    "simulation from redshifts 0 to 2 (snapshots 33-99 for IllustrisTNG), \n",
    "then we could do the following:"
   ]
  },
  {
   "cell_type": "code",
   "execution_count": null,
   "metadata": {},
   "outputs": [],
   "source": [
    "snaps = np.arange(33,100)\n",
    "api_key = '[fill in your API key here]' # Replace this with a string containing key\n",
    "cat = sim.illustris.illustris_catalogs('TNG100-3-Dark',api_key,snaps=snaps)\n",
    "cat.download_meta(redownload=True)\n",
    "cat.download()\n",
    "cat.format(remake=True)"
   ]
  },
  {
   "cell_type": "markdown",
   "metadata": {},
   "source": [
    "Note that some of the metadata saved with the formatted snapshots\n",
    "depends on the full list of snapshots to be included in the **SimIM**\n",
    "catalogs. Therefore the ``cat.download_meta``, ``cat.download`` and \n",
    "``cat.format`` methods should all be run with the a \n",
    "``simim.siminterface.illustris_catalogs`` instance initialized with the same\n",
    "snapshot list."
   ]
  },
  {
   "cell_type": "markdown",
   "metadata": {},
   "source": [
    "## Additional Simulations\n",
    "\n",
    "All simulations in the Illustris and IllustrisTNG can be downloaded\n",
    "and formatted using the ``simim.siminterface.illustris_catalogs`` class\n",
    "specifying the name of the desired simulation as the ``sim`` argument.\n",
    "The available simulations are ``Illustris-[N]`` and ``Illustris-[N]-Dark``\n",
    "(where [N] is replaced with 1, 2, or 3), and ``TNG[S]-[N]`` and ``TNG[S]-[N]-Dark``\n",
    "(where [S] is 50, 100, or 300 and [N] is again 1, 2, or 3).\n",
    "\n",
    "UniverseMachine catalogs for the BolshoiPlanck, MultiDark Planck 2,\n",
    "and Small MultiDark Placnk simulations. These can be accessed via\n",
    "``simim.siminterface.universemachine_catalogs`` method and the names\n",
    "``UniverseMachine-BolshoiPlanck``, ``UniverseMachine-MDPL2`` and\n",
    "``UniverseMachine-SMDPL``."
   ]
  },
  {
   "cell_type": "markdown",
   "metadata": {},
   "source": [
    "It is also relatively straightforward to implement support for new simulations\n",
    "within the **SimIM** framework. Doing so requires adding new code to the \n",
    "**SimIM** package, which can be added by cloning the source code from the\n",
    "[SimIM project GitHub](https://github.com/rpkeenan/simim_public).\n",
    "The procedure for implementing new simulations is then described in the\n",
    "documentation for the ``simim.siminterface._rawsiminterface`` module."
   ]
  }
 ],
 "metadata": {
  "language_info": {
   "name": "python"
  }
 },
 "nbformat": 4,
 "nbformat_minor": 2
}
