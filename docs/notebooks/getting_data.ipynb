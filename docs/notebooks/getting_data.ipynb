{
 "cells": [
  {
   "cell_type": "markdown",
   "metadata": {},
   "source": [
    "# Downloading Simulation Data\n",
    "\n",
    "## Simulation Access with SimIM\n",
    "\n",
    "**SimIM** draws galaxy (and dark matter halo) properties from cosmological simulations. The first step to using **SimIM** is therefore to download the necessary subhalo catalogs. Currently, **SimIM** supports subhalo catalogs from [Illustris](https://www.illustris-project.org/) and [IllustrisTNG](https://www.tng-project.org/), along with the [UniverseMachine](https://www.peterbehroozi.com/data.html) halo catalogs for the BolshoiPlanck and MultiDark simulations. Details on each simulation can be found on the linked web pages and associated publications. Any work using **SimIM** should separately acknowledge and reference the simulation used."
   ]
  },
  {
   "cell_type": "markdown",
   "metadata": {},
   "source": [
    "## Downloading a Simulation\n",
    "\n",
    "In this example and throughout the **SimIM** documentation we use TNG100-3-Dark simulation. This is a simulation box with 100 Mpc sides, a dark matter particle mass of $4\\times10^8$ $M_\\odot$, and no Baryonic physics. We use this simulation because the total data volume is relatively small (~3 GB compared to ~1 TB for the full physics, full resolution TNG300-1 simulation). For most scientific applications it is advisable to utilize a higher resolution simulation. However the smaller, low-resolution TNG100-3 can be downloaded, formatted, and loaded much more quickly, making it useful for demonstration and testing purposes."
   ]
  },
  {
   "cell_type": "markdown",
   "metadata": {},
   "source": [
    "We can start by loading the ``simim.siminterface`` module, which is used for downloading and interacting with simulation halo catalogs:"
   ]
  },
  {
   "cell_type": "code",
   "execution_count": 1,
   "metadata": {},
   "outputs": [],
   "source": [
    "import simim.siminterface as sim"
   ]
  },
  {
   "cell_type": "markdown",
   "metadata": {},
   "source": [
    "If this is your first time using **SimIM** on a machine, you may also need to run the following lines and follow the prompts to set a path in which to store downloaded simulation data."
   ]
  },
  {
   "cell_type": "code",
   "execution_count": 4,
   "metadata": {},
   "outputs": [
    {
     "name": "stdout",
     "output_type": "stream",
     "text": [
      "Please specify a path to save data directories.\n",
      "Specifying no path will set the path to your home directory.\n",
      "Files will be saved in /Users/keenan/Data/simim_resources\n"
     ]
    }
   ],
   "source": [
    "from simim import setupsimim\n",
    "setupsimim()"
   ]
  },
  {
   "cell_type": "markdown",
   "metadata": {},
   "source": [
    "Now we can proceed to download the subhalo catalogs for our prefered simulation. Note that this is a large quantity of data and can take some time depending on your internet connection. This initial download is in the raw format provided by the original halo catalogs, we will translate it to SimIM's format in a second step.\n",
    "\n",
    "For Illustris and IllustrisTNG data, you will need an API key from the Illustris/TNG project, which can be obtained [here](https://www.tng-project.org/users/register/). For UniverseMachine catalogs no key is required."
   ]
  },
  {
   "cell_type": "code",
   "execution_count": 6,
   "metadata": {},
   "outputs": [
    {
     "name": "stdout",
     "output_type": "stream",
     "text": [
      "\n",
      "Downloading Snapshot 0\n"
     ]
    },
    {
     "name": "stderr",
     "output_type": "stream",
     "text": [
      "2024-02-29 01:03:23 URL:http://www.tng-project.org/api/TNG100-3-Dark/files/groupcat-0/?format=api [9151/9151] -> \"/Users/keenan/Data/simim_resources/simulations/TNG100-3-Dark/raw/groups_000/index.html?format=api.tmp\" [1]\n",
      "2024-02-29 01:03:23 URL:http://www.tng-project.org/ [13013/13013] -> \"/Users/keenan/Data/simim_resources/simulations/TNG100-3-Dark/raw/groups_000/index.html.tmp\" [1]\n",
      "2024-02-29 01:03:23 URL:http://www.tng-project.org/about/ [36929/36929] -> \"/Users/keenan/Data/simim_resources/simulations/TNG100-3-Dark/raw/groups_000/index.html.tmp\" [1]\n",
      "2024-02-29 01:03:23 URL:http://www.tng-project.org/people/ [13268/13268] -> \"/Users/keenan/Data/simim_resources/simulations/TNG100-3-Dark/raw/groups_000/index.html.tmp\" [1]\n",
      "2024-02-29 01:03:23 URL:http://www.tng-project.org/results/ [484900/484900] -> \"/Users/keenan/Data/simim_resources/simulations/TNG100-3-Dark/raw/groups_000/index.html.tmp\" [1]\n",
      "2024-02-29 01:03:23 URL:http://www.tng-project.org/media/ [59010/59010] -> \"/Users/keenan/Data/simim_resources/simulations/TNG100-3-Dark/raw/groups_000/index.html.tmp\" [1]\n",
      "2024-02-29 01:03:24 URL:http://www.tng-project.org/data/ [43902/43902] -> \"/Users/keenan/Data/simim_resources/simulations/TNG100-3-Dark/raw/groups_000/index.html.tmp\" [1]\n",
      "2024-02-29 01:03:24 URL:http://www.tng-project.org/explore/ [3989/3989] -> \"/Users/keenan/Data/simim_resources/simulations/TNG100-3-Dark/raw/groups_000/index.html.tmp\" [1]\n",
      "2024-02-29 01:03:24 URL:http://www.tng-project.org/cluster/ [42614/42614] -> \"/Users/keenan/Data/simim_resources/simulations/TNG100-3-Dark/raw/groups_000/index.html.tmp\" [1]\n",
      "2024-02-29 01:03:24 URL:http://www.tng-project.org/users/login/ [5468/5468] -> \"/Users/keenan/Data/simim_resources/simulations/TNG100-3-Dark/raw/groups_000/index.html.tmp\" [1]\n",
      "2024-02-29 01:03:24 URL:http://www.tng-project.org/users/login/ [5468/5468] -> \"/Users/keenan/Data/simim_resources/simulations/TNG100-3-Dark/raw/groups_000/index.html.tmp\" [1]\n",
      "2024-02-29 01:03:24 URL:http://www.tng-project.org/api/?format=api [23499/23499] -> \"/Users/keenan/Data/simim_resources/simulations/TNG100-3-Dark/raw/groups_000/index.html?format=api.tmp\" [1]\n",
      "2024-02-29 01:03:24 URL:http://www.tng-project.org/api/TNG100-3-Dark/?format=api [10756/10756] -> \"/Users/keenan/Data/simim_resources/simulations/TNG100-3-Dark/raw/groups_000/index.html?format=api.tmp\" [1]\n",
      "2024-02-29 01:03:24 URL:http://www.tng-project.org/api/TNG100-3-Dark/files/?format=api [42579/42579] -> \"/Users/keenan/Data/simim_resources/simulations/TNG100-3-Dark/raw/groups_000/index.html?format=api.tmp\" [1]\n",
      "2024-02-29 01:03:24 URL:http://www.tng-project.org/api/TNG100-3-Dark/files/groupcat-0/?format=json [295/295] -> \"/Users/keenan/Data/simim_resources/simulations/TNG100-3-Dark/raw/groups_000/index.html?format=json.tmp\" [1]\n",
      "FINISHED --2024-02-29 01:03:25--\n",
      "Total wall clock time: 2.9s\n",
      "Downloaded: 15 files, 776K in 0.09s (8.19 MB/s)\n"
     ]
    },
    {
     "name": "stdout",
     "output_type": "stream",
     "text": [
      "\n",
      "Downloading Snapshot 1\n"
     ]
    },
    {
     "name": "stderr",
     "output_type": "stream",
     "text": [
      "2024-02-29 01:03:26 URL:http://www.tng-project.org/api/TNG100-3-Dark/files/groupcat-1/?format=api [9151/9151] -> \"/Users/keenan/Data/simim_resources/simulations/TNG100-3-Dark/raw/groups_001/index.html?format=api.tmp\" [1]\n",
      "2024-02-29 01:03:26 URL:http://www.tng-project.org/ [13013/13013] -> \"/Users/keenan/Data/simim_resources/simulations/TNG100-3-Dark/raw/groups_001/index.html.tmp\" [1]\n",
      "2024-02-29 01:03:26 URL:http://www.tng-project.org/about/ [36929/36929] -> \"/Users/keenan/Data/simim_resources/simulations/TNG100-3-Dark/raw/groups_001/index.html.tmp\" [1]\n",
      "2024-02-29 01:03:26 URL:http://www.tng-project.org/people/ [13274/13274] -> \"/Users/keenan/Data/simim_resources/simulations/TNG100-3-Dark/raw/groups_001/index.html.tmp\" [1]\n",
      "2024-02-29 01:03:26 URL:http://www.tng-project.org/results/ [484900/484900] -> \"/Users/keenan/Data/simim_resources/simulations/TNG100-3-Dark/raw/groups_001/index.html.tmp\" [1]\n",
      "2024-02-29 01:03:26 URL:http://www.tng-project.org/media/ [59010/59010] -> \"/Users/keenan/Data/simim_resources/simulations/TNG100-3-Dark/raw/groups_001/index.html.tmp\" [1]\n",
      "2024-02-29 01:03:26 URL:http://www.tng-project.org/data/ [43902/43902] -> \"/Users/keenan/Data/simim_resources/simulations/TNG100-3-Dark/raw/groups_001/index.html.tmp\" [1]\n",
      "2024-02-29 01:03:26 URL:http://www.tng-project.org/explore/ [3989/3989] -> \"/Users/keenan/Data/simim_resources/simulations/TNG100-3-Dark/raw/groups_001/index.html.tmp\" [1]\n",
      "2024-02-29 01:03:26 URL:http://www.tng-project.org/cluster/ [42614/42614] -> \"/Users/keenan/Data/simim_resources/simulations/TNG100-3-Dark/raw/groups_001/index.html.tmp\" [1]\n",
      "2024-02-29 01:03:26 URL:http://www.tng-project.org/users/login/ [5468/5468] -> \"/Users/keenan/Data/simim_resources/simulations/TNG100-3-Dark/raw/groups_001/index.html.tmp\" [1]\n",
      "2024-02-29 01:03:27 URL:http://www.tng-project.org/users/login/ [5468/5468] -> \"/Users/keenan/Data/simim_resources/simulations/TNG100-3-Dark/raw/groups_001/index.html.tmp\" [1]\n",
      "2024-02-29 01:03:27 URL:http://www.tng-project.org/api/?format=api [23499/23499] -> \"/Users/keenan/Data/simim_resources/simulations/TNG100-3-Dark/raw/groups_001/index.html?format=api.tmp\" [1]\n",
      "2024-02-29 01:03:27 URL:http://www.tng-project.org/api/TNG100-3-Dark/?format=api [10756/10756] -> \"/Users/keenan/Data/simim_resources/simulations/TNG100-3-Dark/raw/groups_001/index.html?format=api.tmp\" [1]\n",
      "2024-02-29 01:03:27 URL:http://www.tng-project.org/api/TNG100-3-Dark/files/?format=api [42579/42579] -> \"/Users/keenan/Data/simim_resources/simulations/TNG100-3-Dark/raw/groups_001/index.html?format=api.tmp\" [1]\n",
      "2024-02-29 01:03:27 URL:http://www.tng-project.org/api/TNG100-3-Dark/files/groupcat-1/?format=json [295/295] -> \"/Users/keenan/Data/simim_resources/simulations/TNG100-3-Dark/raw/groups_001/index.html?format=json.tmp\" [1]\n",
      "FINISHED --2024-02-29 01:03:28--\n",
      "Total wall clock time: 3.0s\n",
      "Downloaded: 15 files, 776K in 0.09s (8.14 MB/s)\n"
     ]
    },
    {
     "name": "stdout",
     "output_type": "stream",
     "text": [
      "\n",
      "Downloading Snapshot 2\n"
     ]
    },
    {
     "name": "stderr",
     "output_type": "stream",
     "text": [
      "2024-02-29 01:03:29 URL:http://www.tng-project.org/api/TNG100-3-Dark/files/groupcat-2/?format=api [9151/9151] -> \"/Users/keenan/Data/simim_resources/simulations/TNG100-3-Dark/raw/groups_002/index.html?format=api.tmp\" [1]\n",
      "2024-02-29 01:03:29 URL:http://www.tng-project.org/ [13013/13013] -> \"/Users/keenan/Data/simim_resources/simulations/TNG100-3-Dark/raw/groups_002/index.html.tmp\" [1]\n",
      "2024-02-29 01:03:29 URL:http://www.tng-project.org/about/ [36929/36929] -> \"/Users/keenan/Data/simim_resources/simulations/TNG100-3-Dark/raw/groups_002/index.html.tmp\" [1]\n",
      "2024-02-29 01:03:29 URL:http://www.tng-project.org/people/ [13267/13267] -> \"/Users/keenan/Data/simim_resources/simulations/TNG100-3-Dark/raw/groups_002/index.html.tmp\" [1]\n",
      "2024-02-29 01:03:29 URL:http://www.tng-project.org/results/ [484900/484900] -> \"/Users/keenan/Data/simim_resources/simulations/TNG100-3-Dark/raw/groups_002/index.html.tmp\" [1]\n",
      "2024-02-29 01:03:29 URL:http://www.tng-project.org/media/ [59010/59010] -> \"/Users/keenan/Data/simim_resources/simulations/TNG100-3-Dark/raw/groups_002/index.html.tmp\" [1]\n",
      "2024-02-29 01:03:29 URL:http://www.tng-project.org/data/ [43902/43902] -> \"/Users/keenan/Data/simim_resources/simulations/TNG100-3-Dark/raw/groups_002/index.html.tmp\" [1]\n",
      "2024-02-29 01:03:29 URL:http://www.tng-project.org/explore/ [3989/3989] -> \"/Users/keenan/Data/simim_resources/simulations/TNG100-3-Dark/raw/groups_002/index.html.tmp\" [1]\n",
      "2024-02-29 01:03:29 URL:http://www.tng-project.org/cluster/ [42614/42614] -> \"/Users/keenan/Data/simim_resources/simulations/TNG100-3-Dark/raw/groups_002/index.html.tmp\" [1]\n",
      "2024-02-29 01:03:30 URL:http://www.tng-project.org/users/login/ [5468/5468] -> \"/Users/keenan/Data/simim_resources/simulations/TNG100-3-Dark/raw/groups_002/index.html.tmp\" [1]\n",
      "2024-02-29 01:03:30 URL:http://www.tng-project.org/users/login/ [5468/5468] -> \"/Users/keenan/Data/simim_resources/simulations/TNG100-3-Dark/raw/groups_002/index.html.tmp\" [1]\n",
      "2024-02-29 01:03:30 URL:http://www.tng-project.org/api/?format=api [23499/23499] -> \"/Users/keenan/Data/simim_resources/simulations/TNG100-3-Dark/raw/groups_002/index.html?format=api.tmp\" [1]\n",
      "2024-02-29 01:03:30 URL:http://www.tng-project.org/api/TNG100-3-Dark/?format=api [10756/10756] -> \"/Users/keenan/Data/simim_resources/simulations/TNG100-3-Dark/raw/groups_002/index.html?format=api.tmp\" [1]\n",
      "2024-02-29 01:03:30 URL:http://www.tng-project.org/api/TNG100-3-Dark/files/?format=api [42579/42579] -> \"/Users/keenan/Data/simim_resources/simulations/TNG100-3-Dark/raw/groups_002/index.html?format=api.tmp\" [1]\n",
      "2024-02-29 01:03:30 URL:http://www.tng-project.org/api/TNG100-3-Dark/files/groupcat-2/?format=json [295/295] -> \"/Users/keenan/Data/simim_resources/simulations/TNG100-3-Dark/raw/groups_002/index.html?format=json.tmp\" [1]\n",
      "FINISHED --2024-02-29 01:03:31--\n",
      "Total wall clock time: 2.9s\n",
      "Downloaded: 15 files, 776K in 0.1s (7.96 MB/s)\n"
     ]
    },
    {
     "name": "stdout",
     "output_type": "stream",
     "text": [
      "\n",
      "Downloading Snapshot 3\n"
     ]
    },
    {
     "name": "stderr",
     "output_type": "stream",
     "text": [
      "2024-02-29 01:03:32 URL:http://www.tng-project.org/api/TNG100-3-Dark/files/groupcat-3/?format=api [9151/9151] -> \"/Users/keenan/Data/simim_resources/simulations/TNG100-3-Dark/raw/groups_003/index.html?format=api.tmp\" [1]\n",
      "2024-02-29 01:03:32 URL:http://www.tng-project.org/ [13013/13013] -> \"/Users/keenan/Data/simim_resources/simulations/TNG100-3-Dark/raw/groups_003/index.html.tmp\" [1]\n",
      "2024-02-29 01:03:32 URL:http://www.tng-project.org/about/ [36929/36929] -> \"/Users/keenan/Data/simim_resources/simulations/TNG100-3-Dark/raw/groups_003/index.html.tmp\" [1]\n",
      "2024-02-29 01:03:32 URL:http://www.tng-project.org/people/ [13273/13273] -> \"/Users/keenan/Data/simim_resources/simulations/TNG100-3-Dark/raw/groups_003/index.html.tmp\" [1]\n",
      "2024-02-29 01:03:32 URL:http://www.tng-project.org/results/ [484900/484900] -> \"/Users/keenan/Data/simim_resources/simulations/TNG100-3-Dark/raw/groups_003/index.html.tmp\" [1]\n",
      "2024-02-29 01:03:32 URL:http://www.tng-project.org/media/ [59010/59010] -> \"/Users/keenan/Data/simim_resources/simulations/TNG100-3-Dark/raw/groups_003/index.html.tmp\" [1]\n",
      "2024-02-29 01:03:32 URL:http://www.tng-project.org/data/ [43902/43902] -> \"/Users/keenan/Data/simim_resources/simulations/TNG100-3-Dark/raw/groups_003/index.html.tmp\" [1]\n",
      "2024-02-29 01:03:32 URL:http://www.tng-project.org/explore/ [3989/3989] -> \"/Users/keenan/Data/simim_resources/simulations/TNG100-3-Dark/raw/groups_003/index.html.tmp\" [1]\n",
      "2024-02-29 01:03:32 URL:http://www.tng-project.org/cluster/ [42614/42614] -> \"/Users/keenan/Data/simim_resources/simulations/TNG100-3-Dark/raw/groups_003/index.html.tmp\" [1]\n",
      "2024-02-29 01:03:33 URL:http://www.tng-project.org/users/login/ [5468/5468] -> \"/Users/keenan/Data/simim_resources/simulations/TNG100-3-Dark/raw/groups_003/index.html.tmp\" [1]\n",
      "2024-02-29 01:03:33 URL:http://www.tng-project.org/users/login/ [5468/5468] -> \"/Users/keenan/Data/simim_resources/simulations/TNG100-3-Dark/raw/groups_003/index.html.tmp\" [1]\n",
      "2024-02-29 01:03:33 URL:http://www.tng-project.org/api/?format=api [23499/23499] -> \"/Users/keenan/Data/simim_resources/simulations/TNG100-3-Dark/raw/groups_003/index.html?format=api.tmp\" [1]\n",
      "2024-02-29 01:03:33 URL:http://www.tng-project.org/api/TNG100-3-Dark/?format=api [10756/10756] -> \"/Users/keenan/Data/simim_resources/simulations/TNG100-3-Dark/raw/groups_003/index.html?format=api.tmp\" [1]\n",
      "2024-02-29 01:03:33 URL:http://www.tng-project.org/api/TNG100-3-Dark/files/?format=api [42579/42579] -> \"/Users/keenan/Data/simim_resources/simulations/TNG100-3-Dark/raw/groups_003/index.html?format=api.tmp\" [1]\n",
      "2024-02-29 01:03:33 URL:http://www.tng-project.org/api/TNG100-3-Dark/files/groupcat-3/?format=json [295/295] -> \"/Users/keenan/Data/simim_resources/simulations/TNG100-3-Dark/raw/groups_003/index.html?format=json.tmp\" [1]\n",
      "FINISHED --2024-02-29 01:03:34--\n",
      "Total wall clock time: 2.9s\n",
      "Downloaded: 15 files, 776K in 0.09s (8.02 MB/s)\n"
     ]
    },
    {
     "name": "stdout",
     "output_type": "stream",
     "text": [
      "\n",
      "Downloading Snapshot 4\n"
     ]
    },
    {
     "name": "stderr",
     "output_type": "stream",
     "text": [
      "2024-02-29 01:03:34 URL:http://www.tng-project.org/api/TNG100-3-Dark/files/groupcat-4/?format=api [9151/9151] -> \"/Users/keenan/Data/simim_resources/simulations/TNG100-3-Dark/raw/groups_004/index.html?format=api.tmp\" [1]\n",
      "2024-02-29 01:03:34 URL:http://www.tng-project.org/ [13013/13013] -> \"/Users/keenan/Data/simim_resources/simulations/TNG100-3-Dark/raw/groups_004/index.html.tmp\" [1]\n",
      "2024-02-29 01:03:35 URL:http://www.tng-project.org/about/ [36929/36929] -> \"/Users/keenan/Data/simim_resources/simulations/TNG100-3-Dark/raw/groups_004/index.html.tmp\" [1]\n",
      "2024-02-29 01:03:35 URL:http://www.tng-project.org/people/ [13267/13267] -> \"/Users/keenan/Data/simim_resources/simulations/TNG100-3-Dark/raw/groups_004/index.html.tmp\" [1]\n",
      "2024-02-29 01:03:35 URL:http://www.tng-project.org/results/ [484900/484900] -> \"/Users/keenan/Data/simim_resources/simulations/TNG100-3-Dark/raw/groups_004/index.html.tmp\" [1]\n",
      "2024-02-29 01:03:35 URL:http://www.tng-project.org/media/ [59010/59010] -> \"/Users/keenan/Data/simim_resources/simulations/TNG100-3-Dark/raw/groups_004/index.html.tmp\" [1]\n",
      "2024-02-29 01:03:35 URL:http://www.tng-project.org/data/ [43902/43902] -> \"/Users/keenan/Data/simim_resources/simulations/TNG100-3-Dark/raw/groups_004/index.html.tmp\" [1]\n",
      "2024-02-29 01:03:35 URL:http://www.tng-project.org/explore/ [3989/3989] -> \"/Users/keenan/Data/simim_resources/simulations/TNG100-3-Dark/raw/groups_004/index.html.tmp\" [1]\n",
      "2024-02-29 01:03:35 URL:http://www.tng-project.org/cluster/ [42614/42614] -> \"/Users/keenan/Data/simim_resources/simulations/TNG100-3-Dark/raw/groups_004/index.html.tmp\" [1]\n",
      "2024-02-29 01:03:35 URL:http://www.tng-project.org/users/login/ [5468/5468] -> \"/Users/keenan/Data/simim_resources/simulations/TNG100-3-Dark/raw/groups_004/index.html.tmp\" [1]\n",
      "2024-02-29 01:03:36 URL:http://www.tng-project.org/users/login/ [5468/5468] -> \"/Users/keenan/Data/simim_resources/simulations/TNG100-3-Dark/raw/groups_004/index.html.tmp\" [1]\n",
      "2024-02-29 01:03:36 URL:http://www.tng-project.org/api/?format=api [23499/23499] -> \"/Users/keenan/Data/simim_resources/simulations/TNG100-3-Dark/raw/groups_004/index.html?format=api.tmp\" [1]\n",
      "2024-02-29 01:03:36 URL:http://www.tng-project.org/api/TNG100-3-Dark/?format=api [10756/10756] -> \"/Users/keenan/Data/simim_resources/simulations/TNG100-3-Dark/raw/groups_004/index.html?format=api.tmp\" [1]\n",
      "2024-02-29 01:03:36 URL:http://www.tng-project.org/api/TNG100-3-Dark/files/?format=api [42579/42579] -> \"/Users/keenan/Data/simim_resources/simulations/TNG100-3-Dark/raw/groups_004/index.html?format=api.tmp\" [1]\n",
      "2024-02-29 01:03:36 URL:http://www.tng-project.org/api/TNG100-3-Dark/files/groupcat-4/?format=json [295/295] -> \"/Users/keenan/Data/simim_resources/simulations/TNG100-3-Dark/raw/groups_004/index.html?format=json.tmp\" [1]\n",
      "FINISHED --2024-02-29 01:03:37--\n",
      "Total wall clock time: 2.9s\n",
      "Downloaded: 15 files, 776K in 0.1s (7.91 MB/s)\n"
     ]
    },
    {
     "name": "stdout",
     "output_type": "stream",
     "text": [
      "\n",
      "Downloading Snapshot 5\n"
     ]
    },
    {
     "name": "stderr",
     "output_type": "stream",
     "text": [
      "2024-02-29 01:03:37 URL:http://www.tng-project.org/api/TNG100-3-Dark/files/groupcat-5/?format=api [9151/9151] -> \"/Users/keenan/Data/simim_resources/simulations/TNG100-3-Dark/raw/groups_005/index.html?format=api.tmp\" [1]\n",
      "2024-02-29 01:03:37 URL:http://www.tng-project.org/ [13013/13013] -> \"/Users/keenan/Data/simim_resources/simulations/TNG100-3-Dark/raw/groups_005/index.html.tmp\" [1]\n",
      "2024-02-29 01:03:37 URL:http://www.tng-project.org/about/ [36929/36929] -> \"/Users/keenan/Data/simim_resources/simulations/TNG100-3-Dark/raw/groups_005/index.html.tmp\" [1]\n",
      "2024-02-29 01:03:37 URL:http://www.tng-project.org/people/ [13273/13273] -> \"/Users/keenan/Data/simim_resources/simulations/TNG100-3-Dark/raw/groups_005/index.html.tmp\" [1]\n",
      "2024-02-29 01:03:38 URL:http://www.tng-project.org/results/ [484900/484900] -> \"/Users/keenan/Data/simim_resources/simulations/TNG100-3-Dark/raw/groups_005/index.html.tmp\" [1]\n",
      "2024-02-29 01:03:38 URL:http://www.tng-project.org/media/ [59010/59010] -> \"/Users/keenan/Data/simim_resources/simulations/TNG100-3-Dark/raw/groups_005/index.html.tmp\" [1]\n",
      "2024-02-29 01:03:38 URL:http://www.tng-project.org/data/ [43902/43902] -> \"/Users/keenan/Data/simim_resources/simulations/TNG100-3-Dark/raw/groups_005/index.html.tmp\" [1]\n",
      "2024-02-29 01:03:38 URL:http://www.tng-project.org/explore/ [3989/3989] -> \"/Users/keenan/Data/simim_resources/simulations/TNG100-3-Dark/raw/groups_005/index.html.tmp\" [1]\n",
      "2024-02-29 01:03:38 URL:http://www.tng-project.org/cluster/ [42614/42614] -> \"/Users/keenan/Data/simim_resources/simulations/TNG100-3-Dark/raw/groups_005/index.html.tmp\" [1]\n",
      "2024-02-29 01:03:38 URL:http://www.tng-project.org/users/login/ [5468/5468] -> \"/Users/keenan/Data/simim_resources/simulations/TNG100-3-Dark/raw/groups_005/index.html.tmp\" [1]\n",
      "2024-02-29 01:03:38 URL:http://www.tng-project.org/users/login/ [5468/5468] -> \"/Users/keenan/Data/simim_resources/simulations/TNG100-3-Dark/raw/groups_005/index.html.tmp\" [1]\n",
      "2024-02-29 01:03:39 URL:http://www.tng-project.org/api/?format=api [23499/23499] -> \"/Users/keenan/Data/simim_resources/simulations/TNG100-3-Dark/raw/groups_005/index.html?format=api.tmp\" [1]\n",
      "2024-02-29 01:03:39 URL:http://www.tng-project.org/api/TNG100-3-Dark/?format=api [10756/10756] -> \"/Users/keenan/Data/simim_resources/simulations/TNG100-3-Dark/raw/groups_005/index.html?format=api.tmp\" [1]\n",
      "2024-02-29 01:03:39 URL:http://www.tng-project.org/api/TNG100-3-Dark/files/?format=api [42579/42579] -> \"/Users/keenan/Data/simim_resources/simulations/TNG100-3-Dark/raw/groups_005/index.html?format=api.tmp\" [1]\n",
      "2024-02-29 01:03:39 URL:http://www.tng-project.org/api/TNG100-3-Dark/files/groupcat-5/?format=json [295/295] -> \"/Users/keenan/Data/simim_resources/simulations/TNG100-3-Dark/raw/groups_005/index.html?format=json.tmp\" [1]\n",
      "FINISHED --2024-02-29 01:03:40--\n",
      "Total wall clock time: 2.9s\n",
      "Downloaded: 15 files, 776K in 0.1s (7.93 MB/s)\n"
     ]
    },
    {
     "name": "stdout",
     "output_type": "stream",
     "text": [
      "\n",
      "Downloading Snapshot 6\n"
     ]
    },
    {
     "name": "stderr",
     "output_type": "stream",
     "text": [
      "2024-02-29 01:03:40 URL:http://www.tng-project.org/api/TNG100-3-Dark/files/groupcat-6/?format=api [9151/9151] -> \"/Users/keenan/Data/simim_resources/simulations/TNG100-3-Dark/raw/groups_006/index.html?format=api.tmp\" [1]\n",
      "2024-02-29 01:03:40 URL:http://www.tng-project.org/ [13013/13013] -> \"/Users/keenan/Data/simim_resources/simulations/TNG100-3-Dark/raw/groups_006/index.html.tmp\" [1]\n",
      "2024-02-29 01:03:40 URL:http://www.tng-project.org/about/ [36929/36929] -> \"/Users/keenan/Data/simim_resources/simulations/TNG100-3-Dark/raw/groups_006/index.html.tmp\" [1]\n",
      "2024-02-29 01:03:40 URL:http://www.tng-project.org/people/ [13267/13267] -> \"/Users/keenan/Data/simim_resources/simulations/TNG100-3-Dark/raw/groups_006/index.html.tmp\" [1]\n",
      "2024-02-29 01:03:41 URL:http://www.tng-project.org/results/ [484900/484900] -> \"/Users/keenan/Data/simim_resources/simulations/TNG100-3-Dark/raw/groups_006/index.html.tmp\" [1]\n",
      "2024-02-29 01:03:41 URL:http://www.tng-project.org/media/ [59010/59010] -> \"/Users/keenan/Data/simim_resources/simulations/TNG100-3-Dark/raw/groups_006/index.html.tmp\" [1]\n",
      "2024-02-29 01:03:41 URL:http://www.tng-project.org/data/ [43902/43902] -> \"/Users/keenan/Data/simim_resources/simulations/TNG100-3-Dark/raw/groups_006/index.html.tmp\" [1]\n",
      "2024-02-29 01:03:41 URL:http://www.tng-project.org/explore/ [3989/3989] -> \"/Users/keenan/Data/simim_resources/simulations/TNG100-3-Dark/raw/groups_006/index.html.tmp\" [1]\n",
      "2024-02-29 01:03:41 URL:http://www.tng-project.org/cluster/ [42614/42614] -> \"/Users/keenan/Data/simim_resources/simulations/TNG100-3-Dark/raw/groups_006/index.html.tmp\" [1]\n",
      "2024-02-29 01:03:41 URL:http://www.tng-project.org/users/login/ [5468/5468] -> \"/Users/keenan/Data/simim_resources/simulations/TNG100-3-Dark/raw/groups_006/index.html.tmp\" [1]\n",
      "2024-02-29 01:03:41 URL:http://www.tng-project.org/users/login/ [5468/5468] -> \"/Users/keenan/Data/simim_resources/simulations/TNG100-3-Dark/raw/groups_006/index.html.tmp\" [1]\n",
      "2024-02-29 01:03:42 URL:http://www.tng-project.org/api/?format=api [23499/23499] -> \"/Users/keenan/Data/simim_resources/simulations/TNG100-3-Dark/raw/groups_006/index.html?format=api.tmp\" [1]\n",
      "2024-02-29 01:03:42 URL:http://www.tng-project.org/api/TNG100-3-Dark/?format=api [10756/10756] -> \"/Users/keenan/Data/simim_resources/simulations/TNG100-3-Dark/raw/groups_006/index.html?format=api.tmp\" [1]\n",
      "2024-02-29 01:03:42 URL:http://www.tng-project.org/api/TNG100-3-Dark/files/?format=api [42579/42579] -> \"/Users/keenan/Data/simim_resources/simulations/TNG100-3-Dark/raw/groups_006/index.html?format=api.tmp\" [1]\n",
      "2024-02-29 01:03:42 URL:http://www.tng-project.org/api/TNG100-3-Dark/files/groupcat-6/?format=json [295/295] -> \"/Users/keenan/Data/simim_resources/simulations/TNG100-3-Dark/raw/groups_006/index.html?format=json.tmp\" [1]\n",
      "FINISHED --2024-02-29 01:03:43--\n",
      "Total wall clock time: 3.0s\n",
      "Downloaded: 15 files, 776K in 0.1s (7.32 MB/s)\n"
     ]
    },
    {
     "name": "stdout",
     "output_type": "stream",
     "text": [
      "\n",
      "Downloading Snapshot 7\n"
     ]
    },
    {
     "name": "stderr",
     "output_type": "stream",
     "text": [
      "2024-02-29 01:03:43 URL:http://www.tng-project.org/api/TNG100-3-Dark/files/groupcat-7/?format=api [9151/9151] -> \"/Users/keenan/Data/simim_resources/simulations/TNG100-3-Dark/raw/groups_007/index.html?format=api.tmp\" [1]\n",
      "2024-02-29 01:03:43 URL:http://www.tng-project.org/ [13013/13013] -> \"/Users/keenan/Data/simim_resources/simulations/TNG100-3-Dark/raw/groups_007/index.html.tmp\" [1]\n",
      "2024-02-29 01:03:43 URL:http://www.tng-project.org/about/ [36929/36929] -> \"/Users/keenan/Data/simim_resources/simulations/TNG100-3-Dark/raw/groups_007/index.html.tmp\" [1]\n",
      "2024-02-29 01:03:43 URL:http://www.tng-project.org/people/ [13273/13273] -> \"/Users/keenan/Data/simim_resources/simulations/TNG100-3-Dark/raw/groups_007/index.html.tmp\" [1]\n",
      "2024-02-29 01:03:44 URL:http://www.tng-project.org/results/ [484900/484900] -> \"/Users/keenan/Data/simim_resources/simulations/TNG100-3-Dark/raw/groups_007/index.html.tmp\" [1]\n",
      "2024-02-29 01:03:44 URL:http://www.tng-project.org/media/ [59010/59010] -> \"/Users/keenan/Data/simim_resources/simulations/TNG100-3-Dark/raw/groups_007/index.html.tmp\" [1]\n",
      "2024-02-29 01:03:44 URL:http://www.tng-project.org/data/ [43902/43902] -> \"/Users/keenan/Data/simim_resources/simulations/TNG100-3-Dark/raw/groups_007/index.html.tmp\" [1]\n",
      "2024-02-29 01:03:44 URL:http://www.tng-project.org/explore/ [3989/3989] -> \"/Users/keenan/Data/simim_resources/simulations/TNG100-3-Dark/raw/groups_007/index.html.tmp\" [1]\n",
      "2024-02-29 01:03:44 URL:http://www.tng-project.org/cluster/ [42614/42614] -> \"/Users/keenan/Data/simim_resources/simulations/TNG100-3-Dark/raw/groups_007/index.html.tmp\" [1]\n",
      "2024-02-29 01:03:44 URL:http://www.tng-project.org/users/login/ [5468/5468] -> \"/Users/keenan/Data/simim_resources/simulations/TNG100-3-Dark/raw/groups_007/index.html.tmp\" [1]\n",
      "2024-02-29 01:03:44 URL:http://www.tng-project.org/users/login/ [5468/5468] -> \"/Users/keenan/Data/simim_resources/simulations/TNG100-3-Dark/raw/groups_007/index.html.tmp\" [1]\n",
      "2024-02-29 01:03:45 URL:http://www.tng-project.org/api/?format=api [23499/23499] -> \"/Users/keenan/Data/simim_resources/simulations/TNG100-3-Dark/raw/groups_007/index.html?format=api.tmp\" [1]\n",
      "2024-02-29 01:03:45 URL:http://www.tng-project.org/api/TNG100-3-Dark/?format=api [10756/10756] -> \"/Users/keenan/Data/simim_resources/simulations/TNG100-3-Dark/raw/groups_007/index.html?format=api.tmp\" [1]\n",
      "2024-02-29 01:03:45 URL:http://www.tng-project.org/api/TNG100-3-Dark/files/?format=api [42579/42579] -> \"/Users/keenan/Data/simim_resources/simulations/TNG100-3-Dark/raw/groups_007/index.html?format=api.tmp\" [1]\n",
      "2024-02-29 01:03:45 URL:http://www.tng-project.org/api/TNG100-3-Dark/files/groupcat-7/?format=json [295/295] -> \"/Users/keenan/Data/simim_resources/simulations/TNG100-3-Dark/raw/groups_007/index.html?format=json.tmp\" [1]\n",
      "FINISHED --2024-02-29 01:03:46--\n",
      "Total wall clock time: 2.9s\n",
      "Downloaded: 15 files, 776K in 0.09s (8.19 MB/s)\n"
     ]
    },
    {
     "name": "stdout",
     "output_type": "stream",
     "text": [
      "\n",
      "Downloading Snapshot 8\n"
     ]
    },
    {
     "name": "stderr",
     "output_type": "stream",
     "text": [
      "2024-02-29 01:03:46 URL:http://www.tng-project.org/api/TNG100-3-Dark/files/groupcat-8/?format=api [9151/9151] -> \"/Users/keenan/Data/simim_resources/simulations/TNG100-3-Dark/raw/groups_008/index.html?format=api.tmp\" [1]\n",
      "2024-02-29 01:03:46 URL:http://www.tng-project.org/ [13013/13013] -> \"/Users/keenan/Data/simim_resources/simulations/TNG100-3-Dark/raw/groups_008/index.html.tmp\" [1]\n",
      "2024-02-29 01:03:46 URL:http://www.tng-project.org/about/ [36929/36929] -> \"/Users/keenan/Data/simim_resources/simulations/TNG100-3-Dark/raw/groups_008/index.html.tmp\" [1]\n",
      "2024-02-29 01:03:46 URL:http://www.tng-project.org/people/ [13273/13273] -> \"/Users/keenan/Data/simim_resources/simulations/TNG100-3-Dark/raw/groups_008/index.html.tmp\" [1]\n",
      "2024-02-29 01:03:47 URL:http://www.tng-project.org/results/ [484900/484900] -> \"/Users/keenan/Data/simim_resources/simulations/TNG100-3-Dark/raw/groups_008/index.html.tmp\" [1]\n",
      "2024-02-29 01:03:47 URL:http://www.tng-project.org/media/ [59010/59010] -> \"/Users/keenan/Data/simim_resources/simulations/TNG100-3-Dark/raw/groups_008/index.html.tmp\" [1]\n",
      "2024-02-29 01:03:47 URL:http://www.tng-project.org/data/ [43902/43902] -> \"/Users/keenan/Data/simim_resources/simulations/TNG100-3-Dark/raw/groups_008/index.html.tmp\" [1]\n",
      "2024-02-29 01:03:47 URL:http://www.tng-project.org/explore/ [3989/3989] -> \"/Users/keenan/Data/simim_resources/simulations/TNG100-3-Dark/raw/groups_008/index.html.tmp\" [1]\n",
      "2024-02-29 01:03:47 URL:http://www.tng-project.org/cluster/ [42614/42614] -> \"/Users/keenan/Data/simim_resources/simulations/TNG100-3-Dark/raw/groups_008/index.html.tmp\" [1]\n",
      "2024-02-29 01:03:47 URL:http://www.tng-project.org/users/login/ [5468/5468] -> \"/Users/keenan/Data/simim_resources/simulations/TNG100-3-Dark/raw/groups_008/index.html.tmp\" [1]\n",
      "2024-02-29 01:03:47 URL:http://www.tng-project.org/users/login/ [5468/5468] -> \"/Users/keenan/Data/simim_resources/simulations/TNG100-3-Dark/raw/groups_008/index.html.tmp\" [1]\n",
      "2024-02-29 01:03:47 URL:http://www.tng-project.org/api/?format=api [23499/23499] -> \"/Users/keenan/Data/simim_resources/simulations/TNG100-3-Dark/raw/groups_008/index.html?format=api.tmp\" [1]\n",
      "2024-02-29 01:03:48 URL:http://www.tng-project.org/api/TNG100-3-Dark/?format=api [10756/10756] -> \"/Users/keenan/Data/simim_resources/simulations/TNG100-3-Dark/raw/groups_008/index.html?format=api.tmp\" [1]\n",
      "2024-02-29 01:03:48 URL:http://www.tng-project.org/api/TNG100-3-Dark/files/?format=api [42579/42579] -> \"/Users/keenan/Data/simim_resources/simulations/TNG100-3-Dark/raw/groups_008/index.html?format=api.tmp\" [1]\n",
      "2024-02-29 01:03:48 URL:http://www.tng-project.org/api/TNG100-3-Dark/files/groupcat-8/?format=json [295/295] -> \"/Users/keenan/Data/simim_resources/simulations/TNG100-3-Dark/raw/groups_008/index.html?format=json.tmp\" [1]\n",
      "FINISHED --2024-02-29 01:03:49--\n",
      "Total wall clock time: 3.1s\n",
      "Downloaded: 15 files, 776K in 0.09s (8.00 MB/s)\n"
     ]
    },
    {
     "name": "stdout",
     "output_type": "stream",
     "text": [
      "\n",
      "Downloading Snapshot 9\n"
     ]
    },
    {
     "name": "stderr",
     "output_type": "stream",
     "text": [
      "2024-02-29 01:03:49 URL:http://www.tng-project.org/api/TNG100-3-Dark/files/groupcat-9/?format=api [9151/9151] -> \"/Users/keenan/Data/simim_resources/simulations/TNG100-3-Dark/raw/groups_009/index.html?format=api.tmp\" [1]\n",
      "2024-02-29 01:03:49 URL:http://www.tng-project.org/ [13013/13013] -> \"/Users/keenan/Data/simim_resources/simulations/TNG100-3-Dark/raw/groups_009/index.html.tmp\" [1]\n",
      "2024-02-29 01:03:49 URL:http://www.tng-project.org/about/ [36929/36929] -> \"/Users/keenan/Data/simim_resources/simulations/TNG100-3-Dark/raw/groups_009/index.html.tmp\" [1]\n",
      "2024-02-29 01:03:49 URL:http://www.tng-project.org/people/ [13267/13267] -> \"/Users/keenan/Data/simim_resources/simulations/TNG100-3-Dark/raw/groups_009/index.html.tmp\" [1]\n",
      "2024-02-29 01:03:50 URL:http://www.tng-project.org/results/ [484900/484900] -> \"/Users/keenan/Data/simim_resources/simulations/TNG100-3-Dark/raw/groups_009/index.html.tmp\" [1]\n",
      "2024-02-29 01:03:50 URL:http://www.tng-project.org/media/ [59010/59010] -> \"/Users/keenan/Data/simim_resources/simulations/TNG100-3-Dark/raw/groups_009/index.html.tmp\" [1]\n",
      "2024-02-29 01:03:50 URL:http://www.tng-project.org/data/ [43902/43902] -> \"/Users/keenan/Data/simim_resources/simulations/TNG100-3-Dark/raw/groups_009/index.html.tmp\" [1]\n",
      "2024-02-29 01:03:50 URL:http://www.tng-project.org/explore/ [3989/3989] -> \"/Users/keenan/Data/simim_resources/simulations/TNG100-3-Dark/raw/groups_009/index.html.tmp\" [1]\n",
      "2024-02-29 01:03:50 URL:http://www.tng-project.org/cluster/ [42614/42614] -> \"/Users/keenan/Data/simim_resources/simulations/TNG100-3-Dark/raw/groups_009/index.html.tmp\" [1]\n",
      "2024-02-29 01:03:50 URL:http://www.tng-project.org/users/login/ [5468/5468] -> \"/Users/keenan/Data/simim_resources/simulations/TNG100-3-Dark/raw/groups_009/index.html.tmp\" [1]\n",
      "2024-02-29 01:03:50 URL:http://www.tng-project.org/users/login/ [5468/5468] -> \"/Users/keenan/Data/simim_resources/simulations/TNG100-3-Dark/raw/groups_009/index.html.tmp\" [1]\n",
      "2024-02-29 01:03:51 URL:http://www.tng-project.org/api/?format=api [23499/23499] -> \"/Users/keenan/Data/simim_resources/simulations/TNG100-3-Dark/raw/groups_009/index.html?format=api.tmp\" [1]\n",
      "2024-02-29 01:03:51 URL:http://www.tng-project.org/api/TNG100-3-Dark/?format=api [10756/10756] -> \"/Users/keenan/Data/simim_resources/simulations/TNG100-3-Dark/raw/groups_009/index.html?format=api.tmp\" [1]\n",
      "2024-02-29 01:03:51 URL:http://www.tng-project.org/api/TNG100-3-Dark/files/?format=api [42579/42579] -> \"/Users/keenan/Data/simim_resources/simulations/TNG100-3-Dark/raw/groups_009/index.html?format=api.tmp\" [1]\n",
      "2024-02-29 01:03:51 URL:http://www.tng-project.org/api/TNG100-3-Dark/files/groupcat-9/?format=json [295/295] -> \"/Users/keenan/Data/simim_resources/simulations/TNG100-3-Dark/raw/groups_009/index.html?format=json.tmp\" [1]\n",
      "FINISHED --2024-02-29 01:03:52--\n",
      "Total wall clock time: 3.1s\n",
      "Downloaded: 15 files, 776K in 0.1s (7.91 MB/s)\n"
     ]
    },
    {
     "name": "stdout",
     "output_type": "stream",
     "text": [
      "\n",
      "Downloading Snapshot 10\n"
     ]
    },
    {
     "name": "stderr",
     "output_type": "stream",
     "text": [
      "2024-02-29 01:03:52 URL:http://www.tng-project.org/api/TNG100-3-Dark/files/groupcat-10/?format=api [9164/9164] -> \"/Users/keenan/Data/simim_resources/simulations/TNG100-3-Dark/raw/groups_010/index.html?format=api.tmp\" [1]\n",
      "2024-02-29 01:03:52 URL:http://www.tng-project.org/ [13013/13013] -> \"/Users/keenan/Data/simim_resources/simulations/TNG100-3-Dark/raw/groups_010/index.html.tmp\" [1]\n",
      "2024-02-29 01:03:52 URL:http://www.tng-project.org/about/ [36929/36929] -> \"/Users/keenan/Data/simim_resources/simulations/TNG100-3-Dark/raw/groups_010/index.html.tmp\" [1]\n",
      "2024-02-29 01:03:53 URL:http://www.tng-project.org/people/ [13267/13267] -> \"/Users/keenan/Data/simim_resources/simulations/TNG100-3-Dark/raw/groups_010/index.html.tmp\" [1]\n",
      "2024-02-29 01:03:53 URL:http://www.tng-project.org/results/ [484900/484900] -> \"/Users/keenan/Data/simim_resources/simulations/TNG100-3-Dark/raw/groups_010/index.html.tmp\" [1]\n",
      "2024-02-29 01:03:53 URL:http://www.tng-project.org/media/ [59010/59010] -> \"/Users/keenan/Data/simim_resources/simulations/TNG100-3-Dark/raw/groups_010/index.html.tmp\" [1]\n",
      "2024-02-29 01:03:53 URL:http://www.tng-project.org/data/ [43902/43902] -> \"/Users/keenan/Data/simim_resources/simulations/TNG100-3-Dark/raw/groups_010/index.html.tmp\" [1]\n",
      "2024-02-29 01:03:53 URL:http://www.tng-project.org/explore/ [3989/3989] -> \"/Users/keenan/Data/simim_resources/simulations/TNG100-3-Dark/raw/groups_010/index.html.tmp\" [1]\n",
      "2024-02-29 01:03:53 URL:http://www.tng-project.org/cluster/ [42614/42614] -> \"/Users/keenan/Data/simim_resources/simulations/TNG100-3-Dark/raw/groups_010/index.html.tmp\" [1]\n",
      "2024-02-29 01:03:53 URL:http://www.tng-project.org/users/login/ [5468/5468] -> \"/Users/keenan/Data/simim_resources/simulations/TNG100-3-Dark/raw/groups_010/index.html.tmp\" [1]\n",
      "2024-02-29 01:03:53 URL:http://www.tng-project.org/users/login/ [5468/5468] -> \"/Users/keenan/Data/simim_resources/simulations/TNG100-3-Dark/raw/groups_010/index.html.tmp\" [1]\n",
      "2024-02-29 01:03:54 URL:http://www.tng-project.org/api/?format=api [23499/23499] -> \"/Users/keenan/Data/simim_resources/simulations/TNG100-3-Dark/raw/groups_010/index.html?format=api.tmp\" [1]\n",
      "2024-02-29 01:03:54 URL:http://www.tng-project.org/api/TNG100-3-Dark/?format=api [10756/10756] -> \"/Users/keenan/Data/simim_resources/simulations/TNG100-3-Dark/raw/groups_010/index.html?format=api.tmp\" [1]\n",
      "2024-02-29 01:03:54 URL:http://www.tng-project.org/api/TNG100-3-Dark/files/?format=api [42579/42579] -> \"/Users/keenan/Data/simim_resources/simulations/TNG100-3-Dark/raw/groups_010/index.html?format=api.tmp\" [1]\n",
      "2024-02-29 01:03:54 URL:http://www.tng-project.org/api/TNG100-3-Dark/files/groupcat-10/?format=json [299/299] -> \"/Users/keenan/Data/simim_resources/simulations/TNG100-3-Dark/raw/groups_010/index.html?format=json.tmp\" [1]\n",
      "FINISHED --2024-02-29 01:03:55--\n",
      "Total wall clock time: 3.0s\n",
      "Downloaded: 15 files, 776K in 0.09s (8.35 MB/s)\n"
     ]
    },
    {
     "name": "stdout",
     "output_type": "stream",
     "text": [
      "\n",
      "Downloading Snapshot 11\n"
     ]
    },
    {
     "name": "stderr",
     "output_type": "stream",
     "text": [
      "2024-02-29 01:03:55 URL:http://www.tng-project.org/api/TNG100-3-Dark/files/groupcat-11/?format=api [9164/9164] -> \"/Users/keenan/Data/simim_resources/simulations/TNG100-3-Dark/raw/groups_011/index.html?format=api.tmp\" [1]\n",
      "2024-02-29 01:03:55 URL:http://www.tng-project.org/ [13013/13013] -> \"/Users/keenan/Data/simim_resources/simulations/TNG100-3-Dark/raw/groups_011/index.html.tmp\" [1]\n",
      "2024-02-29 01:03:55 URL:http://www.tng-project.org/about/ [36929/36929] -> \"/Users/keenan/Data/simim_resources/simulations/TNG100-3-Dark/raw/groups_011/index.html.tmp\" [1]\n",
      "2024-02-29 01:03:56 URL:http://www.tng-project.org/people/ [13267/13267] -> \"/Users/keenan/Data/simim_resources/simulations/TNG100-3-Dark/raw/groups_011/index.html.tmp\" [1]\n",
      "2024-02-29 01:03:56 URL:http://www.tng-project.org/results/ [484900/484900] -> \"/Users/keenan/Data/simim_resources/simulations/TNG100-3-Dark/raw/groups_011/index.html.tmp\" [1]\n",
      "2024-02-29 01:03:56 URL:http://www.tng-project.org/media/ [59010/59010] -> \"/Users/keenan/Data/simim_resources/simulations/TNG100-3-Dark/raw/groups_011/index.html.tmp\" [1]\n",
      "2024-02-29 01:03:56 URL:http://www.tng-project.org/data/ [43902/43902] -> \"/Users/keenan/Data/simim_resources/simulations/TNG100-3-Dark/raw/groups_011/index.html.tmp\" [1]\n",
      "2024-02-29 01:03:56 URL:http://www.tng-project.org/explore/ [3989/3989] -> \"/Users/keenan/Data/simim_resources/simulations/TNG100-3-Dark/raw/groups_011/index.html.tmp\" [1]\n",
      "2024-02-29 01:03:56 URL:http://www.tng-project.org/cluster/ [42614/42614] -> \"/Users/keenan/Data/simim_resources/simulations/TNG100-3-Dark/raw/groups_011/index.html.tmp\" [1]\n",
      "2024-02-29 01:03:56 URL:http://www.tng-project.org/users/login/ [5468/5468] -> \"/Users/keenan/Data/simim_resources/simulations/TNG100-3-Dark/raw/groups_011/index.html.tmp\" [1]\n",
      "2024-02-29 01:03:56 URL:http://www.tng-project.org/users/login/ [5468/5468] -> \"/Users/keenan/Data/simim_resources/simulations/TNG100-3-Dark/raw/groups_011/index.html.tmp\" [1]\n",
      "2024-02-29 01:03:57 URL:http://www.tng-project.org/api/?format=api [23499/23499] -> \"/Users/keenan/Data/simim_resources/simulations/TNG100-3-Dark/raw/groups_011/index.html?format=api.tmp\" [1]\n",
      "2024-02-29 01:03:57 URL:http://www.tng-project.org/api/TNG100-3-Dark/?format=api [10756/10756] -> \"/Users/keenan/Data/simim_resources/simulations/TNG100-3-Dark/raw/groups_011/index.html?format=api.tmp\" [1]\n",
      "2024-02-29 01:03:57 URL:http://www.tng-project.org/api/TNG100-3-Dark/files/?format=api [42579/42579] -> \"/Users/keenan/Data/simim_resources/simulations/TNG100-3-Dark/raw/groups_011/index.html?format=api.tmp\" [1]\n",
      "2024-02-29 01:03:57 URL:http://www.tng-project.org/api/TNG100-3-Dark/files/groupcat-11/?format=json [299/299] -> \"/Users/keenan/Data/simim_resources/simulations/TNG100-3-Dark/raw/groups_011/index.html?format=json.tmp\" [1]\n",
      "FINISHED --2024-02-29 01:03:58--\n",
      "Total wall clock time: 3.0s\n",
      "Downloaded: 15 files, 776K in 0.09s (8.04 MB/s)\n"
     ]
    },
    {
     "name": "stdout",
     "output_type": "stream",
     "text": [
      "\n",
      "Downloading Snapshot 12\n"
     ]
    },
    {
     "name": "stderr",
     "output_type": "stream",
     "text": [
      "2024-02-29 01:03:58 URL:http://www.tng-project.org/api/TNG100-3-Dark/files/groupcat-12/?format=api [9164/9164] -> \"/Users/keenan/Data/simim_resources/simulations/TNG100-3-Dark/raw/groups_012/index.html?format=api.tmp\" [1]\n",
      "2024-02-29 01:03:58 URL:http://www.tng-project.org/ [13013/13013] -> \"/Users/keenan/Data/simim_resources/simulations/TNG100-3-Dark/raw/groups_012/index.html.tmp\" [1]\n",
      "2024-02-29 01:03:58 URL:http://www.tng-project.org/about/ [36929/36929] -> \"/Users/keenan/Data/simim_resources/simulations/TNG100-3-Dark/raw/groups_012/index.html.tmp\" [1]\n",
      "2024-02-29 01:03:59 URL:http://www.tng-project.org/people/ [13273/13273] -> \"/Users/keenan/Data/simim_resources/simulations/TNG100-3-Dark/raw/groups_012/index.html.tmp\" [1]\n",
      "2024-02-29 01:03:59 URL:http://www.tng-project.org/results/ [484900/484900] -> \"/Users/keenan/Data/simim_resources/simulations/TNG100-3-Dark/raw/groups_012/index.html.tmp\" [1]\n",
      "2024-02-29 01:03:59 URL:http://www.tng-project.org/media/ [59010/59010] -> \"/Users/keenan/Data/simim_resources/simulations/TNG100-3-Dark/raw/groups_012/index.html.tmp\" [1]\n",
      "2024-02-29 01:03:59 URL:http://www.tng-project.org/data/ [43902/43902] -> \"/Users/keenan/Data/simim_resources/simulations/TNG100-3-Dark/raw/groups_012/index.html.tmp\" [1]\n",
      "2024-02-29 01:03:59 URL:http://www.tng-project.org/explore/ [3989/3989] -> \"/Users/keenan/Data/simim_resources/simulations/TNG100-3-Dark/raw/groups_012/index.html.tmp\" [1]\n",
      "2024-02-29 01:03:59 URL:http://www.tng-project.org/cluster/ [42614/42614] -> \"/Users/keenan/Data/simim_resources/simulations/TNG100-3-Dark/raw/groups_012/index.html.tmp\" [1]\n",
      "2024-02-29 01:03:59 URL:http://www.tng-project.org/users/login/ [5468/5468] -> \"/Users/keenan/Data/simim_resources/simulations/TNG100-3-Dark/raw/groups_012/index.html.tmp\" [1]\n",
      "2024-02-29 01:03:59 URL:http://www.tng-project.org/users/login/ [5468/5468] -> \"/Users/keenan/Data/simim_resources/simulations/TNG100-3-Dark/raw/groups_012/index.html.tmp\" [1]\n",
      "2024-02-29 01:04:00 URL:http://www.tng-project.org/api/?format=api [23499/23499] -> \"/Users/keenan/Data/simim_resources/simulations/TNG100-3-Dark/raw/groups_012/index.html?format=api.tmp\" [1]\n",
      "2024-02-29 01:04:00 URL:http://www.tng-project.org/api/TNG100-3-Dark/?format=api [10756/10756] -> \"/Users/keenan/Data/simim_resources/simulations/TNG100-3-Dark/raw/groups_012/index.html?format=api.tmp\" [1]\n",
      "2024-02-29 01:04:00 URL:http://www.tng-project.org/api/TNG100-3-Dark/files/?format=api [42579/42579] -> \"/Users/keenan/Data/simim_resources/simulations/TNG100-3-Dark/raw/groups_012/index.html?format=api.tmp\" [1]\n",
      "2024-02-29 01:04:00 URL:http://www.tng-project.org/api/TNG100-3-Dark/files/groupcat-12/?format=json [299/299] -> \"/Users/keenan/Data/simim_resources/simulations/TNG100-3-Dark/raw/groups_012/index.html?format=json.tmp\" [1]\n",
      "FINISHED --2024-02-29 01:04:01--\n",
      "Total wall clock time: 3.0s\n",
      "Downloaded: 15 files, 776K in 0.09s (8.16 MB/s)\n"
     ]
    },
    {
     "name": "stdout",
     "output_type": "stream",
     "text": [
      "\n",
      "Downloading Snapshot 13\n"
     ]
    },
    {
     "name": "stderr",
     "output_type": "stream",
     "text": [
      "2024-02-29 01:04:01 URL:http://www.tng-project.org/api/TNG100-3-Dark/files/groupcat-13/?format=api [9164/9164] -> \"/Users/keenan/Data/simim_resources/simulations/TNG100-3-Dark/raw/groups_013/index.html?format=api.tmp\" [1]\n",
      "2024-02-29 01:04:01 URL:http://www.tng-project.org/ [13013/13013] -> \"/Users/keenan/Data/simim_resources/simulations/TNG100-3-Dark/raw/groups_013/index.html.tmp\" [1]\n",
      "2024-02-29 01:04:02 URL:http://www.tng-project.org/about/ [36929/36929] -> \"/Users/keenan/Data/simim_resources/simulations/TNG100-3-Dark/raw/groups_013/index.html.tmp\" [1]\n",
      "2024-02-29 01:04:02 URL:http://www.tng-project.org/people/ [13273/13273] -> \"/Users/keenan/Data/simim_resources/simulations/TNG100-3-Dark/raw/groups_013/index.html.tmp\" [1]\n",
      "2024-02-29 01:04:02 URL:http://www.tng-project.org/results/ [484900/484900] -> \"/Users/keenan/Data/simim_resources/simulations/TNG100-3-Dark/raw/groups_013/index.html.tmp\" [1]\n",
      "2024-02-29 01:04:02 URL:http://www.tng-project.org/media/ [59010/59010] -> \"/Users/keenan/Data/simim_resources/simulations/TNG100-3-Dark/raw/groups_013/index.html.tmp\" [1]\n",
      "2024-02-29 01:04:02 URL:http://www.tng-project.org/data/ [43902/43902] -> \"/Users/keenan/Data/simim_resources/simulations/TNG100-3-Dark/raw/groups_013/index.html.tmp\" [1]\n",
      "2024-02-29 01:04:02 URL:http://www.tng-project.org/explore/ [3989/3989] -> \"/Users/keenan/Data/simim_resources/simulations/TNG100-3-Dark/raw/groups_013/index.html.tmp\" [1]\n",
      "2024-02-29 01:04:02 URL:http://www.tng-project.org/cluster/ [42614/42614] -> \"/Users/keenan/Data/simim_resources/simulations/TNG100-3-Dark/raw/groups_013/index.html.tmp\" [1]\n",
      "2024-02-29 01:04:02 URL:http://www.tng-project.org/users/login/ [5468/5468] -> \"/Users/keenan/Data/simim_resources/simulations/TNG100-3-Dark/raw/groups_013/index.html.tmp\" [1]\n",
      "2024-02-29 01:04:03 URL:http://www.tng-project.org/users/login/ [5468/5468] -> \"/Users/keenan/Data/simim_resources/simulations/TNG100-3-Dark/raw/groups_013/index.html.tmp\" [1]\n",
      "2024-02-29 01:04:03 URL:http://www.tng-project.org/api/?format=api [23499/23499] -> \"/Users/keenan/Data/simim_resources/simulations/TNG100-3-Dark/raw/groups_013/index.html?format=api.tmp\" [1]\n",
      "2024-02-29 01:04:03 URL:http://www.tng-project.org/api/TNG100-3-Dark/?format=api [10756/10756] -> \"/Users/keenan/Data/simim_resources/simulations/TNG100-3-Dark/raw/groups_013/index.html?format=api.tmp\" [1]\n",
      "2024-02-29 01:04:03 URL:http://www.tng-project.org/api/TNG100-3-Dark/files/?format=api [42579/42579] -> \"/Users/keenan/Data/simim_resources/simulations/TNG100-3-Dark/raw/groups_013/index.html?format=api.tmp\" [1]\n",
      "2024-02-29 01:04:03 URL:http://www.tng-project.org/api/TNG100-3-Dark/files/groupcat-13/?format=json [299/299] -> \"/Users/keenan/Data/simim_resources/simulations/TNG100-3-Dark/raw/groups_013/index.html?format=json.tmp\" [1]\n",
      "FINISHED --2024-02-29 01:04:04--\n",
      "Total wall clock time: 3.1s\n",
      "Downloaded: 15 files, 776K in 0.1s (5.22 MB/s)\n",
      "2024-02-29 01:04:04 URL:http://www.tng-project.org/api/TNG100-3-Dark/files/groupcat-14/?format=api [9164/9164] -> \"/Users/keenan/Data/simim_resources/simulations/TNG100-3-Dark/raw/groups_014/index.html?format=api.tmp\" [1]\n"
     ]
    },
    {
     "name": "stdout",
     "output_type": "stream",
     "text": [
      "\n",
      "Downloading Snapshot 14\n"
     ]
    },
    {
     "name": "stderr",
     "output_type": "stream",
     "text": [
      "2024-02-29 01:04:05 URL:http://www.tng-project.org/ [13013/13013] -> \"/Users/keenan/Data/simim_resources/simulations/TNG100-3-Dark/raw/groups_014/index.html.tmp\" [1]\n",
      "2024-02-29 01:04:05 URL:http://www.tng-project.org/about/ [36929/36929] -> \"/Users/keenan/Data/simim_resources/simulations/TNG100-3-Dark/raw/groups_014/index.html.tmp\" [1]\n",
      "2024-02-29 01:04:05 URL:http://www.tng-project.org/people/ [13273/13273] -> \"/Users/keenan/Data/simim_resources/simulations/TNG100-3-Dark/raw/groups_014/index.html.tmp\" [1]\n",
      "2024-02-29 01:04:05 URL:http://www.tng-project.org/results/ [484900/484900] -> \"/Users/keenan/Data/simim_resources/simulations/TNG100-3-Dark/raw/groups_014/index.html.tmp\" [1]\n",
      "2024-02-29 01:04:05 URL:http://www.tng-project.org/media/ [59010/59010] -> \"/Users/keenan/Data/simim_resources/simulations/TNG100-3-Dark/raw/groups_014/index.html.tmp\" [1]\n",
      "2024-02-29 01:04:05 URL:http://www.tng-project.org/data/ [43902/43902] -> \"/Users/keenan/Data/simim_resources/simulations/TNG100-3-Dark/raw/groups_014/index.html.tmp\" [1]\n",
      "2024-02-29 01:04:05 URL:http://www.tng-project.org/explore/ [3989/3989] -> \"/Users/keenan/Data/simim_resources/simulations/TNG100-3-Dark/raw/groups_014/index.html.tmp\" [1]\n",
      "2024-02-29 01:04:05 URL:http://www.tng-project.org/cluster/ [42614/42614] -> \"/Users/keenan/Data/simim_resources/simulations/TNG100-3-Dark/raw/groups_014/index.html.tmp\" [1]\n",
      "2024-02-29 01:04:06 URL:http://www.tng-project.org/users/login/ [5468/5468] -> \"/Users/keenan/Data/simim_resources/simulations/TNG100-3-Dark/raw/groups_014/index.html.tmp\" [1]\n",
      "2024-02-29 01:04:06 URL:http://www.tng-project.org/users/login/ [5468/5468] -> \"/Users/keenan/Data/simim_resources/simulations/TNG100-3-Dark/raw/groups_014/index.html.tmp\" [1]\n",
      "2024-02-29 01:04:06 URL:http://www.tng-project.org/api/?format=api [23499/23499] -> \"/Users/keenan/Data/simim_resources/simulations/TNG100-3-Dark/raw/groups_014/index.html?format=api.tmp\" [1]\n",
      "2024-02-29 01:04:06 URL:http://www.tng-project.org/api/TNG100-3-Dark/?format=api [10756/10756] -> \"/Users/keenan/Data/simim_resources/simulations/TNG100-3-Dark/raw/groups_014/index.html?format=api.tmp\" [1]\n",
      "2024-02-29 01:04:06 URL:http://www.tng-project.org/api/TNG100-3-Dark/files/?format=api [42579/42579] -> \"/Users/keenan/Data/simim_resources/simulations/TNG100-3-Dark/raw/groups_014/index.html?format=api.tmp\" [1]\n",
      "2024-02-29 01:04:06 URL:http://www.tng-project.org/api/TNG100-3-Dark/files/groupcat-14/?format=json [299/299] -> \"/Users/keenan/Data/simim_resources/simulations/TNG100-3-Dark/raw/groups_014/index.html?format=json.tmp\" [1]\n",
      "FINISHED --2024-02-29 01:04:07--\n",
      "Total wall clock time: 3.0s\n",
      "Downloaded: 15 files, 776K in 0.09s (8.14 MB/s)\n"
     ]
    },
    {
     "name": "stdout",
     "output_type": "stream",
     "text": [
      "\n",
      "Downloading Snapshot 15\n"
     ]
    },
    {
     "name": "stderr",
     "output_type": "stream",
     "text": [
      "2024-02-29 01:04:08 URL:http://www.tng-project.org/api/TNG100-3-Dark/files/groupcat-15/?format=api [9164/9164] -> \"/Users/keenan/Data/simim_resources/simulations/TNG100-3-Dark/raw/groups_015/index.html?format=api.tmp\" [1]\n",
      "2024-02-29 01:04:08 URL:http://www.tng-project.org/ [13013/13013] -> \"/Users/keenan/Data/simim_resources/simulations/TNG100-3-Dark/raw/groups_015/index.html.tmp\" [1]\n",
      "2024-02-29 01:04:08 URL:http://www.tng-project.org/about/ [36929/36929] -> \"/Users/keenan/Data/simim_resources/simulations/TNG100-3-Dark/raw/groups_015/index.html.tmp\" [1]\n",
      "2024-02-29 01:04:08 URL:http://www.tng-project.org/people/ [13267/13267] -> \"/Users/keenan/Data/simim_resources/simulations/TNG100-3-Dark/raw/groups_015/index.html.tmp\" [1]\n",
      "2024-02-29 01:04:08 URL:http://www.tng-project.org/results/ [484900/484900] -> \"/Users/keenan/Data/simim_resources/simulations/TNG100-3-Dark/raw/groups_015/index.html.tmp\" [1]\n",
      "2024-02-29 01:04:08 URL:http://www.tng-project.org/media/ [59010/59010] -> \"/Users/keenan/Data/simim_resources/simulations/TNG100-3-Dark/raw/groups_015/index.html.tmp\" [1]\n",
      "2024-02-29 01:04:08 URL:http://www.tng-project.org/data/ [43902/43902] -> \"/Users/keenan/Data/simim_resources/simulations/TNG100-3-Dark/raw/groups_015/index.html.tmp\" [1]\n",
      "2024-02-29 01:04:09 URL:http://www.tng-project.org/explore/ [3989/3989] -> \"/Users/keenan/Data/simim_resources/simulations/TNG100-3-Dark/raw/groups_015/index.html.tmp\" [1]\n",
      "2024-02-29 01:04:09 URL:http://www.tng-project.org/cluster/ [42614/42614] -> \"/Users/keenan/Data/simim_resources/simulations/TNG100-3-Dark/raw/groups_015/index.html.tmp\" [1]\n",
      "2024-02-29 01:04:09 URL:http://www.tng-project.org/users/login/ [5468/5468] -> \"/Users/keenan/Data/simim_resources/simulations/TNG100-3-Dark/raw/groups_015/index.html.tmp\" [1]\n",
      "2024-02-29 01:04:09 URL:http://www.tng-project.org/users/login/ [5468/5468] -> \"/Users/keenan/Data/simim_resources/simulations/TNG100-3-Dark/raw/groups_015/index.html.tmp\" [1]\n",
      "2024-02-29 01:04:09 URL:http://www.tng-project.org/api/?format=api [23499/23499] -> \"/Users/keenan/Data/simim_resources/simulations/TNG100-3-Dark/raw/groups_015/index.html?format=api.tmp\" [1]\n",
      "2024-02-29 01:04:09 URL:http://www.tng-project.org/api/TNG100-3-Dark/?format=api [10756/10756] -> \"/Users/keenan/Data/simim_resources/simulations/TNG100-3-Dark/raw/groups_015/index.html?format=api.tmp\" [1]\n",
      "2024-02-29 01:04:09 URL:http://www.tng-project.org/api/TNG100-3-Dark/files/?format=api [42579/42579] -> \"/Users/keenan/Data/simim_resources/simulations/TNG100-3-Dark/raw/groups_015/index.html?format=api.tmp\" [1]\n",
      "2024-02-29 01:04:09 URL:http://www.tng-project.org/api/TNG100-3-Dark/files/groupcat-15/?format=json [299/299] -> \"/Users/keenan/Data/simim_resources/simulations/TNG100-3-Dark/raw/groups_015/index.html?format=json.tmp\" [1]\n",
      "FINISHED --2024-02-29 01:04:10--\n",
      "Total wall clock time: 3.1s\n",
      "Downloaded: 15 files, 776K in 0.1s (7.63 MB/s)\n"
     ]
    },
    {
     "name": "stdout",
     "output_type": "stream",
     "text": [
      "\n",
      "Downloading Snapshot 16\n"
     ]
    },
    {
     "name": "stderr",
     "output_type": "stream",
     "text": [
      "2024-02-29 01:04:11 URL:http://www.tng-project.org/api/TNG100-3-Dark/files/groupcat-16/?format=api [9164/9164] -> \"/Users/keenan/Data/simim_resources/simulations/TNG100-3-Dark/raw/groups_016/index.html?format=api.tmp\" [1]\n",
      "2024-02-29 01:04:11 URL:http://www.tng-project.org/ [13013/13013] -> \"/Users/keenan/Data/simim_resources/simulations/TNG100-3-Dark/raw/groups_016/index.html.tmp\" [1]\n",
      "2024-02-29 01:04:11 URL:http://www.tng-project.org/about/ [36929/36929] -> \"/Users/keenan/Data/simim_resources/simulations/TNG100-3-Dark/raw/groups_016/index.html.tmp\" [1]\n",
      "2024-02-29 01:04:11 URL:http://www.tng-project.org/people/ [13273/13273] -> \"/Users/keenan/Data/simim_resources/simulations/TNG100-3-Dark/raw/groups_016/index.html.tmp\" [1]\n",
      "2024-02-29 01:04:11 URL:http://www.tng-project.org/results/ [484900/484900] -> \"/Users/keenan/Data/simim_resources/simulations/TNG100-3-Dark/raw/groups_016/index.html.tmp\" [1]\n",
      "2024-02-29 01:04:11 URL:http://www.tng-project.org/media/ [59010/59010] -> \"/Users/keenan/Data/simim_resources/simulations/TNG100-3-Dark/raw/groups_016/index.html.tmp\" [1]\n",
      "2024-02-29 01:04:12 URL:http://www.tng-project.org/data/ [43902/43902] -> \"/Users/keenan/Data/simim_resources/simulations/TNG100-3-Dark/raw/groups_016/index.html.tmp\" [1]\n",
      "2024-02-29 01:04:12 URL:http://www.tng-project.org/explore/ [3989/3989] -> \"/Users/keenan/Data/simim_resources/simulations/TNG100-3-Dark/raw/groups_016/index.html.tmp\" [1]\n",
      "2024-02-29 01:04:12 URL:http://www.tng-project.org/cluster/ [42614/42614] -> \"/Users/keenan/Data/simim_resources/simulations/TNG100-3-Dark/raw/groups_016/index.html.tmp\" [1]\n",
      "2024-02-29 01:04:12 URL:http://www.tng-project.org/users/login/ [5468/5468] -> \"/Users/keenan/Data/simim_resources/simulations/TNG100-3-Dark/raw/groups_016/index.html.tmp\" [1]\n",
      "2024-02-29 01:04:12 URL:http://www.tng-project.org/users/login/ [5468/5468] -> \"/Users/keenan/Data/simim_resources/simulations/TNG100-3-Dark/raw/groups_016/index.html.tmp\" [1]\n",
      "2024-02-29 01:04:12 URL:http://www.tng-project.org/api/?format=api [23499/23499] -> \"/Users/keenan/Data/simim_resources/simulations/TNG100-3-Dark/raw/groups_016/index.html?format=api.tmp\" [1]\n",
      "2024-02-29 01:04:12 URL:http://www.tng-project.org/api/TNG100-3-Dark/?format=api [10756/10756] -> \"/Users/keenan/Data/simim_resources/simulations/TNG100-3-Dark/raw/groups_016/index.html?format=api.tmp\" [1]\n",
      "2024-02-29 01:04:12 URL:http://www.tng-project.org/api/TNG100-3-Dark/files/?format=api [42579/42579] -> \"/Users/keenan/Data/simim_resources/simulations/TNG100-3-Dark/raw/groups_016/index.html?format=api.tmp\" [1]\n",
      "2024-02-29 01:04:12 URL:http://www.tng-project.org/api/TNG100-3-Dark/files/groupcat-16/?format=json [299/299] -> \"/Users/keenan/Data/simim_resources/simulations/TNG100-3-Dark/raw/groups_016/index.html?format=json.tmp\" [1]\n",
      "FINISHED --2024-02-29 01:04:14--\n",
      "Total wall clock time: 3.2s\n",
      "Downloaded: 15 files, 776K in 0.1s (6.02 MB/s)\n",
      "2024-02-29 01:04:14 URL:http://www.tng-project.org/api/TNG100-3-Dark/files/groupcat-17/?format=api [9164/9164] -> \"/Users/keenan/Data/simim_resources/simulations/TNG100-3-Dark/raw/groups_017/index.html?format=api.tmp\" [1]\n"
     ]
    },
    {
     "name": "stdout",
     "output_type": "stream",
     "text": [
      "\n",
      "Downloading Snapshot 17\n"
     ]
    },
    {
     "name": "stderr",
     "output_type": "stream",
     "text": [
      "2024-02-29 01:04:14 URL:http://www.tng-project.org/ [13013/13013] -> \"/Users/keenan/Data/simim_resources/simulations/TNG100-3-Dark/raw/groups_017/index.html.tmp\" [1]\n",
      "2024-02-29 01:04:14 URL:http://www.tng-project.org/about/ [36929/36929] -> \"/Users/keenan/Data/simim_resources/simulations/TNG100-3-Dark/raw/groups_017/index.html.tmp\" [1]\n",
      "2024-02-29 01:04:14 URL:http://www.tng-project.org/people/ [13267/13267] -> \"/Users/keenan/Data/simim_resources/simulations/TNG100-3-Dark/raw/groups_017/index.html.tmp\" [1]\n",
      "2024-02-29 01:04:14 URL:http://www.tng-project.org/results/ [484900/484900] -> \"/Users/keenan/Data/simim_resources/simulations/TNG100-3-Dark/raw/groups_017/index.html.tmp\" [1]\n",
      "2024-02-29 01:04:14 URL:http://www.tng-project.org/media/ [59010/59010] -> \"/Users/keenan/Data/simim_resources/simulations/TNG100-3-Dark/raw/groups_017/index.html.tmp\" [1]\n",
      "2024-02-29 01:04:15 URL:http://www.tng-project.org/data/ [43902/43902] -> \"/Users/keenan/Data/simim_resources/simulations/TNG100-3-Dark/raw/groups_017/index.html.tmp\" [1]\n",
      "2024-02-29 01:04:15 URL:http://www.tng-project.org/explore/ [3989/3989] -> \"/Users/keenan/Data/simim_resources/simulations/TNG100-3-Dark/raw/groups_017/index.html.tmp\" [1]\n",
      "2024-02-29 01:04:15 URL:http://www.tng-project.org/cluster/ [42614/42614] -> \"/Users/keenan/Data/simim_resources/simulations/TNG100-3-Dark/raw/groups_017/index.html.tmp\" [1]\n",
      "2024-02-29 01:04:15 URL:http://www.tng-project.org/users/login/ [5468/5468] -> \"/Users/keenan/Data/simim_resources/simulations/TNG100-3-Dark/raw/groups_017/index.html.tmp\" [1]\n",
      "2024-02-29 01:04:15 URL:http://www.tng-project.org/users/login/ [5468/5468] -> \"/Users/keenan/Data/simim_resources/simulations/TNG100-3-Dark/raw/groups_017/index.html.tmp\" [1]\n",
      "2024-02-29 01:04:15 URL:http://www.tng-project.org/api/?format=api [23499/23499] -> \"/Users/keenan/Data/simim_resources/simulations/TNG100-3-Dark/raw/groups_017/index.html?format=api.tmp\" [1]\n",
      "2024-02-29 01:04:15 URL:http://www.tng-project.org/api/TNG100-3-Dark/?format=api [10756/10756] -> \"/Users/keenan/Data/simim_resources/simulations/TNG100-3-Dark/raw/groups_017/index.html?format=api.tmp\" [1]\n",
      "2024-02-29 01:04:15 URL:http://www.tng-project.org/api/TNG100-3-Dark/files/?format=api [42579/42579] -> \"/Users/keenan/Data/simim_resources/simulations/TNG100-3-Dark/raw/groups_017/index.html?format=api.tmp\" [1]\n",
      "2024-02-29 01:04:15 URL:http://www.tng-project.org/api/TNG100-3-Dark/files/groupcat-17/?format=json [299/299] -> \"/Users/keenan/Data/simim_resources/simulations/TNG100-3-Dark/raw/groups_017/index.html?format=json.tmp\" [1]\n",
      "FINISHED --2024-02-29 01:04:17--\n",
      "Total wall clock time: 2.9s\n",
      "Downloaded: 15 files, 776K in 0.1s (7.91 MB/s)\n"
     ]
    },
    {
     "name": "stdout",
     "output_type": "stream",
     "text": [
      "\n",
      "Downloading Snapshot 18\n"
     ]
    },
    {
     "name": "stderr",
     "output_type": "stream",
     "text": [
      "2024-02-29 01:04:17 URL:http://www.tng-project.org/api/TNG100-3-Dark/files/groupcat-18/?format=api [9164/9164] -> \"/Users/keenan/Data/simim_resources/simulations/TNG100-3-Dark/raw/groups_018/index.html?format=api.tmp\" [1]\n",
      "2024-02-29 01:04:17 URL:http://www.tng-project.org/ [13013/13013] -> \"/Users/keenan/Data/simim_resources/simulations/TNG100-3-Dark/raw/groups_018/index.html.tmp\" [1]\n",
      "2024-02-29 01:04:17 URL:http://www.tng-project.org/about/ [36929/36929] -> \"/Users/keenan/Data/simim_resources/simulations/TNG100-3-Dark/raw/groups_018/index.html.tmp\" [1]\n",
      "2024-02-29 01:04:17 URL:http://www.tng-project.org/people/ [13267/13267] -> \"/Users/keenan/Data/simim_resources/simulations/TNG100-3-Dark/raw/groups_018/index.html.tmp\" [1]\n",
      "2024-02-29 01:04:17 URL:http://www.tng-project.org/results/ [484900/484900] -> \"/Users/keenan/Data/simim_resources/simulations/TNG100-3-Dark/raw/groups_018/index.html.tmp\" [1]\n",
      "2024-02-29 01:04:17 URL:http://www.tng-project.org/media/ [59010/59010] -> \"/Users/keenan/Data/simim_resources/simulations/TNG100-3-Dark/raw/groups_018/index.html.tmp\" [1]\n",
      "2024-02-29 01:04:18 URL:http://www.tng-project.org/data/ [43902/43902] -> \"/Users/keenan/Data/simim_resources/simulations/TNG100-3-Dark/raw/groups_018/index.html.tmp\" [1]\n",
      "2024-02-29 01:04:18 URL:http://www.tng-project.org/explore/ [3989/3989] -> \"/Users/keenan/Data/simim_resources/simulations/TNG100-3-Dark/raw/groups_018/index.html.tmp\" [1]\n",
      "2024-02-29 01:04:18 URL:http://www.tng-project.org/cluster/ [42614/42614] -> \"/Users/keenan/Data/simim_resources/simulations/TNG100-3-Dark/raw/groups_018/index.html.tmp\" [1]\n",
      "2024-02-29 01:04:18 URL:http://www.tng-project.org/users/login/ [5468/5468] -> \"/Users/keenan/Data/simim_resources/simulations/TNG100-3-Dark/raw/groups_018/index.html.tmp\" [1]\n",
      "2024-02-29 01:04:18 URL:http://www.tng-project.org/users/login/ [5468/5468] -> \"/Users/keenan/Data/simim_resources/simulations/TNG100-3-Dark/raw/groups_018/index.html.tmp\" [1]\n",
      "2024-02-29 01:04:18 URL:http://www.tng-project.org/api/?format=api [23499/23499] -> \"/Users/keenan/Data/simim_resources/simulations/TNG100-3-Dark/raw/groups_018/index.html?format=api.tmp\" [1]\n",
      "2024-02-29 01:04:18 URL:http://www.tng-project.org/api/TNG100-3-Dark/?format=api [10756/10756] -> \"/Users/keenan/Data/simim_resources/simulations/TNG100-3-Dark/raw/groups_018/index.html?format=api.tmp\" [1]\n",
      "2024-02-29 01:04:18 URL:http://www.tng-project.org/api/TNG100-3-Dark/files/?format=api [42579/42579] -> \"/Users/keenan/Data/simim_resources/simulations/TNG100-3-Dark/raw/groups_018/index.html?format=api.tmp\" [1]\n",
      "2024-02-29 01:04:18 URL:http://www.tng-project.org/api/TNG100-3-Dark/files/groupcat-18/?format=json [299/299] -> \"/Users/keenan/Data/simim_resources/simulations/TNG100-3-Dark/raw/groups_018/index.html?format=json.tmp\" [1]\n",
      "FINISHED --2024-02-29 01:04:20--\n",
      "Total wall clock time: 3.0s\n",
      "Downloaded: 15 files, 776K in 0.09s (8.06 MB/s)\n"
     ]
    },
    {
     "name": "stdout",
     "output_type": "stream",
     "text": [
      "\n",
      "Downloading Snapshot 19\n"
     ]
    },
    {
     "name": "stderr",
     "output_type": "stream",
     "text": [
      "2024-02-29 01:04:20 URL:http://www.tng-project.org/api/TNG100-3-Dark/files/groupcat-19/?format=api [9164/9164] -> \"/Users/keenan/Data/simim_resources/simulations/TNG100-3-Dark/raw/groups_019/index.html?format=api.tmp\" [1]\n",
      "2024-02-29 01:04:20 URL:http://www.tng-project.org/ [13013/13013] -> \"/Users/keenan/Data/simim_resources/simulations/TNG100-3-Dark/raw/groups_019/index.html.tmp\" [1]\n",
      "2024-02-29 01:04:20 URL:http://www.tng-project.org/about/ [36929/36929] -> \"/Users/keenan/Data/simim_resources/simulations/TNG100-3-Dark/raw/groups_019/index.html.tmp\" [1]\n",
      "2024-02-29 01:04:20 URL:http://www.tng-project.org/people/ [13267/13267] -> \"/Users/keenan/Data/simim_resources/simulations/TNG100-3-Dark/raw/groups_019/index.html.tmp\" [1]\n",
      "2024-02-29 01:04:20 URL:http://www.tng-project.org/results/ [484900/484900] -> \"/Users/keenan/Data/simim_resources/simulations/TNG100-3-Dark/raw/groups_019/index.html.tmp\" [1]\n",
      "2024-02-29 01:04:20 URL:http://www.tng-project.org/media/ [59010/59010] -> \"/Users/keenan/Data/simim_resources/simulations/TNG100-3-Dark/raw/groups_019/index.html.tmp\" [1]\n",
      "2024-02-29 01:04:21 URL:http://www.tng-project.org/data/ [43902/43902] -> \"/Users/keenan/Data/simim_resources/simulations/TNG100-3-Dark/raw/groups_019/index.html.tmp\" [1]\n",
      "2024-02-29 01:04:21 URL:http://www.tng-project.org/explore/ [3989/3989] -> \"/Users/keenan/Data/simim_resources/simulations/TNG100-3-Dark/raw/groups_019/index.html.tmp\" [1]\n",
      "2024-02-29 01:04:21 URL:http://www.tng-project.org/cluster/ [42614/42614] -> \"/Users/keenan/Data/simim_resources/simulations/TNG100-3-Dark/raw/groups_019/index.html.tmp\" [1]\n",
      "2024-02-29 01:04:21 URL:http://www.tng-project.org/users/login/ [5468/5468] -> \"/Users/keenan/Data/simim_resources/simulations/TNG100-3-Dark/raw/groups_019/index.html.tmp\" [1]\n",
      "2024-02-29 01:04:21 URL:http://www.tng-project.org/users/login/ [5468/5468] -> \"/Users/keenan/Data/simim_resources/simulations/TNG100-3-Dark/raw/groups_019/index.html.tmp\" [1]\n",
      "2024-02-29 01:04:21 URL:http://www.tng-project.org/api/?format=api [23499/23499] -> \"/Users/keenan/Data/simim_resources/simulations/TNG100-3-Dark/raw/groups_019/index.html?format=api.tmp\" [1]\n",
      "2024-02-29 01:04:21 URL:http://www.tng-project.org/api/TNG100-3-Dark/?format=api [10756/10756] -> \"/Users/keenan/Data/simim_resources/simulations/TNG100-3-Dark/raw/groups_019/index.html?format=api.tmp\" [1]\n",
      "2024-02-29 01:04:21 URL:http://www.tng-project.org/api/TNG100-3-Dark/files/?format=api [42579/42579] -> \"/Users/keenan/Data/simim_resources/simulations/TNG100-3-Dark/raw/groups_019/index.html?format=api.tmp\" [1]\n",
      "2024-02-29 01:04:21 URL:http://www.tng-project.org/api/TNG100-3-Dark/files/groupcat-19/?format=json [299/299] -> \"/Users/keenan/Data/simim_resources/simulations/TNG100-3-Dark/raw/groups_019/index.html?format=json.tmp\" [1]\n",
      "FINISHED --2024-02-29 01:04:23--\n",
      "Total wall clock time: 3.0s\n",
      "Downloaded: 15 files, 776K in 0.1s (7.73 MB/s)\n",
      "2024-02-29 01:04:23 URL:http://www.tng-project.org/api/TNG100-3-Dark/files/groupcat-20/?format=api [9164/9164] -> \"/Users/keenan/Data/simim_resources/simulations/TNG100-3-Dark/raw/groups_020/index.html?format=api.tmp\" [1]\n"
     ]
    },
    {
     "name": "stdout",
     "output_type": "stream",
     "text": [
      "\n",
      "Downloading Snapshot 20\n"
     ]
    },
    {
     "name": "stderr",
     "output_type": "stream",
     "text": [
      "2024-02-29 01:04:23 URL:http://www.tng-project.org/ [13013/13013] -> \"/Users/keenan/Data/simim_resources/simulations/TNG100-3-Dark/raw/groups_020/index.html.tmp\" [1]\n",
      "2024-02-29 01:04:23 URL:http://www.tng-project.org/about/ [36929/36929] -> \"/Users/keenan/Data/simim_resources/simulations/TNG100-3-Dark/raw/groups_020/index.html.tmp\" [1]\n",
      "2024-02-29 01:04:23 URL:http://www.tng-project.org/people/ [13273/13273] -> \"/Users/keenan/Data/simim_resources/simulations/TNG100-3-Dark/raw/groups_020/index.html.tmp\" [1]\n",
      "2024-02-29 01:04:23 URL:http://www.tng-project.org/results/ [484900/484900] -> \"/Users/keenan/Data/simim_resources/simulations/TNG100-3-Dark/raw/groups_020/index.html.tmp\" [1]\n",
      "2024-02-29 01:04:23 URL:http://www.tng-project.org/media/ [59010/59010] -> \"/Users/keenan/Data/simim_resources/simulations/TNG100-3-Dark/raw/groups_020/index.html.tmp\" [1]\n",
      "2024-02-29 01:04:24 URL:http://www.tng-project.org/data/ [43902/43902] -> \"/Users/keenan/Data/simim_resources/simulations/TNG100-3-Dark/raw/groups_020/index.html.tmp\" [1]\n",
      "2024-02-29 01:04:24 URL:http://www.tng-project.org/explore/ [3989/3989] -> \"/Users/keenan/Data/simim_resources/simulations/TNG100-3-Dark/raw/groups_020/index.html.tmp\" [1]\n",
      "2024-02-29 01:04:24 URL:http://www.tng-project.org/cluster/ [42614/42614] -> \"/Users/keenan/Data/simim_resources/simulations/TNG100-3-Dark/raw/groups_020/index.html.tmp\" [1]\n",
      "2024-02-29 01:04:24 URL:http://www.tng-project.org/users/login/ [5468/5468] -> \"/Users/keenan/Data/simim_resources/simulations/TNG100-3-Dark/raw/groups_020/index.html.tmp\" [1]\n",
      "2024-02-29 01:04:24 URL:http://www.tng-project.org/users/login/ [5468/5468] -> \"/Users/keenan/Data/simim_resources/simulations/TNG100-3-Dark/raw/groups_020/index.html.tmp\" [1]\n",
      "2024-02-29 01:04:24 URL:http://www.tng-project.org/api/?format=api [23499/23499] -> \"/Users/keenan/Data/simim_resources/simulations/TNG100-3-Dark/raw/groups_020/index.html?format=api.tmp\" [1]\n",
      "2024-02-29 01:04:24 URL:http://www.tng-project.org/api/TNG100-3-Dark/?format=api [10756/10756] -> \"/Users/keenan/Data/simim_resources/simulations/TNG100-3-Dark/raw/groups_020/index.html?format=api.tmp\" [1]\n",
      "2024-02-29 01:04:24 URL:http://www.tng-project.org/api/TNG100-3-Dark/files/?format=api [42579/42579] -> \"/Users/keenan/Data/simim_resources/simulations/TNG100-3-Dark/raw/groups_020/index.html?format=api.tmp\" [1]\n",
      "2024-02-29 01:04:24 URL:http://www.tng-project.org/api/TNG100-3-Dark/files/groupcat-20/?format=json [299/299] -> \"/Users/keenan/Data/simim_resources/simulations/TNG100-3-Dark/raw/groups_020/index.html?format=json.tmp\" [1]\n",
      "FINISHED --2024-02-29 01:04:26--\n",
      "Total wall clock time: 3.0s\n",
      "Downloaded: 15 files, 776K in 0.1s (7.88 MB/s)\n"
     ]
    },
    {
     "name": "stdout",
     "output_type": "stream",
     "text": [
      "\n",
      "Downloading Snapshot 21\n"
     ]
    },
    {
     "name": "stderr",
     "output_type": "stream",
     "text": [
      "2024-02-29 01:04:26 URL:http://www.tng-project.org/api/TNG100-3-Dark/files/groupcat-21/?format=api [9164/9164] -> \"/Users/keenan/Data/simim_resources/simulations/TNG100-3-Dark/raw/groups_021/index.html?format=api.tmp\" [1]\n",
      "2024-02-29 01:04:26 URL:http://www.tng-project.org/ [13013/13013] -> \"/Users/keenan/Data/simim_resources/simulations/TNG100-3-Dark/raw/groups_021/index.html.tmp\" [1]\n",
      "2024-02-29 01:04:26 URL:http://www.tng-project.org/about/ [36929/36929] -> \"/Users/keenan/Data/simim_resources/simulations/TNG100-3-Dark/raw/groups_021/index.html.tmp\" [1]\n",
      "2024-02-29 01:04:26 URL:http://www.tng-project.org/people/ [13267/13267] -> \"/Users/keenan/Data/simim_resources/simulations/TNG100-3-Dark/raw/groups_021/index.html.tmp\" [1]\n",
      "2024-02-29 01:04:26 URL:http://www.tng-project.org/results/ [484900/484900] -> \"/Users/keenan/Data/simim_resources/simulations/TNG100-3-Dark/raw/groups_021/index.html.tmp\" [1]\n",
      "2024-02-29 01:04:26 URL:http://www.tng-project.org/media/ [59010/59010] -> \"/Users/keenan/Data/simim_resources/simulations/TNG100-3-Dark/raw/groups_021/index.html.tmp\" [1]\n",
      "2024-02-29 01:04:27 URL:http://www.tng-project.org/data/ [43902/43902] -> \"/Users/keenan/Data/simim_resources/simulations/TNG100-3-Dark/raw/groups_021/index.html.tmp\" [1]\n",
      "2024-02-29 01:04:27 URL:http://www.tng-project.org/explore/ [3989/3989] -> \"/Users/keenan/Data/simim_resources/simulations/TNG100-3-Dark/raw/groups_021/index.html.tmp\" [1]\n",
      "2024-02-29 01:04:27 URL:http://www.tng-project.org/cluster/ [42614/42614] -> \"/Users/keenan/Data/simim_resources/simulations/TNG100-3-Dark/raw/groups_021/index.html.tmp\" [1]\n",
      "2024-02-29 01:04:27 URL:http://www.tng-project.org/users/login/ [5468/5468] -> \"/Users/keenan/Data/simim_resources/simulations/TNG100-3-Dark/raw/groups_021/index.html.tmp\" [1]\n",
      "2024-02-29 01:04:27 URL:http://www.tng-project.org/users/login/ [5468/5468] -> \"/Users/keenan/Data/simim_resources/simulations/TNG100-3-Dark/raw/groups_021/index.html.tmp\" [1]\n",
      "2024-02-29 01:04:27 URL:http://www.tng-project.org/api/?format=api [23499/23499] -> \"/Users/keenan/Data/simim_resources/simulations/TNG100-3-Dark/raw/groups_021/index.html?format=api.tmp\" [1]\n",
      "2024-02-29 01:04:27 URL:http://www.tng-project.org/api/TNG100-3-Dark/?format=api [10756/10756] -> \"/Users/keenan/Data/simim_resources/simulations/TNG100-3-Dark/raw/groups_021/index.html?format=api.tmp\" [1]\n",
      "2024-02-29 01:04:27 URL:http://www.tng-project.org/api/TNG100-3-Dark/files/?format=api [42579/42579] -> \"/Users/keenan/Data/simim_resources/simulations/TNG100-3-Dark/raw/groups_021/index.html?format=api.tmp\" [1]\n",
      "2024-02-29 01:04:27 URL:http://www.tng-project.org/api/TNG100-3-Dark/files/groupcat-21/?format=json [299/299] -> \"/Users/keenan/Data/simim_resources/simulations/TNG100-3-Dark/raw/groups_021/index.html?format=json.tmp\" [1]\n",
      "FINISHED --2024-02-29 01:04:29--\n",
      "Total wall clock time: 3.1s\n",
      "Downloaded: 15 files, 776K in 0.09s (8.06 MB/s)\n"
     ]
    },
    {
     "name": "stdout",
     "output_type": "stream",
     "text": [
      "\n",
      "Downloading Snapshot 22\n"
     ]
    },
    {
     "name": "stderr",
     "output_type": "stream",
     "text": [
      "2024-02-29 01:04:29 URL:http://www.tng-project.org/api/TNG100-3-Dark/files/groupcat-22/?format=api [9164/9164] -> \"/Users/keenan/Data/simim_resources/simulations/TNG100-3-Dark/raw/groups_022/index.html?format=api.tmp\" [1]\n",
      "2024-02-29 01:04:29 URL:http://www.tng-project.org/ [13013/13013] -> \"/Users/keenan/Data/simim_resources/simulations/TNG100-3-Dark/raw/groups_022/index.html.tmp\" [1]\n",
      "2024-02-29 01:04:29 URL:http://www.tng-project.org/about/ [36929/36929] -> \"/Users/keenan/Data/simim_resources/simulations/TNG100-3-Dark/raw/groups_022/index.html.tmp\" [1]\n",
      "2024-02-29 01:04:29 URL:http://www.tng-project.org/people/ [13267/13267] -> \"/Users/keenan/Data/simim_resources/simulations/TNG100-3-Dark/raw/groups_022/index.html.tmp\" [1]\n",
      "2024-02-29 01:04:29 URL:http://www.tng-project.org/results/ [484900/484900] -> \"/Users/keenan/Data/simim_resources/simulations/TNG100-3-Dark/raw/groups_022/index.html.tmp\" [1]\n",
      "2024-02-29 01:04:29 URL:http://www.tng-project.org/media/ [59010/59010] -> \"/Users/keenan/Data/simim_resources/simulations/TNG100-3-Dark/raw/groups_022/index.html.tmp\" [1]\n",
      "2024-02-29 01:04:30 URL:http://www.tng-project.org/data/ [43902/43902] -> \"/Users/keenan/Data/simim_resources/simulations/TNG100-3-Dark/raw/groups_022/index.html.tmp\" [1]\n",
      "2024-02-29 01:04:30 URL:http://www.tng-project.org/explore/ [3989/3989] -> \"/Users/keenan/Data/simim_resources/simulations/TNG100-3-Dark/raw/groups_022/index.html.tmp\" [1]\n",
      "2024-02-29 01:04:30 URL:http://www.tng-project.org/cluster/ [42614/42614] -> \"/Users/keenan/Data/simim_resources/simulations/TNG100-3-Dark/raw/groups_022/index.html.tmp\" [1]\n",
      "2024-02-29 01:04:30 URL:http://www.tng-project.org/users/login/ [5468/5468] -> \"/Users/keenan/Data/simim_resources/simulations/TNG100-3-Dark/raw/groups_022/index.html.tmp\" [1]\n",
      "2024-02-29 01:04:30 URL:http://www.tng-project.org/users/login/ [5468/5468] -> \"/Users/keenan/Data/simim_resources/simulations/TNG100-3-Dark/raw/groups_022/index.html.tmp\" [1]\n",
      "2024-02-29 01:04:30 URL:http://www.tng-project.org/api/?format=api [23499/23499] -> \"/Users/keenan/Data/simim_resources/simulations/TNG100-3-Dark/raw/groups_022/index.html?format=api.tmp\" [1]\n",
      "2024-02-29 01:04:30 URL:http://www.tng-project.org/api/TNG100-3-Dark/?format=api [10756/10756] -> \"/Users/keenan/Data/simim_resources/simulations/TNG100-3-Dark/raw/groups_022/index.html?format=api.tmp\" [1]\n",
      "2024-02-29 01:04:30 URL:http://www.tng-project.org/api/TNG100-3-Dark/files/?format=api [42579/42579] -> \"/Users/keenan/Data/simim_resources/simulations/TNG100-3-Dark/raw/groups_022/index.html?format=api.tmp\" [1]\n",
      "2024-02-29 01:04:30 URL:http://www.tng-project.org/api/TNG100-3-Dark/files/groupcat-22/?format=json [299/299] -> \"/Users/keenan/Data/simim_resources/simulations/TNG100-3-Dark/raw/groups_022/index.html?format=json.tmp\" [1]\n",
      "FINISHED --2024-02-29 01:04:32--\n",
      "Total wall clock time: 3.2s\n",
      "Downloaded: 15 files, 776K in 0.1s (7.70 MB/s)\n"
     ]
    },
    {
     "name": "stdout",
     "output_type": "stream",
     "text": [
      "\n",
      "Downloading Snapshot 23\n"
     ]
    },
    {
     "name": "stderr",
     "output_type": "stream",
     "text": [
      "2024-02-29 01:04:32 URL:http://www.tng-project.org/api/TNG100-3-Dark/files/groupcat-23/?format=api [9164/9164] -> \"/Users/keenan/Data/simim_resources/simulations/TNG100-3-Dark/raw/groups_023/index.html?format=api.tmp\" [1]\n",
      "2024-02-29 01:04:32 URL:http://www.tng-project.org/ [13013/13013] -> \"/Users/keenan/Data/simim_resources/simulations/TNG100-3-Dark/raw/groups_023/index.html.tmp\" [1]\n",
      "2024-02-29 01:04:32 URL:http://www.tng-project.org/about/ [36929/36929] -> \"/Users/keenan/Data/simim_resources/simulations/TNG100-3-Dark/raw/groups_023/index.html.tmp\" [1]\n",
      "2024-02-29 01:04:32 URL:http://www.tng-project.org/people/ [13267/13267] -> \"/Users/keenan/Data/simim_resources/simulations/TNG100-3-Dark/raw/groups_023/index.html.tmp\" [1]\n",
      "2024-02-29 01:04:33 URL:http://www.tng-project.org/results/ [484900/484900] -> \"/Users/keenan/Data/simim_resources/simulations/TNG100-3-Dark/raw/groups_023/index.html.tmp\" [1]\n",
      "2024-02-29 01:04:33 URL:http://www.tng-project.org/media/ [59010/59010] -> \"/Users/keenan/Data/simim_resources/simulations/TNG100-3-Dark/raw/groups_023/index.html.tmp\" [1]\n",
      "2024-02-29 01:04:33 URL:http://www.tng-project.org/data/ [43902/43902] -> \"/Users/keenan/Data/simim_resources/simulations/TNG100-3-Dark/raw/groups_023/index.html.tmp\" [1]\n",
      "2024-02-29 01:04:33 URL:http://www.tng-project.org/explore/ [3989/3989] -> \"/Users/keenan/Data/simim_resources/simulations/TNG100-3-Dark/raw/groups_023/index.html.tmp\" [1]\n",
      "2024-02-29 01:04:33 URL:http://www.tng-project.org/cluster/ [42614/42614] -> \"/Users/keenan/Data/simim_resources/simulations/TNG100-3-Dark/raw/groups_023/index.html.tmp\" [1]\n",
      "2024-02-29 01:04:33 URL:http://www.tng-project.org/users/login/ [5468/5468] -> \"/Users/keenan/Data/simim_resources/simulations/TNG100-3-Dark/raw/groups_023/index.html.tmp\" [1]\n",
      "2024-02-29 01:04:33 URL:http://www.tng-project.org/users/login/ [5468/5468] -> \"/Users/keenan/Data/simim_resources/simulations/TNG100-3-Dark/raw/groups_023/index.html.tmp\" [1]\n",
      "2024-02-29 01:04:33 URL:http://www.tng-project.org/api/?format=api [23499/23499] -> \"/Users/keenan/Data/simim_resources/simulations/TNG100-3-Dark/raw/groups_023/index.html?format=api.tmp\" [1]\n",
      "2024-02-29 01:04:34 URL:http://www.tng-project.org/api/TNG100-3-Dark/?format=api [10756/10756] -> \"/Users/keenan/Data/simim_resources/simulations/TNG100-3-Dark/raw/groups_023/index.html?format=api.tmp\" [1]\n",
      "2024-02-29 01:04:34 URL:http://www.tng-project.org/api/TNG100-3-Dark/files/?format=api [42579/42579] -> \"/Users/keenan/Data/simim_resources/simulations/TNG100-3-Dark/raw/groups_023/index.html?format=api.tmp\" [1]\n",
      "2024-02-29 01:04:34 URL:http://www.tng-project.org/api/TNG100-3-Dark/files/groupcat-23/?format=json [299/299] -> \"/Users/keenan/Data/simim_resources/simulations/TNG100-3-Dark/raw/groups_023/index.html?format=json.tmp\" [1]\n",
      "FINISHED --2024-02-29 01:04:35--\n",
      "Total wall clock time: 3.2s\n",
      "Downloaded: 15 files, 776K in 0.1s (5.59 MB/s)\n"
     ]
    },
    {
     "name": "stdout",
     "output_type": "stream",
     "text": [
      "\n",
      "Downloading Snapshot 24\n"
     ]
    },
    {
     "name": "stderr",
     "output_type": "stream",
     "text": [
      "2024-02-29 01:04:35 URL:http://www.tng-project.org/api/TNG100-3-Dark/files/groupcat-24/?format=api [9164/9164] -> \"/Users/keenan/Data/simim_resources/simulations/TNG100-3-Dark/raw/groups_024/index.html?format=api.tmp\" [1]\n",
      "2024-02-29 01:04:35 URL:http://www.tng-project.org/ [13013/13013] -> \"/Users/keenan/Data/simim_resources/simulations/TNG100-3-Dark/raw/groups_024/index.html.tmp\" [1]\n",
      "2024-02-29 01:04:35 URL:http://www.tng-project.org/about/ [36929/36929] -> \"/Users/keenan/Data/simim_resources/simulations/TNG100-3-Dark/raw/groups_024/index.html.tmp\" [1]\n",
      "2024-02-29 01:04:35 URL:http://www.tng-project.org/people/ [13273/13273] -> \"/Users/keenan/Data/simim_resources/simulations/TNG100-3-Dark/raw/groups_024/index.html.tmp\" [1]\n",
      "2024-02-29 01:04:36 URL:http://www.tng-project.org/results/ [484900/484900] -> \"/Users/keenan/Data/simim_resources/simulations/TNG100-3-Dark/raw/groups_024/index.html.tmp\" [1]\n",
      "2024-02-29 01:04:36 URL:http://www.tng-project.org/media/ [59010/59010] -> \"/Users/keenan/Data/simim_resources/simulations/TNG100-3-Dark/raw/groups_024/index.html.tmp\" [1]\n",
      "2024-02-29 01:04:36 URL:http://www.tng-project.org/data/ [43902/43902] -> \"/Users/keenan/Data/simim_resources/simulations/TNG100-3-Dark/raw/groups_024/index.html.tmp\" [1]\n",
      "2024-02-29 01:04:36 URL:http://www.tng-project.org/explore/ [3989/3989] -> \"/Users/keenan/Data/simim_resources/simulations/TNG100-3-Dark/raw/groups_024/index.html.tmp\" [1]\n",
      "2024-02-29 01:04:36 URL:http://www.tng-project.org/cluster/ [42614/42614] -> \"/Users/keenan/Data/simim_resources/simulations/TNG100-3-Dark/raw/groups_024/index.html.tmp\" [1]\n",
      "2024-02-29 01:04:36 URL:http://www.tng-project.org/users/login/ [5468/5468] -> \"/Users/keenan/Data/simim_resources/simulations/TNG100-3-Dark/raw/groups_024/index.html.tmp\" [1]\n",
      "2024-02-29 01:04:36 URL:http://www.tng-project.org/users/login/ [5468/5468] -> \"/Users/keenan/Data/simim_resources/simulations/TNG100-3-Dark/raw/groups_024/index.html.tmp\" [1]\n",
      "2024-02-29 01:04:36 URL:http://www.tng-project.org/api/?format=api [23499/23499] -> \"/Users/keenan/Data/simim_resources/simulations/TNG100-3-Dark/raw/groups_024/index.html?format=api.tmp\" [1]\n",
      "2024-02-29 01:04:37 URL:http://www.tng-project.org/api/TNG100-3-Dark/?format=api [10756/10756] -> \"/Users/keenan/Data/simim_resources/simulations/TNG100-3-Dark/raw/groups_024/index.html?format=api.tmp\" [1]\n",
      "2024-02-29 01:04:37 URL:http://www.tng-project.org/api/TNG100-3-Dark/files/?format=api [42579/42579] -> \"/Users/keenan/Data/simim_resources/simulations/TNG100-3-Dark/raw/groups_024/index.html?format=api.tmp\" [1]\n",
      "2024-02-29 01:04:37 URL:http://www.tng-project.org/api/TNG100-3-Dark/files/groupcat-24/?format=json [299/299] -> \"/Users/keenan/Data/simim_resources/simulations/TNG100-3-Dark/raw/groups_024/index.html?format=json.tmp\" [1]\n",
      "FINISHED --2024-02-29 01:04:38--\n",
      "Total wall clock time: 3.0s\n",
      "Downloaded: 15 files, 776K in 0.1s (6.40 MB/s)\n"
     ]
    },
    {
     "name": "stdout",
     "output_type": "stream",
     "text": [
      "\n",
      "Downloading Snapshot 25\n"
     ]
    },
    {
     "name": "stderr",
     "output_type": "stream",
     "text": [
      "2024-02-29 01:04:38 URL:http://www.tng-project.org/api/TNG100-3-Dark/files/groupcat-25/?format=api [9164/9164] -> \"/Users/keenan/Data/simim_resources/simulations/TNG100-3-Dark/raw/groups_025/index.html?format=api.tmp\" [1]\n",
      "2024-02-29 01:04:38 URL:http://www.tng-project.org/ [13013/13013] -> \"/Users/keenan/Data/simim_resources/simulations/TNG100-3-Dark/raw/groups_025/index.html.tmp\" [1]\n",
      "2024-02-29 01:04:38 URL:http://www.tng-project.org/about/ [36929/36929] -> \"/Users/keenan/Data/simim_resources/simulations/TNG100-3-Dark/raw/groups_025/index.html.tmp\" [1]\n",
      "2024-02-29 01:04:38 URL:http://www.tng-project.org/people/ [13274/13274] -> \"/Users/keenan/Data/simim_resources/simulations/TNG100-3-Dark/raw/groups_025/index.html.tmp\" [1]\n",
      "2024-02-29 01:04:39 URL:http://www.tng-project.org/results/ [484900/484900] -> \"/Users/keenan/Data/simim_resources/simulations/TNG100-3-Dark/raw/groups_025/index.html.tmp\" [1]\n",
      "2024-02-29 01:04:39 URL:http://www.tng-project.org/media/ [59010/59010] -> \"/Users/keenan/Data/simim_resources/simulations/TNG100-3-Dark/raw/groups_025/index.html.tmp\" [1]\n",
      "2024-02-29 01:04:39 URL:http://www.tng-project.org/data/ [43902/43902] -> \"/Users/keenan/Data/simim_resources/simulations/TNG100-3-Dark/raw/groups_025/index.html.tmp\" [1]\n",
      "2024-02-29 01:04:39 URL:http://www.tng-project.org/explore/ [3989/3989] -> \"/Users/keenan/Data/simim_resources/simulations/TNG100-3-Dark/raw/groups_025/index.html.tmp\" [1]\n",
      "2024-02-29 01:04:39 URL:http://www.tng-project.org/cluster/ [42614/42614] -> \"/Users/keenan/Data/simim_resources/simulations/TNG100-3-Dark/raw/groups_025/index.html.tmp\" [1]\n",
      "2024-02-29 01:04:39 URL:http://www.tng-project.org/users/login/ [5468/5468] -> \"/Users/keenan/Data/simim_resources/simulations/TNG100-3-Dark/raw/groups_025/index.html.tmp\" [1]\n",
      "2024-02-29 01:04:40 URL:http://www.tng-project.org/users/login/ [5468/5468] -> \"/Users/keenan/Data/simim_resources/simulations/TNG100-3-Dark/raw/groups_025/index.html.tmp\" [1]\n",
      "2024-02-29 01:04:40 URL:http://www.tng-project.org/api/?format=api [23499/23499] -> \"/Users/keenan/Data/simim_resources/simulations/TNG100-3-Dark/raw/groups_025/index.html?format=api.tmp\" [1]\n",
      "2024-02-29 01:04:40 URL:http://www.tng-project.org/api/TNG100-3-Dark/?format=api [10756/10756] -> \"/Users/keenan/Data/simim_resources/simulations/TNG100-3-Dark/raw/groups_025/index.html?format=api.tmp\" [1]\n",
      "2024-02-29 01:04:40 URL:http://www.tng-project.org/api/TNG100-3-Dark/files/?format=api [42579/42579] -> \"/Users/keenan/Data/simim_resources/simulations/TNG100-3-Dark/raw/groups_025/index.html?format=api.tmp\" [1]\n",
      "2024-02-29 01:04:40 URL:http://www.tng-project.org/api/TNG100-3-Dark/files/groupcat-25/?format=json [299/299] -> \"/Users/keenan/Data/simim_resources/simulations/TNG100-3-Dark/raw/groups_025/index.html?format=json.tmp\" [1]\n",
      "FINISHED --2024-02-29 01:04:41--\n",
      "Total wall clock time: 3.2s\n",
      "Downloaded: 15 files, 776K in 0.1s (6.21 MB/s)\n"
     ]
    },
    {
     "name": "stdout",
     "output_type": "stream",
     "text": [
      "\n",
      "Downloading Snapshot 26\n"
     ]
    },
    {
     "name": "stderr",
     "output_type": "stream",
     "text": [
      "2024-02-29 01:04:42 URL:http://www.tng-project.org/api/TNG100-3-Dark/files/groupcat-26/?format=api [9164/9164] -> \"/Users/keenan/Data/simim_resources/simulations/TNG100-3-Dark/raw/groups_026/index.html?format=api.tmp\" [1]\n",
      "2024-02-29 01:04:42 URL:http://www.tng-project.org/ [13013/13013] -> \"/Users/keenan/Data/simim_resources/simulations/TNG100-3-Dark/raw/groups_026/index.html.tmp\" [1]\n",
      "2024-02-29 01:04:42 URL:http://www.tng-project.org/about/ [36929/36929] -> \"/Users/keenan/Data/simim_resources/simulations/TNG100-3-Dark/raw/groups_026/index.html.tmp\" [1]\n",
      "2024-02-29 01:04:42 URL:http://www.tng-project.org/people/ [13267/13267] -> \"/Users/keenan/Data/simim_resources/simulations/TNG100-3-Dark/raw/groups_026/index.html.tmp\" [1]\n",
      "2024-02-29 01:04:42 URL:http://www.tng-project.org/results/ [484900/484900] -> \"/Users/keenan/Data/simim_resources/simulations/TNG100-3-Dark/raw/groups_026/index.html.tmp\" [1]\n",
      "2024-02-29 01:04:42 URL:http://www.tng-project.org/media/ [59010/59010] -> \"/Users/keenan/Data/simim_resources/simulations/TNG100-3-Dark/raw/groups_026/index.html.tmp\" [1]\n",
      "2024-02-29 01:04:42 URL:http://www.tng-project.org/data/ [43902/43902] -> \"/Users/keenan/Data/simim_resources/simulations/TNG100-3-Dark/raw/groups_026/index.html.tmp\" [1]\n",
      "2024-02-29 01:04:43 URL:http://www.tng-project.org/explore/ [3989/3989] -> \"/Users/keenan/Data/simim_resources/simulations/TNG100-3-Dark/raw/groups_026/index.html.tmp\" [1]\n",
      "2024-02-29 01:04:43 URL:http://www.tng-project.org/cluster/ [42614/42614] -> \"/Users/keenan/Data/simim_resources/simulations/TNG100-3-Dark/raw/groups_026/index.html.tmp\" [1]\n",
      "2024-02-29 01:04:43 URL:http://www.tng-project.org/users/login/ [5468/5468] -> \"/Users/keenan/Data/simim_resources/simulations/TNG100-3-Dark/raw/groups_026/index.html.tmp\" [1]\n",
      "2024-02-29 01:04:43 URL:http://www.tng-project.org/users/login/ [5468/5468] -> \"/Users/keenan/Data/simim_resources/simulations/TNG100-3-Dark/raw/groups_026/index.html.tmp\" [1]\n",
      "2024-02-29 01:04:43 URL:http://www.tng-project.org/api/?format=api [23499/23499] -> \"/Users/keenan/Data/simim_resources/simulations/TNG100-3-Dark/raw/groups_026/index.html?format=api.tmp\" [1]\n",
      "2024-02-29 01:04:43 URL:http://www.tng-project.org/api/TNG100-3-Dark/?format=api [10756/10756] -> \"/Users/keenan/Data/simim_resources/simulations/TNG100-3-Dark/raw/groups_026/index.html?format=api.tmp\" [1]\n",
      "2024-02-29 01:04:43 URL:http://www.tng-project.org/api/TNG100-3-Dark/files/?format=api [42579/42579] -> \"/Users/keenan/Data/simim_resources/simulations/TNG100-3-Dark/raw/groups_026/index.html?format=api.tmp\" [1]\n",
      "2024-02-29 01:04:43 URL:http://www.tng-project.org/api/TNG100-3-Dark/files/groupcat-26/?format=json [299/299] -> \"/Users/keenan/Data/simim_resources/simulations/TNG100-3-Dark/raw/groups_026/index.html?format=json.tmp\" [1]\n",
      "FINISHED --2024-02-29 01:04:44--\n",
      "Total wall clock time: 3.1s\n",
      "Downloaded: 15 files, 776K in 0.1s (6.86 MB/s)\n"
     ]
    },
    {
     "name": "stdout",
     "output_type": "stream",
     "text": [
      "\n",
      "Downloading Snapshot 27\n"
     ]
    },
    {
     "name": "stderr",
     "output_type": "stream",
     "text": [
      "2024-02-29 01:04:45 URL:http://www.tng-project.org/api/TNG100-3-Dark/files/groupcat-27/?format=api [9164/9164] -> \"/Users/keenan/Data/simim_resources/simulations/TNG100-3-Dark/raw/groups_027/index.html?format=api.tmp\" [1]\n",
      "2024-02-29 01:04:45 URL:http://www.tng-project.org/ [13013/13013] -> \"/Users/keenan/Data/simim_resources/simulations/TNG100-3-Dark/raw/groups_027/index.html.tmp\" [1]\n",
      "2024-02-29 01:04:45 URL:http://www.tng-project.org/about/ [36929/36929] -> \"/Users/keenan/Data/simim_resources/simulations/TNG100-3-Dark/raw/groups_027/index.html.tmp\" [1]\n",
      "2024-02-29 01:04:45 URL:http://www.tng-project.org/people/ [13273/13273] -> \"/Users/keenan/Data/simim_resources/simulations/TNG100-3-Dark/raw/groups_027/index.html.tmp\" [1]\n",
      "2024-02-29 01:04:45 URL:http://www.tng-project.org/results/ [484900/484900] -> \"/Users/keenan/Data/simim_resources/simulations/TNG100-3-Dark/raw/groups_027/index.html.tmp\" [1]\n",
      "2024-02-29 01:04:45 URL:http://www.tng-project.org/media/ [59010/59010] -> \"/Users/keenan/Data/simim_resources/simulations/TNG100-3-Dark/raw/groups_027/index.html.tmp\" [1]\n",
      "2024-02-29 01:04:46 URL:http://www.tng-project.org/data/ [43902/43902] -> \"/Users/keenan/Data/simim_resources/simulations/TNG100-3-Dark/raw/groups_027/index.html.tmp\" [1]\n",
      "2024-02-29 01:04:46 URL:http://www.tng-project.org/explore/ [3989/3989] -> \"/Users/keenan/Data/simim_resources/simulations/TNG100-3-Dark/raw/groups_027/index.html.tmp\" [1]\n",
      "2024-02-29 01:04:46 URL:http://www.tng-project.org/cluster/ [42614/42614] -> \"/Users/keenan/Data/simim_resources/simulations/TNG100-3-Dark/raw/groups_027/index.html.tmp\" [1]\n",
      "2024-02-29 01:04:46 URL:http://www.tng-project.org/users/login/ [5468/5468] -> \"/Users/keenan/Data/simim_resources/simulations/TNG100-3-Dark/raw/groups_027/index.html.tmp\" [1]\n",
      "2024-02-29 01:04:46 URL:http://www.tng-project.org/users/login/ [5468/5468] -> \"/Users/keenan/Data/simim_resources/simulations/TNG100-3-Dark/raw/groups_027/index.html.tmp\" [1]\n",
      "2024-02-29 01:04:46 URL:http://www.tng-project.org/api/?format=api [23499/23499] -> \"/Users/keenan/Data/simim_resources/simulations/TNG100-3-Dark/raw/groups_027/index.html?format=api.tmp\" [1]\n",
      "2024-02-29 01:04:46 URL:http://www.tng-project.org/api/TNG100-3-Dark/?format=api [10756/10756] -> \"/Users/keenan/Data/simim_resources/simulations/TNG100-3-Dark/raw/groups_027/index.html?format=api.tmp\" [1]\n",
      "2024-02-29 01:04:46 URL:http://www.tng-project.org/api/TNG100-3-Dark/files/?format=api [42579/42579] -> \"/Users/keenan/Data/simim_resources/simulations/TNG100-3-Dark/raw/groups_027/index.html?format=api.tmp\" [1]\n",
      "2024-02-29 01:04:46 URL:http://www.tng-project.org/api/TNG100-3-Dark/files/groupcat-27/?format=json [299/299] -> \"/Users/keenan/Data/simim_resources/simulations/TNG100-3-Dark/raw/groups_027/index.html?format=json.tmp\" [1]\n",
      "FINISHED --2024-02-29 01:04:48--\n",
      "Total wall clock time: 3.0s\n",
      "Downloaded: 15 files, 776K in 0.1s (7.85 MB/s)\n"
     ]
    },
    {
     "name": "stdout",
     "output_type": "stream",
     "text": [
      "\n",
      "Downloading Snapshot 28\n"
     ]
    },
    {
     "name": "stderr",
     "output_type": "stream",
     "text": [
      "2024-02-29 01:04:48 URL:http://www.tng-project.org/api/TNG100-3-Dark/files/groupcat-28/?format=api [9164/9164] -> \"/Users/keenan/Data/simim_resources/simulations/TNG100-3-Dark/raw/groups_028/index.html?format=api.tmp\" [1]\n",
      "2024-02-29 01:04:48 URL:http://www.tng-project.org/ [13013/13013] -> \"/Users/keenan/Data/simim_resources/simulations/TNG100-3-Dark/raw/groups_028/index.html.tmp\" [1]\n",
      "2024-02-29 01:04:48 URL:http://www.tng-project.org/about/ [36929/36929] -> \"/Users/keenan/Data/simim_resources/simulations/TNG100-3-Dark/raw/groups_028/index.html.tmp\" [1]\n",
      "2024-02-29 01:04:48 URL:http://www.tng-project.org/people/ [13268/13268] -> \"/Users/keenan/Data/simim_resources/simulations/TNG100-3-Dark/raw/groups_028/index.html.tmp\" [1]\n",
      "2024-02-29 01:04:48 URL:http://www.tng-project.org/results/ [484900/484900] -> \"/Users/keenan/Data/simim_resources/simulations/TNG100-3-Dark/raw/groups_028/index.html.tmp\" [1]\n",
      "2024-02-29 01:04:48 URL:http://www.tng-project.org/media/ [59010/59010] -> \"/Users/keenan/Data/simim_resources/simulations/TNG100-3-Dark/raw/groups_028/index.html.tmp\" [1]\n",
      "2024-02-29 01:04:49 URL:http://www.tng-project.org/data/ [43902/43902] -> \"/Users/keenan/Data/simim_resources/simulations/TNG100-3-Dark/raw/groups_028/index.html.tmp\" [1]\n",
      "2024-02-29 01:04:49 URL:http://www.tng-project.org/explore/ [3989/3989] -> \"/Users/keenan/Data/simim_resources/simulations/TNG100-3-Dark/raw/groups_028/index.html.tmp\" [1]\n",
      "2024-02-29 01:04:49 URL:http://www.tng-project.org/cluster/ [42614/42614] -> \"/Users/keenan/Data/simim_resources/simulations/TNG100-3-Dark/raw/groups_028/index.html.tmp\" [1]\n",
      "2024-02-29 01:04:49 URL:http://www.tng-project.org/users/login/ [5468/5468] -> \"/Users/keenan/Data/simim_resources/simulations/TNG100-3-Dark/raw/groups_028/index.html.tmp\" [1]\n",
      "2024-02-29 01:04:49 URL:http://www.tng-project.org/users/login/ [5468/5468] -> \"/Users/keenan/Data/simim_resources/simulations/TNG100-3-Dark/raw/groups_028/index.html.tmp\" [1]\n",
      "2024-02-29 01:04:49 URL:http://www.tng-project.org/api/?format=api [23499/23499] -> \"/Users/keenan/Data/simim_resources/simulations/TNG100-3-Dark/raw/groups_028/index.html?format=api.tmp\" [1]\n",
      "2024-02-29 01:04:49 URL:http://www.tng-project.org/api/TNG100-3-Dark/?format=api [10756/10756] -> \"/Users/keenan/Data/simim_resources/simulations/TNG100-3-Dark/raw/groups_028/index.html?format=api.tmp\" [1]\n",
      "2024-02-29 01:04:49 URL:http://www.tng-project.org/api/TNG100-3-Dark/files/?format=api [42579/42579] -> \"/Users/keenan/Data/simim_resources/simulations/TNG100-3-Dark/raw/groups_028/index.html?format=api.tmp\" [1]\n",
      "2024-02-29 01:04:49 URL:http://www.tng-project.org/api/TNG100-3-Dark/files/groupcat-28/?format=json [299/299] -> \"/Users/keenan/Data/simim_resources/simulations/TNG100-3-Dark/raw/groups_028/index.html?format=json.tmp\" [1]\n",
      "FINISHED --2024-02-29 01:04:51--\n",
      "Total wall clock time: 3.1s\n",
      "Downloaded: 15 files, 776K in 0.09s (8.30 MB/s)\n"
     ]
    },
    {
     "name": "stdout",
     "output_type": "stream",
     "text": [
      "\n",
      "Downloading Snapshot 29\n"
     ]
    },
    {
     "name": "stderr",
     "output_type": "stream",
     "text": [
      "2024-02-29 01:04:51 URL:http://www.tng-project.org/api/TNG100-3-Dark/files/groupcat-29/?format=api [9164/9164] -> \"/Users/keenan/Data/simim_resources/simulations/TNG100-3-Dark/raw/groups_029/index.html?format=api.tmp\" [1]\n",
      "2024-02-29 01:04:51 URL:http://www.tng-project.org/ [13013/13013] -> \"/Users/keenan/Data/simim_resources/simulations/TNG100-3-Dark/raw/groups_029/index.html.tmp\" [1]\n",
      "2024-02-29 01:04:51 URL:http://www.tng-project.org/about/ [36929/36929] -> \"/Users/keenan/Data/simim_resources/simulations/TNG100-3-Dark/raw/groups_029/index.html.tmp\" [1]\n",
      "2024-02-29 01:04:51 URL:http://www.tng-project.org/people/ [13268/13268] -> \"/Users/keenan/Data/simim_resources/simulations/TNG100-3-Dark/raw/groups_029/index.html.tmp\" [1]\n",
      "2024-02-29 01:04:51 URL:http://www.tng-project.org/results/ [484900/484900] -> \"/Users/keenan/Data/simim_resources/simulations/TNG100-3-Dark/raw/groups_029/index.html.tmp\" [1]\n",
      "2024-02-29 01:04:51 URL:http://www.tng-project.org/media/ [59010/59010] -> \"/Users/keenan/Data/simim_resources/simulations/TNG100-3-Dark/raw/groups_029/index.html.tmp\" [1]\n",
      "2024-02-29 01:04:52 URL:http://www.tng-project.org/data/ [43902/43902] -> \"/Users/keenan/Data/simim_resources/simulations/TNG100-3-Dark/raw/groups_029/index.html.tmp\" [1]\n",
      "2024-02-29 01:04:52 URL:http://www.tng-project.org/explore/ [3989/3989] -> \"/Users/keenan/Data/simim_resources/simulations/TNG100-3-Dark/raw/groups_029/index.html.tmp\" [1]\n",
      "2024-02-29 01:04:52 URL:http://www.tng-project.org/cluster/ [42614/42614] -> \"/Users/keenan/Data/simim_resources/simulations/TNG100-3-Dark/raw/groups_029/index.html.tmp\" [1]\n",
      "2024-02-29 01:04:52 URL:http://www.tng-project.org/users/login/ [5468/5468] -> \"/Users/keenan/Data/simim_resources/simulations/TNG100-3-Dark/raw/groups_029/index.html.tmp\" [1]\n",
      "2024-02-29 01:04:52 URL:http://www.tng-project.org/users/login/ [5468/5468] -> \"/Users/keenan/Data/simim_resources/simulations/TNG100-3-Dark/raw/groups_029/index.html.tmp\" [1]\n",
      "2024-02-29 01:04:52 URL:http://www.tng-project.org/api/?format=api [23499/23499] -> \"/Users/keenan/Data/simim_resources/simulations/TNG100-3-Dark/raw/groups_029/index.html?format=api.tmp\" [1]\n",
      "2024-02-29 01:04:52 URL:http://www.tng-project.org/api/TNG100-3-Dark/?format=api [10756/10756] -> \"/Users/keenan/Data/simim_resources/simulations/TNG100-3-Dark/raw/groups_029/index.html?format=api.tmp\" [1]\n",
      "2024-02-29 01:04:52 URL:http://www.tng-project.org/api/TNG100-3-Dark/files/?format=api [42579/42579] -> \"/Users/keenan/Data/simim_resources/simulations/TNG100-3-Dark/raw/groups_029/index.html?format=api.tmp\" [1]\n",
      "2024-02-29 01:04:52 URL:http://www.tng-project.org/api/TNG100-3-Dark/files/groupcat-29/?format=json [299/299] -> \"/Users/keenan/Data/simim_resources/simulations/TNG100-3-Dark/raw/groups_029/index.html?format=json.tmp\" [1]\n",
      "FINISHED --2024-02-29 01:04:54--\n",
      "Total wall clock time: 3.1s\n",
      "Downloaded: 15 files, 776K in 0.09s (8.01 MB/s)\n",
      "2024-02-29 01:04:54 URL:http://www.tng-project.org/api/TNG100-3-Dark/files/groupcat-30/?format=api [9164/9164] -> \"/Users/keenan/Data/simim_resources/simulations/TNG100-3-Dark/raw/groups_030/index.html?format=api.tmp\" [1]\n"
     ]
    },
    {
     "name": "stdout",
     "output_type": "stream",
     "text": [
      "\n",
      "Downloading Snapshot 30\n"
     ]
    },
    {
     "name": "stderr",
     "output_type": "stream",
     "text": [
      "2024-02-29 01:04:54 URL:http://www.tng-project.org/ [13013/13013] -> \"/Users/keenan/Data/simim_resources/simulations/TNG100-3-Dark/raw/groups_030/index.html.tmp\" [1]\n",
      "2024-02-29 01:04:54 URL:http://www.tng-project.org/about/ [36929/36929] -> \"/Users/keenan/Data/simim_resources/simulations/TNG100-3-Dark/raw/groups_030/index.html.tmp\" [1]\n",
      "2024-02-29 01:04:54 URL:http://www.tng-project.org/people/ [13267/13267] -> \"/Users/keenan/Data/simim_resources/simulations/TNG100-3-Dark/raw/groups_030/index.html.tmp\" [1]\n",
      "2024-02-29 01:04:54 URL:http://www.tng-project.org/results/ [484900/484900] -> \"/Users/keenan/Data/simim_resources/simulations/TNG100-3-Dark/raw/groups_030/index.html.tmp\" [1]\n",
      "2024-02-29 01:04:54 URL:http://www.tng-project.org/media/ [59010/59010] -> \"/Users/keenan/Data/simim_resources/simulations/TNG100-3-Dark/raw/groups_030/index.html.tmp\" [1]\n",
      "2024-02-29 01:04:55 URL:http://www.tng-project.org/data/ [43902/43902] -> \"/Users/keenan/Data/simim_resources/simulations/TNG100-3-Dark/raw/groups_030/index.html.tmp\" [1]\n",
      "2024-02-29 01:04:55 URL:http://www.tng-project.org/explore/ [3989/3989] -> \"/Users/keenan/Data/simim_resources/simulations/TNG100-3-Dark/raw/groups_030/index.html.tmp\" [1]\n",
      "2024-02-29 01:04:55 URL:http://www.tng-project.org/cluster/ [42614/42614] -> \"/Users/keenan/Data/simim_resources/simulations/TNG100-3-Dark/raw/groups_030/index.html.tmp\" [1]\n",
      "2024-02-29 01:04:55 URL:http://www.tng-project.org/users/login/ [5468/5468] -> \"/Users/keenan/Data/simim_resources/simulations/TNG100-3-Dark/raw/groups_030/index.html.tmp\" [1]\n",
      "2024-02-29 01:04:55 URL:http://www.tng-project.org/users/login/ [5468/5468] -> \"/Users/keenan/Data/simim_resources/simulations/TNG100-3-Dark/raw/groups_030/index.html.tmp\" [1]\n",
      "2024-02-29 01:04:55 URL:http://www.tng-project.org/api/?format=api [23499/23499] -> \"/Users/keenan/Data/simim_resources/simulations/TNG100-3-Dark/raw/groups_030/index.html?format=api.tmp\" [1]\n",
      "2024-02-29 01:04:55 URL:http://www.tng-project.org/api/TNG100-3-Dark/?format=api [10756/10756] -> \"/Users/keenan/Data/simim_resources/simulations/TNG100-3-Dark/raw/groups_030/index.html?format=api.tmp\" [1]\n",
      "2024-02-29 01:04:55 URL:http://www.tng-project.org/api/TNG100-3-Dark/files/?format=api [42579/42579] -> \"/Users/keenan/Data/simim_resources/simulations/TNG100-3-Dark/raw/groups_030/index.html?format=api.tmp\" [1]\n",
      "2024-02-29 01:04:56 URL:http://www.tng-project.org/api/TNG100-3-Dark/files/groupcat-30/?format=json [299/299] -> \"/Users/keenan/Data/simim_resources/simulations/TNG100-3-Dark/raw/groups_030/index.html?format=json.tmp\" [1]\n",
      "FINISHED --2024-02-29 01:04:57--\n",
      "Total wall clock time: 3.2s\n",
      "Downloaded: 15 files, 776K in 0.1s (5.96 MB/s)\n"
     ]
    },
    {
     "name": "stdout",
     "output_type": "stream",
     "text": [
      "\n",
      "Downloading Snapshot 31\n"
     ]
    },
    {
     "name": "stderr",
     "output_type": "stream",
     "text": [
      "2024-02-29 01:04:57 URL:http://www.tng-project.org/api/TNG100-3-Dark/files/groupcat-31/?format=api [9164/9164] -> \"/Users/keenan/Data/simim_resources/simulations/TNG100-3-Dark/raw/groups_031/index.html?format=api.tmp\" [1]\n",
      "2024-02-29 01:04:57 URL:http://www.tng-project.org/ [13013/13013] -> \"/Users/keenan/Data/simim_resources/simulations/TNG100-3-Dark/raw/groups_031/index.html.tmp\" [1]\n",
      "2024-02-29 01:04:57 URL:http://www.tng-project.org/about/ [36929/36929] -> \"/Users/keenan/Data/simim_resources/simulations/TNG100-3-Dark/raw/groups_031/index.html.tmp\" [1]\n",
      "2024-02-29 01:04:57 URL:http://www.tng-project.org/people/ [13267/13267] -> \"/Users/keenan/Data/simim_resources/simulations/TNG100-3-Dark/raw/groups_031/index.html.tmp\" [1]\n",
      "2024-02-29 01:04:58 URL:http://www.tng-project.org/results/ [484900/484900] -> \"/Users/keenan/Data/simim_resources/simulations/TNG100-3-Dark/raw/groups_031/index.html.tmp\" [1]\n",
      "2024-02-29 01:04:58 URL:http://www.tng-project.org/media/ [59010/59010] -> \"/Users/keenan/Data/simim_resources/simulations/TNG100-3-Dark/raw/groups_031/index.html.tmp\" [1]\n",
      "2024-02-29 01:04:58 URL:http://www.tng-project.org/data/ [43902/43902] -> \"/Users/keenan/Data/simim_resources/simulations/TNG100-3-Dark/raw/groups_031/index.html.tmp\" [1]\n",
      "2024-02-29 01:04:58 URL:http://www.tng-project.org/explore/ [3989/3989] -> \"/Users/keenan/Data/simim_resources/simulations/TNG100-3-Dark/raw/groups_031/index.html.tmp\" [1]\n",
      "2024-02-29 01:04:58 URL:http://www.tng-project.org/cluster/ [42614/42614] -> \"/Users/keenan/Data/simim_resources/simulations/TNG100-3-Dark/raw/groups_031/index.html.tmp\" [1]\n",
      "2024-02-29 01:04:58 URL:http://www.tng-project.org/users/login/ [5468/5468] -> \"/Users/keenan/Data/simim_resources/simulations/TNG100-3-Dark/raw/groups_031/index.html.tmp\" [1]\n",
      "2024-02-29 01:04:58 URL:http://www.tng-project.org/users/login/ [5468/5468] -> \"/Users/keenan/Data/simim_resources/simulations/TNG100-3-Dark/raw/groups_031/index.html.tmp\" [1]\n",
      "2024-02-29 01:04:58 URL:http://www.tng-project.org/api/?format=api [23499/23499] -> \"/Users/keenan/Data/simim_resources/simulations/TNG100-3-Dark/raw/groups_031/index.html?format=api.tmp\" [1]\n",
      "2024-02-29 01:04:58 URL:http://www.tng-project.org/api/TNG100-3-Dark/?format=api [10756/10756] -> \"/Users/keenan/Data/simim_resources/simulations/TNG100-3-Dark/raw/groups_031/index.html?format=api.tmp\" [1]\n",
      "2024-02-29 01:04:59 URL:http://www.tng-project.org/api/TNG100-3-Dark/files/?format=api [42579/42579] -> \"/Users/keenan/Data/simim_resources/simulations/TNG100-3-Dark/raw/groups_031/index.html?format=api.tmp\" [1]\n",
      "2024-02-29 01:04:59 URL:http://www.tng-project.org/api/TNG100-3-Dark/files/groupcat-31/?format=json [299/299] -> \"/Users/keenan/Data/simim_resources/simulations/TNG100-3-Dark/raw/groups_031/index.html?format=json.tmp\" [1]\n",
      "FINISHED --2024-02-29 01:05:00--\n",
      "Total wall clock time: 3.0s\n",
      "Downloaded: 15 files, 776K in 0.09s (8.09 MB/s)\n"
     ]
    },
    {
     "name": "stdout",
     "output_type": "stream",
     "text": [
      "\n",
      "Downloading Snapshot 32\n"
     ]
    },
    {
     "name": "stderr",
     "output_type": "stream",
     "text": [
      "2024-02-29 01:05:00 URL:http://www.tng-project.org/api/TNG100-3-Dark/files/groupcat-32/?format=api [9164/9164] -> \"/Users/keenan/Data/simim_resources/simulations/TNG100-3-Dark/raw/groups_032/index.html?format=api.tmp\" [1]\n",
      "2024-02-29 01:05:00 URL:http://www.tng-project.org/ [13013/13013] -> \"/Users/keenan/Data/simim_resources/simulations/TNG100-3-Dark/raw/groups_032/index.html.tmp\" [1]\n",
      "2024-02-29 01:05:00 URL:http://www.tng-project.org/about/ [36929/36929] -> \"/Users/keenan/Data/simim_resources/simulations/TNG100-3-Dark/raw/groups_032/index.html.tmp\" [1]\n",
      "2024-02-29 01:05:00 URL:http://www.tng-project.org/people/ [13273/13273] -> \"/Users/keenan/Data/simim_resources/simulations/TNG100-3-Dark/raw/groups_032/index.html.tmp\" [1]\n",
      "2024-02-29 01:05:01 URL:http://www.tng-project.org/results/ [484900/484900] -> \"/Users/keenan/Data/simim_resources/simulations/TNG100-3-Dark/raw/groups_032/index.html.tmp\" [1]\n",
      "2024-02-29 01:05:01 URL:http://www.tng-project.org/media/ [59010/59010] -> \"/Users/keenan/Data/simim_resources/simulations/TNG100-3-Dark/raw/groups_032/index.html.tmp\" [1]\n",
      "2024-02-29 01:05:01 URL:http://www.tng-project.org/data/ [43902/43902] -> \"/Users/keenan/Data/simim_resources/simulations/TNG100-3-Dark/raw/groups_032/index.html.tmp\" [1]\n",
      "2024-02-29 01:05:01 URL:http://www.tng-project.org/explore/ [3989/3989] -> \"/Users/keenan/Data/simim_resources/simulations/TNG100-3-Dark/raw/groups_032/index.html.tmp\" [1]\n",
      "2024-02-29 01:05:01 URL:http://www.tng-project.org/cluster/ [42614/42614] -> \"/Users/keenan/Data/simim_resources/simulations/TNG100-3-Dark/raw/groups_032/index.html.tmp\" [1]\n",
      "2024-02-29 01:05:01 URL:http://www.tng-project.org/users/login/ [5468/5468] -> \"/Users/keenan/Data/simim_resources/simulations/TNG100-3-Dark/raw/groups_032/index.html.tmp\" [1]\n",
      "2024-02-29 01:05:01 URL:http://www.tng-project.org/users/login/ [5468/5468] -> \"/Users/keenan/Data/simim_resources/simulations/TNG100-3-Dark/raw/groups_032/index.html.tmp\" [1]\n",
      "2024-02-29 01:05:01 URL:http://www.tng-project.org/api/?format=api [23499/23499] -> \"/Users/keenan/Data/simim_resources/simulations/TNG100-3-Dark/raw/groups_032/index.html?format=api.tmp\" [1]\n",
      "2024-02-29 01:05:02 URL:http://www.tng-project.org/api/TNG100-3-Dark/?format=api [10756/10756] -> \"/Users/keenan/Data/simim_resources/simulations/TNG100-3-Dark/raw/groups_032/index.html?format=api.tmp\" [1]\n",
      "2024-02-29 01:05:02 URL:http://www.tng-project.org/api/TNG100-3-Dark/files/?format=api [42579/42579] -> \"/Users/keenan/Data/simim_resources/simulations/TNG100-3-Dark/raw/groups_032/index.html?format=api.tmp\" [1]\n",
      "2024-02-29 01:05:02 URL:http://www.tng-project.org/api/TNG100-3-Dark/files/groupcat-32/?format=json [299/299] -> \"/Users/keenan/Data/simim_resources/simulations/TNG100-3-Dark/raw/groups_032/index.html?format=json.tmp\" [1]\n",
      "FINISHED --2024-02-29 01:05:03--\n",
      "Total wall clock time: 3.1s\n",
      "Downloaded: 15 files, 776K in 0.09s (8.32 MB/s)\n"
     ]
    },
    {
     "name": "stdout",
     "output_type": "stream",
     "text": [
      "\n",
      "Downloading Snapshot 33\n"
     ]
    },
    {
     "name": "stderr",
     "output_type": "stream",
     "text": [
      "2024-02-29 01:05:03 URL:http://www.tng-project.org/api/TNG100-3-Dark/files/groupcat-33/?format=api [9164/9164] -> \"/Users/keenan/Data/simim_resources/simulations/TNG100-3-Dark/raw/groups_033/index.html?format=api.tmp\" [1]\n",
      "2024-02-29 01:05:03 URL:http://www.tng-project.org/ [13013/13013] -> \"/Users/keenan/Data/simim_resources/simulations/TNG100-3-Dark/raw/groups_033/index.html.tmp\" [1]\n",
      "2024-02-29 01:05:03 URL:http://www.tng-project.org/about/ [36929/36929] -> \"/Users/keenan/Data/simim_resources/simulations/TNG100-3-Dark/raw/groups_033/index.html.tmp\" [1]\n",
      "2024-02-29 01:05:03 URL:http://www.tng-project.org/people/ [13267/13267] -> \"/Users/keenan/Data/simim_resources/simulations/TNG100-3-Dark/raw/groups_033/index.html.tmp\" [1]\n",
      "2024-02-29 01:05:04 URL:http://www.tng-project.org/results/ [484900/484900] -> \"/Users/keenan/Data/simim_resources/simulations/TNG100-3-Dark/raw/groups_033/index.html.tmp\" [1]\n",
      "2024-02-29 01:05:04 URL:http://www.tng-project.org/media/ [59010/59010] -> \"/Users/keenan/Data/simim_resources/simulations/TNG100-3-Dark/raw/groups_033/index.html.tmp\" [1]\n",
      "2024-02-29 01:05:04 URL:http://www.tng-project.org/data/ [43902/43902] -> \"/Users/keenan/Data/simim_resources/simulations/TNG100-3-Dark/raw/groups_033/index.html.tmp\" [1]\n",
      "2024-02-29 01:05:04 URL:http://www.tng-project.org/explore/ [3989/3989] -> \"/Users/keenan/Data/simim_resources/simulations/TNG100-3-Dark/raw/groups_033/index.html.tmp\" [1]\n",
      "2024-02-29 01:05:04 URL:http://www.tng-project.org/cluster/ [42614/42614] -> \"/Users/keenan/Data/simim_resources/simulations/TNG100-3-Dark/raw/groups_033/index.html.tmp\" [1]\n",
      "2024-02-29 01:05:04 URL:http://www.tng-project.org/users/login/ [5468/5468] -> \"/Users/keenan/Data/simim_resources/simulations/TNG100-3-Dark/raw/groups_033/index.html.tmp\" [1]\n",
      "2024-02-29 01:05:05 URL:http://www.tng-project.org/users/login/ [5468/5468] -> \"/Users/keenan/Data/simim_resources/simulations/TNG100-3-Dark/raw/groups_033/index.html.tmp\" [1]\n",
      "2024-02-29 01:05:05 URL:http://www.tng-project.org/api/?format=api [23499/23499] -> \"/Users/keenan/Data/simim_resources/simulations/TNG100-3-Dark/raw/groups_033/index.html?format=api.tmp\" [1]\n",
      "2024-02-29 01:05:05 URL:http://www.tng-project.org/api/TNG100-3-Dark/?format=api [10756/10756] -> \"/Users/keenan/Data/simim_resources/simulations/TNG100-3-Dark/raw/groups_033/index.html?format=api.tmp\" [1]\n",
      "2024-02-29 01:05:05 URL:http://www.tng-project.org/api/TNG100-3-Dark/files/?format=api [42579/42579] -> \"/Users/keenan/Data/simim_resources/simulations/TNG100-3-Dark/raw/groups_033/index.html?format=api.tmp\" [1]\n",
      "2024-02-29 01:05:05 URL:http://www.tng-project.org/api/TNG100-3-Dark/files/groupcat-33/?format=json [299/299] -> \"/Users/keenan/Data/simim_resources/simulations/TNG100-3-Dark/raw/groups_033/index.html?format=json.tmp\" [1]\n",
      "FINISHED --2024-02-29 01:05:06--\n",
      "Total wall clock time: 3.3s\n",
      "Downloaded: 15 files, 776K in 0.1s (6.16 MB/s)\n"
     ]
    },
    {
     "name": "stdout",
     "output_type": "stream",
     "text": [
      "\n",
      "Downloading Snapshot 34\n"
     ]
    },
    {
     "name": "stderr",
     "output_type": "stream",
     "text": [
      "2024-02-29 01:05:07 URL:http://www.tng-project.org/api/TNG100-3-Dark/files/groupcat-34/?format=api [9164/9164] -> \"/Users/keenan/Data/simim_resources/simulations/TNG100-3-Dark/raw/groups_034/index.html?format=api.tmp\" [1]\n",
      "2024-02-29 01:05:07 URL:http://www.tng-project.org/ [13013/13013] -> \"/Users/keenan/Data/simim_resources/simulations/TNG100-3-Dark/raw/groups_034/index.html.tmp\" [1]\n",
      "2024-02-29 01:05:07 URL:http://www.tng-project.org/about/ [36929/36929] -> \"/Users/keenan/Data/simim_resources/simulations/TNG100-3-Dark/raw/groups_034/index.html.tmp\" [1]\n",
      "2024-02-29 01:05:07 URL:http://www.tng-project.org/people/ [13273/13273] -> \"/Users/keenan/Data/simim_resources/simulations/TNG100-3-Dark/raw/groups_034/index.html.tmp\" [1]\n",
      "2024-02-29 01:05:07 URL:http://www.tng-project.org/results/ [484900/484900] -> \"/Users/keenan/Data/simim_resources/simulations/TNG100-3-Dark/raw/groups_034/index.html.tmp\" [1]\n",
      "2024-02-29 01:05:07 URL:http://www.tng-project.org/media/ [59010/59010] -> \"/Users/keenan/Data/simim_resources/simulations/TNG100-3-Dark/raw/groups_034/index.html.tmp\" [1]\n",
      "2024-02-29 01:05:07 URL:http://www.tng-project.org/data/ [43902/43902] -> \"/Users/keenan/Data/simim_resources/simulations/TNG100-3-Dark/raw/groups_034/index.html.tmp\" [1]\n",
      "2024-02-29 01:05:07 URL:http://www.tng-project.org/explore/ [3989/3989] -> \"/Users/keenan/Data/simim_resources/simulations/TNG100-3-Dark/raw/groups_034/index.html.tmp\" [1]\n",
      "2024-02-29 01:05:07 URL:http://www.tng-project.org/cluster/ [42614/42614] -> \"/Users/keenan/Data/simim_resources/simulations/TNG100-3-Dark/raw/groups_034/index.html.tmp\" [1]\n",
      "2024-02-29 01:05:08 URL:http://www.tng-project.org/users/login/ [5468/5468] -> \"/Users/keenan/Data/simim_resources/simulations/TNG100-3-Dark/raw/groups_034/index.html.tmp\" [1]\n",
      "2024-02-29 01:05:08 URL:http://www.tng-project.org/users/login/ [5468/5468] -> \"/Users/keenan/Data/simim_resources/simulations/TNG100-3-Dark/raw/groups_034/index.html.tmp\" [1]\n",
      "2024-02-29 01:05:08 URL:http://www.tng-project.org/api/?format=api [23499/23499] -> \"/Users/keenan/Data/simim_resources/simulations/TNG100-3-Dark/raw/groups_034/index.html?format=api.tmp\" [1]\n",
      "2024-02-29 01:05:08 URL:http://www.tng-project.org/api/TNG100-3-Dark/?format=api [10756/10756] -> \"/Users/keenan/Data/simim_resources/simulations/TNG100-3-Dark/raw/groups_034/index.html?format=api.tmp\" [1]\n",
      "2024-02-29 01:05:08 URL:http://www.tng-project.org/api/TNG100-3-Dark/files/?format=api [42579/42579] -> \"/Users/keenan/Data/simim_resources/simulations/TNG100-3-Dark/raw/groups_034/index.html?format=api.tmp\" [1]\n",
      "2024-02-29 01:05:08 URL:http://www.tng-project.org/api/TNG100-3-Dark/files/groupcat-34/?format=json [299/299] -> \"/Users/keenan/Data/simim_resources/simulations/TNG100-3-Dark/raw/groups_034/index.html?format=json.tmp\" [1]\n",
      "FINISHED --2024-02-29 01:05:09--\n",
      "Total wall clock time: 3.1s\n",
      "Downloaded: 15 files, 776K in 0.1s (7.93 MB/s)\n"
     ]
    },
    {
     "name": "stdout",
     "output_type": "stream",
     "text": [
      "\n",
      "Downloading Snapshot 35\n"
     ]
    },
    {
     "name": "stderr",
     "output_type": "stream",
     "text": [
      "2024-02-29 01:05:10 URL:http://www.tng-project.org/api/TNG100-3-Dark/files/groupcat-35/?format=api [9164/9164] -> \"/Users/keenan/Data/simim_resources/simulations/TNG100-3-Dark/raw/groups_035/index.html?format=api.tmp\" [1]\n",
      "2024-02-29 01:05:10 URL:http://www.tng-project.org/ [13013/13013] -> \"/Users/keenan/Data/simim_resources/simulations/TNG100-3-Dark/raw/groups_035/index.html.tmp\" [1]\n",
      "2024-02-29 01:05:10 URL:http://www.tng-project.org/about/ [36929/36929] -> \"/Users/keenan/Data/simim_resources/simulations/TNG100-3-Dark/raw/groups_035/index.html.tmp\" [1]\n",
      "2024-02-29 01:05:10 URL:http://www.tng-project.org/people/ [13267/13267] -> \"/Users/keenan/Data/simim_resources/simulations/TNG100-3-Dark/raw/groups_035/index.html.tmp\" [1]\n",
      "2024-02-29 01:05:10 URL:http://www.tng-project.org/results/ [484900/484900] -> \"/Users/keenan/Data/simim_resources/simulations/TNG100-3-Dark/raw/groups_035/index.html.tmp\" [1]\n",
      "2024-02-29 01:05:10 URL:http://www.tng-project.org/media/ [59010/59010] -> \"/Users/keenan/Data/simim_resources/simulations/TNG100-3-Dark/raw/groups_035/index.html.tmp\" [1]\n",
      "2024-02-29 01:05:11 URL:http://www.tng-project.org/data/ [43902/43902] -> \"/Users/keenan/Data/simim_resources/simulations/TNG100-3-Dark/raw/groups_035/index.html.tmp\" [1]\n",
      "2024-02-29 01:05:11 URL:http://www.tng-project.org/explore/ [3989/3989] -> \"/Users/keenan/Data/simim_resources/simulations/TNG100-3-Dark/raw/groups_035/index.html.tmp\" [1]\n",
      "2024-02-29 01:05:11 URL:http://www.tng-project.org/cluster/ [42614/42614] -> \"/Users/keenan/Data/simim_resources/simulations/TNG100-3-Dark/raw/groups_035/index.html.tmp\" [1]\n",
      "2024-02-29 01:05:11 URL:http://www.tng-project.org/users/login/ [5468/5468] -> \"/Users/keenan/Data/simim_resources/simulations/TNG100-3-Dark/raw/groups_035/index.html.tmp\" [1]\n",
      "2024-02-29 01:05:11 URL:http://www.tng-project.org/users/login/ [5468/5468] -> \"/Users/keenan/Data/simim_resources/simulations/TNG100-3-Dark/raw/groups_035/index.html.tmp\" [1]\n",
      "2024-02-29 01:05:11 URL:http://www.tng-project.org/api/?format=api [23499/23499] -> \"/Users/keenan/Data/simim_resources/simulations/TNG100-3-Dark/raw/groups_035/index.html?format=api.tmp\" [1]\n",
      "2024-02-29 01:05:11 URL:http://www.tng-project.org/api/TNG100-3-Dark/?format=api [10756/10756] -> \"/Users/keenan/Data/simim_resources/simulations/TNG100-3-Dark/raw/groups_035/index.html?format=api.tmp\" [1]\n",
      "2024-02-29 01:05:11 URL:http://www.tng-project.org/api/TNG100-3-Dark/files/?format=api [42579/42579] -> \"/Users/keenan/Data/simim_resources/simulations/TNG100-3-Dark/raw/groups_035/index.html?format=api.tmp\" [1]\n",
      "2024-02-29 01:05:11 URL:http://www.tng-project.org/api/TNG100-3-Dark/files/groupcat-35/?format=json [299/299] -> \"/Users/keenan/Data/simim_resources/simulations/TNG100-3-Dark/raw/groups_035/index.html?format=json.tmp\" [1]\n",
      "FINISHED --2024-02-29 01:05:13--\n",
      "Total wall clock time: 3.1s\n",
      "Downloaded: 15 files, 776K in 0.1s (7.28 MB/s)\n"
     ]
    },
    {
     "name": "stdout",
     "output_type": "stream",
     "text": [
      "\n",
      "Downloading Snapshot 36\n"
     ]
    },
    {
     "name": "stderr",
     "output_type": "stream",
     "text": [
      "2024-02-29 01:05:13 URL:http://www.tng-project.org/api/TNG100-3-Dark/files/groupcat-36/?format=api [9164/9164] -> \"/Users/keenan/Data/simim_resources/simulations/TNG100-3-Dark/raw/groups_036/index.html?format=api.tmp\" [1]\n",
      "2024-02-29 01:05:13 URL:http://www.tng-project.org/ [13013/13013] -> \"/Users/keenan/Data/simim_resources/simulations/TNG100-3-Dark/raw/groups_036/index.html.tmp\" [1]\n",
      "2024-02-29 01:05:13 URL:http://www.tng-project.org/about/ [36929/36929] -> \"/Users/keenan/Data/simim_resources/simulations/TNG100-3-Dark/raw/groups_036/index.html.tmp\" [1]\n",
      "2024-02-29 01:05:13 URL:http://www.tng-project.org/people/ [13267/13267] -> \"/Users/keenan/Data/simim_resources/simulations/TNG100-3-Dark/raw/groups_036/index.html.tmp\" [1]\n",
      "2024-02-29 01:05:13 URL:http://www.tng-project.org/results/ [484900/484900] -> \"/Users/keenan/Data/simim_resources/simulations/TNG100-3-Dark/raw/groups_036/index.html.tmp\" [1]\n",
      "2024-02-29 01:05:13 URL:http://www.tng-project.org/media/ [59010/59010] -> \"/Users/keenan/Data/simim_resources/simulations/TNG100-3-Dark/raw/groups_036/index.html.tmp\" [1]\n",
      "2024-02-29 01:05:14 URL:http://www.tng-project.org/data/ [43902/43902] -> \"/Users/keenan/Data/simim_resources/simulations/TNG100-3-Dark/raw/groups_036/index.html.tmp\" [1]\n",
      "2024-02-29 01:05:14 URL:http://www.tng-project.org/explore/ [3989/3989] -> \"/Users/keenan/Data/simim_resources/simulations/TNG100-3-Dark/raw/groups_036/index.html.tmp\" [1]\n",
      "2024-02-29 01:05:14 URL:http://www.tng-project.org/cluster/ [42614/42614] -> \"/Users/keenan/Data/simim_resources/simulations/TNG100-3-Dark/raw/groups_036/index.html.tmp\" [1]\n",
      "2024-02-29 01:05:14 URL:http://www.tng-project.org/users/login/ [5468/5468] -> \"/Users/keenan/Data/simim_resources/simulations/TNG100-3-Dark/raw/groups_036/index.html.tmp\" [1]\n",
      "2024-02-29 01:05:14 URL:http://www.tng-project.org/users/login/ [5468/5468] -> \"/Users/keenan/Data/simim_resources/simulations/TNG100-3-Dark/raw/groups_036/index.html.tmp\" [1]\n",
      "2024-02-29 01:05:14 URL:http://www.tng-project.org/api/?format=api [23499/23499] -> \"/Users/keenan/Data/simim_resources/simulations/TNG100-3-Dark/raw/groups_036/index.html?format=api.tmp\" [1]\n",
      "2024-02-29 01:05:14 URL:http://www.tng-project.org/api/TNG100-3-Dark/?format=api [10756/10756] -> \"/Users/keenan/Data/simim_resources/simulations/TNG100-3-Dark/raw/groups_036/index.html?format=api.tmp\" [1]\n",
      "2024-02-29 01:05:14 URL:http://www.tng-project.org/api/TNG100-3-Dark/files/?format=api [42579/42579] -> \"/Users/keenan/Data/simim_resources/simulations/TNG100-3-Dark/raw/groups_036/index.html?format=api.tmp\" [1]\n",
      "2024-02-29 01:05:14 URL:http://www.tng-project.org/api/TNG100-3-Dark/files/groupcat-36/?format=json [299/299] -> \"/Users/keenan/Data/simim_resources/simulations/TNG100-3-Dark/raw/groups_036/index.html?format=json.tmp\" [1]\n",
      "FINISHED --2024-02-29 01:05:16--\n",
      "Total wall clock time: 3.1s\n",
      "Downloaded: 15 files, 776K in 0.09s (7.98 MB/s)\n",
      "2024-02-29 01:05:16 URL:http://www.tng-project.org/api/TNG100-3-Dark/files/groupcat-37/?format=api [9164/9164] -> \"/Users/keenan/Data/simim_resources/simulations/TNG100-3-Dark/raw/groups_037/index.html?format=api.tmp\" [1]\n"
     ]
    },
    {
     "name": "stdout",
     "output_type": "stream",
     "text": [
      "\n",
      "Downloading Snapshot 37\n"
     ]
    },
    {
     "name": "stderr",
     "output_type": "stream",
     "text": [
      "2024-02-29 01:05:16 URL:http://www.tng-project.org/ [13013/13013] -> \"/Users/keenan/Data/simim_resources/simulations/TNG100-3-Dark/raw/groups_037/index.html.tmp\" [1]\n",
      "2024-02-29 01:05:16 URL:http://www.tng-project.org/about/ [36929/36929] -> \"/Users/keenan/Data/simim_resources/simulations/TNG100-3-Dark/raw/groups_037/index.html.tmp\" [1]\n",
      "2024-02-29 01:05:16 URL:http://www.tng-project.org/people/ [13268/13268] -> \"/Users/keenan/Data/simim_resources/simulations/TNG100-3-Dark/raw/groups_037/index.html.tmp\" [1]\n",
      "2024-02-29 01:05:16 URL:http://www.tng-project.org/results/ [484900/484900] -> \"/Users/keenan/Data/simim_resources/simulations/TNG100-3-Dark/raw/groups_037/index.html.tmp\" [1]\n",
      "2024-02-29 01:05:16 URL:http://www.tng-project.org/media/ [59010/59010] -> \"/Users/keenan/Data/simim_resources/simulations/TNG100-3-Dark/raw/groups_037/index.html.tmp\" [1]\n",
      "2024-02-29 01:05:17 URL:http://www.tng-project.org/data/ [43902/43902] -> \"/Users/keenan/Data/simim_resources/simulations/TNG100-3-Dark/raw/groups_037/index.html.tmp\" [1]\n",
      "2024-02-29 01:05:17 URL:http://www.tng-project.org/explore/ [3989/3989] -> \"/Users/keenan/Data/simim_resources/simulations/TNG100-3-Dark/raw/groups_037/index.html.tmp\" [1]\n",
      "2024-02-29 01:05:17 URL:http://www.tng-project.org/cluster/ [42614/42614] -> \"/Users/keenan/Data/simim_resources/simulations/TNG100-3-Dark/raw/groups_037/index.html.tmp\" [1]\n",
      "2024-02-29 01:05:17 URL:http://www.tng-project.org/users/login/ [5468/5468] -> \"/Users/keenan/Data/simim_resources/simulations/TNG100-3-Dark/raw/groups_037/index.html.tmp\" [1]\n",
      "2024-02-29 01:05:17 URL:http://www.tng-project.org/users/login/ [5468/5468] -> \"/Users/keenan/Data/simim_resources/simulations/TNG100-3-Dark/raw/groups_037/index.html.tmp\" [1]\n",
      "2024-02-29 01:05:17 URL:http://www.tng-project.org/api/?format=api [23499/23499] -> \"/Users/keenan/Data/simim_resources/simulations/TNG100-3-Dark/raw/groups_037/index.html?format=api.tmp\" [1]\n",
      "2024-02-29 01:05:17 URL:http://www.tng-project.org/api/TNG100-3-Dark/?format=api [10756/10756] -> \"/Users/keenan/Data/simim_resources/simulations/TNG100-3-Dark/raw/groups_037/index.html?format=api.tmp\" [1]\n",
      "2024-02-29 01:05:17 URL:http://www.tng-project.org/api/TNG100-3-Dark/files/?format=api [42579/42579] -> \"/Users/keenan/Data/simim_resources/simulations/TNG100-3-Dark/raw/groups_037/index.html?format=api.tmp\" [1]\n",
      "2024-02-29 01:05:17 URL:http://www.tng-project.org/api/TNG100-3-Dark/files/groupcat-37/?format=json [299/299] -> \"/Users/keenan/Data/simim_resources/simulations/TNG100-3-Dark/raw/groups_037/index.html?format=json.tmp\" [1]\n",
      "FINISHED --2024-02-29 01:05:19--\n",
      "Total wall clock time: 3.2s\n",
      "Downloaded: 15 files, 776K in 0.1s (5.56 MB/s)\n"
     ]
    },
    {
     "name": "stdout",
     "output_type": "stream",
     "text": [
      "\n",
      "Downloading Snapshot 38\n"
     ]
    },
    {
     "name": "stderr",
     "output_type": "stream",
     "text": [
      "2024-02-29 01:05:19 URL:http://www.tng-project.org/api/TNG100-3-Dark/files/groupcat-38/?format=api [9164/9164] -> \"/Users/keenan/Data/simim_resources/simulations/TNG100-3-Dark/raw/groups_038/index.html?format=api.tmp\" [1]\n",
      "2024-02-29 01:05:19 URL:http://www.tng-project.org/ [13013/13013] -> \"/Users/keenan/Data/simim_resources/simulations/TNG100-3-Dark/raw/groups_038/index.html.tmp\" [1]\n",
      "2024-02-29 01:05:19 URL:http://www.tng-project.org/about/ [36929/36929] -> \"/Users/keenan/Data/simim_resources/simulations/TNG100-3-Dark/raw/groups_038/index.html.tmp\" [1]\n",
      "2024-02-29 01:05:19 URL:http://www.tng-project.org/people/ [13268/13268] -> \"/Users/keenan/Data/simim_resources/simulations/TNG100-3-Dark/raw/groups_038/index.html.tmp\" [1]\n",
      "2024-02-29 01:05:20 URL:http://www.tng-project.org/results/ [484900/484900] -> \"/Users/keenan/Data/simim_resources/simulations/TNG100-3-Dark/raw/groups_038/index.html.tmp\" [1]\n",
      "2024-02-29 01:05:20 URL:http://www.tng-project.org/media/ [59010/59010] -> \"/Users/keenan/Data/simim_resources/simulations/TNG100-3-Dark/raw/groups_038/index.html.tmp\" [1]\n",
      "2024-02-29 01:05:20 URL:http://www.tng-project.org/data/ [43902/43902] -> \"/Users/keenan/Data/simim_resources/simulations/TNG100-3-Dark/raw/groups_038/index.html.tmp\" [1]\n",
      "2024-02-29 01:05:20 URL:http://www.tng-project.org/explore/ [3989/3989] -> \"/Users/keenan/Data/simim_resources/simulations/TNG100-3-Dark/raw/groups_038/index.html.tmp\" [1]\n",
      "2024-02-29 01:05:20 URL:http://www.tng-project.org/cluster/ [42614/42614] -> \"/Users/keenan/Data/simim_resources/simulations/TNG100-3-Dark/raw/groups_038/index.html.tmp\" [1]\n",
      "2024-02-29 01:05:20 URL:http://www.tng-project.org/users/login/ [5468/5468] -> \"/Users/keenan/Data/simim_resources/simulations/TNG100-3-Dark/raw/groups_038/index.html.tmp\" [1]\n",
      "2024-02-29 01:05:20 URL:http://www.tng-project.org/users/login/ [5468/5468] -> \"/Users/keenan/Data/simim_resources/simulations/TNG100-3-Dark/raw/groups_038/index.html.tmp\" [1]\n",
      "2024-02-29 01:05:21 URL:http://www.tng-project.org/api/?format=api [23499/23499] -> \"/Users/keenan/Data/simim_resources/simulations/TNG100-3-Dark/raw/groups_038/index.html?format=api.tmp\" [1]\n",
      "2024-02-29 01:05:21 URL:http://www.tng-project.org/api/TNG100-3-Dark/?format=api [10756/10756] -> \"/Users/keenan/Data/simim_resources/simulations/TNG100-3-Dark/raw/groups_038/index.html?format=api.tmp\" [1]\n",
      "2024-02-29 01:05:21 URL:http://www.tng-project.org/api/TNG100-3-Dark/files/?format=api [42579/42579] -> \"/Users/keenan/Data/simim_resources/simulations/TNG100-3-Dark/raw/groups_038/index.html?format=api.tmp\" [1]\n",
      "2024-02-29 01:05:21 URL:http://www.tng-project.org/api/TNG100-3-Dark/files/groupcat-38/?format=json [299/299] -> \"/Users/keenan/Data/simim_resources/simulations/TNG100-3-Dark/raw/groups_038/index.html?format=json.tmp\" [1]\n",
      "FINISHED --2024-02-29 01:05:22--\n",
      "Total wall clock time: 3.3s\n",
      "Downloaded: 15 files, 776K in 0.1s (6.24 MB/s)\n"
     ]
    },
    {
     "name": "stdout",
     "output_type": "stream",
     "text": [
      "\n",
      "Downloading Snapshot 39\n"
     ]
    },
    {
     "name": "stderr",
     "output_type": "stream",
     "text": [
      "2024-02-29 01:05:22 URL:http://www.tng-project.org/api/TNG100-3-Dark/files/groupcat-39/?format=api [9164/9164] -> \"/Users/keenan/Data/simim_resources/simulations/TNG100-3-Dark/raw/groups_039/index.html?format=api.tmp\" [1]\n",
      "2024-02-29 01:05:22 URL:http://www.tng-project.org/ [13013/13013] -> \"/Users/keenan/Data/simim_resources/simulations/TNG100-3-Dark/raw/groups_039/index.html.tmp\" [1]\n",
      "2024-02-29 01:05:22 URL:http://www.tng-project.org/about/ [36929/36929] -> \"/Users/keenan/Data/simim_resources/simulations/TNG100-3-Dark/raw/groups_039/index.html.tmp\" [1]\n",
      "2024-02-29 01:05:23 URL:http://www.tng-project.org/people/ [13267/13267] -> \"/Users/keenan/Data/simim_resources/simulations/TNG100-3-Dark/raw/groups_039/index.html.tmp\" [1]\n",
      "2024-02-29 01:05:23 URL:http://www.tng-project.org/results/ [484900/484900] -> \"/Users/keenan/Data/simim_resources/simulations/TNG100-3-Dark/raw/groups_039/index.html.tmp\" [1]\n",
      "2024-02-29 01:05:23 URL:http://www.tng-project.org/media/ [59010/59010] -> \"/Users/keenan/Data/simim_resources/simulations/TNG100-3-Dark/raw/groups_039/index.html.tmp\" [1]\n",
      "2024-02-29 01:05:23 URL:http://www.tng-project.org/data/ [43902/43902] -> \"/Users/keenan/Data/simim_resources/simulations/TNG100-3-Dark/raw/groups_039/index.html.tmp\" [1]\n",
      "2024-02-29 01:05:23 URL:http://www.tng-project.org/explore/ [3989/3989] -> \"/Users/keenan/Data/simim_resources/simulations/TNG100-3-Dark/raw/groups_039/index.html.tmp\" [1]\n",
      "2024-02-29 01:05:23 URL:http://www.tng-project.org/cluster/ [42614/42614] -> \"/Users/keenan/Data/simim_resources/simulations/TNG100-3-Dark/raw/groups_039/index.html.tmp\" [1]\n",
      "2024-02-29 01:05:23 URL:http://www.tng-project.org/users/login/ [5468/5468] -> \"/Users/keenan/Data/simim_resources/simulations/TNG100-3-Dark/raw/groups_039/index.html.tmp\" [1]\n",
      "2024-02-29 01:05:23 URL:http://www.tng-project.org/users/login/ [5468/5468] -> \"/Users/keenan/Data/simim_resources/simulations/TNG100-3-Dark/raw/groups_039/index.html.tmp\" [1]\n",
      "2024-02-29 01:05:24 URL:http://www.tng-project.org/api/?format=api [23499/23499] -> \"/Users/keenan/Data/simim_resources/simulations/TNG100-3-Dark/raw/groups_039/index.html?format=api.tmp\" [1]\n",
      "2024-02-29 01:05:24 URL:http://www.tng-project.org/api/TNG100-3-Dark/?format=api [10756/10756] -> \"/Users/keenan/Data/simim_resources/simulations/TNG100-3-Dark/raw/groups_039/index.html?format=api.tmp\" [1]\n",
      "2024-02-29 01:05:24 URL:http://www.tng-project.org/api/TNG100-3-Dark/files/?format=api [42579/42579] -> \"/Users/keenan/Data/simim_resources/simulations/TNG100-3-Dark/raw/groups_039/index.html?format=api.tmp\" [1]\n",
      "2024-02-29 01:05:24 URL:http://www.tng-project.org/api/TNG100-3-Dark/files/groupcat-39/?format=json [299/299] -> \"/Users/keenan/Data/simim_resources/simulations/TNG100-3-Dark/raw/groups_039/index.html?format=json.tmp\" [1]\n",
      "FINISHED --2024-02-29 01:05:25--\n",
      "Total wall clock time: 3.1s\n",
      "Downloaded: 15 files, 776K in 0.09s (8.33 MB/s)\n",
      "2024-02-29 01:05:25 URL:http://www.tng-project.org/api/TNG100-3-Dark/files/groupcat-40/?format=api [9164/9164] -> \"/Users/keenan/Data/simim_resources/simulations/TNG100-3-Dark/raw/groups_040/index.html?format=api.tmp\" [1]\n"
     ]
    },
    {
     "name": "stdout",
     "output_type": "stream",
     "text": [
      "\n",
      "Downloading Snapshot 40\n"
     ]
    },
    {
     "name": "stderr",
     "output_type": "stream",
     "text": [
      "2024-02-29 01:05:26 URL:http://www.tng-project.org/ [13013/13013] -> \"/Users/keenan/Data/simim_resources/simulations/TNG100-3-Dark/raw/groups_040/index.html.tmp\" [1]\n",
      "2024-02-29 01:05:26 URL:http://www.tng-project.org/about/ [36929/36929] -> \"/Users/keenan/Data/simim_resources/simulations/TNG100-3-Dark/raw/groups_040/index.html.tmp\" [1]\n",
      "2024-02-29 01:05:26 URL:http://www.tng-project.org/people/ [13273/13273] -> \"/Users/keenan/Data/simim_resources/simulations/TNG100-3-Dark/raw/groups_040/index.html.tmp\" [1]\n",
      "2024-02-29 01:05:26 URL:http://www.tng-project.org/results/ [484900/484900] -> \"/Users/keenan/Data/simim_resources/simulations/TNG100-3-Dark/raw/groups_040/index.html.tmp\" [1]\n",
      "2024-02-29 01:05:26 URL:http://www.tng-project.org/media/ [59010/59010] -> \"/Users/keenan/Data/simim_resources/simulations/TNG100-3-Dark/raw/groups_040/index.html.tmp\" [1]\n",
      "2024-02-29 01:05:26 URL:http://www.tng-project.org/data/ [43902/43902] -> \"/Users/keenan/Data/simim_resources/simulations/TNG100-3-Dark/raw/groups_040/index.html.tmp\" [1]\n",
      "2024-02-29 01:05:26 URL:http://www.tng-project.org/explore/ [3989/3989] -> \"/Users/keenan/Data/simim_resources/simulations/TNG100-3-Dark/raw/groups_040/index.html.tmp\" [1]\n",
      "2024-02-29 01:05:26 URL:http://www.tng-project.org/cluster/ [42614/42614] -> \"/Users/keenan/Data/simim_resources/simulations/TNG100-3-Dark/raw/groups_040/index.html.tmp\" [1]\n",
      "2024-02-29 01:05:27 URL:http://www.tng-project.org/users/login/ [5468/5468] -> \"/Users/keenan/Data/simim_resources/simulations/TNG100-3-Dark/raw/groups_040/index.html.tmp\" [1]\n",
      "2024-02-29 01:05:27 URL:http://www.tng-project.org/users/login/ [5468/5468] -> \"/Users/keenan/Data/simim_resources/simulations/TNG100-3-Dark/raw/groups_040/index.html.tmp\" [1]\n",
      "2024-02-29 01:05:27 URL:http://www.tng-project.org/api/?format=api [23499/23499] -> \"/Users/keenan/Data/simim_resources/simulations/TNG100-3-Dark/raw/groups_040/index.html?format=api.tmp\" [1]\n",
      "2024-02-29 01:05:27 URL:http://www.tng-project.org/api/TNG100-3-Dark/?format=api [10756/10756] -> \"/Users/keenan/Data/simim_resources/simulations/TNG100-3-Dark/raw/groups_040/index.html?format=api.tmp\" [1]\n",
      "2024-02-29 01:05:27 URL:http://www.tng-project.org/api/TNG100-3-Dark/files/?format=api [42579/42579] -> \"/Users/keenan/Data/simim_resources/simulations/TNG100-3-Dark/raw/groups_040/index.html?format=api.tmp\" [1]\n",
      "2024-02-29 01:05:27 URL:http://www.tng-project.org/api/TNG100-3-Dark/files/groupcat-40/?format=json [299/299] -> \"/Users/keenan/Data/simim_resources/simulations/TNG100-3-Dark/raw/groups_040/index.html?format=json.tmp\" [1]\n",
      "FINISHED --2024-02-29 01:05:28--\n",
      "Total wall clock time: 3.2s\n",
      "Downloaded: 15 files, 776K in 0.09s (8.25 MB/s)\n",
      "2024-02-29 01:05:29 URL:http://www.tng-project.org/api/TNG100-3-Dark/files/groupcat-41/?format=api [9164/9164] -> \"/Users/keenan/Data/simim_resources/simulations/TNG100-3-Dark/raw/groups_041/index.html?format=api.tmp\" [1]\n"
     ]
    },
    {
     "name": "stdout",
     "output_type": "stream",
     "text": [
      "\n",
      "Downloading Snapshot 41\n"
     ]
    },
    {
     "name": "stderr",
     "output_type": "stream",
     "text": [
      "2024-02-29 01:05:29 URL:http://www.tng-project.org/ [13013/13013] -> \"/Users/keenan/Data/simim_resources/simulations/TNG100-3-Dark/raw/groups_041/index.html.tmp\" [1]\n",
      "2024-02-29 01:05:29 URL:http://www.tng-project.org/about/ [36929/36929] -> \"/Users/keenan/Data/simim_resources/simulations/TNG100-3-Dark/raw/groups_041/index.html.tmp\" [1]\n",
      "2024-02-29 01:05:29 URL:http://www.tng-project.org/people/ [13267/13267] -> \"/Users/keenan/Data/simim_resources/simulations/TNG100-3-Dark/raw/groups_041/index.html.tmp\" [1]\n",
      "2024-02-29 01:05:29 URL:http://www.tng-project.org/results/ [484900/484900] -> \"/Users/keenan/Data/simim_resources/simulations/TNG100-3-Dark/raw/groups_041/index.html.tmp\" [1]\n",
      "2024-02-29 01:05:29 URL:http://www.tng-project.org/media/ [59010/59010] -> \"/Users/keenan/Data/simim_resources/simulations/TNG100-3-Dark/raw/groups_041/index.html.tmp\" [1]\n",
      "2024-02-29 01:05:29 URL:http://www.tng-project.org/data/ [43902/43902] -> \"/Users/keenan/Data/simim_resources/simulations/TNG100-3-Dark/raw/groups_041/index.html.tmp\" [1]\n",
      "2024-02-29 01:05:30 URL:http://www.tng-project.org/explore/ [3989/3989] -> \"/Users/keenan/Data/simim_resources/simulations/TNG100-3-Dark/raw/groups_041/index.html.tmp\" [1]\n",
      "2024-02-29 01:05:30 URL:http://www.tng-project.org/cluster/ [42614/42614] -> \"/Users/keenan/Data/simim_resources/simulations/TNG100-3-Dark/raw/groups_041/index.html.tmp\" [1]\n",
      "2024-02-29 01:05:30 URL:http://www.tng-project.org/users/login/ [5468/5468] -> \"/Users/keenan/Data/simim_resources/simulations/TNG100-3-Dark/raw/groups_041/index.html.tmp\" [1]\n",
      "2024-02-29 01:05:30 URL:http://www.tng-project.org/users/login/ [5468/5468] -> \"/Users/keenan/Data/simim_resources/simulations/TNG100-3-Dark/raw/groups_041/index.html.tmp\" [1]\n",
      "2024-02-29 01:05:30 URL:http://www.tng-project.org/api/?format=api [23499/23499] -> \"/Users/keenan/Data/simim_resources/simulations/TNG100-3-Dark/raw/groups_041/index.html?format=api.tmp\" [1]\n",
      "2024-02-29 01:05:30 URL:http://www.tng-project.org/api/TNG100-3-Dark/?format=api [10756/10756] -> \"/Users/keenan/Data/simim_resources/simulations/TNG100-3-Dark/raw/groups_041/index.html?format=api.tmp\" [1]\n",
      "2024-02-29 01:05:30 URL:http://www.tng-project.org/api/TNG100-3-Dark/files/?format=api [42579/42579] -> \"/Users/keenan/Data/simim_resources/simulations/TNG100-3-Dark/raw/groups_041/index.html?format=api.tmp\" [1]\n",
      "2024-02-29 01:05:30 URL:http://www.tng-project.org/api/TNG100-3-Dark/files/groupcat-41/?format=json [299/299] -> \"/Users/keenan/Data/simim_resources/simulations/TNG100-3-Dark/raw/groups_041/index.html?format=json.tmp\" [1]\n",
      "FINISHED --2024-02-29 01:05:32--\n",
      "Total wall clock time: 3.1s\n",
      "Downloaded: 15 files, 776K in 0.09s (8.13 MB/s)\n"
     ]
    },
    {
     "name": "stdout",
     "output_type": "stream",
     "text": [
      "\n",
      "Downloading Snapshot 42\n"
     ]
    },
    {
     "name": "stderr",
     "output_type": "stream",
     "text": [
      "2024-02-29 01:05:32 URL:http://www.tng-project.org/api/TNG100-3-Dark/files/groupcat-42/?format=api [9164/9164] -> \"/Users/keenan/Data/simim_resources/simulations/TNG100-3-Dark/raw/groups_042/index.html?format=api.tmp\" [1]\n",
      "2024-02-29 01:05:32 URL:http://www.tng-project.org/ [13013/13013] -> \"/Users/keenan/Data/simim_resources/simulations/TNG100-3-Dark/raw/groups_042/index.html.tmp\" [1]\n",
      "2024-02-29 01:05:32 URL:http://www.tng-project.org/about/ [36929/36929] -> \"/Users/keenan/Data/simim_resources/simulations/TNG100-3-Dark/raw/groups_042/index.html.tmp\" [1]\n",
      "2024-02-29 01:05:32 URL:http://www.tng-project.org/people/ [13267/13267] -> \"/Users/keenan/Data/simim_resources/simulations/TNG100-3-Dark/raw/groups_042/index.html.tmp\" [1]\n",
      "2024-02-29 01:05:32 URL:http://www.tng-project.org/results/ [484900/484900] -> \"/Users/keenan/Data/simim_resources/simulations/TNG100-3-Dark/raw/groups_042/index.html.tmp\" [1]\n",
      "2024-02-29 01:05:32 URL:http://www.tng-project.org/media/ [59010/59010] -> \"/Users/keenan/Data/simim_resources/simulations/TNG100-3-Dark/raw/groups_042/index.html.tmp\" [1]\n",
      "2024-02-29 01:05:33 URL:http://www.tng-project.org/data/ [43902/43902] -> \"/Users/keenan/Data/simim_resources/simulations/TNG100-3-Dark/raw/groups_042/index.html.tmp\" [1]\n",
      "2024-02-29 01:05:33 URL:http://www.tng-project.org/explore/ [3989/3989] -> \"/Users/keenan/Data/simim_resources/simulations/TNG100-3-Dark/raw/groups_042/index.html.tmp\" [1]\n",
      "2024-02-29 01:05:33 URL:http://www.tng-project.org/cluster/ [42614/42614] -> \"/Users/keenan/Data/simim_resources/simulations/TNG100-3-Dark/raw/groups_042/index.html.tmp\" [1]\n",
      "2024-02-29 01:05:33 URL:http://www.tng-project.org/users/login/ [5468/5468] -> \"/Users/keenan/Data/simim_resources/simulations/TNG100-3-Dark/raw/groups_042/index.html.tmp\" [1]\n",
      "2024-02-29 01:05:33 URL:http://www.tng-project.org/users/login/ [5468/5468] -> \"/Users/keenan/Data/simim_resources/simulations/TNG100-3-Dark/raw/groups_042/index.html.tmp\" [1]\n",
      "2024-02-29 01:05:33 URL:http://www.tng-project.org/api/?format=api [23499/23499] -> \"/Users/keenan/Data/simim_resources/simulations/TNG100-3-Dark/raw/groups_042/index.html?format=api.tmp\" [1]\n",
      "2024-02-29 01:05:33 URL:http://www.tng-project.org/api/TNG100-3-Dark/?format=api [10756/10756] -> \"/Users/keenan/Data/simim_resources/simulations/TNG100-3-Dark/raw/groups_042/index.html?format=api.tmp\" [1]\n",
      "2024-02-29 01:05:33 URL:http://www.tng-project.org/api/TNG100-3-Dark/files/?format=api [42579/42579] -> \"/Users/keenan/Data/simim_resources/simulations/TNG100-3-Dark/raw/groups_042/index.html?format=api.tmp\" [1]\n",
      "2024-02-29 01:05:33 URL:http://www.tng-project.org/api/TNG100-3-Dark/files/groupcat-42/?format=json [299/299] -> \"/Users/keenan/Data/simim_resources/simulations/TNG100-3-Dark/raw/groups_042/index.html?format=json.tmp\" [1]\n",
      "FINISHED --2024-02-29 01:05:35--\n",
      "Total wall clock time: 3.0s\n",
      "Downloaded: 15 files, 776K in 0.09s (8.02 MB/s)\n"
     ]
    },
    {
     "name": "stdout",
     "output_type": "stream",
     "text": [
      "\n",
      "Downloading Snapshot 43\n"
     ]
    },
    {
     "name": "stderr",
     "output_type": "stream",
     "text": [
      "2024-02-29 01:05:35 URL:http://www.tng-project.org/api/TNG100-3-Dark/files/groupcat-43/?format=api [9164/9164] -> \"/Users/keenan/Data/simim_resources/simulations/TNG100-3-Dark/raw/groups_043/index.html?format=api.tmp\" [1]\n",
      "2024-02-29 01:05:35 URL:http://www.tng-project.org/ [13013/13013] -> \"/Users/keenan/Data/simim_resources/simulations/TNG100-3-Dark/raw/groups_043/index.html.tmp\" [1]\n",
      "2024-02-29 01:05:35 URL:http://www.tng-project.org/about/ [36929/36929] -> \"/Users/keenan/Data/simim_resources/simulations/TNG100-3-Dark/raw/groups_043/index.html.tmp\" [1]\n",
      "2024-02-29 01:05:35 URL:http://www.tng-project.org/people/ [13273/13273] -> \"/Users/keenan/Data/simim_resources/simulations/TNG100-3-Dark/raw/groups_043/index.html.tmp\" [1]\n",
      "2024-02-29 01:05:35 URL:http://www.tng-project.org/results/ [484900/484900] -> \"/Users/keenan/Data/simim_resources/simulations/TNG100-3-Dark/raw/groups_043/index.html.tmp\" [1]\n",
      "2024-02-29 01:05:35 URL:http://www.tng-project.org/media/ [59010/59010] -> \"/Users/keenan/Data/simim_resources/simulations/TNG100-3-Dark/raw/groups_043/index.html.tmp\" [1]\n",
      "2024-02-29 01:05:36 URL:http://www.tng-project.org/data/ [43902/43902] -> \"/Users/keenan/Data/simim_resources/simulations/TNG100-3-Dark/raw/groups_043/index.html.tmp\" [1]\n",
      "2024-02-29 01:05:36 URL:http://www.tng-project.org/explore/ [3989/3989] -> \"/Users/keenan/Data/simim_resources/simulations/TNG100-3-Dark/raw/groups_043/index.html.tmp\" [1]\n",
      "2024-02-29 01:05:36 URL:http://www.tng-project.org/cluster/ [42614/42614] -> \"/Users/keenan/Data/simim_resources/simulations/TNG100-3-Dark/raw/groups_043/index.html.tmp\" [1]\n",
      "2024-02-29 01:05:36 URL:http://www.tng-project.org/users/login/ [5468/5468] -> \"/Users/keenan/Data/simim_resources/simulations/TNG100-3-Dark/raw/groups_043/index.html.tmp\" [1]\n",
      "2024-02-29 01:05:36 URL:http://www.tng-project.org/users/login/ [5468/5468] -> \"/Users/keenan/Data/simim_resources/simulations/TNG100-3-Dark/raw/groups_043/index.html.tmp\" [1]\n",
      "2024-02-29 01:05:36 URL:http://www.tng-project.org/api/?format=api [23499/23499] -> \"/Users/keenan/Data/simim_resources/simulations/TNG100-3-Dark/raw/groups_043/index.html?format=api.tmp\" [1]\n",
      "2024-02-29 01:05:36 URL:http://www.tng-project.org/api/TNG100-3-Dark/?format=api [10756/10756] -> \"/Users/keenan/Data/simim_resources/simulations/TNG100-3-Dark/raw/groups_043/index.html?format=api.tmp\" [1]\n",
      "2024-02-29 01:05:36 URL:http://www.tng-project.org/api/TNG100-3-Dark/files/?format=api [42579/42579] -> \"/Users/keenan/Data/simim_resources/simulations/TNG100-3-Dark/raw/groups_043/index.html?format=api.tmp\" [1]\n",
      "2024-02-29 01:05:36 URL:http://www.tng-project.org/api/TNG100-3-Dark/files/groupcat-43/?format=json [299/299] -> \"/Users/keenan/Data/simim_resources/simulations/TNG100-3-Dark/raw/groups_043/index.html?format=json.tmp\" [1]\n",
      "FINISHED --2024-02-29 01:05:38--\n",
      "Total wall clock time: 3.0s\n",
      "Downloaded: 15 files, 776K in 0.1s (6.80 MB/s)\n"
     ]
    },
    {
     "name": "stdout",
     "output_type": "stream",
     "text": [
      "\n",
      "Downloading Snapshot 44\n"
     ]
    },
    {
     "name": "stderr",
     "output_type": "stream",
     "text": [
      "2024-02-29 01:05:38 URL:http://www.tng-project.org/api/TNG100-3-Dark/files/groupcat-44/?format=api [9164/9164] -> \"/Users/keenan/Data/simim_resources/simulations/TNG100-3-Dark/raw/groups_044/index.html?format=api.tmp\" [1]\n",
      "2024-02-29 01:05:38 URL:http://www.tng-project.org/ [13013/13013] -> \"/Users/keenan/Data/simim_resources/simulations/TNG100-3-Dark/raw/groups_044/index.html.tmp\" [1]\n",
      "2024-02-29 01:05:38 URL:http://www.tng-project.org/about/ [36929/36929] -> \"/Users/keenan/Data/simim_resources/simulations/TNG100-3-Dark/raw/groups_044/index.html.tmp\" [1]\n",
      "2024-02-29 01:05:38 URL:http://www.tng-project.org/people/ [13267/13267] -> \"/Users/keenan/Data/simim_resources/simulations/TNG100-3-Dark/raw/groups_044/index.html.tmp\" [1]\n",
      "2024-02-29 01:05:38 URL:http://www.tng-project.org/results/ [484900/484900] -> \"/Users/keenan/Data/simim_resources/simulations/TNG100-3-Dark/raw/groups_044/index.html.tmp\" [1]\n",
      "2024-02-29 01:05:38 URL:http://www.tng-project.org/media/ [59010/59010] -> \"/Users/keenan/Data/simim_resources/simulations/TNG100-3-Dark/raw/groups_044/index.html.tmp\" [1]\n",
      "2024-02-29 01:05:39 URL:http://www.tng-project.org/data/ [43902/43902] -> \"/Users/keenan/Data/simim_resources/simulations/TNG100-3-Dark/raw/groups_044/index.html.tmp\" [1]\n",
      "2024-02-29 01:05:39 URL:http://www.tng-project.org/explore/ [3989/3989] -> \"/Users/keenan/Data/simim_resources/simulations/TNG100-3-Dark/raw/groups_044/index.html.tmp\" [1]\n",
      "2024-02-29 01:05:39 URL:http://www.tng-project.org/cluster/ [42614/42614] -> \"/Users/keenan/Data/simim_resources/simulations/TNG100-3-Dark/raw/groups_044/index.html.tmp\" [1]\n",
      "2024-02-29 01:05:39 URL:http://www.tng-project.org/users/login/ [5468/5468] -> \"/Users/keenan/Data/simim_resources/simulations/TNG100-3-Dark/raw/groups_044/index.html.tmp\" [1]\n",
      "2024-02-29 01:05:39 URL:http://www.tng-project.org/users/login/ [5468/5468] -> \"/Users/keenan/Data/simim_resources/simulations/TNG100-3-Dark/raw/groups_044/index.html.tmp\" [1]\n",
      "2024-02-29 01:05:39 URL:http://www.tng-project.org/api/?format=api [23499/23499] -> \"/Users/keenan/Data/simim_resources/simulations/TNG100-3-Dark/raw/groups_044/index.html?format=api.tmp\" [1]\n",
      "2024-02-29 01:05:39 URL:http://www.tng-project.org/api/TNG100-3-Dark/?format=api [10756/10756] -> \"/Users/keenan/Data/simim_resources/simulations/TNG100-3-Dark/raw/groups_044/index.html?format=api.tmp\" [1]\n",
      "2024-02-29 01:05:39 URL:http://www.tng-project.org/api/TNG100-3-Dark/files/?format=api [42579/42579] -> \"/Users/keenan/Data/simim_resources/simulations/TNG100-3-Dark/raw/groups_044/index.html?format=api.tmp\" [1]\n",
      "2024-02-29 01:05:40 URL:http://www.tng-project.org/api/TNG100-3-Dark/files/groupcat-44/?format=json [299/299] -> \"/Users/keenan/Data/simim_resources/simulations/TNG100-3-Dark/raw/groups_044/index.html?format=json.tmp\" [1]\n",
      "FINISHED --2024-02-29 01:05:41--\n",
      "Total wall clock time: 3.2s\n",
      "Downloaded: 15 files, 776K in 0.09s (8.56 MB/s)\n"
     ]
    },
    {
     "name": "stdout",
     "output_type": "stream",
     "text": [
      "\n",
      "Downloading Snapshot 45\n"
     ]
    },
    {
     "name": "stderr",
     "output_type": "stream",
     "text": [
      "2024-02-29 01:05:41 URL:http://www.tng-project.org/api/TNG100-3-Dark/files/groupcat-45/?format=api [9164/9164] -> \"/Users/keenan/Data/simim_resources/simulations/TNG100-3-Dark/raw/groups_045/index.html?format=api.tmp\" [1]\n",
      "2024-02-29 01:05:41 URL:http://www.tng-project.org/ [13013/13013] -> \"/Users/keenan/Data/simim_resources/simulations/TNG100-3-Dark/raw/groups_045/index.html.tmp\" [1]\n",
      "2024-02-29 01:05:41 URL:http://www.tng-project.org/about/ [36929/36929] -> \"/Users/keenan/Data/simim_resources/simulations/TNG100-3-Dark/raw/groups_045/index.html.tmp\" [1]\n",
      "2024-02-29 01:05:41 URL:http://www.tng-project.org/people/ [13273/13273] -> \"/Users/keenan/Data/simim_resources/simulations/TNG100-3-Dark/raw/groups_045/index.html.tmp\" [1]\n",
      "2024-02-29 01:05:42 URL:http://www.tng-project.org/results/ [484900/484900] -> \"/Users/keenan/Data/simim_resources/simulations/TNG100-3-Dark/raw/groups_045/index.html.tmp\" [1]\n",
      "2024-02-29 01:05:42 URL:http://www.tng-project.org/media/ [59010/59010] -> \"/Users/keenan/Data/simim_resources/simulations/TNG100-3-Dark/raw/groups_045/index.html.tmp\" [1]\n",
      "2024-02-29 01:05:42 URL:http://www.tng-project.org/data/ [43902/43902] -> \"/Users/keenan/Data/simim_resources/simulations/TNG100-3-Dark/raw/groups_045/index.html.tmp\" [1]\n",
      "2024-02-29 01:05:42 URL:http://www.tng-project.org/explore/ [3989/3989] -> \"/Users/keenan/Data/simim_resources/simulations/TNG100-3-Dark/raw/groups_045/index.html.tmp\" [1]\n",
      "2024-02-29 01:05:42 URL:http://www.tng-project.org/cluster/ [42614/42614] -> \"/Users/keenan/Data/simim_resources/simulations/TNG100-3-Dark/raw/groups_045/index.html.tmp\" [1]\n",
      "2024-02-29 01:05:42 URL:http://www.tng-project.org/users/login/ [5468/5468] -> \"/Users/keenan/Data/simim_resources/simulations/TNG100-3-Dark/raw/groups_045/index.html.tmp\" [1]\n",
      "2024-02-29 01:05:42 URL:http://www.tng-project.org/users/login/ [5468/5468] -> \"/Users/keenan/Data/simim_resources/simulations/TNG100-3-Dark/raw/groups_045/index.html.tmp\" [1]\n",
      "2024-02-29 01:05:42 URL:http://www.tng-project.org/api/?format=api [23499/23499] -> \"/Users/keenan/Data/simim_resources/simulations/TNG100-3-Dark/raw/groups_045/index.html?format=api.tmp\" [1]\n",
      "2024-02-29 01:05:42 URL:http://www.tng-project.org/api/TNG100-3-Dark/?format=api [10756/10756] -> \"/Users/keenan/Data/simim_resources/simulations/TNG100-3-Dark/raw/groups_045/index.html?format=api.tmp\" [1]\n",
      "2024-02-29 01:05:43 URL:http://www.tng-project.org/api/TNG100-3-Dark/files/?format=api [42579/42579] -> \"/Users/keenan/Data/simim_resources/simulations/TNG100-3-Dark/raw/groups_045/index.html?format=api.tmp\" [1]\n",
      "2024-02-29 01:05:43 URL:http://www.tng-project.org/api/TNG100-3-Dark/files/groupcat-45/?format=json [299/299] -> \"/Users/keenan/Data/simim_resources/simulations/TNG100-3-Dark/raw/groups_045/index.html?format=json.tmp\" [1]\n",
      "FINISHED --2024-02-29 01:05:44--\n",
      "Total wall clock time: 3.2s\n",
      "Downloaded: 15 files, 776K in 0.2s (4.96 MB/s)\n"
     ]
    },
    {
     "name": "stdout",
     "output_type": "stream",
     "text": [
      "\n",
      "Downloading Snapshot 46\n"
     ]
    },
    {
     "name": "stderr",
     "output_type": "stream",
     "text": [
      "2024-02-29 01:05:44 URL:http://www.tng-project.org/api/TNG100-3-Dark/files/groupcat-46/?format=api [9164/9164] -> \"/Users/keenan/Data/simim_resources/simulations/TNG100-3-Dark/raw/groups_046/index.html?format=api.tmp\" [1]\n",
      "2024-02-29 01:05:44 URL:http://www.tng-project.org/ [13013/13013] -> \"/Users/keenan/Data/simim_resources/simulations/TNG100-3-Dark/raw/groups_046/index.html.tmp\" [1]\n",
      "2024-02-29 01:05:44 URL:http://www.tng-project.org/about/ [36929/36929] -> \"/Users/keenan/Data/simim_resources/simulations/TNG100-3-Dark/raw/groups_046/index.html.tmp\" [1]\n",
      "2024-02-29 01:05:44 URL:http://www.tng-project.org/people/ [13267/13267] -> \"/Users/keenan/Data/simim_resources/simulations/TNG100-3-Dark/raw/groups_046/index.html.tmp\" [1]\n",
      "2024-02-29 01:05:45 URL:http://www.tng-project.org/results/ [484900/484900] -> \"/Users/keenan/Data/simim_resources/simulations/TNG100-3-Dark/raw/groups_046/index.html.tmp\" [1]\n",
      "2024-02-29 01:05:45 URL:http://www.tng-project.org/media/ [59010/59010] -> \"/Users/keenan/Data/simim_resources/simulations/TNG100-3-Dark/raw/groups_046/index.html.tmp\" [1]\n",
      "2024-02-29 01:05:45 URL:http://www.tng-project.org/data/ [43902/43902] -> \"/Users/keenan/Data/simim_resources/simulations/TNG100-3-Dark/raw/groups_046/index.html.tmp\" [1]\n",
      "2024-02-29 01:05:45 URL:http://www.tng-project.org/explore/ [3989/3989] -> \"/Users/keenan/Data/simim_resources/simulations/TNG100-3-Dark/raw/groups_046/index.html.tmp\" [1]\n",
      "2024-02-29 01:05:45 URL:http://www.tng-project.org/cluster/ [42614/42614] -> \"/Users/keenan/Data/simim_resources/simulations/TNG100-3-Dark/raw/groups_046/index.html.tmp\" [1]\n",
      "2024-02-29 01:05:45 URL:http://www.tng-project.org/users/login/ [5468/5468] -> \"/Users/keenan/Data/simim_resources/simulations/TNG100-3-Dark/raw/groups_046/index.html.tmp\" [1]\n",
      "2024-02-29 01:05:45 URL:http://www.tng-project.org/users/login/ [5468/5468] -> \"/Users/keenan/Data/simim_resources/simulations/TNG100-3-Dark/raw/groups_046/index.html.tmp\" [1]\n",
      "2024-02-29 01:05:45 URL:http://www.tng-project.org/api/?format=api [23499/23499] -> \"/Users/keenan/Data/simim_resources/simulations/TNG100-3-Dark/raw/groups_046/index.html?format=api.tmp\" [1]\n",
      "2024-02-29 01:05:46 URL:http://www.tng-project.org/api/TNG100-3-Dark/?format=api [10756/10756] -> \"/Users/keenan/Data/simim_resources/simulations/TNG100-3-Dark/raw/groups_046/index.html?format=api.tmp\" [1]\n",
      "2024-02-29 01:05:46 URL:http://www.tng-project.org/api/TNG100-3-Dark/files/?format=api [42579/42579] -> \"/Users/keenan/Data/simim_resources/simulations/TNG100-3-Dark/raw/groups_046/index.html?format=api.tmp\" [1]\n",
      "2024-02-29 01:05:46 URL:http://www.tng-project.org/api/TNG100-3-Dark/files/groupcat-46/?format=json [299/299] -> \"/Users/keenan/Data/simim_resources/simulations/TNG100-3-Dark/raw/groups_046/index.html?format=json.tmp\" [1]\n",
      "FINISHED --2024-02-29 01:05:47--\n",
      "Total wall clock time: 3.0s\n",
      "Downloaded: 15 files, 776K in 0.09s (8.33 MB/s)\n"
     ]
    },
    {
     "name": "stdout",
     "output_type": "stream",
     "text": [
      "\n",
      "Downloading Snapshot 47\n"
     ]
    },
    {
     "name": "stderr",
     "output_type": "stream",
     "text": [
      "2024-02-29 01:05:47 URL:http://www.tng-project.org/api/TNG100-3-Dark/files/groupcat-47/?format=api [9164/9164] -> \"/Users/keenan/Data/simim_resources/simulations/TNG100-3-Dark/raw/groups_047/index.html?format=api.tmp\" [1]\n",
      "2024-02-29 01:05:47 URL:http://www.tng-project.org/ [13013/13013] -> \"/Users/keenan/Data/simim_resources/simulations/TNG100-3-Dark/raw/groups_047/index.html.tmp\" [1]\n",
      "2024-02-29 01:05:47 URL:http://www.tng-project.org/about/ [36929/36929] -> \"/Users/keenan/Data/simim_resources/simulations/TNG100-3-Dark/raw/groups_047/index.html.tmp\" [1]\n",
      "2024-02-29 01:05:47 URL:http://www.tng-project.org/people/ [13267/13267] -> \"/Users/keenan/Data/simim_resources/simulations/TNG100-3-Dark/raw/groups_047/index.html.tmp\" [1]\n",
      "2024-02-29 01:05:48 URL:http://www.tng-project.org/results/ [484900/484900] -> \"/Users/keenan/Data/simim_resources/simulations/TNG100-3-Dark/raw/groups_047/index.html.tmp\" [1]\n",
      "2024-02-29 01:05:48 URL:http://www.tng-project.org/media/ [59010/59010] -> \"/Users/keenan/Data/simim_resources/simulations/TNG100-3-Dark/raw/groups_047/index.html.tmp\" [1]\n",
      "2024-02-29 01:05:48 URL:http://www.tng-project.org/data/ [43902/43902] -> \"/Users/keenan/Data/simim_resources/simulations/TNG100-3-Dark/raw/groups_047/index.html.tmp\" [1]\n",
      "2024-02-29 01:05:48 URL:http://www.tng-project.org/explore/ [3989/3989] -> \"/Users/keenan/Data/simim_resources/simulations/TNG100-3-Dark/raw/groups_047/index.html.tmp\" [1]\n",
      "2024-02-29 01:05:48 URL:http://www.tng-project.org/cluster/ [42614/42614] -> \"/Users/keenan/Data/simim_resources/simulations/TNG100-3-Dark/raw/groups_047/index.html.tmp\" [1]\n",
      "2024-02-29 01:05:48 URL:http://www.tng-project.org/users/login/ [5468/5468] -> \"/Users/keenan/Data/simim_resources/simulations/TNG100-3-Dark/raw/groups_047/index.html.tmp\" [1]\n",
      "2024-02-29 01:05:48 URL:http://www.tng-project.org/users/login/ [5468/5468] -> \"/Users/keenan/Data/simim_resources/simulations/TNG100-3-Dark/raw/groups_047/index.html.tmp\" [1]\n",
      "2024-02-29 01:05:49 URL:http://www.tng-project.org/api/?format=api [23499/23499] -> \"/Users/keenan/Data/simim_resources/simulations/TNG100-3-Dark/raw/groups_047/index.html?format=api.tmp\" [1]\n",
      "2024-02-29 01:05:49 URL:http://www.tng-project.org/api/TNG100-3-Dark/?format=api [10756/10756] -> \"/Users/keenan/Data/simim_resources/simulations/TNG100-3-Dark/raw/groups_047/index.html?format=api.tmp\" [1]\n",
      "2024-02-29 01:05:49 URL:http://www.tng-project.org/api/TNG100-3-Dark/files/?format=api [42579/42579] -> \"/Users/keenan/Data/simim_resources/simulations/TNG100-3-Dark/raw/groups_047/index.html?format=api.tmp\" [1]\n",
      "2024-02-29 01:05:49 URL:http://www.tng-project.org/api/TNG100-3-Dark/files/groupcat-47/?format=json [299/299] -> \"/Users/keenan/Data/simim_resources/simulations/TNG100-3-Dark/raw/groups_047/index.html?format=json.tmp\" [1]\n",
      "FINISHED --2024-02-29 01:05:50--\n",
      "Total wall clock time: 3.2s\n",
      "Downloaded: 15 files, 776K in 0.1s (7.05 MB/s)\n"
     ]
    },
    {
     "name": "stdout",
     "output_type": "stream",
     "text": [
      "\n",
      "Downloading Snapshot 48\n"
     ]
    },
    {
     "name": "stderr",
     "output_type": "stream",
     "text": [
      "2024-02-29 01:05:50 URL:http://www.tng-project.org/api/TNG100-3-Dark/files/groupcat-48/?format=api [9164/9164] -> \"/Users/keenan/Data/simim_resources/simulations/TNG100-3-Dark/raw/groups_048/index.html?format=api.tmp\" [1]\n",
      "2024-02-29 01:05:51 URL:http://www.tng-project.org/ [13013/13013] -> \"/Users/keenan/Data/simim_resources/simulations/TNG100-3-Dark/raw/groups_048/index.html.tmp\" [1]\n",
      "2024-02-29 01:05:51 URL:http://www.tng-project.org/about/ [36929/36929] -> \"/Users/keenan/Data/simim_resources/simulations/TNG100-3-Dark/raw/groups_048/index.html.tmp\" [1]\n",
      "2024-02-29 01:05:51 URL:http://www.tng-project.org/people/ [13273/13273] -> \"/Users/keenan/Data/simim_resources/simulations/TNG100-3-Dark/raw/groups_048/index.html.tmp\" [1]\n",
      "2024-02-29 01:05:51 URL:http://www.tng-project.org/results/ [484900/484900] -> \"/Users/keenan/Data/simim_resources/simulations/TNG100-3-Dark/raw/groups_048/index.html.tmp\" [1]\n",
      "2024-02-29 01:05:51 URL:http://www.tng-project.org/media/ [59010/59010] -> \"/Users/keenan/Data/simim_resources/simulations/TNG100-3-Dark/raw/groups_048/index.html.tmp\" [1]\n",
      "2024-02-29 01:05:51 URL:http://www.tng-project.org/data/ [43902/43902] -> \"/Users/keenan/Data/simim_resources/simulations/TNG100-3-Dark/raw/groups_048/index.html.tmp\" [1]\n",
      "2024-02-29 01:05:51 URL:http://www.tng-project.org/explore/ [3989/3989] -> \"/Users/keenan/Data/simim_resources/simulations/TNG100-3-Dark/raw/groups_048/index.html.tmp\" [1]\n",
      "2024-02-29 01:05:51 URL:http://www.tng-project.org/cluster/ [42614/42614] -> \"/Users/keenan/Data/simim_resources/simulations/TNG100-3-Dark/raw/groups_048/index.html.tmp\" [1]\n",
      "2024-02-29 01:05:52 URL:http://www.tng-project.org/users/login/ [5468/5468] -> \"/Users/keenan/Data/simim_resources/simulations/TNG100-3-Dark/raw/groups_048/index.html.tmp\" [1]\n",
      "2024-02-29 01:05:52 URL:http://www.tng-project.org/users/login/ [5468/5468] -> \"/Users/keenan/Data/simim_resources/simulations/TNG100-3-Dark/raw/groups_048/index.html.tmp\" [1]\n",
      "2024-02-29 01:05:52 URL:http://www.tng-project.org/api/?format=api [23499/23499] -> \"/Users/keenan/Data/simim_resources/simulations/TNG100-3-Dark/raw/groups_048/index.html?format=api.tmp\" [1]\n",
      "2024-02-29 01:05:52 URL:http://www.tng-project.org/api/TNG100-3-Dark/?format=api [10756/10756] -> \"/Users/keenan/Data/simim_resources/simulations/TNG100-3-Dark/raw/groups_048/index.html?format=api.tmp\" [1]\n",
      "2024-02-29 01:05:52 URL:http://www.tng-project.org/api/TNG100-3-Dark/files/?format=api [42579/42579] -> \"/Users/keenan/Data/simim_resources/simulations/TNG100-3-Dark/raw/groups_048/index.html?format=api.tmp\" [1]\n",
      "2024-02-29 01:05:52 URL:http://www.tng-project.org/api/TNG100-3-Dark/files/groupcat-48/?format=json [299/299] -> \"/Users/keenan/Data/simim_resources/simulations/TNG100-3-Dark/raw/groups_048/index.html?format=json.tmp\" [1]\n",
      "FINISHED --2024-02-29 01:05:53--\n",
      "Total wall clock time: 3.2s\n",
      "Downloaded: 15 files, 776K in 0.09s (8.00 MB/s)\n"
     ]
    },
    {
     "name": "stdout",
     "output_type": "stream",
     "text": [
      "\n",
      "Downloading Snapshot 49\n"
     ]
    },
    {
     "name": "stderr",
     "output_type": "stream",
     "text": [
      "2024-02-29 01:05:54 URL:http://www.tng-project.org/api/TNG100-3-Dark/files/groupcat-49/?format=api [9164/9164] -> \"/Users/keenan/Data/simim_resources/simulations/TNG100-3-Dark/raw/groups_049/index.html?format=api.tmp\" [1]\n",
      "2024-02-29 01:05:54 URL:http://www.tng-project.org/ [13013/13013] -> \"/Users/keenan/Data/simim_resources/simulations/TNG100-3-Dark/raw/groups_049/index.html.tmp\" [1]\n",
      "2024-02-29 01:05:54 URL:http://www.tng-project.org/about/ [36929/36929] -> \"/Users/keenan/Data/simim_resources/simulations/TNG100-3-Dark/raw/groups_049/index.html.tmp\" [1]\n",
      "2024-02-29 01:05:54 URL:http://www.tng-project.org/people/ [13267/13267] -> \"/Users/keenan/Data/simim_resources/simulations/TNG100-3-Dark/raw/groups_049/index.html.tmp\" [1]\n",
      "2024-02-29 01:05:54 URL:http://www.tng-project.org/results/ [484900/484900] -> \"/Users/keenan/Data/simim_resources/simulations/TNG100-3-Dark/raw/groups_049/index.html.tmp\" [1]\n",
      "2024-02-29 01:05:54 URL:http://www.tng-project.org/media/ [59010/59010] -> \"/Users/keenan/Data/simim_resources/simulations/TNG100-3-Dark/raw/groups_049/index.html.tmp\" [1]\n",
      "2024-02-29 01:05:54 URL:http://www.tng-project.org/data/ [43902/43902] -> \"/Users/keenan/Data/simim_resources/simulations/TNG100-3-Dark/raw/groups_049/index.html.tmp\" [1]\n",
      "2024-02-29 01:05:55 URL:http://www.tng-project.org/explore/ [3989/3989] -> \"/Users/keenan/Data/simim_resources/simulations/TNG100-3-Dark/raw/groups_049/index.html.tmp\" [1]\n",
      "2024-02-29 01:05:55 URL:http://www.tng-project.org/cluster/ [42614/42614] -> \"/Users/keenan/Data/simim_resources/simulations/TNG100-3-Dark/raw/groups_049/index.html.tmp\" [1]\n",
      "2024-02-29 01:05:55 URL:http://www.tng-project.org/users/login/ [5468/5468] -> \"/Users/keenan/Data/simim_resources/simulations/TNG100-3-Dark/raw/groups_049/index.html.tmp\" [1]\n",
      "2024-02-29 01:05:55 URL:http://www.tng-project.org/users/login/ [5468/5468] -> \"/Users/keenan/Data/simim_resources/simulations/TNG100-3-Dark/raw/groups_049/index.html.tmp\" [1]\n",
      "2024-02-29 01:05:55 URL:http://www.tng-project.org/api/?format=api [23499/23499] -> \"/Users/keenan/Data/simim_resources/simulations/TNG100-3-Dark/raw/groups_049/index.html?format=api.tmp\" [1]\n",
      "2024-02-29 01:05:55 URL:http://www.tng-project.org/api/TNG100-3-Dark/?format=api [10756/10756] -> \"/Users/keenan/Data/simim_resources/simulations/TNG100-3-Dark/raw/groups_049/index.html?format=api.tmp\" [1]\n",
      "2024-02-29 01:05:55 URL:http://www.tng-project.org/api/TNG100-3-Dark/files/?format=api [42579/42579] -> \"/Users/keenan/Data/simim_resources/simulations/TNG100-3-Dark/raw/groups_049/index.html?format=api.tmp\" [1]\n",
      "2024-02-29 01:05:55 URL:http://www.tng-project.org/api/TNG100-3-Dark/files/groupcat-49/?format=json [299/299] -> \"/Users/keenan/Data/simim_resources/simulations/TNG100-3-Dark/raw/groups_049/index.html?format=json.tmp\" [1]\n",
      "FINISHED --2024-02-29 01:05:57--\n",
      "Total wall clock time: 3.0s\n",
      "Downloaded: 15 files, 776K in 0.1s (5.50 MB/s)\n"
     ]
    },
    {
     "name": "stdout",
     "output_type": "stream",
     "text": [
      "\n",
      "Downloading Snapshot 50\n"
     ]
    },
    {
     "name": "stderr",
     "output_type": "stream",
     "text": [
      "2024-02-29 01:05:57 URL:http://www.tng-project.org/api/TNG100-3-Dark/files/groupcat-50/?format=api [9164/9164] -> \"/Users/keenan/Data/simim_resources/simulations/TNG100-3-Dark/raw/groups_050/index.html?format=api.tmp\" [1]\n",
      "2024-02-29 01:05:57 URL:http://www.tng-project.org/ [13013/13013] -> \"/Users/keenan/Data/simim_resources/simulations/TNG100-3-Dark/raw/groups_050/index.html.tmp\" [1]\n",
      "2024-02-29 01:05:57 URL:http://www.tng-project.org/about/ [36929/36929] -> \"/Users/keenan/Data/simim_resources/simulations/TNG100-3-Dark/raw/groups_050/index.html.tmp\" [1]\n",
      "2024-02-29 01:05:57 URL:http://www.tng-project.org/people/ [13268/13268] -> \"/Users/keenan/Data/simim_resources/simulations/TNG100-3-Dark/raw/groups_050/index.html.tmp\" [1]\n",
      "2024-02-29 01:05:57 URL:http://www.tng-project.org/results/ [484900/484900] -> \"/Users/keenan/Data/simim_resources/simulations/TNG100-3-Dark/raw/groups_050/index.html.tmp\" [1]\n",
      "2024-02-29 01:05:57 URL:http://www.tng-project.org/media/ [59010/59010] -> \"/Users/keenan/Data/simim_resources/simulations/TNG100-3-Dark/raw/groups_050/index.html.tmp\" [1]\n",
      "2024-02-29 01:05:58 URL:http://www.tng-project.org/data/ [43902/43902] -> \"/Users/keenan/Data/simim_resources/simulations/TNG100-3-Dark/raw/groups_050/index.html.tmp\" [1]\n",
      "2024-02-29 01:05:58 URL:http://www.tng-project.org/explore/ [3989/3989] -> \"/Users/keenan/Data/simim_resources/simulations/TNG100-3-Dark/raw/groups_050/index.html.tmp\" [1]\n",
      "2024-02-29 01:05:58 URL:http://www.tng-project.org/cluster/ [42614/42614] -> \"/Users/keenan/Data/simim_resources/simulations/TNG100-3-Dark/raw/groups_050/index.html.tmp\" [1]\n",
      "2024-02-29 01:05:58 URL:http://www.tng-project.org/users/login/ [5468/5468] -> \"/Users/keenan/Data/simim_resources/simulations/TNG100-3-Dark/raw/groups_050/index.html.tmp\" [1]\n",
      "2024-02-29 01:05:58 URL:http://www.tng-project.org/users/login/ [5468/5468] -> \"/Users/keenan/Data/simim_resources/simulations/TNG100-3-Dark/raw/groups_050/index.html.tmp\" [1]\n",
      "2024-02-29 01:05:58 URL:http://www.tng-project.org/api/?format=api [23499/23499] -> \"/Users/keenan/Data/simim_resources/simulations/TNG100-3-Dark/raw/groups_050/index.html?format=api.tmp\" [1]\n",
      "2024-02-29 01:05:58 URL:http://www.tng-project.org/api/TNG100-3-Dark/?format=api [10756/10756] -> \"/Users/keenan/Data/simim_resources/simulations/TNG100-3-Dark/raw/groups_050/index.html?format=api.tmp\" [1]\n",
      "2024-02-29 01:05:58 URL:http://www.tng-project.org/api/TNG100-3-Dark/files/?format=api [42579/42579] -> \"/Users/keenan/Data/simim_resources/simulations/TNG100-3-Dark/raw/groups_050/index.html?format=api.tmp\" [1]\n",
      "2024-02-29 01:05:58 URL:http://www.tng-project.org/api/TNG100-3-Dark/files/groupcat-50/?format=json [299/299] -> \"/Users/keenan/Data/simim_resources/simulations/TNG100-3-Dark/raw/groups_050/index.html?format=json.tmp\" [1]\n",
      "FINISHED --2024-02-29 01:05:59--\n",
      "Total wall clock time: 2.9s\n",
      "Downloaded: 15 files, 776K in 0.09s (8.04 MB/s)\n"
     ]
    },
    {
     "name": "stdout",
     "output_type": "stream",
     "text": [
      "\n",
      "Downloading Snapshot 51\n"
     ]
    },
    {
     "name": "stderr",
     "output_type": "stream",
     "text": [
      "2024-02-29 01:06:00 URL:http://www.tng-project.org/api/TNG100-3-Dark/files/groupcat-51/?format=api [9164/9164] -> \"/Users/keenan/Data/simim_resources/simulations/TNG100-3-Dark/raw/groups_051/index.html?format=api.tmp\" [1]\n",
      "2024-02-29 01:06:00 URL:http://www.tng-project.org/ [13013/13013] -> \"/Users/keenan/Data/simim_resources/simulations/TNG100-3-Dark/raw/groups_051/index.html.tmp\" [1]\n",
      "2024-02-29 01:06:00 URL:http://www.tng-project.org/about/ [36929/36929] -> \"/Users/keenan/Data/simim_resources/simulations/TNG100-3-Dark/raw/groups_051/index.html.tmp\" [1]\n",
      "2024-02-29 01:06:00 URL:http://www.tng-project.org/people/ [13273/13273] -> \"/Users/keenan/Data/simim_resources/simulations/TNG100-3-Dark/raw/groups_051/index.html.tmp\" [1]\n",
      "2024-02-29 01:06:00 URL:http://www.tng-project.org/results/ [484900/484900] -> \"/Users/keenan/Data/simim_resources/simulations/TNG100-3-Dark/raw/groups_051/index.html.tmp\" [1]\n",
      "2024-02-29 01:06:00 URL:http://www.tng-project.org/media/ [59010/59010] -> \"/Users/keenan/Data/simim_resources/simulations/TNG100-3-Dark/raw/groups_051/index.html.tmp\" [1]\n",
      "2024-02-29 01:06:01 URL:http://www.tng-project.org/data/ [43902/43902] -> \"/Users/keenan/Data/simim_resources/simulations/TNG100-3-Dark/raw/groups_051/index.html.tmp\" [1]\n",
      "2024-02-29 01:06:01 URL:http://www.tng-project.org/explore/ [3989/3989] -> \"/Users/keenan/Data/simim_resources/simulations/TNG100-3-Dark/raw/groups_051/index.html.tmp\" [1]\n",
      "2024-02-29 01:06:01 URL:http://www.tng-project.org/cluster/ [42614/42614] -> \"/Users/keenan/Data/simim_resources/simulations/TNG100-3-Dark/raw/groups_051/index.html.tmp\" [1]\n",
      "2024-02-29 01:06:01 URL:http://www.tng-project.org/users/login/ [5468/5468] -> \"/Users/keenan/Data/simim_resources/simulations/TNG100-3-Dark/raw/groups_051/index.html.tmp\" [1]\n",
      "2024-02-29 01:06:01 URL:http://www.tng-project.org/users/login/ [5468/5468] -> \"/Users/keenan/Data/simim_resources/simulations/TNG100-3-Dark/raw/groups_051/index.html.tmp\" [1]\n",
      "2024-02-29 01:06:01 URL:http://www.tng-project.org/api/?format=api [23499/23499] -> \"/Users/keenan/Data/simim_resources/simulations/TNG100-3-Dark/raw/groups_051/index.html?format=api.tmp\" [1]\n",
      "2024-02-29 01:06:01 URL:http://www.tng-project.org/api/TNG100-3-Dark/?format=api [10756/10756] -> \"/Users/keenan/Data/simim_resources/simulations/TNG100-3-Dark/raw/groups_051/index.html?format=api.tmp\" [1]\n",
      "2024-02-29 01:06:01 URL:http://www.tng-project.org/api/TNG100-3-Dark/files/?format=api [42579/42579] -> \"/Users/keenan/Data/simim_resources/simulations/TNG100-3-Dark/raw/groups_051/index.html?format=api.tmp\" [1]\n",
      "2024-02-29 01:06:01 URL:http://www.tng-project.org/api/TNG100-3-Dark/files/groupcat-51/?format=json [299/299] -> \"/Users/keenan/Data/simim_resources/simulations/TNG100-3-Dark/raw/groups_051/index.html?format=json.tmp\" [1]\n",
      "FINISHED --2024-02-29 01:06:03--\n",
      "Total wall clock time: 3.2s\n",
      "Downloaded: 15 files, 776K in 0.1s (5.28 MB/s)\n",
      "2024-02-29 01:06:03 URL:http://www.tng-project.org/api/TNG100-3-Dark/files/groupcat-52/?format=api [9164/9164] -> \"/Users/keenan/Data/simim_resources/simulations/TNG100-3-Dark/raw/groups_052/index.html?format=api.tmp\" [1]\n"
     ]
    },
    {
     "name": "stdout",
     "output_type": "stream",
     "text": [
      "\n",
      "Downloading Snapshot 52\n"
     ]
    },
    {
     "name": "stderr",
     "output_type": "stream",
     "text": [
      "2024-02-29 01:06:03 URL:http://www.tng-project.org/ [13013/13013] -> \"/Users/keenan/Data/simim_resources/simulations/TNG100-3-Dark/raw/groups_052/index.html.tmp\" [1]\n",
      "2024-02-29 01:06:03 URL:http://www.tng-project.org/about/ [36929/36929] -> \"/Users/keenan/Data/simim_resources/simulations/TNG100-3-Dark/raw/groups_052/index.html.tmp\" [1]\n",
      "2024-02-29 01:06:03 URL:http://www.tng-project.org/people/ [13267/13267] -> \"/Users/keenan/Data/simim_resources/simulations/TNG100-3-Dark/raw/groups_052/index.html.tmp\" [1]\n",
      "2024-02-29 01:06:03 URL:http://www.tng-project.org/results/ [484900/484900] -> \"/Users/keenan/Data/simim_resources/simulations/TNG100-3-Dark/raw/groups_052/index.html.tmp\" [1]\n",
      "2024-02-29 01:06:03 URL:http://www.tng-project.org/media/ [59010/59010] -> \"/Users/keenan/Data/simim_resources/simulations/TNG100-3-Dark/raw/groups_052/index.html.tmp\" [1]\n",
      "2024-02-29 01:06:04 URL:http://www.tng-project.org/data/ [43902/43902] -> \"/Users/keenan/Data/simim_resources/simulations/TNG100-3-Dark/raw/groups_052/index.html.tmp\" [1]\n",
      "2024-02-29 01:06:04 URL:http://www.tng-project.org/explore/ [3989/3989] -> \"/Users/keenan/Data/simim_resources/simulations/TNG100-3-Dark/raw/groups_052/index.html.tmp\" [1]\n",
      "2024-02-29 01:06:04 URL:http://www.tng-project.org/cluster/ [42614/42614] -> \"/Users/keenan/Data/simim_resources/simulations/TNG100-3-Dark/raw/groups_052/index.html.tmp\" [1]\n",
      "2024-02-29 01:06:04 URL:http://www.tng-project.org/users/login/ [5468/5468] -> \"/Users/keenan/Data/simim_resources/simulations/TNG100-3-Dark/raw/groups_052/index.html.tmp\" [1]\n",
      "2024-02-29 01:06:04 URL:http://www.tng-project.org/users/login/ [5468/5468] -> \"/Users/keenan/Data/simim_resources/simulations/TNG100-3-Dark/raw/groups_052/index.html.tmp\" [1]\n",
      "2024-02-29 01:06:04 URL:http://www.tng-project.org/api/?format=api [23499/23499] -> \"/Users/keenan/Data/simim_resources/simulations/TNG100-3-Dark/raw/groups_052/index.html?format=api.tmp\" [1]\n",
      "2024-02-29 01:06:04 URL:http://www.tng-project.org/api/TNG100-3-Dark/?format=api [10756/10756] -> \"/Users/keenan/Data/simim_resources/simulations/TNG100-3-Dark/raw/groups_052/index.html?format=api.tmp\" [1]\n",
      "2024-02-29 01:06:04 URL:http://www.tng-project.org/api/TNG100-3-Dark/files/?format=api [42579/42579] -> \"/Users/keenan/Data/simim_resources/simulations/TNG100-3-Dark/raw/groups_052/index.html?format=api.tmp\" [1]\n",
      "2024-02-29 01:06:04 URL:http://www.tng-project.org/api/TNG100-3-Dark/files/groupcat-52/?format=json [299/299] -> \"/Users/keenan/Data/simim_resources/simulations/TNG100-3-Dark/raw/groups_052/index.html?format=json.tmp\" [1]\n",
      "FINISHED --2024-02-29 01:06:06--\n",
      "Total wall clock time: 3.2s\n",
      "Downloaded: 15 files, 776K in 0.1s (7.78 MB/s)\n"
     ]
    },
    {
     "name": "stdout",
     "output_type": "stream",
     "text": [
      "\n",
      "Downloading Snapshot 53\n"
     ]
    },
    {
     "name": "stderr",
     "output_type": "stream",
     "text": [
      "2024-02-29 01:06:06 URL:http://www.tng-project.org/api/TNG100-3-Dark/files/groupcat-53/?format=api [9164/9164] -> \"/Users/keenan/Data/simim_resources/simulations/TNG100-3-Dark/raw/groups_053/index.html?format=api.tmp\" [1]\n",
      "2024-02-29 01:06:06 URL:http://www.tng-project.org/ [13013/13013] -> \"/Users/keenan/Data/simim_resources/simulations/TNG100-3-Dark/raw/groups_053/index.html.tmp\" [1]\n",
      "2024-02-29 01:06:06 URL:http://www.tng-project.org/about/ [36929/36929] -> \"/Users/keenan/Data/simim_resources/simulations/TNG100-3-Dark/raw/groups_053/index.html.tmp\" [1]\n",
      "2024-02-29 01:06:06 URL:http://www.tng-project.org/people/ [13267/13267] -> \"/Users/keenan/Data/simim_resources/simulations/TNG100-3-Dark/raw/groups_053/index.html.tmp\" [1]\n",
      "2024-02-29 01:06:07 URL:http://www.tng-project.org/results/ [484900/484900] -> \"/Users/keenan/Data/simim_resources/simulations/TNG100-3-Dark/raw/groups_053/index.html.tmp\" [1]\n",
      "2024-02-29 01:06:07 URL:http://www.tng-project.org/media/ [59010/59010] -> \"/Users/keenan/Data/simim_resources/simulations/TNG100-3-Dark/raw/groups_053/index.html.tmp\" [1]\n",
      "2024-02-29 01:06:07 URL:http://www.tng-project.org/data/ [43902/43902] -> \"/Users/keenan/Data/simim_resources/simulations/TNG100-3-Dark/raw/groups_053/index.html.tmp\" [1]\n",
      "2024-02-29 01:06:07 URL:http://www.tng-project.org/explore/ [3989/3989] -> \"/Users/keenan/Data/simim_resources/simulations/TNG100-3-Dark/raw/groups_053/index.html.tmp\" [1]\n",
      "2024-02-29 01:06:07 URL:http://www.tng-project.org/cluster/ [42614/42614] -> \"/Users/keenan/Data/simim_resources/simulations/TNG100-3-Dark/raw/groups_053/index.html.tmp\" [1]\n",
      "2024-02-29 01:06:07 URL:http://www.tng-project.org/users/login/ [5468/5468] -> \"/Users/keenan/Data/simim_resources/simulations/TNG100-3-Dark/raw/groups_053/index.html.tmp\" [1]\n",
      "2024-02-29 01:06:07 URL:http://www.tng-project.org/users/login/ [5468/5468] -> \"/Users/keenan/Data/simim_resources/simulations/TNG100-3-Dark/raw/groups_053/index.html.tmp\" [1]\n",
      "2024-02-29 01:06:07 URL:http://www.tng-project.org/api/?format=api [23499/23499] -> \"/Users/keenan/Data/simim_resources/simulations/TNG100-3-Dark/raw/groups_053/index.html?format=api.tmp\" [1]\n",
      "2024-02-29 01:06:07 URL:http://www.tng-project.org/api/TNG100-3-Dark/?format=api [10756/10756] -> \"/Users/keenan/Data/simim_resources/simulations/TNG100-3-Dark/raw/groups_053/index.html?format=api.tmp\" [1]\n",
      "2024-02-29 01:06:08 URL:http://www.tng-project.org/api/TNG100-3-Dark/files/?format=api [42579/42579] -> \"/Users/keenan/Data/simim_resources/simulations/TNG100-3-Dark/raw/groups_053/index.html?format=api.tmp\" [1]\n",
      "2024-02-29 01:06:08 URL:http://www.tng-project.org/api/TNG100-3-Dark/files/groupcat-53/?format=json [299/299] -> \"/Users/keenan/Data/simim_resources/simulations/TNG100-3-Dark/raw/groups_053/index.html?format=json.tmp\" [1]\n",
      "FINISHED --2024-02-29 01:06:09--\n",
      "Total wall clock time: 3.1s\n",
      "Downloaded: 15 files, 776K in 0.1s (5.60 MB/s)\n"
     ]
    },
    {
     "name": "stdout",
     "output_type": "stream",
     "text": [
      "\n",
      "Downloading Snapshot 54\n"
     ]
    },
    {
     "name": "stderr",
     "output_type": "stream",
     "text": [
      "2024-02-29 01:06:09 URL:http://www.tng-project.org/api/TNG100-3-Dark/files/groupcat-54/?format=api [9164/9164] -> \"/Users/keenan/Data/simim_resources/simulations/TNG100-3-Dark/raw/groups_054/index.html?format=api.tmp\" [1]\n",
      "2024-02-29 01:06:09 URL:http://www.tng-project.org/ [13013/13013] -> \"/Users/keenan/Data/simim_resources/simulations/TNG100-3-Dark/raw/groups_054/index.html.tmp\" [1]\n",
      "2024-02-29 01:06:09 URL:http://www.tng-project.org/about/ [36929/36929] -> \"/Users/keenan/Data/simim_resources/simulations/TNG100-3-Dark/raw/groups_054/index.html.tmp\" [1]\n",
      "2024-02-29 01:06:09 URL:http://www.tng-project.org/people/ [13267/13267] -> \"/Users/keenan/Data/simim_resources/simulations/TNG100-3-Dark/raw/groups_054/index.html.tmp\" [1]\n",
      "2024-02-29 01:06:10 URL:http://www.tng-project.org/results/ [484900/484900] -> \"/Users/keenan/Data/simim_resources/simulations/TNG100-3-Dark/raw/groups_054/index.html.tmp\" [1]\n",
      "2024-02-29 01:06:10 URL:http://www.tng-project.org/media/ [59010/59010] -> \"/Users/keenan/Data/simim_resources/simulations/TNG100-3-Dark/raw/groups_054/index.html.tmp\" [1]\n",
      "2024-02-29 01:06:10 URL:http://www.tng-project.org/data/ [43902/43902] -> \"/Users/keenan/Data/simim_resources/simulations/TNG100-3-Dark/raw/groups_054/index.html.tmp\" [1]\n",
      "2024-02-29 01:06:10 URL:http://www.tng-project.org/explore/ [3989/3989] -> \"/Users/keenan/Data/simim_resources/simulations/TNG100-3-Dark/raw/groups_054/index.html.tmp\" [1]\n",
      "2024-02-29 01:06:10 URL:http://www.tng-project.org/cluster/ [42614/42614] -> \"/Users/keenan/Data/simim_resources/simulations/TNG100-3-Dark/raw/groups_054/index.html.tmp\" [1]\n",
      "2024-02-29 01:06:10 URL:http://www.tng-project.org/users/login/ [5468/5468] -> \"/Users/keenan/Data/simim_resources/simulations/TNG100-3-Dark/raw/groups_054/index.html.tmp\" [1]\n",
      "2024-02-29 01:06:10 URL:http://www.tng-project.org/users/login/ [5468/5468] -> \"/Users/keenan/Data/simim_resources/simulations/TNG100-3-Dark/raw/groups_054/index.html.tmp\" [1]\n",
      "2024-02-29 01:06:11 URL:http://www.tng-project.org/api/?format=api [23499/23499] -> \"/Users/keenan/Data/simim_resources/simulations/TNG100-3-Dark/raw/groups_054/index.html?format=api.tmp\" [1]\n",
      "2024-02-29 01:06:11 URL:http://www.tng-project.org/api/TNG100-3-Dark/?format=api [10756/10756] -> \"/Users/keenan/Data/simim_resources/simulations/TNG100-3-Dark/raw/groups_054/index.html?format=api.tmp\" [1]\n",
      "2024-02-29 01:06:11 URL:http://www.tng-project.org/api/TNG100-3-Dark/files/?format=api [42579/42579] -> \"/Users/keenan/Data/simim_resources/simulations/TNG100-3-Dark/raw/groups_054/index.html?format=api.tmp\" [1]\n",
      "2024-02-29 01:06:11 URL:http://www.tng-project.org/api/TNG100-3-Dark/files/groupcat-54/?format=json [299/299] -> \"/Users/keenan/Data/simim_resources/simulations/TNG100-3-Dark/raw/groups_054/index.html?format=json.tmp\" [1]\n",
      "FINISHED --2024-02-29 01:06:12--\n",
      "Total wall clock time: 3.1s\n",
      "Downloaded: 15 files, 776K in 0.1s (7.97 MB/s)\n"
     ]
    },
    {
     "name": "stdout",
     "output_type": "stream",
     "text": [
      "\n",
      "Downloading Snapshot 55\n"
     ]
    },
    {
     "name": "stderr",
     "output_type": "stream",
     "text": [
      "2024-02-29 01:06:12 URL:http://www.tng-project.org/api/TNG100-3-Dark/files/groupcat-55/?format=api [9164/9164] -> \"/Users/keenan/Data/simim_resources/simulations/TNG100-3-Dark/raw/groups_055/index.html?format=api.tmp\" [1]\n",
      "2024-02-29 01:06:12 URL:http://www.tng-project.org/ [13013/13013] -> \"/Users/keenan/Data/simim_resources/simulations/TNG100-3-Dark/raw/groups_055/index.html.tmp\" [1]\n",
      "2024-02-29 01:06:12 URL:http://www.tng-project.org/about/ [36929/36929] -> \"/Users/keenan/Data/simim_resources/simulations/TNG100-3-Dark/raw/groups_055/index.html.tmp\" [1]\n",
      "2024-02-29 01:06:12 URL:http://www.tng-project.org/people/ [13267/13267] -> \"/Users/keenan/Data/simim_resources/simulations/TNG100-3-Dark/raw/groups_055/index.html.tmp\" [1]\n",
      "2024-02-29 01:06:13 URL:http://www.tng-project.org/results/ [484900/484900] -> \"/Users/keenan/Data/simim_resources/simulations/TNG100-3-Dark/raw/groups_055/index.html.tmp\" [1]\n",
      "2024-02-29 01:06:13 URL:http://www.tng-project.org/media/ [59010/59010] -> \"/Users/keenan/Data/simim_resources/simulations/TNG100-3-Dark/raw/groups_055/index.html.tmp\" [1]\n",
      "2024-02-29 01:06:13 URL:http://www.tng-project.org/data/ [43902/43902] -> \"/Users/keenan/Data/simim_resources/simulations/TNG100-3-Dark/raw/groups_055/index.html.tmp\" [1]\n",
      "2024-02-29 01:06:13 URL:http://www.tng-project.org/explore/ [3989/3989] -> \"/Users/keenan/Data/simim_resources/simulations/TNG100-3-Dark/raw/groups_055/index.html.tmp\" [1]\n",
      "2024-02-29 01:06:13 URL:http://www.tng-project.org/cluster/ [42614/42614] -> \"/Users/keenan/Data/simim_resources/simulations/TNG100-3-Dark/raw/groups_055/index.html.tmp\" [1]\n",
      "2024-02-29 01:06:13 URL:http://www.tng-project.org/users/login/ [5468/5468] -> \"/Users/keenan/Data/simim_resources/simulations/TNG100-3-Dark/raw/groups_055/index.html.tmp\" [1]\n",
      "2024-02-29 01:06:13 URL:http://www.tng-project.org/users/login/ [5468/5468] -> \"/Users/keenan/Data/simim_resources/simulations/TNG100-3-Dark/raw/groups_055/index.html.tmp\" [1]\n",
      "2024-02-29 01:06:14 URL:http://www.tng-project.org/api/?format=api [23499/23499] -> \"/Users/keenan/Data/simim_resources/simulations/TNG100-3-Dark/raw/groups_055/index.html?format=api.tmp\" [1]\n",
      "2024-02-29 01:06:14 URL:http://www.tng-project.org/api/TNG100-3-Dark/?format=api [10756/10756] -> \"/Users/keenan/Data/simim_resources/simulations/TNG100-3-Dark/raw/groups_055/index.html?format=api.tmp\" [1]\n",
      "2024-02-29 01:06:14 URL:http://www.tng-project.org/api/TNG100-3-Dark/files/?format=api [42579/42579] -> \"/Users/keenan/Data/simim_resources/simulations/TNG100-3-Dark/raw/groups_055/index.html?format=api.tmp\" [1]\n",
      "2024-02-29 01:06:14 URL:http://www.tng-project.org/api/TNG100-3-Dark/files/groupcat-55/?format=json [299/299] -> \"/Users/keenan/Data/simim_resources/simulations/TNG100-3-Dark/raw/groups_055/index.html?format=json.tmp\" [1]\n",
      "FINISHED --2024-02-29 01:06:15--\n",
      "Total wall clock time: 3.1s\n",
      "Downloaded: 15 files, 776K in 0.09s (8.27 MB/s)\n"
     ]
    },
    {
     "name": "stdout",
     "output_type": "stream",
     "text": [
      "\n",
      "Downloading Snapshot 56\n"
     ]
    },
    {
     "name": "stderr",
     "output_type": "stream",
     "text": [
      "2024-02-29 01:06:15 URL:http://www.tng-project.org/api/TNG100-3-Dark/files/groupcat-56/?format=api [9164/9164] -> \"/Users/keenan/Data/simim_resources/simulations/TNG100-3-Dark/raw/groups_056/index.html?format=api.tmp\" [1]\n",
      "2024-02-29 01:06:15 URL:http://www.tng-project.org/ [13013/13013] -> \"/Users/keenan/Data/simim_resources/simulations/TNG100-3-Dark/raw/groups_056/index.html.tmp\" [1]\n",
      "2024-02-29 01:06:16 URL:http://www.tng-project.org/about/ [36929/36929] -> \"/Users/keenan/Data/simim_resources/simulations/TNG100-3-Dark/raw/groups_056/index.html.tmp\" [1]\n",
      "2024-02-29 01:06:16 URL:http://www.tng-project.org/people/ [13267/13267] -> \"/Users/keenan/Data/simim_resources/simulations/TNG100-3-Dark/raw/groups_056/index.html.tmp\" [1]\n",
      "2024-02-29 01:06:16 URL:http://www.tng-project.org/results/ [484900/484900] -> \"/Users/keenan/Data/simim_resources/simulations/TNG100-3-Dark/raw/groups_056/index.html.tmp\" [1]\n",
      "2024-02-29 01:06:16 URL:http://www.tng-project.org/media/ [59010/59010] -> \"/Users/keenan/Data/simim_resources/simulations/TNG100-3-Dark/raw/groups_056/index.html.tmp\" [1]\n",
      "2024-02-29 01:06:16 URL:http://www.tng-project.org/data/ [43902/43902] -> \"/Users/keenan/Data/simim_resources/simulations/TNG100-3-Dark/raw/groups_056/index.html.tmp\" [1]\n",
      "2024-02-29 01:06:16 URL:http://www.tng-project.org/explore/ [3989/3989] -> \"/Users/keenan/Data/simim_resources/simulations/TNG100-3-Dark/raw/groups_056/index.html.tmp\" [1]\n",
      "2024-02-29 01:06:16 URL:http://www.tng-project.org/cluster/ [42614/42614] -> \"/Users/keenan/Data/simim_resources/simulations/TNG100-3-Dark/raw/groups_056/index.html.tmp\" [1]\n",
      "2024-02-29 01:06:16 URL:http://www.tng-project.org/users/login/ [5468/5468] -> \"/Users/keenan/Data/simim_resources/simulations/TNG100-3-Dark/raw/groups_056/index.html.tmp\" [1]\n",
      "2024-02-29 01:06:17 URL:http://www.tng-project.org/users/login/ [5468/5468] -> \"/Users/keenan/Data/simim_resources/simulations/TNG100-3-Dark/raw/groups_056/index.html.tmp\" [1]\n",
      "2024-02-29 01:06:17 URL:http://www.tng-project.org/api/?format=api [23499/23499] -> \"/Users/keenan/Data/simim_resources/simulations/TNG100-3-Dark/raw/groups_056/index.html?format=api.tmp\" [1]\n",
      "2024-02-29 01:06:17 URL:http://www.tng-project.org/api/TNG100-3-Dark/?format=api [10756/10756] -> \"/Users/keenan/Data/simim_resources/simulations/TNG100-3-Dark/raw/groups_056/index.html?format=api.tmp\" [1]\n",
      "2024-02-29 01:06:17 URL:http://www.tng-project.org/api/TNG100-3-Dark/files/?format=api [42579/42579] -> \"/Users/keenan/Data/simim_resources/simulations/TNG100-3-Dark/raw/groups_056/index.html?format=api.tmp\" [1]\n",
      "2024-02-29 01:06:17 URL:http://www.tng-project.org/api/TNG100-3-Dark/files/groupcat-56/?format=json [299/299] -> \"/Users/keenan/Data/simim_resources/simulations/TNG100-3-Dark/raw/groups_056/index.html?format=json.tmp\" [1]\n",
      "FINISHED --2024-02-29 01:06:18--\n",
      "Total wall clock time: 3.2s\n",
      "Downloaded: 15 files, 776K in 0.1s (7.77 MB/s)\n"
     ]
    },
    {
     "name": "stdout",
     "output_type": "stream",
     "text": [
      "\n",
      "Downloading Snapshot 57\n"
     ]
    },
    {
     "name": "stderr",
     "output_type": "stream",
     "text": [
      "2024-02-29 01:06:19 URL:http://www.tng-project.org/api/TNG100-3-Dark/files/groupcat-57/?format=api [9164/9164] -> \"/Users/keenan/Data/simim_resources/simulations/TNG100-3-Dark/raw/groups_057/index.html?format=api.tmp\" [1]\n",
      "2024-02-29 01:06:19 URL:http://www.tng-project.org/ [13013/13013] -> \"/Users/keenan/Data/simim_resources/simulations/TNG100-3-Dark/raw/groups_057/index.html.tmp\" [1]\n",
      "2024-02-29 01:06:19 URL:http://www.tng-project.org/about/ [36929/36929] -> \"/Users/keenan/Data/simim_resources/simulations/TNG100-3-Dark/raw/groups_057/index.html.tmp\" [1]\n",
      "2024-02-29 01:06:19 URL:http://www.tng-project.org/people/ [13267/13267] -> \"/Users/keenan/Data/simim_resources/simulations/TNG100-3-Dark/raw/groups_057/index.html.tmp\" [1]\n",
      "2024-02-29 01:06:19 URL:http://www.tng-project.org/results/ [484900/484900] -> \"/Users/keenan/Data/simim_resources/simulations/TNG100-3-Dark/raw/groups_057/index.html.tmp\" [1]\n",
      "2024-02-29 01:06:19 URL:http://www.tng-project.org/media/ [59010/59010] -> \"/Users/keenan/Data/simim_resources/simulations/TNG100-3-Dark/raw/groups_057/index.html.tmp\" [1]\n",
      "2024-02-29 01:06:20 URL:http://www.tng-project.org/data/ [43902/43902] -> \"/Users/keenan/Data/simim_resources/simulations/TNG100-3-Dark/raw/groups_057/index.html.tmp\" [1]\n",
      "2024-02-29 01:06:20 URL:http://www.tng-project.org/explore/ [3989/3989] -> \"/Users/keenan/Data/simim_resources/simulations/TNG100-3-Dark/raw/groups_057/index.html.tmp\" [1]\n",
      "2024-02-29 01:06:20 URL:http://www.tng-project.org/cluster/ [42614/42614] -> \"/Users/keenan/Data/simim_resources/simulations/TNG100-3-Dark/raw/groups_057/index.html.tmp\" [1]\n",
      "2024-02-29 01:06:20 URL:http://www.tng-project.org/users/login/ [5468/5468] -> \"/Users/keenan/Data/simim_resources/simulations/TNG100-3-Dark/raw/groups_057/index.html.tmp\" [1]\n",
      "2024-02-29 01:06:20 URL:http://www.tng-project.org/users/login/ [5468/5468] -> \"/Users/keenan/Data/simim_resources/simulations/TNG100-3-Dark/raw/groups_057/index.html.tmp\" [1]\n",
      "2024-02-29 01:06:20 URL:http://www.tng-project.org/api/?format=api [23499/23499] -> \"/Users/keenan/Data/simim_resources/simulations/TNG100-3-Dark/raw/groups_057/index.html?format=api.tmp\" [1]\n",
      "2024-02-29 01:06:20 URL:http://www.tng-project.org/api/TNG100-3-Dark/?format=api [10756/10756] -> \"/Users/keenan/Data/simim_resources/simulations/TNG100-3-Dark/raw/groups_057/index.html?format=api.tmp\" [1]\n",
      "2024-02-29 01:06:20 URL:http://www.tng-project.org/api/TNG100-3-Dark/files/?format=api [42579/42579] -> \"/Users/keenan/Data/simim_resources/simulations/TNG100-3-Dark/raw/groups_057/index.html?format=api.tmp\" [1]\n",
      "2024-02-29 01:06:20 URL:http://www.tng-project.org/api/TNG100-3-Dark/files/groupcat-57/?format=json [299/299] -> \"/Users/keenan/Data/simim_resources/simulations/TNG100-3-Dark/raw/groups_057/index.html?format=json.tmp\" [1]\n",
      "FINISHED --2024-02-29 01:06:22--\n",
      "Total wall clock time: 3.2s\n",
      "Downloaded: 15 files, 776K in 0.1s (5.52 MB/s)\n"
     ]
    },
    {
     "name": "stdout",
     "output_type": "stream",
     "text": [
      "\n",
      "Downloading Snapshot 58\n"
     ]
    },
    {
     "name": "stderr",
     "output_type": "stream",
     "text": [
      "2024-02-29 01:06:22 URL:http://www.tng-project.org/api/TNG100-3-Dark/files/groupcat-58/?format=api [9164/9164] -> \"/Users/keenan/Data/simim_resources/simulations/TNG100-3-Dark/raw/groups_058/index.html?format=api.tmp\" [1]\n",
      "2024-02-29 01:06:22 URL:http://www.tng-project.org/ [13013/13013] -> \"/Users/keenan/Data/simim_resources/simulations/TNG100-3-Dark/raw/groups_058/index.html.tmp\" [1]\n",
      "2024-02-29 01:06:22 URL:http://www.tng-project.org/about/ [36929/36929] -> \"/Users/keenan/Data/simim_resources/simulations/TNG100-3-Dark/raw/groups_058/index.html.tmp\" [1]\n",
      "2024-02-29 01:06:22 URL:http://www.tng-project.org/people/ [13267/13267] -> \"/Users/keenan/Data/simim_resources/simulations/TNG100-3-Dark/raw/groups_058/index.html.tmp\" [1]\n",
      "2024-02-29 01:06:22 URL:http://www.tng-project.org/results/ [484900/484900] -> \"/Users/keenan/Data/simim_resources/simulations/TNG100-3-Dark/raw/groups_058/index.html.tmp\" [1]\n",
      "2024-02-29 01:06:22 URL:http://www.tng-project.org/media/ [59010/59010] -> \"/Users/keenan/Data/simim_resources/simulations/TNG100-3-Dark/raw/groups_058/index.html.tmp\" [1]\n",
      "2024-02-29 01:06:23 URL:http://www.tng-project.org/data/ [43902/43902] -> \"/Users/keenan/Data/simim_resources/simulations/TNG100-3-Dark/raw/groups_058/index.html.tmp\" [1]\n",
      "2024-02-29 01:06:23 URL:http://www.tng-project.org/explore/ [3989/3989] -> \"/Users/keenan/Data/simim_resources/simulations/TNG100-3-Dark/raw/groups_058/index.html.tmp\" [1]\n",
      "2024-02-29 01:06:23 URL:http://www.tng-project.org/cluster/ [42614/42614] -> \"/Users/keenan/Data/simim_resources/simulations/TNG100-3-Dark/raw/groups_058/index.html.tmp\" [1]\n",
      "2024-02-29 01:06:23 URL:http://www.tng-project.org/users/login/ [5468/5468] -> \"/Users/keenan/Data/simim_resources/simulations/TNG100-3-Dark/raw/groups_058/index.html.tmp\" [1]\n",
      "2024-02-29 01:06:23 URL:http://www.tng-project.org/users/login/ [5468/5468] -> \"/Users/keenan/Data/simim_resources/simulations/TNG100-3-Dark/raw/groups_058/index.html.tmp\" [1]\n",
      "2024-02-29 01:06:23 URL:http://www.tng-project.org/api/?format=api [23499/23499] -> \"/Users/keenan/Data/simim_resources/simulations/TNG100-3-Dark/raw/groups_058/index.html?format=api.tmp\" [1]\n",
      "2024-02-29 01:06:23 URL:http://www.tng-project.org/api/TNG100-3-Dark/?format=api [10756/10756] -> \"/Users/keenan/Data/simim_resources/simulations/TNG100-3-Dark/raw/groups_058/index.html?format=api.tmp\" [1]\n",
      "2024-02-29 01:06:23 URL:http://www.tng-project.org/api/TNG100-3-Dark/files/?format=api [42579/42579] -> \"/Users/keenan/Data/simim_resources/simulations/TNG100-3-Dark/raw/groups_058/index.html?format=api.tmp\" [1]\n",
      "2024-02-29 01:06:23 URL:http://www.tng-project.org/api/TNG100-3-Dark/files/groupcat-58/?format=json [299/299] -> \"/Users/keenan/Data/simim_resources/simulations/TNG100-3-Dark/raw/groups_058/index.html?format=json.tmp\" [1]\n",
      "FINISHED --2024-02-29 01:06:25--\n",
      "Total wall clock time: 3.2s\n",
      "Downloaded: 15 files, 776K in 0.1s (7.32 MB/s)\n",
      "2024-02-29 01:06:25 URL:http://www.tng-project.org/api/TNG100-3-Dark/files/groupcat-59/?format=api [9164/9164] -> \"/Users/keenan/Data/simim_resources/simulations/TNG100-3-Dark/raw/groups_059/index.html?format=api.tmp\" [1]\n"
     ]
    },
    {
     "name": "stdout",
     "output_type": "stream",
     "text": [
      "\n",
      "Downloading Snapshot 59\n"
     ]
    },
    {
     "name": "stderr",
     "output_type": "stream",
     "text": [
      "2024-02-29 01:06:25 URL:http://www.tng-project.org/ [13013/13013] -> \"/Users/keenan/Data/simim_resources/simulations/TNG100-3-Dark/raw/groups_059/index.html.tmp\" [1]\n",
      "2024-02-29 01:06:25 URL:http://www.tng-project.org/about/ [36929/36929] -> \"/Users/keenan/Data/simim_resources/simulations/TNG100-3-Dark/raw/groups_059/index.html.tmp\" [1]\n",
      "2024-02-29 01:06:25 URL:http://www.tng-project.org/people/ [13267/13267] -> \"/Users/keenan/Data/simim_resources/simulations/TNG100-3-Dark/raw/groups_059/index.html.tmp\" [1]\n",
      "2024-02-29 01:06:26 URL:http://www.tng-project.org/results/ [484900/484900] -> \"/Users/keenan/Data/simim_resources/simulations/TNG100-3-Dark/raw/groups_059/index.html.tmp\" [1]\n",
      "2024-02-29 01:06:26 URL:http://www.tng-project.org/media/ [59010/59010] -> \"/Users/keenan/Data/simim_resources/simulations/TNG100-3-Dark/raw/groups_059/index.html.tmp\" [1]\n",
      "2024-02-29 01:06:26 URL:http://www.tng-project.org/data/ [43902/43902] -> \"/Users/keenan/Data/simim_resources/simulations/TNG100-3-Dark/raw/groups_059/index.html.tmp\" [1]\n",
      "2024-02-29 01:06:26 URL:http://www.tng-project.org/explore/ [3989/3989] -> \"/Users/keenan/Data/simim_resources/simulations/TNG100-3-Dark/raw/groups_059/index.html.tmp\" [1]\n",
      "2024-02-29 01:06:26 URL:http://www.tng-project.org/cluster/ [42614/42614] -> \"/Users/keenan/Data/simim_resources/simulations/TNG100-3-Dark/raw/groups_059/index.html.tmp\" [1]\n",
      "2024-02-29 01:06:26 URL:http://www.tng-project.org/users/login/ [5468/5468] -> \"/Users/keenan/Data/simim_resources/simulations/TNG100-3-Dark/raw/groups_059/index.html.tmp\" [1]\n",
      "2024-02-29 01:06:26 URL:http://www.tng-project.org/users/login/ [5468/5468] -> \"/Users/keenan/Data/simim_resources/simulations/TNG100-3-Dark/raw/groups_059/index.html.tmp\" [1]\n",
      "2024-02-29 01:06:26 URL:http://www.tng-project.org/api/?format=api [23499/23499] -> \"/Users/keenan/Data/simim_resources/simulations/TNG100-3-Dark/raw/groups_059/index.html?format=api.tmp\" [1]\n",
      "2024-02-29 01:06:26 URL:http://www.tng-project.org/api/TNG100-3-Dark/?format=api [10756/10756] -> \"/Users/keenan/Data/simim_resources/simulations/TNG100-3-Dark/raw/groups_059/index.html?format=api.tmp\" [1]\n",
      "2024-02-29 01:06:26 URL:http://www.tng-project.org/api/TNG100-3-Dark/files/?format=api [42579/42579] -> \"/Users/keenan/Data/simim_resources/simulations/TNG100-3-Dark/raw/groups_059/index.html?format=api.tmp\" [1]\n",
      "2024-02-29 01:06:27 URL:http://www.tng-project.org/api/TNG100-3-Dark/files/groupcat-59/?format=json [299/299] -> \"/Users/keenan/Data/simim_resources/simulations/TNG100-3-Dark/raw/groups_059/index.html?format=json.tmp\" [1]\n",
      "FINISHED --2024-02-29 01:06:28--\n",
      "Total wall clock time: 3.0s\n",
      "Downloaded: 15 files, 776K in 0.09s (8.21 MB/s)\n",
      "2024-02-29 01:06:28 URL:http://www.tng-project.org/api/TNG100-3-Dark/files/groupcat-60/?format=api [9164/9164] -> \"/Users/keenan/Data/simim_resources/simulations/TNG100-3-Dark/raw/groups_060/index.html?format=api.tmp\" [1]\n"
     ]
    },
    {
     "name": "stdout",
     "output_type": "stream",
     "text": [
      "\n",
      "Downloading Snapshot 60\n"
     ]
    },
    {
     "name": "stderr",
     "output_type": "stream",
     "text": [
      "2024-02-29 01:06:28 URL:http://www.tng-project.org/ [13013/13013] -> \"/Users/keenan/Data/simim_resources/simulations/TNG100-3-Dark/raw/groups_060/index.html.tmp\" [1]\n",
      "2024-02-29 01:06:28 URL:http://www.tng-project.org/about/ [36929/36929] -> \"/Users/keenan/Data/simim_resources/simulations/TNG100-3-Dark/raw/groups_060/index.html.tmp\" [1]\n",
      "2024-02-29 01:06:28 URL:http://www.tng-project.org/people/ [13268/13268] -> \"/Users/keenan/Data/simim_resources/simulations/TNG100-3-Dark/raw/groups_060/index.html.tmp\" [1]\n",
      "2024-02-29 01:06:29 URL:http://www.tng-project.org/results/ [484900/484900] -> \"/Users/keenan/Data/simim_resources/simulations/TNG100-3-Dark/raw/groups_060/index.html.tmp\" [1]\n",
      "2024-02-29 01:06:29 URL:http://www.tng-project.org/media/ [59010/59010] -> \"/Users/keenan/Data/simim_resources/simulations/TNG100-3-Dark/raw/groups_060/index.html.tmp\" [1]\n",
      "2024-02-29 01:06:29 URL:http://www.tng-project.org/data/ [43902/43902] -> \"/Users/keenan/Data/simim_resources/simulations/TNG100-3-Dark/raw/groups_060/index.html.tmp\" [1]\n",
      "2024-02-29 01:06:29 URL:http://www.tng-project.org/explore/ [3989/3989] -> \"/Users/keenan/Data/simim_resources/simulations/TNG100-3-Dark/raw/groups_060/index.html.tmp\" [1]\n",
      "2024-02-29 01:06:29 URL:http://www.tng-project.org/cluster/ [42614/42614] -> \"/Users/keenan/Data/simim_resources/simulations/TNG100-3-Dark/raw/groups_060/index.html.tmp\" [1]\n",
      "2024-02-29 01:06:29 URL:http://www.tng-project.org/users/login/ [5468/5468] -> \"/Users/keenan/Data/simim_resources/simulations/TNG100-3-Dark/raw/groups_060/index.html.tmp\" [1]\n",
      "2024-02-29 01:06:29 URL:http://www.tng-project.org/users/login/ [5468/5468] -> \"/Users/keenan/Data/simim_resources/simulations/TNG100-3-Dark/raw/groups_060/index.html.tmp\" [1]\n",
      "2024-02-29 01:06:29 URL:http://www.tng-project.org/api/?format=api [23499/23499] -> \"/Users/keenan/Data/simim_resources/simulations/TNG100-3-Dark/raw/groups_060/index.html?format=api.tmp\" [1]\n",
      "2024-02-29 01:06:30 URL:http://www.tng-project.org/api/TNG100-3-Dark/?format=api [10756/10756] -> \"/Users/keenan/Data/simim_resources/simulations/TNG100-3-Dark/raw/groups_060/index.html?format=api.tmp\" [1]\n",
      "2024-02-29 01:06:30 URL:http://www.tng-project.org/api/TNG100-3-Dark/files/?format=api [42579/42579] -> \"/Users/keenan/Data/simim_resources/simulations/TNG100-3-Dark/raw/groups_060/index.html?format=api.tmp\" [1]\n",
      "2024-02-29 01:06:30 URL:http://www.tng-project.org/api/TNG100-3-Dark/files/groupcat-60/?format=json [299/299] -> \"/Users/keenan/Data/simim_resources/simulations/TNG100-3-Dark/raw/groups_060/index.html?format=json.tmp\" [1]\n",
      "FINISHED --2024-02-29 01:06:31--\n",
      "Total wall clock time: 3.2s\n",
      "Downloaded: 15 files, 776K in 0.1s (6.27 MB/s)\n",
      "2024-02-29 01:06:31 URL:http://www.tng-project.org/api/TNG100-3-Dark/files/groupcat-61/?format=api [9164/9164] -> \"/Users/keenan/Data/simim_resources/simulations/TNG100-3-Dark/raw/groups_061/index.html?format=api.tmp\" [1]\n"
     ]
    },
    {
     "name": "stdout",
     "output_type": "stream",
     "text": [
      "\n",
      "Downloading Snapshot 61\n"
     ]
    },
    {
     "name": "stderr",
     "output_type": "stream",
     "text": [
      "2024-02-29 01:06:31 URL:http://www.tng-project.org/ [13013/13013] -> \"/Users/keenan/Data/simim_resources/simulations/TNG100-3-Dark/raw/groups_061/index.html.tmp\" [1]\n",
      "2024-02-29 01:06:31 URL:http://www.tng-project.org/about/ [36929/36929] -> \"/Users/keenan/Data/simim_resources/simulations/TNG100-3-Dark/raw/groups_061/index.html.tmp\" [1]\n",
      "2024-02-29 01:06:31 URL:http://www.tng-project.org/people/ [13268/13268] -> \"/Users/keenan/Data/simim_resources/simulations/TNG100-3-Dark/raw/groups_061/index.html.tmp\" [1]\n",
      "2024-02-29 01:06:32 URL:http://www.tng-project.org/results/ [484900/484900] -> \"/Users/keenan/Data/simim_resources/simulations/TNG100-3-Dark/raw/groups_061/index.html.tmp\" [1]\n",
      "2024-02-29 01:06:32 URL:http://www.tng-project.org/media/ [59010/59010] -> \"/Users/keenan/Data/simim_resources/simulations/TNG100-3-Dark/raw/groups_061/index.html.tmp\" [1]\n",
      "2024-02-29 01:06:32 URL:http://www.tng-project.org/data/ [43902/43902] -> \"/Users/keenan/Data/simim_resources/simulations/TNG100-3-Dark/raw/groups_061/index.html.tmp\" [1]\n",
      "2024-02-29 01:06:32 URL:http://www.tng-project.org/explore/ [3989/3989] -> \"/Users/keenan/Data/simim_resources/simulations/TNG100-3-Dark/raw/groups_061/index.html.tmp\" [1]\n",
      "2024-02-29 01:06:32 URL:http://www.tng-project.org/cluster/ [42614/42614] -> \"/Users/keenan/Data/simim_resources/simulations/TNG100-3-Dark/raw/groups_061/index.html.tmp\" [1]\n",
      "2024-02-29 01:06:32 URL:http://www.tng-project.org/users/login/ [5468/5468] -> \"/Users/keenan/Data/simim_resources/simulations/TNG100-3-Dark/raw/groups_061/index.html.tmp\" [1]\n",
      "2024-02-29 01:06:32 URL:http://www.tng-project.org/users/login/ [5468/5468] -> \"/Users/keenan/Data/simim_resources/simulations/TNG100-3-Dark/raw/groups_061/index.html.tmp\" [1]\n",
      "2024-02-29 01:06:33 URL:http://www.tng-project.org/api/?format=api [23499/23499] -> \"/Users/keenan/Data/simim_resources/simulations/TNG100-3-Dark/raw/groups_061/index.html?format=api.tmp\" [1]\n",
      "2024-02-29 01:06:33 URL:http://www.tng-project.org/api/TNG100-3-Dark/?format=api [10756/10756] -> \"/Users/keenan/Data/simim_resources/simulations/TNG100-3-Dark/raw/groups_061/index.html?format=api.tmp\" [1]\n",
      "2024-02-29 01:06:33 URL:http://www.tng-project.org/api/TNG100-3-Dark/files/?format=api [42579/42579] -> \"/Users/keenan/Data/simim_resources/simulations/TNG100-3-Dark/raw/groups_061/index.html?format=api.tmp\" [1]\n",
      "2024-02-29 01:06:33 URL:http://www.tng-project.org/api/TNG100-3-Dark/files/groupcat-61/?format=json [299/299] -> \"/Users/keenan/Data/simim_resources/simulations/TNG100-3-Dark/raw/groups_061/index.html?format=json.tmp\" [1]\n",
      "FINISHED --2024-02-29 01:06:35--\n",
      "Total wall clock time: 3.4s\n",
      "Downloaded: 15 files, 776K in 0.09s (8.26 MB/s)\n",
      "2024-02-29 01:06:35 URL:http://www.tng-project.org/api/TNG100-3-Dark/files/groupcat-62/?format=api [9164/9164] -> \"/Users/keenan/Data/simim_resources/simulations/TNG100-3-Dark/raw/groups_062/index.html?format=api.tmp\" [1]\n"
     ]
    },
    {
     "name": "stdout",
     "output_type": "stream",
     "text": [
      "\n",
      "Downloading Snapshot 62\n"
     ]
    },
    {
     "name": "stderr",
     "output_type": "stream",
     "text": [
      "2024-02-29 01:06:35 URL:http://www.tng-project.org/ [13013/13013] -> \"/Users/keenan/Data/simim_resources/simulations/TNG100-3-Dark/raw/groups_062/index.html.tmp\" [1]\n",
      "2024-02-29 01:06:35 URL:http://www.tng-project.org/about/ [36929/36929] -> \"/Users/keenan/Data/simim_resources/simulations/TNG100-3-Dark/raw/groups_062/index.html.tmp\" [1]\n",
      "2024-02-29 01:06:35 URL:http://www.tng-project.org/people/ [13267/13267] -> \"/Users/keenan/Data/simim_resources/simulations/TNG100-3-Dark/raw/groups_062/index.html.tmp\" [1]\n",
      "2024-02-29 01:06:35 URL:http://www.tng-project.org/results/ [484900/484900] -> \"/Users/keenan/Data/simim_resources/simulations/TNG100-3-Dark/raw/groups_062/index.html.tmp\" [1]\n",
      "2024-02-29 01:06:35 URL:http://www.tng-project.org/media/ [59010/59010] -> \"/Users/keenan/Data/simim_resources/simulations/TNG100-3-Dark/raw/groups_062/index.html.tmp\" [1]\n",
      "2024-02-29 01:06:36 URL:http://www.tng-project.org/data/ [43902/43902] -> \"/Users/keenan/Data/simim_resources/simulations/TNG100-3-Dark/raw/groups_062/index.html.tmp\" [1]\n",
      "2024-02-29 01:06:36 URL:http://www.tng-project.org/explore/ [3989/3989] -> \"/Users/keenan/Data/simim_resources/simulations/TNG100-3-Dark/raw/groups_062/index.html.tmp\" [1]\n",
      "2024-02-29 01:06:36 URL:http://www.tng-project.org/cluster/ [42614/42614] -> \"/Users/keenan/Data/simim_resources/simulations/TNG100-3-Dark/raw/groups_062/index.html.tmp\" [1]\n",
      "2024-02-29 01:06:36 URL:http://www.tng-project.org/users/login/ [5468/5468] -> \"/Users/keenan/Data/simim_resources/simulations/TNG100-3-Dark/raw/groups_062/index.html.tmp\" [1]\n",
      "2024-02-29 01:06:36 URL:http://www.tng-project.org/users/login/ [5468/5468] -> \"/Users/keenan/Data/simim_resources/simulations/TNG100-3-Dark/raw/groups_062/index.html.tmp\" [1]\n",
      "2024-02-29 01:06:36 URL:http://www.tng-project.org/api/?format=api [23499/23499] -> \"/Users/keenan/Data/simim_resources/simulations/TNG100-3-Dark/raw/groups_062/index.html?format=api.tmp\" [1]\n",
      "2024-02-29 01:06:36 URL:http://www.tng-project.org/api/TNG100-3-Dark/?format=api [10756/10756] -> \"/Users/keenan/Data/simim_resources/simulations/TNG100-3-Dark/raw/groups_062/index.html?format=api.tmp\" [1]\n",
      "2024-02-29 01:06:36 URL:http://www.tng-project.org/api/TNG100-3-Dark/files/?format=api [42579/42579] -> \"/Users/keenan/Data/simim_resources/simulations/TNG100-3-Dark/raw/groups_062/index.html?format=api.tmp\" [1]\n",
      "2024-02-29 01:06:36 URL:http://www.tng-project.org/api/TNG100-3-Dark/files/groupcat-62/?format=json [299/299] -> \"/Users/keenan/Data/simim_resources/simulations/TNG100-3-Dark/raw/groups_062/index.html?format=json.tmp\" [1]\n",
      "FINISHED --2024-02-29 01:06:38--\n",
      "Total wall clock time: 3.1s\n",
      "Downloaded: 15 files, 776K in 0.09s (8.33 MB/s)\n",
      "2024-02-29 01:06:38 URL:http://www.tng-project.org/api/TNG100-3-Dark/files/groupcat-63/?format=api [9164/9164] -> \"/Users/keenan/Data/simim_resources/simulations/TNG100-3-Dark/raw/groups_063/index.html?format=api.tmp\" [1]\n"
     ]
    },
    {
     "name": "stdout",
     "output_type": "stream",
     "text": [
      "\n",
      "Downloading Snapshot 63\n"
     ]
    },
    {
     "name": "stderr",
     "output_type": "stream",
     "text": [
      "2024-02-29 01:06:38 URL:http://www.tng-project.org/ [13013/13013] -> \"/Users/keenan/Data/simim_resources/simulations/TNG100-3-Dark/raw/groups_063/index.html.tmp\" [1]\n",
      "2024-02-29 01:06:38 URL:http://www.tng-project.org/about/ [36929/36929] -> \"/Users/keenan/Data/simim_resources/simulations/TNG100-3-Dark/raw/groups_063/index.html.tmp\" [1]\n",
      "2024-02-29 01:06:38 URL:http://www.tng-project.org/people/ [13267/13267] -> \"/Users/keenan/Data/simim_resources/simulations/TNG100-3-Dark/raw/groups_063/index.html.tmp\" [1]\n",
      "2024-02-29 01:06:38 URL:http://www.tng-project.org/results/ [484900/484900] -> \"/Users/keenan/Data/simim_resources/simulations/TNG100-3-Dark/raw/groups_063/index.html.tmp\" [1]\n",
      "2024-02-29 01:06:38 URL:http://www.tng-project.org/media/ [59010/59010] -> \"/Users/keenan/Data/simim_resources/simulations/TNG100-3-Dark/raw/groups_063/index.html.tmp\" [1]\n",
      "2024-02-29 01:06:39 URL:http://www.tng-project.org/data/ [43902/43902] -> \"/Users/keenan/Data/simim_resources/simulations/TNG100-3-Dark/raw/groups_063/index.html.tmp\" [1]\n",
      "2024-02-29 01:06:39 URL:http://www.tng-project.org/explore/ [3989/3989] -> \"/Users/keenan/Data/simim_resources/simulations/TNG100-3-Dark/raw/groups_063/index.html.tmp\" [1]\n",
      "2024-02-29 01:06:39 URL:http://www.tng-project.org/cluster/ [42614/42614] -> \"/Users/keenan/Data/simim_resources/simulations/TNG100-3-Dark/raw/groups_063/index.html.tmp\" [1]\n",
      "2024-02-29 01:06:39 URL:http://www.tng-project.org/users/login/ [5468/5468] -> \"/Users/keenan/Data/simim_resources/simulations/TNG100-3-Dark/raw/groups_063/index.html.tmp\" [1]\n",
      "2024-02-29 01:06:39 URL:http://www.tng-project.org/users/login/ [5468/5468] -> \"/Users/keenan/Data/simim_resources/simulations/TNG100-3-Dark/raw/groups_063/index.html.tmp\" [1]\n",
      "2024-02-29 01:06:39 URL:http://www.tng-project.org/api/?format=api [23499/23499] -> \"/Users/keenan/Data/simim_resources/simulations/TNG100-3-Dark/raw/groups_063/index.html?format=api.tmp\" [1]\n",
      "2024-02-29 01:06:39 URL:http://www.tng-project.org/api/TNG100-3-Dark/?format=api [10756/10756] -> \"/Users/keenan/Data/simim_resources/simulations/TNG100-3-Dark/raw/groups_063/index.html?format=api.tmp\" [1]\n",
      "2024-02-29 01:06:39 URL:http://www.tng-project.org/api/TNG100-3-Dark/files/?format=api [42579/42579] -> \"/Users/keenan/Data/simim_resources/simulations/TNG100-3-Dark/raw/groups_063/index.html?format=api.tmp\" [1]\n",
      "2024-02-29 01:06:39 URL:http://www.tng-project.org/api/TNG100-3-Dark/files/groupcat-63/?format=json [299/299] -> \"/Users/keenan/Data/simim_resources/simulations/TNG100-3-Dark/raw/groups_063/index.html?format=json.tmp\" [1]\n",
      "FINISHED --2024-02-29 01:06:41--\n",
      "Total wall clock time: 3.2s\n",
      "Downloaded: 15 files, 776K in 0.09s (8.09 MB/s)\n"
     ]
    },
    {
     "name": "stdout",
     "output_type": "stream",
     "text": [
      "\n",
      "Downloading Snapshot 64\n"
     ]
    },
    {
     "name": "stderr",
     "output_type": "stream",
     "text": [
      "2024-02-29 01:06:41 URL:http://www.tng-project.org/api/TNG100-3-Dark/files/groupcat-64/?format=api [9164/9164] -> \"/Users/keenan/Data/simim_resources/simulations/TNG100-3-Dark/raw/groups_064/index.html?format=api.tmp\" [1]\n",
      "2024-02-29 01:06:41 URL:http://www.tng-project.org/ [13013/13013] -> \"/Users/keenan/Data/simim_resources/simulations/TNG100-3-Dark/raw/groups_064/index.html.tmp\" [1]\n",
      "2024-02-29 01:06:41 URL:http://www.tng-project.org/about/ [36929/36929] -> \"/Users/keenan/Data/simim_resources/simulations/TNG100-3-Dark/raw/groups_064/index.html.tmp\" [1]\n",
      "2024-02-29 01:06:41 URL:http://www.tng-project.org/people/ [13273/13273] -> \"/Users/keenan/Data/simim_resources/simulations/TNG100-3-Dark/raw/groups_064/index.html.tmp\" [1]\n",
      "2024-02-29 01:06:42 URL:http://www.tng-project.org/results/ [484900/484900] -> \"/Users/keenan/Data/simim_resources/simulations/TNG100-3-Dark/raw/groups_064/index.html.tmp\" [1]\n",
      "2024-02-29 01:06:42 URL:http://www.tng-project.org/media/ [59010/59010] -> \"/Users/keenan/Data/simim_resources/simulations/TNG100-3-Dark/raw/groups_064/index.html.tmp\" [1]\n",
      "2024-02-29 01:06:42 URL:http://www.tng-project.org/data/ [43902/43902] -> \"/Users/keenan/Data/simim_resources/simulations/TNG100-3-Dark/raw/groups_064/index.html.tmp\" [1]\n",
      "2024-02-29 01:06:42 URL:http://www.tng-project.org/explore/ [3989/3989] -> \"/Users/keenan/Data/simim_resources/simulations/TNG100-3-Dark/raw/groups_064/index.html.tmp\" [1]\n",
      "2024-02-29 01:06:42 URL:http://www.tng-project.org/cluster/ [42614/42614] -> \"/Users/keenan/Data/simim_resources/simulations/TNG100-3-Dark/raw/groups_064/index.html.tmp\" [1]\n",
      "2024-02-29 01:06:42 URL:http://www.tng-project.org/users/login/ [5468/5468] -> \"/Users/keenan/Data/simim_resources/simulations/TNG100-3-Dark/raw/groups_064/index.html.tmp\" [1]\n",
      "2024-02-29 01:06:42 URL:http://www.tng-project.org/users/login/ [5468/5468] -> \"/Users/keenan/Data/simim_resources/simulations/TNG100-3-Dark/raw/groups_064/index.html.tmp\" [1]\n",
      "2024-02-29 01:06:42 URL:http://www.tng-project.org/api/?format=api [23499/23499] -> \"/Users/keenan/Data/simim_resources/simulations/TNG100-3-Dark/raw/groups_064/index.html?format=api.tmp\" [1]\n",
      "2024-02-29 01:06:42 URL:http://www.tng-project.org/api/TNG100-3-Dark/?format=api [10756/10756] -> \"/Users/keenan/Data/simim_resources/simulations/TNG100-3-Dark/raw/groups_064/index.html?format=api.tmp\" [1]\n",
      "2024-02-29 01:06:43 URL:http://www.tng-project.org/api/TNG100-3-Dark/files/?format=api [42579/42579] -> \"/Users/keenan/Data/simim_resources/simulations/TNG100-3-Dark/raw/groups_064/index.html?format=api.tmp\" [1]\n",
      "2024-02-29 01:06:43 URL:http://www.tng-project.org/api/TNG100-3-Dark/files/groupcat-64/?format=json [299/299] -> \"/Users/keenan/Data/simim_resources/simulations/TNG100-3-Dark/raw/groups_064/index.html?format=json.tmp\" [1]\n",
      "FINISHED --2024-02-29 01:06:44--\n",
      "Total wall clock time: 3.4s\n",
      "Downloaded: 15 files, 776K in 0.1s (5.34 MB/s)\n"
     ]
    },
    {
     "name": "stdout",
     "output_type": "stream",
     "text": [
      "\n",
      "Downloading Snapshot 65\n"
     ]
    },
    {
     "name": "stderr",
     "output_type": "stream",
     "text": [
      "2024-02-29 01:06:44 URL:http://www.tng-project.org/api/TNG100-3-Dark/files/groupcat-65/?format=api [9164/9164] -> \"/Users/keenan/Data/simim_resources/simulations/TNG100-3-Dark/raw/groups_065/index.html?format=api.tmp\" [1]\n",
      "2024-02-29 01:06:45 URL:http://www.tng-project.org/ [13013/13013] -> \"/Users/keenan/Data/simim_resources/simulations/TNG100-3-Dark/raw/groups_065/index.html.tmp\" [1]\n",
      "2024-02-29 01:06:45 URL:http://www.tng-project.org/about/ [36929/36929] -> \"/Users/keenan/Data/simim_resources/simulations/TNG100-3-Dark/raw/groups_065/index.html.tmp\" [1]\n",
      "2024-02-29 01:06:45 URL:http://www.tng-project.org/people/ [13267/13267] -> \"/Users/keenan/Data/simim_resources/simulations/TNG100-3-Dark/raw/groups_065/index.html.tmp\" [1]\n",
      "2024-02-29 01:06:45 URL:http://www.tng-project.org/results/ [484900/484900] -> \"/Users/keenan/Data/simim_resources/simulations/TNG100-3-Dark/raw/groups_065/index.html.tmp\" [1]\n",
      "2024-02-29 01:06:45 URL:http://www.tng-project.org/media/ [59010/59010] -> \"/Users/keenan/Data/simim_resources/simulations/TNG100-3-Dark/raw/groups_065/index.html.tmp\" [1]\n",
      "2024-02-29 01:06:45 URL:http://www.tng-project.org/data/ [43902/43902] -> \"/Users/keenan/Data/simim_resources/simulations/TNG100-3-Dark/raw/groups_065/index.html.tmp\" [1]\n",
      "2024-02-29 01:06:45 URL:http://www.tng-project.org/explore/ [3989/3989] -> \"/Users/keenan/Data/simim_resources/simulations/TNG100-3-Dark/raw/groups_065/index.html.tmp\" [1]\n",
      "2024-02-29 01:06:45 URL:http://www.tng-project.org/cluster/ [42614/42614] -> \"/Users/keenan/Data/simim_resources/simulations/TNG100-3-Dark/raw/groups_065/index.html.tmp\" [1]\n",
      "2024-02-29 01:06:45 URL:http://www.tng-project.org/users/login/ [5468/5468] -> \"/Users/keenan/Data/simim_resources/simulations/TNG100-3-Dark/raw/groups_065/index.html.tmp\" [1]\n",
      "2024-02-29 01:06:46 URL:http://www.tng-project.org/users/login/ [5468/5468] -> \"/Users/keenan/Data/simim_resources/simulations/TNG100-3-Dark/raw/groups_065/index.html.tmp\" [1]\n",
      "2024-02-29 01:06:46 URL:http://www.tng-project.org/api/?format=api [23499/23499] -> \"/Users/keenan/Data/simim_resources/simulations/TNG100-3-Dark/raw/groups_065/index.html?format=api.tmp\" [1]\n",
      "2024-02-29 01:06:46 URL:http://www.tng-project.org/api/TNG100-3-Dark/?format=api [10756/10756] -> \"/Users/keenan/Data/simim_resources/simulations/TNG100-3-Dark/raw/groups_065/index.html?format=api.tmp\" [1]\n",
      "2024-02-29 01:06:46 URL:http://www.tng-project.org/api/TNG100-3-Dark/files/?format=api [42579/42579] -> \"/Users/keenan/Data/simim_resources/simulations/TNG100-3-Dark/raw/groups_065/index.html?format=api.tmp\" [1]\n",
      "2024-02-29 01:06:46 URL:http://www.tng-project.org/api/TNG100-3-Dark/files/groupcat-65/?format=json [299/299] -> \"/Users/keenan/Data/simim_resources/simulations/TNG100-3-Dark/raw/groups_065/index.html?format=json.tmp\" [1]\n",
      "FINISHED --2024-02-29 01:06:47--\n",
      "Total wall clock time: 3.0s\n",
      "Downloaded: 15 files, 776K in 0.09s (8.20 MB/s)\n"
     ]
    },
    {
     "name": "stdout",
     "output_type": "stream",
     "text": [
      "\n",
      "Downloading Snapshot 66\n"
     ]
    },
    {
     "name": "stderr",
     "output_type": "stream",
     "text": [
      "2024-02-29 01:06:47 URL:http://www.tng-project.org/api/TNG100-3-Dark/files/groupcat-66/?format=api [9164/9164] -> \"/Users/keenan/Data/simim_resources/simulations/TNG100-3-Dark/raw/groups_066/index.html?format=api.tmp\" [1]\n",
      "2024-02-29 01:06:48 URL:http://www.tng-project.org/ [13013/13013] -> \"/Users/keenan/Data/simim_resources/simulations/TNG100-3-Dark/raw/groups_066/index.html.tmp\" [1]\n",
      "2024-02-29 01:06:48 URL:http://www.tng-project.org/about/ [36929/36929] -> \"/Users/keenan/Data/simim_resources/simulations/TNG100-3-Dark/raw/groups_066/index.html.tmp\" [1]\n",
      "2024-02-29 01:06:48 URL:http://www.tng-project.org/people/ [13267/13267] -> \"/Users/keenan/Data/simim_resources/simulations/TNG100-3-Dark/raw/groups_066/index.html.tmp\" [1]\n",
      "2024-02-29 01:06:48 URL:http://www.tng-project.org/results/ [484900/484900] -> \"/Users/keenan/Data/simim_resources/simulations/TNG100-3-Dark/raw/groups_066/index.html.tmp\" [1]\n",
      "2024-02-29 01:06:48 URL:http://www.tng-project.org/media/ [59010/59010] -> \"/Users/keenan/Data/simim_resources/simulations/TNG100-3-Dark/raw/groups_066/index.html.tmp\" [1]\n",
      "2024-02-29 01:06:49 URL:http://www.tng-project.org/data/ [43902/43902] -> \"/Users/keenan/Data/simim_resources/simulations/TNG100-3-Dark/raw/groups_066/index.html.tmp\" [1]\n",
      "2024-02-29 01:06:49 URL:http://www.tng-project.org/explore/ [3989/3989] -> \"/Users/keenan/Data/simim_resources/simulations/TNG100-3-Dark/raw/groups_066/index.html.tmp\" [1]\n",
      "2024-02-29 01:06:49 URL:http://www.tng-project.org/cluster/ [42614/42614] -> \"/Users/keenan/Data/simim_resources/simulations/TNG100-3-Dark/raw/groups_066/index.html.tmp\" [1]\n",
      "2024-02-29 01:06:49 URL:http://www.tng-project.org/users/login/ [5468/5468] -> \"/Users/keenan/Data/simim_resources/simulations/TNG100-3-Dark/raw/groups_066/index.html.tmp\" [1]\n",
      "2024-02-29 01:06:49 URL:http://www.tng-project.org/users/login/ [5468/5468] -> \"/Users/keenan/Data/simim_resources/simulations/TNG100-3-Dark/raw/groups_066/index.html.tmp\" [1]\n",
      "2024-02-29 01:06:49 URL:http://www.tng-project.org/api/?format=api [23499/23499] -> \"/Users/keenan/Data/simim_resources/simulations/TNG100-3-Dark/raw/groups_066/index.html?format=api.tmp\" [1]\n",
      "2024-02-29 01:06:49 URL:http://www.tng-project.org/api/TNG100-3-Dark/?format=api [10756/10756] -> \"/Users/keenan/Data/simim_resources/simulations/TNG100-3-Dark/raw/groups_066/index.html?format=api.tmp\" [1]\n",
      "2024-02-29 01:06:49 URL:http://www.tng-project.org/api/TNG100-3-Dark/files/?format=api [42579/42579] -> \"/Users/keenan/Data/simim_resources/simulations/TNG100-3-Dark/raw/groups_066/index.html?format=api.tmp\" [1]\n",
      "2024-02-29 01:06:49 URL:http://www.tng-project.org/api/TNG100-3-Dark/files/groupcat-66/?format=json [299/299] -> \"/Users/keenan/Data/simim_resources/simulations/TNG100-3-Dark/raw/groups_066/index.html?format=json.tmp\" [1]\n",
      "FINISHED --2024-02-29 01:06:51--\n",
      "Total wall clock time: 3.3s\n",
      "Downloaded: 15 files, 776K in 0.1s (6.27 MB/s)\n"
     ]
    },
    {
     "name": "stdout",
     "output_type": "stream",
     "text": [
      "\n",
      "Downloading Snapshot 67\n"
     ]
    },
    {
     "name": "stderr",
     "output_type": "stream",
     "text": [
      "2024-02-29 01:06:51 URL:http://www.tng-project.org/api/TNG100-3-Dark/files/groupcat-67/?format=api [9164/9164] -> \"/Users/keenan/Data/simim_resources/simulations/TNG100-3-Dark/raw/groups_067/index.html?format=api.tmp\" [1]\n",
      "2024-02-29 01:06:51 URL:http://www.tng-project.org/ [13013/13013] -> \"/Users/keenan/Data/simim_resources/simulations/TNG100-3-Dark/raw/groups_067/index.html.tmp\" [1]\n",
      "2024-02-29 01:06:51 URL:http://www.tng-project.org/about/ [36929/36929] -> \"/Users/keenan/Data/simim_resources/simulations/TNG100-3-Dark/raw/groups_067/index.html.tmp\" [1]\n",
      "2024-02-29 01:06:51 URL:http://www.tng-project.org/people/ [13267/13267] -> \"/Users/keenan/Data/simim_resources/simulations/TNG100-3-Dark/raw/groups_067/index.html.tmp\" [1]\n",
      "2024-02-29 01:06:51 URL:http://www.tng-project.org/results/ [484900/484900] -> \"/Users/keenan/Data/simim_resources/simulations/TNG100-3-Dark/raw/groups_067/index.html.tmp\" [1]\n",
      "2024-02-29 01:06:51 URL:http://www.tng-project.org/media/ [59010/59010] -> \"/Users/keenan/Data/simim_resources/simulations/TNG100-3-Dark/raw/groups_067/index.html.tmp\" [1]\n",
      "2024-02-29 01:06:52 URL:http://www.tng-project.org/data/ [43902/43902] -> \"/Users/keenan/Data/simim_resources/simulations/TNG100-3-Dark/raw/groups_067/index.html.tmp\" [1]\n",
      "2024-02-29 01:06:52 URL:http://www.tng-project.org/explore/ [3989/3989] -> \"/Users/keenan/Data/simim_resources/simulations/TNG100-3-Dark/raw/groups_067/index.html.tmp\" [1]\n",
      "2024-02-29 01:06:52 URL:http://www.tng-project.org/cluster/ [42614/42614] -> \"/Users/keenan/Data/simim_resources/simulations/TNG100-3-Dark/raw/groups_067/index.html.tmp\" [1]\n",
      "2024-02-29 01:06:52 URL:http://www.tng-project.org/users/login/ [5468/5468] -> \"/Users/keenan/Data/simim_resources/simulations/TNG100-3-Dark/raw/groups_067/index.html.tmp\" [1]\n",
      "2024-02-29 01:06:52 URL:http://www.tng-project.org/users/login/ [5468/5468] -> \"/Users/keenan/Data/simim_resources/simulations/TNG100-3-Dark/raw/groups_067/index.html.tmp\" [1]\n",
      "2024-02-29 01:06:52 URL:http://www.tng-project.org/api/?format=api [23499/23499] -> \"/Users/keenan/Data/simim_resources/simulations/TNG100-3-Dark/raw/groups_067/index.html?format=api.tmp\" [1]\n",
      "2024-02-29 01:06:52 URL:http://www.tng-project.org/api/TNG100-3-Dark/?format=api [10756/10756] -> \"/Users/keenan/Data/simim_resources/simulations/TNG100-3-Dark/raw/groups_067/index.html?format=api.tmp\" [1]\n",
      "2024-02-29 01:06:52 URL:http://www.tng-project.org/api/TNG100-3-Dark/files/?format=api [42579/42579] -> \"/Users/keenan/Data/simim_resources/simulations/TNG100-3-Dark/raw/groups_067/index.html?format=api.tmp\" [1]\n",
      "2024-02-29 01:06:52 URL:http://www.tng-project.org/api/TNG100-3-Dark/files/groupcat-67/?format=json [299/299] -> \"/Users/keenan/Data/simim_resources/simulations/TNG100-3-Dark/raw/groups_067/index.html?format=json.tmp\" [1]\n",
      "FINISHED --2024-02-29 01:06:54--\n",
      "Total wall clock time: 3.1s\n",
      "Downloaded: 15 files, 776K in 0.1s (7.27 MB/s)\n"
     ]
    },
    {
     "name": "stdout",
     "output_type": "stream",
     "text": [
      "\n",
      "Downloading Snapshot 68\n"
     ]
    },
    {
     "name": "stderr",
     "output_type": "stream",
     "text": [
      "2024-02-29 01:06:54 URL:http://www.tng-project.org/api/TNG100-3-Dark/files/groupcat-68/?format=api [9164/9164] -> \"/Users/keenan/Data/simim_resources/simulations/TNG100-3-Dark/raw/groups_068/index.html?format=api.tmp\" [1]\n",
      "2024-02-29 01:06:54 URL:http://www.tng-project.org/ [13013/13013] -> \"/Users/keenan/Data/simim_resources/simulations/TNG100-3-Dark/raw/groups_068/index.html.tmp\" [1]\n",
      "2024-02-29 01:06:54 URL:http://www.tng-project.org/about/ [36929/36929] -> \"/Users/keenan/Data/simim_resources/simulations/TNG100-3-Dark/raw/groups_068/index.html.tmp\" [1]\n",
      "2024-02-29 01:06:54 URL:http://www.tng-project.org/people/ [13273/13273] -> \"/Users/keenan/Data/simim_resources/simulations/TNG100-3-Dark/raw/groups_068/index.html.tmp\" [1]\n",
      "2024-02-29 01:06:54 URL:http://www.tng-project.org/results/ [484900/484900] -> \"/Users/keenan/Data/simim_resources/simulations/TNG100-3-Dark/raw/groups_068/index.html.tmp\" [1]\n",
      "2024-02-29 01:06:54 URL:http://www.tng-project.org/media/ [59010/59010] -> \"/Users/keenan/Data/simim_resources/simulations/TNG100-3-Dark/raw/groups_068/index.html.tmp\" [1]\n",
      "2024-02-29 01:06:55 URL:http://www.tng-project.org/data/ [43902/43902] -> \"/Users/keenan/Data/simim_resources/simulations/TNG100-3-Dark/raw/groups_068/index.html.tmp\" [1]\n",
      "2024-02-29 01:06:55 URL:http://www.tng-project.org/explore/ [3989/3989] -> \"/Users/keenan/Data/simim_resources/simulations/TNG100-3-Dark/raw/groups_068/index.html.tmp\" [1]\n",
      "2024-02-29 01:06:55 URL:http://www.tng-project.org/cluster/ [42614/42614] -> \"/Users/keenan/Data/simim_resources/simulations/TNG100-3-Dark/raw/groups_068/index.html.tmp\" [1]\n",
      "2024-02-29 01:06:55 URL:http://www.tng-project.org/users/login/ [5468/5468] -> \"/Users/keenan/Data/simim_resources/simulations/TNG100-3-Dark/raw/groups_068/index.html.tmp\" [1]\n",
      "2024-02-29 01:06:55 URL:http://www.tng-project.org/users/login/ [5468/5468] -> \"/Users/keenan/Data/simim_resources/simulations/TNG100-3-Dark/raw/groups_068/index.html.tmp\" [1]\n",
      "2024-02-29 01:06:55 URL:http://www.tng-project.org/api/?format=api [23499/23499] -> \"/Users/keenan/Data/simim_resources/simulations/TNG100-3-Dark/raw/groups_068/index.html?format=api.tmp\" [1]\n",
      "2024-02-29 01:06:55 URL:http://www.tng-project.org/api/TNG100-3-Dark/?format=api [10756/10756] -> \"/Users/keenan/Data/simim_resources/simulations/TNG100-3-Dark/raw/groups_068/index.html?format=api.tmp\" [1]\n",
      "2024-02-29 01:06:55 URL:http://www.tng-project.org/api/TNG100-3-Dark/files/?format=api [42579/42579] -> \"/Users/keenan/Data/simim_resources/simulations/TNG100-3-Dark/raw/groups_068/index.html?format=api.tmp\" [1]\n",
      "2024-02-29 01:06:55 URL:http://www.tng-project.org/api/TNG100-3-Dark/files/groupcat-68/?format=json [299/299] -> \"/Users/keenan/Data/simim_resources/simulations/TNG100-3-Dark/raw/groups_068/index.html?format=json.tmp\" [1]\n",
      "FINISHED --2024-02-29 01:06:57--\n",
      "Total wall clock time: 3.1s\n",
      "Downloaded: 15 files, 776K in 0.09s (8.50 MB/s)\n"
     ]
    },
    {
     "name": "stdout",
     "output_type": "stream",
     "text": [
      "\n",
      "Downloading Snapshot 69\n"
     ]
    },
    {
     "name": "stderr",
     "output_type": "stream",
     "text": [
      "2024-02-29 01:06:57 URL:http://www.tng-project.org/api/TNG100-3-Dark/files/groupcat-69/?format=api [9164/9164] -> \"/Users/keenan/Data/simim_resources/simulations/TNG100-3-Dark/raw/groups_069/index.html?format=api.tmp\" [1]\n",
      "2024-02-29 01:06:57 URL:http://www.tng-project.org/ [13013/13013] -> \"/Users/keenan/Data/simim_resources/simulations/TNG100-3-Dark/raw/groups_069/index.html.tmp\" [1]\n",
      "2024-02-29 01:06:57 URL:http://www.tng-project.org/about/ [36929/36929] -> \"/Users/keenan/Data/simim_resources/simulations/TNG100-3-Dark/raw/groups_069/index.html.tmp\" [1]\n",
      "2024-02-29 01:06:57 URL:http://www.tng-project.org/people/ [13273/13273] -> \"/Users/keenan/Data/simim_resources/simulations/TNG100-3-Dark/raw/groups_069/index.html.tmp\" [1]\n",
      "2024-02-29 01:06:57 URL:http://www.tng-project.org/results/ [484900/484900] -> \"/Users/keenan/Data/simim_resources/simulations/TNG100-3-Dark/raw/groups_069/index.html.tmp\" [1]\n",
      "2024-02-29 01:06:57 URL:http://www.tng-project.org/media/ [59010/59010] -> \"/Users/keenan/Data/simim_resources/simulations/TNG100-3-Dark/raw/groups_069/index.html.tmp\" [1]\n",
      "2024-02-29 01:06:58 URL:http://www.tng-project.org/data/ [43902/43902] -> \"/Users/keenan/Data/simim_resources/simulations/TNG100-3-Dark/raw/groups_069/index.html.tmp\" [1]\n",
      "2024-02-29 01:06:58 URL:http://www.tng-project.org/explore/ [3989/3989] -> \"/Users/keenan/Data/simim_resources/simulations/TNG100-3-Dark/raw/groups_069/index.html.tmp\" [1]\n",
      "2024-02-29 01:06:58 URL:http://www.tng-project.org/cluster/ [42614/42614] -> \"/Users/keenan/Data/simim_resources/simulations/TNG100-3-Dark/raw/groups_069/index.html.tmp\" [1]\n",
      "2024-02-29 01:06:58 URL:http://www.tng-project.org/users/login/ [5468/5468] -> \"/Users/keenan/Data/simim_resources/simulations/TNG100-3-Dark/raw/groups_069/index.html.tmp\" [1]\n",
      "2024-02-29 01:06:58 URL:http://www.tng-project.org/users/login/ [5468/5468] -> \"/Users/keenan/Data/simim_resources/simulations/TNG100-3-Dark/raw/groups_069/index.html.tmp\" [1]\n",
      "2024-02-29 01:06:58 URL:http://www.tng-project.org/api/?format=api [23499/23499] -> \"/Users/keenan/Data/simim_resources/simulations/TNG100-3-Dark/raw/groups_069/index.html?format=api.tmp\" [1]\n",
      "2024-02-29 01:06:58 URL:http://www.tng-project.org/api/TNG100-3-Dark/?format=api [10756/10756] -> \"/Users/keenan/Data/simim_resources/simulations/TNG100-3-Dark/raw/groups_069/index.html?format=api.tmp\" [1]\n",
      "2024-02-29 01:06:58 URL:http://www.tng-project.org/api/TNG100-3-Dark/files/?format=api [42579/42579] -> \"/Users/keenan/Data/simim_resources/simulations/TNG100-3-Dark/raw/groups_069/index.html?format=api.tmp\" [1]\n",
      "2024-02-29 01:06:59 URL:http://www.tng-project.org/api/TNG100-3-Dark/files/groupcat-69/?format=json [299/299] -> \"/Users/keenan/Data/simim_resources/simulations/TNG100-3-Dark/raw/groups_069/index.html?format=json.tmp\" [1]\n",
      "FINISHED --2024-02-29 01:07:00--\n",
      "Total wall clock time: 3.1s\n",
      "Downloaded: 15 files, 776K in 0.09s (8.34 MB/s)\n"
     ]
    },
    {
     "name": "stdout",
     "output_type": "stream",
     "text": [
      "\n",
      "Downloading Snapshot 70\n"
     ]
    },
    {
     "name": "stderr",
     "output_type": "stream",
     "text": [
      "2024-02-29 01:07:00 URL:http://www.tng-project.org/api/TNG100-3-Dark/files/groupcat-70/?format=api [9164/9164] -> \"/Users/keenan/Data/simim_resources/simulations/TNG100-3-Dark/raw/groups_070/index.html?format=api.tmp\" [1]\n",
      "2024-02-29 01:07:00 URL:http://www.tng-project.org/ [13013/13013] -> \"/Users/keenan/Data/simim_resources/simulations/TNG100-3-Dark/raw/groups_070/index.html.tmp\" [1]\n",
      "2024-02-29 01:07:00 URL:http://www.tng-project.org/about/ [36929/36929] -> \"/Users/keenan/Data/simim_resources/simulations/TNG100-3-Dark/raw/groups_070/index.html.tmp\" [1]\n",
      "2024-02-29 01:07:00 URL:http://www.tng-project.org/people/ [13273/13273] -> \"/Users/keenan/Data/simim_resources/simulations/TNG100-3-Dark/raw/groups_070/index.html.tmp\" [1]\n",
      "2024-02-29 01:07:01 URL:http://www.tng-project.org/results/ [484900/484900] -> \"/Users/keenan/Data/simim_resources/simulations/TNG100-3-Dark/raw/groups_070/index.html.tmp\" [1]\n",
      "2024-02-29 01:07:01 URL:http://www.tng-project.org/media/ [59010/59010] -> \"/Users/keenan/Data/simim_resources/simulations/TNG100-3-Dark/raw/groups_070/index.html.tmp\" [1]\n",
      "2024-02-29 01:07:01 URL:http://www.tng-project.org/data/ [43902/43902] -> \"/Users/keenan/Data/simim_resources/simulations/TNG100-3-Dark/raw/groups_070/index.html.tmp\" [1]\n",
      "2024-02-29 01:07:01 URL:http://www.tng-project.org/explore/ [3989/3989] -> \"/Users/keenan/Data/simim_resources/simulations/TNG100-3-Dark/raw/groups_070/index.html.tmp\" [1]\n",
      "2024-02-29 01:07:01 URL:http://www.tng-project.org/cluster/ [42614/42614] -> \"/Users/keenan/Data/simim_resources/simulations/TNG100-3-Dark/raw/groups_070/index.html.tmp\" [1]\n",
      "2024-02-29 01:07:01 URL:http://www.tng-project.org/users/login/ [5468/5468] -> \"/Users/keenan/Data/simim_resources/simulations/TNG100-3-Dark/raw/groups_070/index.html.tmp\" [1]\n",
      "2024-02-29 01:07:01 URL:http://www.tng-project.org/users/login/ [5468/5468] -> \"/Users/keenan/Data/simim_resources/simulations/TNG100-3-Dark/raw/groups_070/index.html.tmp\" [1]\n",
      "2024-02-29 01:07:01 URL:http://www.tng-project.org/api/?format=api [23499/23499] -> \"/Users/keenan/Data/simim_resources/simulations/TNG100-3-Dark/raw/groups_070/index.html?format=api.tmp\" [1]\n",
      "2024-02-29 01:07:01 URL:http://www.tng-project.org/api/TNG100-3-Dark/?format=api [10756/10756] -> \"/Users/keenan/Data/simim_resources/simulations/TNG100-3-Dark/raw/groups_070/index.html?format=api.tmp\" [1]\n",
      "2024-02-29 01:07:02 URL:http://www.tng-project.org/api/TNG100-3-Dark/files/?format=api [42579/42579] -> \"/Users/keenan/Data/simim_resources/simulations/TNG100-3-Dark/raw/groups_070/index.html?format=api.tmp\" [1]\n",
      "2024-02-29 01:07:02 URL:http://www.tng-project.org/api/TNG100-3-Dark/files/groupcat-70/?format=json [299/299] -> \"/Users/keenan/Data/simim_resources/simulations/TNG100-3-Dark/raw/groups_070/index.html?format=json.tmp\" [1]\n",
      "FINISHED --2024-02-29 01:07:03--\n",
      "Total wall clock time: 3.2s\n",
      "Downloaded: 15 files, 776K in 0.1s (7.29 MB/s)\n"
     ]
    },
    {
     "name": "stdout",
     "output_type": "stream",
     "text": [
      "\n",
      "Downloading Snapshot 71\n"
     ]
    },
    {
     "name": "stderr",
     "output_type": "stream",
     "text": [
      "2024-02-29 01:07:03 URL:http://www.tng-project.org/api/TNG100-3-Dark/files/groupcat-71/?format=api [9164/9164] -> \"/Users/keenan/Data/simim_resources/simulations/TNG100-3-Dark/raw/groups_071/index.html?format=api.tmp\" [1]\n",
      "2024-02-29 01:07:03 URL:http://www.tng-project.org/ [13013/13013] -> \"/Users/keenan/Data/simim_resources/simulations/TNG100-3-Dark/raw/groups_071/index.html.tmp\" [1]\n",
      "2024-02-29 01:07:03 URL:http://www.tng-project.org/about/ [36929/36929] -> \"/Users/keenan/Data/simim_resources/simulations/TNG100-3-Dark/raw/groups_071/index.html.tmp\" [1]\n",
      "2024-02-29 01:07:03 URL:http://www.tng-project.org/people/ [13267/13267] -> \"/Users/keenan/Data/simim_resources/simulations/TNG100-3-Dark/raw/groups_071/index.html.tmp\" [1]\n",
      "2024-02-29 01:07:04 URL:http://www.tng-project.org/results/ [484900/484900] -> \"/Users/keenan/Data/simim_resources/simulations/TNG100-3-Dark/raw/groups_071/index.html.tmp\" [1]\n",
      "2024-02-29 01:07:04 URL:http://www.tng-project.org/media/ [59010/59010] -> \"/Users/keenan/Data/simim_resources/simulations/TNG100-3-Dark/raw/groups_071/index.html.tmp\" [1]\n",
      "2024-02-29 01:07:04 URL:http://www.tng-project.org/data/ [43902/43902] -> \"/Users/keenan/Data/simim_resources/simulations/TNG100-3-Dark/raw/groups_071/index.html.tmp\" [1]\n",
      "2024-02-29 01:07:04 URL:http://www.tng-project.org/explore/ [3989/3989] -> \"/Users/keenan/Data/simim_resources/simulations/TNG100-3-Dark/raw/groups_071/index.html.tmp\" [1]\n",
      "2024-02-29 01:07:04 URL:http://www.tng-project.org/cluster/ [42614/42614] -> \"/Users/keenan/Data/simim_resources/simulations/TNG100-3-Dark/raw/groups_071/index.html.tmp\" [1]\n",
      "2024-02-29 01:07:04 URL:http://www.tng-project.org/users/login/ [5468/5468] -> \"/Users/keenan/Data/simim_resources/simulations/TNG100-3-Dark/raw/groups_071/index.html.tmp\" [1]\n",
      "2024-02-29 01:07:04 URL:http://www.tng-project.org/users/login/ [5468/5468] -> \"/Users/keenan/Data/simim_resources/simulations/TNG100-3-Dark/raw/groups_071/index.html.tmp\" [1]\n",
      "2024-02-29 01:07:04 URL:http://www.tng-project.org/api/?format=api [23499/23499] -> \"/Users/keenan/Data/simim_resources/simulations/TNG100-3-Dark/raw/groups_071/index.html?format=api.tmp\" [1]\n",
      "2024-02-29 01:07:05 URL:http://www.tng-project.org/api/TNG100-3-Dark/?format=api [10756/10756] -> \"/Users/keenan/Data/simim_resources/simulations/TNG100-3-Dark/raw/groups_071/index.html?format=api.tmp\" [1]\n",
      "2024-02-29 01:07:05 URL:http://www.tng-project.org/api/TNG100-3-Dark/files/?format=api [42579/42579] -> \"/Users/keenan/Data/simim_resources/simulations/TNG100-3-Dark/raw/groups_071/index.html?format=api.tmp\" [1]\n",
      "2024-02-29 01:07:05 URL:http://www.tng-project.org/api/TNG100-3-Dark/files/groupcat-71/?format=json [299/299] -> \"/Users/keenan/Data/simim_resources/simulations/TNG100-3-Dark/raw/groups_071/index.html?format=json.tmp\" [1]\n",
      "FINISHED --2024-02-29 01:07:06--\n",
      "Total wall clock time: 3.1s\n",
      "Downloaded: 15 files, 776K in 0.09s (8.40 MB/s)\n"
     ]
    },
    {
     "name": "stdout",
     "output_type": "stream",
     "text": [
      "\n",
      "Downloading Snapshot 72\n"
     ]
    },
    {
     "name": "stderr",
     "output_type": "stream",
     "text": [
      "2024-02-29 01:07:06 URL:http://www.tng-project.org/api/TNG100-3-Dark/files/groupcat-72/?format=api [9164/9164] -> \"/Users/keenan/Data/simim_resources/simulations/TNG100-3-Dark/raw/groups_072/index.html?format=api.tmp\" [1]\n",
      "2024-02-29 01:07:06 URL:http://www.tng-project.org/ [13013/13013] -> \"/Users/keenan/Data/simim_resources/simulations/TNG100-3-Dark/raw/groups_072/index.html.tmp\" [1]\n",
      "2024-02-29 01:07:06 URL:http://www.tng-project.org/about/ [36929/36929] -> \"/Users/keenan/Data/simim_resources/simulations/TNG100-3-Dark/raw/groups_072/index.html.tmp\" [1]\n",
      "2024-02-29 01:07:06 URL:http://www.tng-project.org/people/ [13267/13267] -> \"/Users/keenan/Data/simim_resources/simulations/TNG100-3-Dark/raw/groups_072/index.html.tmp\" [1]\n",
      "2024-02-29 01:07:07 URL:http://www.tng-project.org/results/ [484900/484900] -> \"/Users/keenan/Data/simim_resources/simulations/TNG100-3-Dark/raw/groups_072/index.html.tmp\" [1]\n",
      "2024-02-29 01:07:07 URL:http://www.tng-project.org/media/ [59010/59010] -> \"/Users/keenan/Data/simim_resources/simulations/TNG100-3-Dark/raw/groups_072/index.html.tmp\" [1]\n",
      "2024-02-29 01:07:07 URL:http://www.tng-project.org/data/ [43902/43902] -> \"/Users/keenan/Data/simim_resources/simulations/TNG100-3-Dark/raw/groups_072/index.html.tmp\" [1]\n",
      "2024-02-29 01:07:07 URL:http://www.tng-project.org/explore/ [3989/3989] -> \"/Users/keenan/Data/simim_resources/simulations/TNG100-3-Dark/raw/groups_072/index.html.tmp\" [1]\n",
      "2024-02-29 01:07:07 URL:http://www.tng-project.org/cluster/ [42614/42614] -> \"/Users/keenan/Data/simim_resources/simulations/TNG100-3-Dark/raw/groups_072/index.html.tmp\" [1]\n",
      "2024-02-29 01:07:07 URL:http://www.tng-project.org/users/login/ [5468/5468] -> \"/Users/keenan/Data/simim_resources/simulations/TNG100-3-Dark/raw/groups_072/index.html.tmp\" [1]\n",
      "2024-02-29 01:07:07 URL:http://www.tng-project.org/users/login/ [5468/5468] -> \"/Users/keenan/Data/simim_resources/simulations/TNG100-3-Dark/raw/groups_072/index.html.tmp\" [1]\n",
      "2024-02-29 01:07:08 URL:http://www.tng-project.org/api/?format=api [23499/23499] -> \"/Users/keenan/Data/simim_resources/simulations/TNG100-3-Dark/raw/groups_072/index.html?format=api.tmp\" [1]\n",
      "2024-02-29 01:07:08 URL:http://www.tng-project.org/api/TNG100-3-Dark/?format=api [10756/10756] -> \"/Users/keenan/Data/simim_resources/simulations/TNG100-3-Dark/raw/groups_072/index.html?format=api.tmp\" [1]\n",
      "2024-02-29 01:07:08 URL:http://www.tng-project.org/api/TNG100-3-Dark/files/?format=api [42579/42579] -> \"/Users/keenan/Data/simim_resources/simulations/TNG100-3-Dark/raw/groups_072/index.html?format=api.tmp\" [1]\n",
      "2024-02-29 01:07:08 URL:http://www.tng-project.org/api/TNG100-3-Dark/files/groupcat-72/?format=json [299/299] -> \"/Users/keenan/Data/simim_resources/simulations/TNG100-3-Dark/raw/groups_072/index.html?format=json.tmp\" [1]\n",
      "FINISHED --2024-02-29 01:07:09--\n",
      "Total wall clock time: 3.0s\n",
      "Downloaded: 15 files, 776K in 0.09s (8.29 MB/s)\n"
     ]
    },
    {
     "name": "stdout",
     "output_type": "stream",
     "text": [
      "\n",
      "Downloading Snapshot 73\n"
     ]
    },
    {
     "name": "stderr",
     "output_type": "stream",
     "text": [
      "2024-02-29 01:07:09 URL:http://www.tng-project.org/api/TNG100-3-Dark/files/groupcat-73/?format=api [9164/9164] -> \"/Users/keenan/Data/simim_resources/simulations/TNG100-3-Dark/raw/groups_073/index.html?format=api.tmp\" [1]\n",
      "2024-02-29 01:07:09 URL:http://www.tng-project.org/ [13013/13013] -> \"/Users/keenan/Data/simim_resources/simulations/TNG100-3-Dark/raw/groups_073/index.html.tmp\" [1]\n",
      "2024-02-29 01:07:09 URL:http://www.tng-project.org/about/ [36929/36929] -> \"/Users/keenan/Data/simim_resources/simulations/TNG100-3-Dark/raw/groups_073/index.html.tmp\" [1]\n",
      "2024-02-29 01:07:10 URL:http://www.tng-project.org/people/ [13273/13273] -> \"/Users/keenan/Data/simim_resources/simulations/TNG100-3-Dark/raw/groups_073/index.html.tmp\" [1]\n",
      "2024-02-29 01:07:10 URL:http://www.tng-project.org/results/ [484900/484900] -> \"/Users/keenan/Data/simim_resources/simulations/TNG100-3-Dark/raw/groups_073/index.html.tmp\" [1]\n",
      "2024-02-29 01:07:10 URL:http://www.tng-project.org/media/ [59010/59010] -> \"/Users/keenan/Data/simim_resources/simulations/TNG100-3-Dark/raw/groups_073/index.html.tmp\" [1]\n",
      "2024-02-29 01:07:10 URL:http://www.tng-project.org/data/ [43902/43902] -> \"/Users/keenan/Data/simim_resources/simulations/TNG100-3-Dark/raw/groups_073/index.html.tmp\" [1]\n",
      "2024-02-29 01:07:10 URL:http://www.tng-project.org/explore/ [3989/3989] -> \"/Users/keenan/Data/simim_resources/simulations/TNG100-3-Dark/raw/groups_073/index.html.tmp\" [1]\n",
      "2024-02-29 01:07:10 URL:http://www.tng-project.org/cluster/ [42614/42614] -> \"/Users/keenan/Data/simim_resources/simulations/TNG100-3-Dark/raw/groups_073/index.html.tmp\" [1]\n",
      "2024-02-29 01:07:10 URL:http://www.tng-project.org/users/login/ [5468/5468] -> \"/Users/keenan/Data/simim_resources/simulations/TNG100-3-Dark/raw/groups_073/index.html.tmp\" [1]\n",
      "2024-02-29 01:07:10 URL:http://www.tng-project.org/users/login/ [5468/5468] -> \"/Users/keenan/Data/simim_resources/simulations/TNG100-3-Dark/raw/groups_073/index.html.tmp\" [1]\n",
      "2024-02-29 01:07:11 URL:http://www.tng-project.org/api/?format=api [23499/23499] -> \"/Users/keenan/Data/simim_resources/simulations/TNG100-3-Dark/raw/groups_073/index.html?format=api.tmp\" [1]\n",
      "2024-02-29 01:07:11 URL:http://www.tng-project.org/api/TNG100-3-Dark/?format=api [10756/10756] -> \"/Users/keenan/Data/simim_resources/simulations/TNG100-3-Dark/raw/groups_073/index.html?format=api.tmp\" [1]\n",
      "2024-02-29 01:07:11 URL:http://www.tng-project.org/api/TNG100-3-Dark/files/?format=api [42579/42579] -> \"/Users/keenan/Data/simim_resources/simulations/TNG100-3-Dark/raw/groups_073/index.html?format=api.tmp\" [1]\n",
      "2024-02-29 01:07:11 URL:http://www.tng-project.org/api/TNG100-3-Dark/files/groupcat-73/?format=json [299/299] -> \"/Users/keenan/Data/simim_resources/simulations/TNG100-3-Dark/raw/groups_073/index.html?format=json.tmp\" [1]\n",
      "FINISHED --2024-02-29 01:07:12--\n",
      "Total wall clock time: 3.2s\n",
      "Downloaded: 15 files, 776K in 0.1s (5.50 MB/s)\n"
     ]
    },
    {
     "name": "stdout",
     "output_type": "stream",
     "text": [
      "\n",
      "Downloading Snapshot 74\n"
     ]
    },
    {
     "name": "stderr",
     "output_type": "stream",
     "text": [
      "2024-02-29 01:07:13 URL:http://www.tng-project.org/api/TNG100-3-Dark/files/groupcat-74/?format=api [9164/9164] -> \"/Users/keenan/Data/simim_resources/simulations/TNG100-3-Dark/raw/groups_074/index.html?format=api.tmp\" [1]\n",
      "2024-02-29 01:07:13 URL:http://www.tng-project.org/ [13013/13013] -> \"/Users/keenan/Data/simim_resources/simulations/TNG100-3-Dark/raw/groups_074/index.html.tmp\" [1]\n",
      "2024-02-29 01:07:13 URL:http://www.tng-project.org/about/ [36929/36929] -> \"/Users/keenan/Data/simim_resources/simulations/TNG100-3-Dark/raw/groups_074/index.html.tmp\" [1]\n",
      "2024-02-29 01:07:13 URL:http://www.tng-project.org/people/ [13273/13273] -> \"/Users/keenan/Data/simim_resources/simulations/TNG100-3-Dark/raw/groups_074/index.html.tmp\" [1]\n",
      "2024-02-29 01:07:13 URL:http://www.tng-project.org/results/ [484900/484900] -> \"/Users/keenan/Data/simim_resources/simulations/TNG100-3-Dark/raw/groups_074/index.html.tmp\" [1]\n",
      "2024-02-29 01:07:13 URL:http://www.tng-project.org/media/ [59010/59010] -> \"/Users/keenan/Data/simim_resources/simulations/TNG100-3-Dark/raw/groups_074/index.html.tmp\" [1]\n",
      "2024-02-29 01:07:13 URL:http://www.tng-project.org/data/ [43902/43902] -> \"/Users/keenan/Data/simim_resources/simulations/TNG100-3-Dark/raw/groups_074/index.html.tmp\" [1]\n",
      "2024-02-29 01:07:13 URL:http://www.tng-project.org/explore/ [3989/3989] -> \"/Users/keenan/Data/simim_resources/simulations/TNG100-3-Dark/raw/groups_074/index.html.tmp\" [1]\n",
      "2024-02-29 01:07:14 URL:http://www.tng-project.org/cluster/ [42614/42614] -> \"/Users/keenan/Data/simim_resources/simulations/TNG100-3-Dark/raw/groups_074/index.html.tmp\" [1]\n",
      "2024-02-29 01:07:14 URL:http://www.tng-project.org/users/login/ [5468/5468] -> \"/Users/keenan/Data/simim_resources/simulations/TNG100-3-Dark/raw/groups_074/index.html.tmp\" [1]\n",
      "2024-02-29 01:07:14 URL:http://www.tng-project.org/users/login/ [5468/5468] -> \"/Users/keenan/Data/simim_resources/simulations/TNG100-3-Dark/raw/groups_074/index.html.tmp\" [1]\n",
      "2024-02-29 01:07:14 URL:http://www.tng-project.org/api/?format=api [23499/23499] -> \"/Users/keenan/Data/simim_resources/simulations/TNG100-3-Dark/raw/groups_074/index.html?format=api.tmp\" [1]\n",
      "2024-02-29 01:07:14 URL:http://www.tng-project.org/api/TNG100-3-Dark/?format=api [10756/10756] -> \"/Users/keenan/Data/simim_resources/simulations/TNG100-3-Dark/raw/groups_074/index.html?format=api.tmp\" [1]\n",
      "2024-02-29 01:07:14 URL:http://www.tng-project.org/api/TNG100-3-Dark/files/?format=api [42579/42579] -> \"/Users/keenan/Data/simim_resources/simulations/TNG100-3-Dark/raw/groups_074/index.html?format=api.tmp\" [1]\n",
      "2024-02-29 01:07:14 URL:http://www.tng-project.org/api/TNG100-3-Dark/files/groupcat-74/?format=json [299/299] -> \"/Users/keenan/Data/simim_resources/simulations/TNG100-3-Dark/raw/groups_074/index.html?format=json.tmp\" [1]\n",
      "FINISHED --2024-02-29 01:07:15--\n",
      "Total wall clock time: 3.2s\n",
      "Downloaded: 15 files, 776K in 0.09s (8.33 MB/s)\n"
     ]
    },
    {
     "name": "stdout",
     "output_type": "stream",
     "text": [
      "\n",
      "Downloading Snapshot 75\n"
     ]
    },
    {
     "name": "stderr",
     "output_type": "stream",
     "text": [
      "2024-02-29 01:07:16 URL:http://www.tng-project.org/api/TNG100-3-Dark/files/groupcat-75/?format=api [9164/9164] -> \"/Users/keenan/Data/simim_resources/simulations/TNG100-3-Dark/raw/groups_075/index.html?format=api.tmp\" [1]\n",
      "2024-02-29 01:07:16 URL:http://www.tng-project.org/ [13013/13013] -> \"/Users/keenan/Data/simim_resources/simulations/TNG100-3-Dark/raw/groups_075/index.html.tmp\" [1]\n",
      "2024-02-29 01:07:16 URL:http://www.tng-project.org/about/ [36929/36929] -> \"/Users/keenan/Data/simim_resources/simulations/TNG100-3-Dark/raw/groups_075/index.html.tmp\" [1]\n",
      "2024-02-29 01:07:16 URL:http://www.tng-project.org/people/ [13268/13268] -> \"/Users/keenan/Data/simim_resources/simulations/TNG100-3-Dark/raw/groups_075/index.html.tmp\" [1]\n",
      "2024-02-29 01:07:16 URL:http://www.tng-project.org/results/ [484900/484900] -> \"/Users/keenan/Data/simim_resources/simulations/TNG100-3-Dark/raw/groups_075/index.html.tmp\" [1]\n",
      "2024-02-29 01:07:16 URL:http://www.tng-project.org/media/ [59010/59010] -> \"/Users/keenan/Data/simim_resources/simulations/TNG100-3-Dark/raw/groups_075/index.html.tmp\" [1]\n",
      "2024-02-29 01:07:17 URL:http://www.tng-project.org/data/ [43902/43902] -> \"/Users/keenan/Data/simim_resources/simulations/TNG100-3-Dark/raw/groups_075/index.html.tmp\" [1]\n",
      "2024-02-29 01:07:17 URL:http://www.tng-project.org/explore/ [3989/3989] -> \"/Users/keenan/Data/simim_resources/simulations/TNG100-3-Dark/raw/groups_075/index.html.tmp\" [1]\n",
      "2024-02-29 01:07:17 URL:http://www.tng-project.org/cluster/ [42614/42614] -> \"/Users/keenan/Data/simim_resources/simulations/TNG100-3-Dark/raw/groups_075/index.html.tmp\" [1]\n",
      "2024-02-29 01:07:17 URL:http://www.tng-project.org/users/login/ [5468/5468] -> \"/Users/keenan/Data/simim_resources/simulations/TNG100-3-Dark/raw/groups_075/index.html.tmp\" [1]\n",
      "2024-02-29 01:07:17 URL:http://www.tng-project.org/users/login/ [5468/5468] -> \"/Users/keenan/Data/simim_resources/simulations/TNG100-3-Dark/raw/groups_075/index.html.tmp\" [1]\n",
      "2024-02-29 01:07:17 URL:http://www.tng-project.org/api/?format=api [23499/23499] -> \"/Users/keenan/Data/simim_resources/simulations/TNG100-3-Dark/raw/groups_075/index.html?format=api.tmp\" [1]\n",
      "2024-02-29 01:07:17 URL:http://www.tng-project.org/api/TNG100-3-Dark/?format=api [10756/10756] -> \"/Users/keenan/Data/simim_resources/simulations/TNG100-3-Dark/raw/groups_075/index.html?format=api.tmp\" [1]\n",
      "2024-02-29 01:07:17 URL:http://www.tng-project.org/api/TNG100-3-Dark/files/?format=api [42579/42579] -> \"/Users/keenan/Data/simim_resources/simulations/TNG100-3-Dark/raw/groups_075/index.html?format=api.tmp\" [1]\n",
      "2024-02-29 01:07:17 URL:http://www.tng-project.org/api/TNG100-3-Dark/files/groupcat-75/?format=json [299/299] -> \"/Users/keenan/Data/simim_resources/simulations/TNG100-3-Dark/raw/groups_075/index.html?format=json.tmp\" [1]\n",
      "FINISHED --2024-02-29 01:07:19--\n",
      "Total wall clock time: 3.1s\n",
      "Downloaded: 15 files, 776K in 0.1s (7.87 MB/s)\n"
     ]
    },
    {
     "name": "stdout",
     "output_type": "stream",
     "text": [
      "\n",
      "Downloading Snapshot 76\n"
     ]
    },
    {
     "name": "stderr",
     "output_type": "stream",
     "text": [
      "2024-02-29 01:07:19 URL:http://www.tng-project.org/api/TNG100-3-Dark/files/groupcat-76/?format=api [9164/9164] -> \"/Users/keenan/Data/simim_resources/simulations/TNG100-3-Dark/raw/groups_076/index.html?format=api.tmp\" [1]\n",
      "2024-02-29 01:07:19 URL:http://www.tng-project.org/ [13013/13013] -> \"/Users/keenan/Data/simim_resources/simulations/TNG100-3-Dark/raw/groups_076/index.html.tmp\" [1]\n",
      "2024-02-29 01:07:19 URL:http://www.tng-project.org/about/ [36929/36929] -> \"/Users/keenan/Data/simim_resources/simulations/TNG100-3-Dark/raw/groups_076/index.html.tmp\" [1]\n",
      "2024-02-29 01:07:19 URL:http://www.tng-project.org/people/ [13273/13273] -> \"/Users/keenan/Data/simim_resources/simulations/TNG100-3-Dark/raw/groups_076/index.html.tmp\" [1]\n",
      "2024-02-29 01:07:19 URL:http://www.tng-project.org/results/ [484900/484900] -> \"/Users/keenan/Data/simim_resources/simulations/TNG100-3-Dark/raw/groups_076/index.html.tmp\" [1]\n",
      "2024-02-29 01:07:19 URL:http://www.tng-project.org/media/ [59010/59010] -> \"/Users/keenan/Data/simim_resources/simulations/TNG100-3-Dark/raw/groups_076/index.html.tmp\" [1]\n",
      "2024-02-29 01:07:20 URL:http://www.tng-project.org/data/ [43902/43902] -> \"/Users/keenan/Data/simim_resources/simulations/TNG100-3-Dark/raw/groups_076/index.html.tmp\" [1]\n",
      "2024-02-29 01:07:20 URL:http://www.tng-project.org/explore/ [3989/3989] -> \"/Users/keenan/Data/simim_resources/simulations/TNG100-3-Dark/raw/groups_076/index.html.tmp\" [1]\n",
      "2024-02-29 01:07:20 URL:http://www.tng-project.org/cluster/ [42614/42614] -> \"/Users/keenan/Data/simim_resources/simulations/TNG100-3-Dark/raw/groups_076/index.html.tmp\" [1]\n",
      "2024-02-29 01:07:20 URL:http://www.tng-project.org/users/login/ [5468/5468] -> \"/Users/keenan/Data/simim_resources/simulations/TNG100-3-Dark/raw/groups_076/index.html.tmp\" [1]\n",
      "2024-02-29 01:07:20 URL:http://www.tng-project.org/users/login/ [5468/5468] -> \"/Users/keenan/Data/simim_resources/simulations/TNG100-3-Dark/raw/groups_076/index.html.tmp\" [1]\n",
      "2024-02-29 01:07:20 URL:http://www.tng-project.org/api/?format=api [23499/23499] -> \"/Users/keenan/Data/simim_resources/simulations/TNG100-3-Dark/raw/groups_076/index.html?format=api.tmp\" [1]\n",
      "2024-02-29 01:07:20 URL:http://www.tng-project.org/api/TNG100-3-Dark/?format=api [10756/10756] -> \"/Users/keenan/Data/simim_resources/simulations/TNG100-3-Dark/raw/groups_076/index.html?format=api.tmp\" [1]\n",
      "2024-02-29 01:07:20 URL:http://www.tng-project.org/api/TNG100-3-Dark/files/?format=api [42579/42579] -> \"/Users/keenan/Data/simim_resources/simulations/TNG100-3-Dark/raw/groups_076/index.html?format=api.tmp\" [1]\n",
      "2024-02-29 01:07:20 URL:http://www.tng-project.org/api/TNG100-3-Dark/files/groupcat-76/?format=json [299/299] -> \"/Users/keenan/Data/simim_resources/simulations/TNG100-3-Dark/raw/groups_076/index.html?format=json.tmp\" [1]\n",
      "FINISHED --2024-02-29 01:07:22--\n",
      "Total wall clock time: 3.2s\n",
      "Downloaded: 15 files, 776K in 0.09s (8.16 MB/s)\n"
     ]
    },
    {
     "name": "stdout",
     "output_type": "stream",
     "text": [
      "\n",
      "Downloading Snapshot 77\n"
     ]
    },
    {
     "name": "stderr",
     "output_type": "stream",
     "text": [
      "2024-02-29 01:07:22 URL:http://www.tng-project.org/api/TNG100-3-Dark/files/groupcat-77/?format=api [9164/9164] -> \"/Users/keenan/Data/simim_resources/simulations/TNG100-3-Dark/raw/groups_077/index.html?format=api.tmp\" [1]\n",
      "2024-02-29 01:07:22 URL:http://www.tng-project.org/ [13013/13013] -> \"/Users/keenan/Data/simim_resources/simulations/TNG100-3-Dark/raw/groups_077/index.html.tmp\" [1]\n",
      "2024-02-29 01:07:22 URL:http://www.tng-project.org/about/ [36929/36929] -> \"/Users/keenan/Data/simim_resources/simulations/TNG100-3-Dark/raw/groups_077/index.html.tmp\" [1]\n",
      "2024-02-29 01:07:22 URL:http://www.tng-project.org/people/ [13273/13273] -> \"/Users/keenan/Data/simim_resources/simulations/TNG100-3-Dark/raw/groups_077/index.html.tmp\" [1]\n",
      "2024-02-29 01:07:22 URL:http://www.tng-project.org/results/ [484895/484895] -> \"/Users/keenan/Data/simim_resources/simulations/TNG100-3-Dark/raw/groups_077/index.html.tmp\" [1]\n",
      "2024-02-29 01:07:22 URL:http://www.tng-project.org/media/ [59010/59010] -> \"/Users/keenan/Data/simim_resources/simulations/TNG100-3-Dark/raw/groups_077/index.html.tmp\" [1]\n",
      "2024-02-29 01:07:23 URL:http://www.tng-project.org/data/ [43902/43902] -> \"/Users/keenan/Data/simim_resources/simulations/TNG100-3-Dark/raw/groups_077/index.html.tmp\" [1]\n",
      "2024-02-29 01:07:23 URL:http://www.tng-project.org/explore/ [3989/3989] -> \"/Users/keenan/Data/simim_resources/simulations/TNG100-3-Dark/raw/groups_077/index.html.tmp\" [1]\n",
      "2024-02-29 01:07:23 URL:http://www.tng-project.org/cluster/ [42614/42614] -> \"/Users/keenan/Data/simim_resources/simulations/TNG100-3-Dark/raw/groups_077/index.html.tmp\" [1]\n",
      "2024-02-29 01:07:23 URL:http://www.tng-project.org/users/login/ [5468/5468] -> \"/Users/keenan/Data/simim_resources/simulations/TNG100-3-Dark/raw/groups_077/index.html.tmp\" [1]\n",
      "2024-02-29 01:07:23 URL:http://www.tng-project.org/users/login/ [5468/5468] -> \"/Users/keenan/Data/simim_resources/simulations/TNG100-3-Dark/raw/groups_077/index.html.tmp\" [1]\n",
      "2024-02-29 01:07:23 URL:http://www.tng-project.org/api/?format=api [23499/23499] -> \"/Users/keenan/Data/simim_resources/simulations/TNG100-3-Dark/raw/groups_077/index.html?format=api.tmp\" [1]\n",
      "2024-02-29 01:07:23 URL:http://www.tng-project.org/api/TNG100-3-Dark/?format=api [10756/10756] -> \"/Users/keenan/Data/simim_resources/simulations/TNG100-3-Dark/raw/groups_077/index.html?format=api.tmp\" [1]\n",
      "2024-02-29 01:07:23 URL:http://www.tng-project.org/api/TNG100-3-Dark/files/?format=api [42579/42579] -> \"/Users/keenan/Data/simim_resources/simulations/TNG100-3-Dark/raw/groups_077/index.html?format=api.tmp\" [1]\n",
      "2024-02-29 01:07:23 URL:http://www.tng-project.org/api/TNG100-3-Dark/files/groupcat-77/?format=json [299/299] -> \"/Users/keenan/Data/simim_resources/simulations/TNG100-3-Dark/raw/groups_077/index.html?format=json.tmp\" [1]\n",
      "FINISHED --2024-02-29 01:07:25--\n",
      "Total wall clock time: 3.1s\n",
      "Downloaded: 15 files, 776K in 0.09s (8.18 MB/s)\n"
     ]
    },
    {
     "name": "stdout",
     "output_type": "stream",
     "text": [
      "\n",
      "Downloading Snapshot 78\n"
     ]
    },
    {
     "name": "stderr",
     "output_type": "stream",
     "text": [
      "2024-02-29 01:07:25 URL:http://www.tng-project.org/api/TNG100-3-Dark/files/groupcat-78/?format=api [9164/9164] -> \"/Users/keenan/Data/simim_resources/simulations/TNG100-3-Dark/raw/groups_078/index.html?format=api.tmp\" [1]\n",
      "2024-02-29 01:07:25 URL:http://www.tng-project.org/ [13013/13013] -> \"/Users/keenan/Data/simim_resources/simulations/TNG100-3-Dark/raw/groups_078/index.html.tmp\" [1]\n",
      "2024-02-29 01:07:25 URL:http://www.tng-project.org/about/ [36929/36929] -> \"/Users/keenan/Data/simim_resources/simulations/TNG100-3-Dark/raw/groups_078/index.html.tmp\" [1]\n",
      "2024-02-29 01:07:25 URL:http://www.tng-project.org/people/ [13273/13273] -> \"/Users/keenan/Data/simim_resources/simulations/TNG100-3-Dark/raw/groups_078/index.html.tmp\" [1]\n",
      "2024-02-29 01:07:26 URL:http://www.tng-project.org/results/ [484895/484895] -> \"/Users/keenan/Data/simim_resources/simulations/TNG100-3-Dark/raw/groups_078/index.html.tmp\" [1]\n",
      "2024-02-29 01:07:26 URL:http://www.tng-project.org/media/ [59010/59010] -> \"/Users/keenan/Data/simim_resources/simulations/TNG100-3-Dark/raw/groups_078/index.html.tmp\" [1]\n",
      "2024-02-29 01:07:26 URL:http://www.tng-project.org/data/ [43902/43902] -> \"/Users/keenan/Data/simim_resources/simulations/TNG100-3-Dark/raw/groups_078/index.html.tmp\" [1]\n",
      "2024-02-29 01:07:26 URL:http://www.tng-project.org/explore/ [3989/3989] -> \"/Users/keenan/Data/simim_resources/simulations/TNG100-3-Dark/raw/groups_078/index.html.tmp\" [1]\n",
      "2024-02-29 01:07:26 URL:http://www.tng-project.org/cluster/ [42614/42614] -> \"/Users/keenan/Data/simim_resources/simulations/TNG100-3-Dark/raw/groups_078/index.html.tmp\" [1]\n",
      "2024-02-29 01:07:26 URL:http://www.tng-project.org/users/login/ [5468/5468] -> \"/Users/keenan/Data/simim_resources/simulations/TNG100-3-Dark/raw/groups_078/index.html.tmp\" [1]\n",
      "2024-02-29 01:07:26 URL:http://www.tng-project.org/users/login/ [5468/5468] -> \"/Users/keenan/Data/simim_resources/simulations/TNG100-3-Dark/raw/groups_078/index.html.tmp\" [1]\n",
      "2024-02-29 01:07:26 URL:http://www.tng-project.org/api/?format=api [23499/23499] -> \"/Users/keenan/Data/simim_resources/simulations/TNG100-3-Dark/raw/groups_078/index.html?format=api.tmp\" [1]\n",
      "2024-02-29 01:07:26 URL:http://www.tng-project.org/api/TNG100-3-Dark/?format=api [10756/10756] -> \"/Users/keenan/Data/simim_resources/simulations/TNG100-3-Dark/raw/groups_078/index.html?format=api.tmp\" [1]\n",
      "2024-02-29 01:07:27 URL:http://www.tng-project.org/api/TNG100-3-Dark/files/?format=api [42579/42579] -> \"/Users/keenan/Data/simim_resources/simulations/TNG100-3-Dark/raw/groups_078/index.html?format=api.tmp\" [1]\n",
      "2024-02-29 01:07:27 URL:http://www.tng-project.org/api/TNG100-3-Dark/files/groupcat-78/?format=json [299/299] -> \"/Users/keenan/Data/simim_resources/simulations/TNG100-3-Dark/raw/groups_078/index.html?format=json.tmp\" [1]\n",
      "FINISHED --2024-02-29 01:07:28--\n",
      "Total wall clock time: 3.0s\n",
      "Downloaded: 15 files, 776K in 0.1s (5.31 MB/s)\n"
     ]
    },
    {
     "name": "stdout",
     "output_type": "stream",
     "text": [
      "\n",
      "Downloading Snapshot 79\n"
     ]
    },
    {
     "name": "stderr",
     "output_type": "stream",
     "text": [
      "2024-02-29 01:07:28 URL:http://www.tng-project.org/api/TNG100-3-Dark/files/groupcat-79/?format=api [9164/9164] -> \"/Users/keenan/Data/simim_resources/simulations/TNG100-3-Dark/raw/groups_079/index.html?format=api.tmp\" [1]\n",
      "2024-02-29 01:07:28 URL:http://www.tng-project.org/ [13013/13013] -> \"/Users/keenan/Data/simim_resources/simulations/TNG100-3-Dark/raw/groups_079/index.html.tmp\" [1]\n",
      "2024-02-29 01:07:28 URL:http://www.tng-project.org/about/ [36929/36929] -> \"/Users/keenan/Data/simim_resources/simulations/TNG100-3-Dark/raw/groups_079/index.html.tmp\" [1]\n",
      "2024-02-29 01:07:28 URL:http://www.tng-project.org/people/ [13273/13273] -> \"/Users/keenan/Data/simim_resources/simulations/TNG100-3-Dark/raw/groups_079/index.html.tmp\" [1]\n",
      "2024-02-29 01:07:29 URL:http://www.tng-project.org/results/ [484895/484895] -> \"/Users/keenan/Data/simim_resources/simulations/TNG100-3-Dark/raw/groups_079/index.html.tmp\" [1]\n",
      "2024-02-29 01:07:29 URL:http://www.tng-project.org/media/ [59010/59010] -> \"/Users/keenan/Data/simim_resources/simulations/TNG100-3-Dark/raw/groups_079/index.html.tmp\" [1]\n",
      "2024-02-29 01:07:29 URL:http://www.tng-project.org/data/ [43902/43902] -> \"/Users/keenan/Data/simim_resources/simulations/TNG100-3-Dark/raw/groups_079/index.html.tmp\" [1]\n",
      "2024-02-29 01:07:29 URL:http://www.tng-project.org/explore/ [3989/3989] -> \"/Users/keenan/Data/simim_resources/simulations/TNG100-3-Dark/raw/groups_079/index.html.tmp\" [1]\n",
      "2024-02-29 01:07:29 URL:http://www.tng-project.org/cluster/ [42614/42614] -> \"/Users/keenan/Data/simim_resources/simulations/TNG100-3-Dark/raw/groups_079/index.html.tmp\" [1]\n",
      "2024-02-29 01:07:29 URL:http://www.tng-project.org/users/login/ [5468/5468] -> \"/Users/keenan/Data/simim_resources/simulations/TNG100-3-Dark/raw/groups_079/index.html.tmp\" [1]\n",
      "2024-02-29 01:07:29 URL:http://www.tng-project.org/users/login/ [5468/5468] -> \"/Users/keenan/Data/simim_resources/simulations/TNG100-3-Dark/raw/groups_079/index.html.tmp\" [1]\n",
      "2024-02-29 01:07:29 URL:http://www.tng-project.org/api/?format=api [23499/23499] -> \"/Users/keenan/Data/simim_resources/simulations/TNG100-3-Dark/raw/groups_079/index.html?format=api.tmp\" [1]\n",
      "2024-02-29 01:07:29 URL:http://www.tng-project.org/api/TNG100-3-Dark/?format=api [10756/10756] -> \"/Users/keenan/Data/simim_resources/simulations/TNG100-3-Dark/raw/groups_079/index.html?format=api.tmp\" [1]\n",
      "2024-02-29 01:07:30 URL:http://www.tng-project.org/api/TNG100-3-Dark/files/?format=api [42579/42579] -> \"/Users/keenan/Data/simim_resources/simulations/TNG100-3-Dark/raw/groups_079/index.html?format=api.tmp\" [1]\n",
      "2024-02-29 01:07:30 URL:http://www.tng-project.org/api/TNG100-3-Dark/files/groupcat-79/?format=json [299/299] -> \"/Users/keenan/Data/simim_resources/simulations/TNG100-3-Dark/raw/groups_079/index.html?format=json.tmp\" [1]\n",
      "FINISHED --2024-02-29 01:07:31--\n",
      "Total wall clock time: 3.3s\n",
      "Downloaded: 15 files, 776K in 0.09s (8.30 MB/s)\n"
     ]
    },
    {
     "name": "stdout",
     "output_type": "stream",
     "text": [
      "\n",
      "Downloading Snapshot 80\n"
     ]
    },
    {
     "name": "stderr",
     "output_type": "stream",
     "text": [
      "2024-02-29 01:07:31 URL:http://www.tng-project.org/api/TNG100-3-Dark/files/groupcat-80/?format=api [9164/9164] -> \"/Users/keenan/Data/simim_resources/simulations/TNG100-3-Dark/raw/groups_080/index.html?format=api.tmp\" [1]\n",
      "2024-02-29 01:07:31 URL:http://www.tng-project.org/ [13013/13013] -> \"/Users/keenan/Data/simim_resources/simulations/TNG100-3-Dark/raw/groups_080/index.html.tmp\" [1]\n",
      "2024-02-29 01:07:31 URL:http://www.tng-project.org/about/ [36929/36929] -> \"/Users/keenan/Data/simim_resources/simulations/TNG100-3-Dark/raw/groups_080/index.html.tmp\" [1]\n",
      "2024-02-29 01:07:32 URL:http://www.tng-project.org/people/ [13267/13267] -> \"/Users/keenan/Data/simim_resources/simulations/TNG100-3-Dark/raw/groups_080/index.html.tmp\" [1]\n",
      "2024-02-29 01:07:32 URL:http://www.tng-project.org/results/ [484895/484895] -> \"/Users/keenan/Data/simim_resources/simulations/TNG100-3-Dark/raw/groups_080/index.html.tmp\" [1]\n",
      "2024-02-29 01:07:32 URL:http://www.tng-project.org/media/ [59010/59010] -> \"/Users/keenan/Data/simim_resources/simulations/TNG100-3-Dark/raw/groups_080/index.html.tmp\" [1]\n",
      "2024-02-29 01:07:32 URL:http://www.tng-project.org/data/ [43902/43902] -> \"/Users/keenan/Data/simim_resources/simulations/TNG100-3-Dark/raw/groups_080/index.html.tmp\" [1]\n",
      "2024-02-29 01:07:32 URL:http://www.tng-project.org/explore/ [3989/3989] -> \"/Users/keenan/Data/simim_resources/simulations/TNG100-3-Dark/raw/groups_080/index.html.tmp\" [1]\n",
      "2024-02-29 01:07:32 URL:http://www.tng-project.org/cluster/ [42614/42614] -> \"/Users/keenan/Data/simim_resources/simulations/TNG100-3-Dark/raw/groups_080/index.html.tmp\" [1]\n",
      "2024-02-29 01:07:32 URL:http://www.tng-project.org/users/login/ [5468/5468] -> \"/Users/keenan/Data/simim_resources/simulations/TNG100-3-Dark/raw/groups_080/index.html.tmp\" [1]\n",
      "2024-02-29 01:07:33 URL:http://www.tng-project.org/users/login/ [5468/5468] -> \"/Users/keenan/Data/simim_resources/simulations/TNG100-3-Dark/raw/groups_080/index.html.tmp\" [1]\n",
      "2024-02-29 01:07:33 URL:http://www.tng-project.org/api/?format=api [23499/23499] -> \"/Users/keenan/Data/simim_resources/simulations/TNG100-3-Dark/raw/groups_080/index.html?format=api.tmp\" [1]\n",
      "2024-02-29 01:07:33 URL:http://www.tng-project.org/api/TNG100-3-Dark/?format=api [10756/10756] -> \"/Users/keenan/Data/simim_resources/simulations/TNG100-3-Dark/raw/groups_080/index.html?format=api.tmp\" [1]\n",
      "2024-02-29 01:07:33 URL:http://www.tng-project.org/api/TNG100-3-Dark/files/?format=api [42579/42579] -> \"/Users/keenan/Data/simim_resources/simulations/TNG100-3-Dark/raw/groups_080/index.html?format=api.tmp\" [1]\n",
      "2024-02-29 01:07:33 URL:http://www.tng-project.org/api/TNG100-3-Dark/files/groupcat-80/?format=json [299/299] -> \"/Users/keenan/Data/simim_resources/simulations/TNG100-3-Dark/raw/groups_080/index.html?format=json.tmp\" [1]\n",
      "FINISHED --2024-02-29 01:07:34--\n",
      "Total wall clock time: 3.2s\n",
      "Downloaded: 15 files, 776K in 0.09s (8.37 MB/s)\n"
     ]
    },
    {
     "name": "stdout",
     "output_type": "stream",
     "text": [
      "\n",
      "Downloading Snapshot 81\n"
     ]
    },
    {
     "name": "stderr",
     "output_type": "stream",
     "text": [
      "2024-02-29 01:07:35 URL:http://www.tng-project.org/api/TNG100-3-Dark/files/groupcat-81/?format=api [9164/9164] -> \"/Users/keenan/Data/simim_resources/simulations/TNG100-3-Dark/raw/groups_081/index.html?format=api.tmp\" [1]\n",
      "2024-02-29 01:07:35 URL:http://www.tng-project.org/ [13013/13013] -> \"/Users/keenan/Data/simim_resources/simulations/TNG100-3-Dark/raw/groups_081/index.html.tmp\" [1]\n",
      "2024-02-29 01:07:35 URL:http://www.tng-project.org/about/ [36929/36929] -> \"/Users/keenan/Data/simim_resources/simulations/TNG100-3-Dark/raw/groups_081/index.html.tmp\" [1]\n",
      "2024-02-29 01:07:35 URL:http://www.tng-project.org/people/ [13273/13273] -> \"/Users/keenan/Data/simim_resources/simulations/TNG100-3-Dark/raw/groups_081/index.html.tmp\" [1]\n",
      "2024-02-29 01:07:35 URL:http://www.tng-project.org/results/ [484895/484895] -> \"/Users/keenan/Data/simim_resources/simulations/TNG100-3-Dark/raw/groups_081/index.html.tmp\" [1]\n",
      "2024-02-29 01:07:35 URL:http://www.tng-project.org/media/ [59010/59010] -> \"/Users/keenan/Data/simim_resources/simulations/TNG100-3-Dark/raw/groups_081/index.html.tmp\" [1]\n",
      "2024-02-29 01:07:36 URL:http://www.tng-project.org/data/ [43902/43902] -> \"/Users/keenan/Data/simim_resources/simulations/TNG100-3-Dark/raw/groups_081/index.html.tmp\" [1]\n",
      "2024-02-29 01:07:36 URL:http://www.tng-project.org/explore/ [3989/3989] -> \"/Users/keenan/Data/simim_resources/simulations/TNG100-3-Dark/raw/groups_081/index.html.tmp\" [1]\n",
      "2024-02-29 01:07:36 URL:http://www.tng-project.org/cluster/ [42614/42614] -> \"/Users/keenan/Data/simim_resources/simulations/TNG100-3-Dark/raw/groups_081/index.html.tmp\" [1]\n",
      "2024-02-29 01:07:36 URL:http://www.tng-project.org/users/login/ [5468/5468] -> \"/Users/keenan/Data/simim_resources/simulations/TNG100-3-Dark/raw/groups_081/index.html.tmp\" [1]\n",
      "2024-02-29 01:07:36 URL:http://www.tng-project.org/users/login/ [5468/5468] -> \"/Users/keenan/Data/simim_resources/simulations/TNG100-3-Dark/raw/groups_081/index.html.tmp\" [1]\n",
      "2024-02-29 01:07:36 URL:http://www.tng-project.org/api/?format=api [23499/23499] -> \"/Users/keenan/Data/simim_resources/simulations/TNG100-3-Dark/raw/groups_081/index.html?format=api.tmp\" [1]\n",
      "2024-02-29 01:07:36 URL:http://www.tng-project.org/api/TNG100-3-Dark/?format=api [10756/10756] -> \"/Users/keenan/Data/simim_resources/simulations/TNG100-3-Dark/raw/groups_081/index.html?format=api.tmp\" [1]\n",
      "2024-02-29 01:07:36 URL:http://www.tng-project.org/api/TNG100-3-Dark/files/?format=api [42579/42579] -> \"/Users/keenan/Data/simim_resources/simulations/TNG100-3-Dark/raw/groups_081/index.html?format=api.tmp\" [1]\n",
      "2024-02-29 01:07:36 URL:http://www.tng-project.org/api/TNG100-3-Dark/files/groupcat-81/?format=json [299/299] -> \"/Users/keenan/Data/simim_resources/simulations/TNG100-3-Dark/raw/groups_081/index.html?format=json.tmp\" [1]\n",
      "FINISHED --2024-02-29 01:07:37--\n",
      "Total wall clock time: 3.1s\n",
      "Downloaded: 15 files, 776K in 0.1s (6.28 MB/s)\n",
      "2024-02-29 01:07:38 URL:http://www.tng-project.org/api/TNG100-3-Dark/files/groupcat-82/?format=api [9164/9164] -> \"/Users/keenan/Data/simim_resources/simulations/TNG100-3-Dark/raw/groups_082/index.html?format=api.tmp\" [1]\n"
     ]
    },
    {
     "name": "stdout",
     "output_type": "stream",
     "text": [
      "\n",
      "Downloading Snapshot 82\n"
     ]
    },
    {
     "name": "stderr",
     "output_type": "stream",
     "text": [
      "2024-02-29 01:07:38 URL:http://www.tng-project.org/ [13013/13013] -> \"/Users/keenan/Data/simim_resources/simulations/TNG100-3-Dark/raw/groups_082/index.html.tmp\" [1]\n",
      "2024-02-29 01:07:38 URL:http://www.tng-project.org/about/ [36929/36929] -> \"/Users/keenan/Data/simim_resources/simulations/TNG100-3-Dark/raw/groups_082/index.html.tmp\" [1]\n",
      "2024-02-29 01:07:38 URL:http://www.tng-project.org/people/ [13267/13267] -> \"/Users/keenan/Data/simim_resources/simulations/TNG100-3-Dark/raw/groups_082/index.html.tmp\" [1]\n",
      "2024-02-29 01:07:38 URL:http://www.tng-project.org/results/ [484895/484895] -> \"/Users/keenan/Data/simim_resources/simulations/TNG100-3-Dark/raw/groups_082/index.html.tmp\" [1]\n",
      "2024-02-29 01:07:38 URL:http://www.tng-project.org/media/ [59010/59010] -> \"/Users/keenan/Data/simim_resources/simulations/TNG100-3-Dark/raw/groups_082/index.html.tmp\" [1]\n",
      "2024-02-29 01:07:39 URL:http://www.tng-project.org/data/ [43902/43902] -> \"/Users/keenan/Data/simim_resources/simulations/TNG100-3-Dark/raw/groups_082/index.html.tmp\" [1]\n",
      "2024-02-29 01:07:39 URL:http://www.tng-project.org/explore/ [3989/3989] -> \"/Users/keenan/Data/simim_resources/simulations/TNG100-3-Dark/raw/groups_082/index.html.tmp\" [1]\n",
      "2024-02-29 01:07:39 URL:http://www.tng-project.org/cluster/ [42614/42614] -> \"/Users/keenan/Data/simim_resources/simulations/TNG100-3-Dark/raw/groups_082/index.html.tmp\" [1]\n",
      "2024-02-29 01:07:39 URL:http://www.tng-project.org/users/login/ [5468/5468] -> \"/Users/keenan/Data/simim_resources/simulations/TNG100-3-Dark/raw/groups_082/index.html.tmp\" [1]\n",
      "2024-02-29 01:07:39 URL:http://www.tng-project.org/users/login/ [5468/5468] -> \"/Users/keenan/Data/simim_resources/simulations/TNG100-3-Dark/raw/groups_082/index.html.tmp\" [1]\n",
      "2024-02-29 01:07:39 URL:http://www.tng-project.org/api/?format=api [23499/23499] -> \"/Users/keenan/Data/simim_resources/simulations/TNG100-3-Dark/raw/groups_082/index.html?format=api.tmp\" [1]\n",
      "2024-02-29 01:07:39 URL:http://www.tng-project.org/api/TNG100-3-Dark/?format=api [10756/10756] -> \"/Users/keenan/Data/simim_resources/simulations/TNG100-3-Dark/raw/groups_082/index.html?format=api.tmp\" [1]\n",
      "2024-02-29 01:07:39 URL:http://www.tng-project.org/api/TNG100-3-Dark/files/?format=api [42579/42579] -> \"/Users/keenan/Data/simim_resources/simulations/TNG100-3-Dark/raw/groups_082/index.html?format=api.tmp\" [1]\n",
      "2024-02-29 01:07:39 URL:http://www.tng-project.org/api/TNG100-3-Dark/files/groupcat-82/?format=json [299/299] -> \"/Users/keenan/Data/simim_resources/simulations/TNG100-3-Dark/raw/groups_082/index.html?format=json.tmp\" [1]\n",
      "FINISHED --2024-02-29 01:07:41--\n",
      "Total wall clock time: 3.1s\n",
      "Downloaded: 15 files, 776K in 0.09s (8.50 MB/s)\n",
      "2024-02-29 01:07:41 URL:http://www.tng-project.org/api/TNG100-3-Dark/files/groupcat-83/?format=api [9164/9164] -> \"/Users/keenan/Data/simim_resources/simulations/TNG100-3-Dark/raw/groups_083/index.html?format=api.tmp\" [1]\n"
     ]
    },
    {
     "name": "stdout",
     "output_type": "stream",
     "text": [
      "\n",
      "Downloading Snapshot 83\n"
     ]
    },
    {
     "name": "stderr",
     "output_type": "stream",
     "text": [
      "2024-02-29 01:07:41 URL:http://www.tng-project.org/ [13013/13013] -> \"/Users/keenan/Data/simim_resources/simulations/TNG100-3-Dark/raw/groups_083/index.html.tmp\" [1]\n",
      "2024-02-29 01:07:41 URL:http://www.tng-project.org/about/ [36929/36929] -> \"/Users/keenan/Data/simim_resources/simulations/TNG100-3-Dark/raw/groups_083/index.html.tmp\" [1]\n",
      "2024-02-29 01:07:41 URL:http://www.tng-project.org/people/ [13273/13273] -> \"/Users/keenan/Data/simim_resources/simulations/TNG100-3-Dark/raw/groups_083/index.html.tmp\" [1]\n",
      "2024-02-29 01:07:41 URL:http://www.tng-project.org/results/ [484895/484895] -> \"/Users/keenan/Data/simim_resources/simulations/TNG100-3-Dark/raw/groups_083/index.html.tmp\" [1]\n",
      "2024-02-29 01:07:41 URL:http://www.tng-project.org/media/ [59010/59010] -> \"/Users/keenan/Data/simim_resources/simulations/TNG100-3-Dark/raw/groups_083/index.html.tmp\" [1]\n",
      "2024-02-29 01:07:42 URL:http://www.tng-project.org/data/ [43902/43902] -> \"/Users/keenan/Data/simim_resources/simulations/TNG100-3-Dark/raw/groups_083/index.html.tmp\" [1]\n",
      "2024-02-29 01:07:42 URL:http://www.tng-project.org/explore/ [3989/3989] -> \"/Users/keenan/Data/simim_resources/simulations/TNG100-3-Dark/raw/groups_083/index.html.tmp\" [1]\n",
      "2024-02-29 01:07:42 URL:http://www.tng-project.org/cluster/ [42614/42614] -> \"/Users/keenan/Data/simim_resources/simulations/TNG100-3-Dark/raw/groups_083/index.html.tmp\" [1]\n",
      "2024-02-29 01:07:42 URL:http://www.tng-project.org/users/login/ [5468/5468] -> \"/Users/keenan/Data/simim_resources/simulations/TNG100-3-Dark/raw/groups_083/index.html.tmp\" [1]\n",
      "2024-02-29 01:07:42 URL:http://www.tng-project.org/users/login/ [5468/5468] -> \"/Users/keenan/Data/simim_resources/simulations/TNG100-3-Dark/raw/groups_083/index.html.tmp\" [1]\n",
      "2024-02-29 01:07:42 URL:http://www.tng-project.org/api/?format=api [23499/23499] -> \"/Users/keenan/Data/simim_resources/simulations/TNG100-3-Dark/raw/groups_083/index.html?format=api.tmp\" [1]\n",
      "2024-02-29 01:07:42 URL:http://www.tng-project.org/api/TNG100-3-Dark/?format=api [10756/10756] -> \"/Users/keenan/Data/simim_resources/simulations/TNG100-3-Dark/raw/groups_083/index.html?format=api.tmp\" [1]\n",
      "2024-02-29 01:07:42 URL:http://www.tng-project.org/api/TNG100-3-Dark/files/?format=api [42579/42579] -> \"/Users/keenan/Data/simim_resources/simulations/TNG100-3-Dark/raw/groups_083/index.html?format=api.tmp\" [1]\n",
      "2024-02-29 01:07:42 URL:http://www.tng-project.org/api/TNG100-3-Dark/files/groupcat-83/?format=json [299/299] -> \"/Users/keenan/Data/simim_resources/simulations/TNG100-3-Dark/raw/groups_083/index.html?format=json.tmp\" [1]\n",
      "FINISHED --2024-02-29 01:07:44--\n",
      "Total wall clock time: 3.0s\n",
      "Downloaded: 15 files, 776K in 0.1s (5.43 MB/s)\n",
      "2024-02-29 01:07:44 URL:http://www.tng-project.org/api/TNG100-3-Dark/files/groupcat-84/?format=api [9164/9164] -> \"/Users/keenan/Data/simim_resources/simulations/TNG100-3-Dark/raw/groups_084/index.html?format=api.tmp\" [1]\n"
     ]
    },
    {
     "name": "stdout",
     "output_type": "stream",
     "text": [
      "\n",
      "Downloading Snapshot 84\n"
     ]
    },
    {
     "name": "stderr",
     "output_type": "stream",
     "text": [
      "2024-02-29 01:07:44 URL:http://www.tng-project.org/ [13013/13013] -> \"/Users/keenan/Data/simim_resources/simulations/TNG100-3-Dark/raw/groups_084/index.html.tmp\" [1]\n",
      "2024-02-29 01:07:44 URL:http://www.tng-project.org/about/ [36929/36929] -> \"/Users/keenan/Data/simim_resources/simulations/TNG100-3-Dark/raw/groups_084/index.html.tmp\" [1]\n",
      "2024-02-29 01:07:44 URL:http://www.tng-project.org/people/ [13268/13268] -> \"/Users/keenan/Data/simim_resources/simulations/TNG100-3-Dark/raw/groups_084/index.html.tmp\" [1]\n",
      "2024-02-29 01:07:44 URL:http://www.tng-project.org/results/ [484895/484895] -> \"/Users/keenan/Data/simim_resources/simulations/TNG100-3-Dark/raw/groups_084/index.html.tmp\" [1]\n",
      "2024-02-29 01:07:44 URL:http://www.tng-project.org/media/ [59010/59010] -> \"/Users/keenan/Data/simim_resources/simulations/TNG100-3-Dark/raw/groups_084/index.html.tmp\" [1]\n",
      "2024-02-29 01:07:45 URL:http://www.tng-project.org/data/ [43902/43902] -> \"/Users/keenan/Data/simim_resources/simulations/TNG100-3-Dark/raw/groups_084/index.html.tmp\" [1]\n",
      "2024-02-29 01:07:45 URL:http://www.tng-project.org/explore/ [3989/3989] -> \"/Users/keenan/Data/simim_resources/simulations/TNG100-3-Dark/raw/groups_084/index.html.tmp\" [1]\n",
      "2024-02-29 01:07:45 URL:http://www.tng-project.org/cluster/ [42614/42614] -> \"/Users/keenan/Data/simim_resources/simulations/TNG100-3-Dark/raw/groups_084/index.html.tmp\" [1]\n",
      "2024-02-29 01:07:45 URL:http://www.tng-project.org/users/login/ [5468/5468] -> \"/Users/keenan/Data/simim_resources/simulations/TNG100-3-Dark/raw/groups_084/index.html.tmp\" [1]\n",
      "2024-02-29 01:07:45 URL:http://www.tng-project.org/users/login/ [5468/5468] -> \"/Users/keenan/Data/simim_resources/simulations/TNG100-3-Dark/raw/groups_084/index.html.tmp\" [1]\n",
      "2024-02-29 01:07:45 URL:http://www.tng-project.org/api/?format=api [23499/23499] -> \"/Users/keenan/Data/simim_resources/simulations/TNG100-3-Dark/raw/groups_084/index.html?format=api.tmp\" [1]\n",
      "2024-02-29 01:07:45 URL:http://www.tng-project.org/api/TNG100-3-Dark/?format=api [10756/10756] -> \"/Users/keenan/Data/simim_resources/simulations/TNG100-3-Dark/raw/groups_084/index.html?format=api.tmp\" [1]\n",
      "2024-02-29 01:07:45 URL:http://www.tng-project.org/api/TNG100-3-Dark/files/?format=api [42579/42579] -> \"/Users/keenan/Data/simim_resources/simulations/TNG100-3-Dark/raw/groups_084/index.html?format=api.tmp\" [1]\n",
      "2024-02-29 01:07:45 URL:http://www.tng-project.org/api/TNG100-3-Dark/files/groupcat-84/?format=json [299/299] -> \"/Users/keenan/Data/simim_resources/simulations/TNG100-3-Dark/raw/groups_084/index.html?format=json.tmp\" [1]\n",
      "FINISHED --2024-02-29 01:07:47--\n",
      "Total wall clock time: 3.1s\n",
      "Downloaded: 15 files, 776K in 0.1s (6.14 MB/s)\n"
     ]
    },
    {
     "name": "stdout",
     "output_type": "stream",
     "text": [
      "\n",
      "Downloading Snapshot 85\n"
     ]
    },
    {
     "name": "stderr",
     "output_type": "stream",
     "text": [
      "2024-02-29 01:07:47 URL:http://www.tng-project.org/api/TNG100-3-Dark/files/groupcat-85/?format=api [9164/9164] -> \"/Users/keenan/Data/simim_resources/simulations/TNG100-3-Dark/raw/groups_085/index.html?format=api.tmp\" [1]\n",
      "2024-02-29 01:07:47 URL:http://www.tng-project.org/ [13013/13013] -> \"/Users/keenan/Data/simim_resources/simulations/TNG100-3-Dark/raw/groups_085/index.html.tmp\" [1]\n",
      "2024-02-29 01:07:47 URL:http://www.tng-project.org/about/ [36929/36929] -> \"/Users/keenan/Data/simim_resources/simulations/TNG100-3-Dark/raw/groups_085/index.html.tmp\" [1]\n",
      "2024-02-29 01:07:47 URL:http://www.tng-project.org/people/ [13273/13273] -> \"/Users/keenan/Data/simim_resources/simulations/TNG100-3-Dark/raw/groups_085/index.html.tmp\" [1]\n",
      "2024-02-29 01:07:48 URL:http://www.tng-project.org/results/ [484895/484895] -> \"/Users/keenan/Data/simim_resources/simulations/TNG100-3-Dark/raw/groups_085/index.html.tmp\" [1]\n",
      "2024-02-29 01:07:48 URL:http://www.tng-project.org/media/ [59010/59010] -> \"/Users/keenan/Data/simim_resources/simulations/TNG100-3-Dark/raw/groups_085/index.html.tmp\" [1]\n",
      "2024-02-29 01:07:48 URL:http://www.tng-project.org/data/ [43902/43902] -> \"/Users/keenan/Data/simim_resources/simulations/TNG100-3-Dark/raw/groups_085/index.html.tmp\" [1]\n",
      "2024-02-29 01:07:48 URL:http://www.tng-project.org/explore/ [3989/3989] -> \"/Users/keenan/Data/simim_resources/simulations/TNG100-3-Dark/raw/groups_085/index.html.tmp\" [1]\n",
      "2024-02-29 01:07:48 URL:http://www.tng-project.org/cluster/ [42614/42614] -> \"/Users/keenan/Data/simim_resources/simulations/TNG100-3-Dark/raw/groups_085/index.html.tmp\" [1]\n",
      "2024-02-29 01:07:48 URL:http://www.tng-project.org/users/login/ [5468/5468] -> \"/Users/keenan/Data/simim_resources/simulations/TNG100-3-Dark/raw/groups_085/index.html.tmp\" [1]\n",
      "2024-02-29 01:07:48 URL:http://www.tng-project.org/users/login/ [5468/5468] -> \"/Users/keenan/Data/simim_resources/simulations/TNG100-3-Dark/raw/groups_085/index.html.tmp\" [1]\n",
      "2024-02-29 01:07:48 URL:http://www.tng-project.org/api/?format=api [23499/23499] -> \"/Users/keenan/Data/simim_resources/simulations/TNG100-3-Dark/raw/groups_085/index.html?format=api.tmp\" [1]\n",
      "2024-02-29 01:07:48 URL:http://www.tng-project.org/api/TNG100-3-Dark/?format=api [10756/10756] -> \"/Users/keenan/Data/simim_resources/simulations/TNG100-3-Dark/raw/groups_085/index.html?format=api.tmp\" [1]\n",
      "2024-02-29 01:07:49 URL:http://www.tng-project.org/api/TNG100-3-Dark/files/?format=api [42579/42579] -> \"/Users/keenan/Data/simim_resources/simulations/TNG100-3-Dark/raw/groups_085/index.html?format=api.tmp\" [1]\n",
      "2024-02-29 01:07:49 URL:http://www.tng-project.org/api/TNG100-3-Dark/files/groupcat-85/?format=json [299/299] -> \"/Users/keenan/Data/simim_resources/simulations/TNG100-3-Dark/raw/groups_085/index.html?format=json.tmp\" [1]\n",
      "FINISHED --2024-02-29 01:07:50--\n",
      "Total wall clock time: 3.2s\n",
      "Downloaded: 15 files, 776K in 0.1s (6.33 MB/s)\n"
     ]
    },
    {
     "name": "stdout",
     "output_type": "stream",
     "text": [
      "\n",
      "Downloading Snapshot 86\n"
     ]
    },
    {
     "name": "stderr",
     "output_type": "stream",
     "text": [
      "2024-02-29 01:07:50 URL:http://www.tng-project.org/api/TNG100-3-Dark/files/groupcat-86/?format=api [9164/9164] -> \"/Users/keenan/Data/simim_resources/simulations/TNG100-3-Dark/raw/groups_086/index.html?format=api.tmp\" [1]\n",
      "2024-02-29 01:07:50 URL:http://www.tng-project.org/ [13013/13013] -> \"/Users/keenan/Data/simim_resources/simulations/TNG100-3-Dark/raw/groups_086/index.html.tmp\" [1]\n",
      "2024-02-29 01:07:50 URL:http://www.tng-project.org/about/ [36929/36929] -> \"/Users/keenan/Data/simim_resources/simulations/TNG100-3-Dark/raw/groups_086/index.html.tmp\" [1]\n",
      "2024-02-29 01:07:50 URL:http://www.tng-project.org/people/ [13268/13268] -> \"/Users/keenan/Data/simim_resources/simulations/TNG100-3-Dark/raw/groups_086/index.html.tmp\" [1]\n",
      "2024-02-29 01:07:51 URL:http://www.tng-project.org/results/ [484895/484895] -> \"/Users/keenan/Data/simim_resources/simulations/TNG100-3-Dark/raw/groups_086/index.html.tmp\" [1]\n",
      "2024-02-29 01:07:51 URL:http://www.tng-project.org/media/ [59010/59010] -> \"/Users/keenan/Data/simim_resources/simulations/TNG100-3-Dark/raw/groups_086/index.html.tmp\" [1]\n",
      "2024-02-29 01:07:51 URL:http://www.tng-project.org/data/ [43902/43902] -> \"/Users/keenan/Data/simim_resources/simulations/TNG100-3-Dark/raw/groups_086/index.html.tmp\" [1]\n",
      "2024-02-29 01:07:51 URL:http://www.tng-project.org/explore/ [3989/3989] -> \"/Users/keenan/Data/simim_resources/simulations/TNG100-3-Dark/raw/groups_086/index.html.tmp\" [1]\n",
      "2024-02-29 01:07:51 URL:http://www.tng-project.org/cluster/ [42614/42614] -> \"/Users/keenan/Data/simim_resources/simulations/TNG100-3-Dark/raw/groups_086/index.html.tmp\" [1]\n",
      "2024-02-29 01:07:51 URL:http://www.tng-project.org/users/login/ [5468/5468] -> \"/Users/keenan/Data/simim_resources/simulations/TNG100-3-Dark/raw/groups_086/index.html.tmp\" [1]\n",
      "2024-02-29 01:07:51 URL:http://www.tng-project.org/users/login/ [5468/5468] -> \"/Users/keenan/Data/simim_resources/simulations/TNG100-3-Dark/raw/groups_086/index.html.tmp\" [1]\n",
      "2024-02-29 01:07:51 URL:http://www.tng-project.org/api/?format=api [23499/23499] -> \"/Users/keenan/Data/simim_resources/simulations/TNG100-3-Dark/raw/groups_086/index.html?format=api.tmp\" [1]\n",
      "2024-02-29 01:07:52 URL:http://www.tng-project.org/api/TNG100-3-Dark/?format=api [10756/10756] -> \"/Users/keenan/Data/simim_resources/simulations/TNG100-3-Dark/raw/groups_086/index.html?format=api.tmp\" [1]\n",
      "2024-02-29 01:07:52 URL:http://www.tng-project.org/api/TNG100-3-Dark/files/?format=api [42579/42579] -> \"/Users/keenan/Data/simim_resources/simulations/TNG100-3-Dark/raw/groups_086/index.html?format=api.tmp\" [1]\n",
      "2024-02-29 01:07:52 URL:http://www.tng-project.org/api/TNG100-3-Dark/files/groupcat-86/?format=json [299/299] -> \"/Users/keenan/Data/simim_resources/simulations/TNG100-3-Dark/raw/groups_086/index.html?format=json.tmp\" [1]\n",
      "FINISHED --2024-02-29 01:07:53--\n",
      "Total wall clock time: 3.2s\n",
      "Downloaded: 15 files, 776K in 0.09s (8.35 MB/s)\n"
     ]
    },
    {
     "name": "stdout",
     "output_type": "stream",
     "text": [
      "\n",
      "Downloading Snapshot 87\n"
     ]
    },
    {
     "name": "stderr",
     "output_type": "stream",
     "text": [
      "2024-02-29 01:07:53 URL:http://www.tng-project.org/api/TNG100-3-Dark/files/groupcat-87/?format=api [9164/9164] -> \"/Users/keenan/Data/simim_resources/simulations/TNG100-3-Dark/raw/groups_087/index.html?format=api.tmp\" [1]\n",
      "2024-02-29 01:07:53 URL:http://www.tng-project.org/ [13013/13013] -> \"/Users/keenan/Data/simim_resources/simulations/TNG100-3-Dark/raw/groups_087/index.html.tmp\" [1]\n",
      "2024-02-29 01:07:54 URL:http://www.tng-project.org/about/ [36929/36929] -> \"/Users/keenan/Data/simim_resources/simulations/TNG100-3-Dark/raw/groups_087/index.html.tmp\" [1]\n",
      "2024-02-29 01:07:54 URL:http://www.tng-project.org/people/ [13273/13273] -> \"/Users/keenan/Data/simim_resources/simulations/TNG100-3-Dark/raw/groups_087/index.html.tmp\" [1]\n",
      "2024-02-29 01:07:54 URL:http://www.tng-project.org/results/ [484895/484895] -> \"/Users/keenan/Data/simim_resources/simulations/TNG100-3-Dark/raw/groups_087/index.html.tmp\" [1]\n",
      "2024-02-29 01:07:54 URL:http://www.tng-project.org/media/ [59010/59010] -> \"/Users/keenan/Data/simim_resources/simulations/TNG100-3-Dark/raw/groups_087/index.html.tmp\" [1]\n",
      "2024-02-29 01:07:54 URL:http://www.tng-project.org/data/ [43902/43902] -> \"/Users/keenan/Data/simim_resources/simulations/TNG100-3-Dark/raw/groups_087/index.html.tmp\" [1]\n",
      "2024-02-29 01:07:54 URL:http://www.tng-project.org/explore/ [3989/3989] -> \"/Users/keenan/Data/simim_resources/simulations/TNG100-3-Dark/raw/groups_087/index.html.tmp\" [1]\n",
      "2024-02-29 01:07:54 URL:http://www.tng-project.org/cluster/ [42614/42614] -> \"/Users/keenan/Data/simim_resources/simulations/TNG100-3-Dark/raw/groups_087/index.html.tmp\" [1]\n",
      "2024-02-29 01:07:55 URL:http://www.tng-project.org/users/login/ [5468/5468] -> \"/Users/keenan/Data/simim_resources/simulations/TNG100-3-Dark/raw/groups_087/index.html.tmp\" [1]\n",
      "2024-02-29 01:07:55 URL:http://www.tng-project.org/users/login/ [5468/5468] -> \"/Users/keenan/Data/simim_resources/simulations/TNG100-3-Dark/raw/groups_087/index.html.tmp\" [1]\n",
      "2024-02-29 01:07:55 URL:http://www.tng-project.org/api/?format=api [23499/23499] -> \"/Users/keenan/Data/simim_resources/simulations/TNG100-3-Dark/raw/groups_087/index.html?format=api.tmp\" [1]\n",
      "2024-02-29 01:07:55 URL:http://www.tng-project.org/api/TNG100-3-Dark/?format=api [10756/10756] -> \"/Users/keenan/Data/simim_resources/simulations/TNG100-3-Dark/raw/groups_087/index.html?format=api.tmp\" [1]\n",
      "2024-02-29 01:07:55 URL:http://www.tng-project.org/api/TNG100-3-Dark/files/?format=api [42579/42579] -> \"/Users/keenan/Data/simim_resources/simulations/TNG100-3-Dark/raw/groups_087/index.html?format=api.tmp\" [1]\n",
      "2024-02-29 01:07:55 URL:http://www.tng-project.org/api/TNG100-3-Dark/files/groupcat-87/?format=json [299/299] -> \"/Users/keenan/Data/simim_resources/simulations/TNG100-3-Dark/raw/groups_087/index.html?format=json.tmp\" [1]\n",
      "FINISHED --2024-02-29 01:07:56--\n",
      "Total wall clock time: 3.2s\n",
      "Downloaded: 15 files, 776K in 0.1s (5.62 MB/s)\n"
     ]
    },
    {
     "name": "stdout",
     "output_type": "stream",
     "text": [
      "\n",
      "Downloading Snapshot 88\n"
     ]
    },
    {
     "name": "stderr",
     "output_type": "stream",
     "text": [
      "2024-02-29 01:07:57 URL:http://www.tng-project.org/api/TNG100-3-Dark/files/groupcat-88/?format=api [9164/9164] -> \"/Users/keenan/Data/simim_resources/simulations/TNG100-3-Dark/raw/groups_088/index.html?format=api.tmp\" [1]\n",
      "2024-02-29 01:07:57 URL:http://www.tng-project.org/ [13013/13013] -> \"/Users/keenan/Data/simim_resources/simulations/TNG100-3-Dark/raw/groups_088/index.html.tmp\" [1]\n",
      "2024-02-29 01:07:57 URL:http://www.tng-project.org/about/ [36929/36929] -> \"/Users/keenan/Data/simim_resources/simulations/TNG100-3-Dark/raw/groups_088/index.html.tmp\" [1]\n",
      "2024-02-29 01:07:57 URL:http://www.tng-project.org/people/ [13267/13267] -> \"/Users/keenan/Data/simim_resources/simulations/TNG100-3-Dark/raw/groups_088/index.html.tmp\" [1]\n",
      "2024-02-29 01:07:57 URL:http://www.tng-project.org/results/ [484895/484895] -> \"/Users/keenan/Data/simim_resources/simulations/TNG100-3-Dark/raw/groups_088/index.html.tmp\" [1]\n",
      "2024-02-29 01:07:57 URL:http://www.tng-project.org/media/ [59010/59010] -> \"/Users/keenan/Data/simim_resources/simulations/TNG100-3-Dark/raw/groups_088/index.html.tmp\" [1]\n",
      "2024-02-29 01:07:57 URL:http://www.tng-project.org/data/ [43902/43902] -> \"/Users/keenan/Data/simim_resources/simulations/TNG100-3-Dark/raw/groups_088/index.html.tmp\" [1]\n",
      "2024-02-29 01:07:57 URL:http://www.tng-project.org/explore/ [3989/3989] -> \"/Users/keenan/Data/simim_resources/simulations/TNG100-3-Dark/raw/groups_088/index.html.tmp\" [1]\n",
      "2024-02-29 01:07:58 URL:http://www.tng-project.org/cluster/ [42614/42614] -> \"/Users/keenan/Data/simim_resources/simulations/TNG100-3-Dark/raw/groups_088/index.html.tmp\" [1]\n",
      "2024-02-29 01:07:58 URL:http://www.tng-project.org/users/login/ [5468/5468] -> \"/Users/keenan/Data/simim_resources/simulations/TNG100-3-Dark/raw/groups_088/index.html.tmp\" [1]\n",
      "2024-02-29 01:07:58 URL:http://www.tng-project.org/users/login/ [5468/5468] -> \"/Users/keenan/Data/simim_resources/simulations/TNG100-3-Dark/raw/groups_088/index.html.tmp\" [1]\n",
      "2024-02-29 01:07:58 URL:http://www.tng-project.org/api/?format=api [23499/23499] -> \"/Users/keenan/Data/simim_resources/simulations/TNG100-3-Dark/raw/groups_088/index.html?format=api.tmp\" [1]\n",
      "2024-02-29 01:07:58 URL:http://www.tng-project.org/api/TNG100-3-Dark/?format=api [10756/10756] -> \"/Users/keenan/Data/simim_resources/simulations/TNG100-3-Dark/raw/groups_088/index.html?format=api.tmp\" [1]\n",
      "2024-02-29 01:07:58 URL:http://www.tng-project.org/api/TNG100-3-Dark/files/?format=api [42579/42579] -> \"/Users/keenan/Data/simim_resources/simulations/TNG100-3-Dark/raw/groups_088/index.html?format=api.tmp\" [1]\n",
      "2024-02-29 01:07:58 URL:http://www.tng-project.org/api/TNG100-3-Dark/files/groupcat-88/?format=json [299/299] -> \"/Users/keenan/Data/simim_resources/simulations/TNG100-3-Dark/raw/groups_088/index.html?format=json.tmp\" [1]\n",
      "FINISHED --2024-02-29 01:07:59--\n",
      "Total wall clock time: 3.0s\n",
      "Downloaded: 15 files, 776K in 0.09s (8.12 MB/s)\n"
     ]
    },
    {
     "name": "stdout",
     "output_type": "stream",
     "text": [
      "\n",
      "Downloading Snapshot 89\n"
     ]
    },
    {
     "name": "stderr",
     "output_type": "stream",
     "text": [
      "2024-02-29 01:08:00 URL:http://www.tng-project.org/api/TNG100-3-Dark/files/groupcat-89/?format=api [9164/9164] -> \"/Users/keenan/Data/simim_resources/simulations/TNG100-3-Dark/raw/groups_089/index.html?format=api.tmp\" [1]\n",
      "2024-02-29 01:08:00 URL:http://www.tng-project.org/ [13013/13013] -> \"/Users/keenan/Data/simim_resources/simulations/TNG100-3-Dark/raw/groups_089/index.html.tmp\" [1]\n",
      "2024-02-29 01:08:00 URL:http://www.tng-project.org/about/ [36929/36929] -> \"/Users/keenan/Data/simim_resources/simulations/TNG100-3-Dark/raw/groups_089/index.html.tmp\" [1]\n",
      "2024-02-29 01:08:00 URL:http://www.tng-project.org/people/ [13273/13273] -> \"/Users/keenan/Data/simim_resources/simulations/TNG100-3-Dark/raw/groups_089/index.html.tmp\" [1]\n",
      "2024-02-29 01:08:00 URL:http://www.tng-project.org/results/ [484895/484895] -> \"/Users/keenan/Data/simim_resources/simulations/TNG100-3-Dark/raw/groups_089/index.html.tmp\" [1]\n",
      "2024-02-29 01:08:00 URL:http://www.tng-project.org/media/ [59010/59010] -> \"/Users/keenan/Data/simim_resources/simulations/TNG100-3-Dark/raw/groups_089/index.html.tmp\" [1]\n",
      "2024-02-29 01:08:01 URL:http://www.tng-project.org/data/ [43902/43902] -> \"/Users/keenan/Data/simim_resources/simulations/TNG100-3-Dark/raw/groups_089/index.html.tmp\" [1]\n",
      "2024-02-29 01:08:01 URL:http://www.tng-project.org/explore/ [3989/3989] -> \"/Users/keenan/Data/simim_resources/simulations/TNG100-3-Dark/raw/groups_089/index.html.tmp\" [1]\n",
      "2024-02-29 01:08:01 URL:http://www.tng-project.org/cluster/ [42614/42614] -> \"/Users/keenan/Data/simim_resources/simulations/TNG100-3-Dark/raw/groups_089/index.html.tmp\" [1]\n",
      "2024-02-29 01:08:01 URL:http://www.tng-project.org/users/login/ [5468/5468] -> \"/Users/keenan/Data/simim_resources/simulations/TNG100-3-Dark/raw/groups_089/index.html.tmp\" [1]\n",
      "2024-02-29 01:08:01 URL:http://www.tng-project.org/users/login/ [5468/5468] -> \"/Users/keenan/Data/simim_resources/simulations/TNG100-3-Dark/raw/groups_089/index.html.tmp\" [1]\n",
      "2024-02-29 01:08:01 URL:http://www.tng-project.org/api/?format=api [23499/23499] -> \"/Users/keenan/Data/simim_resources/simulations/TNG100-3-Dark/raw/groups_089/index.html?format=api.tmp\" [1]\n",
      "2024-02-29 01:08:01 URL:http://www.tng-project.org/api/TNG100-3-Dark/?format=api [10756/10756] -> \"/Users/keenan/Data/simim_resources/simulations/TNG100-3-Dark/raw/groups_089/index.html?format=api.tmp\" [1]\n",
      "2024-02-29 01:08:01 URL:http://www.tng-project.org/api/TNG100-3-Dark/files/?format=api [42579/42579] -> \"/Users/keenan/Data/simim_resources/simulations/TNG100-3-Dark/raw/groups_089/index.html?format=api.tmp\" [1]\n",
      "2024-02-29 01:08:01 URL:http://www.tng-project.org/api/TNG100-3-Dark/files/groupcat-89/?format=json [299/299] -> \"/Users/keenan/Data/simim_resources/simulations/TNG100-3-Dark/raw/groups_089/index.html?format=json.tmp\" [1]\n",
      "FINISHED --2024-02-29 01:08:03--\n",
      "Total wall clock time: 3.2s\n",
      "Downloaded: 15 files, 776K in 0.1s (6.05 MB/s)\n"
     ]
    },
    {
     "name": "stdout",
     "output_type": "stream",
     "text": [
      "\n",
      "Downloading Snapshot 90\n"
     ]
    },
    {
     "name": "stderr",
     "output_type": "stream",
     "text": [
      "2024-02-29 01:08:03 URL:http://www.tng-project.org/api/TNG100-3-Dark/files/groupcat-90/?format=api [9164/9164] -> \"/Users/keenan/Data/simim_resources/simulations/TNG100-3-Dark/raw/groups_090/index.html?format=api.tmp\" [1]\n",
      "2024-02-29 01:08:03 URL:http://www.tng-project.org/ [13013/13013] -> \"/Users/keenan/Data/simim_resources/simulations/TNG100-3-Dark/raw/groups_090/index.html.tmp\" [1]\n",
      "2024-02-29 01:08:03 URL:http://www.tng-project.org/about/ [36929/36929] -> \"/Users/keenan/Data/simim_resources/simulations/TNG100-3-Dark/raw/groups_090/index.html.tmp\" [1]\n",
      "2024-02-29 01:08:03 URL:http://www.tng-project.org/people/ [13273/13273] -> \"/Users/keenan/Data/simim_resources/simulations/TNG100-3-Dark/raw/groups_090/index.html.tmp\" [1]\n",
      "2024-02-29 01:08:03 URL:http://www.tng-project.org/results/ [484895/484895] -> \"/Users/keenan/Data/simim_resources/simulations/TNG100-3-Dark/raw/groups_090/index.html.tmp\" [1]\n",
      "2024-02-29 01:08:03 URL:http://www.tng-project.org/media/ [59010/59010] -> \"/Users/keenan/Data/simim_resources/simulations/TNG100-3-Dark/raw/groups_090/index.html.tmp\" [1]\n",
      "2024-02-29 01:08:04 URL:http://www.tng-project.org/data/ [43902/43902] -> \"/Users/keenan/Data/simim_resources/simulations/TNG100-3-Dark/raw/groups_090/index.html.tmp\" [1]\n",
      "2024-02-29 01:08:04 URL:http://www.tng-project.org/explore/ [3989/3989] -> \"/Users/keenan/Data/simim_resources/simulations/TNG100-3-Dark/raw/groups_090/index.html.tmp\" [1]\n",
      "2024-02-29 01:08:04 URL:http://www.tng-project.org/cluster/ [42614/42614] -> \"/Users/keenan/Data/simim_resources/simulations/TNG100-3-Dark/raw/groups_090/index.html.tmp\" [1]\n",
      "2024-02-29 01:08:04 URL:http://www.tng-project.org/users/login/ [5468/5468] -> \"/Users/keenan/Data/simim_resources/simulations/TNG100-3-Dark/raw/groups_090/index.html.tmp\" [1]\n",
      "2024-02-29 01:08:04 URL:http://www.tng-project.org/users/login/ [5468/5468] -> \"/Users/keenan/Data/simim_resources/simulations/TNG100-3-Dark/raw/groups_090/index.html.tmp\" [1]\n",
      "2024-02-29 01:08:04 URL:http://www.tng-project.org/api/?format=api [23499/23499] -> \"/Users/keenan/Data/simim_resources/simulations/TNG100-3-Dark/raw/groups_090/index.html?format=api.tmp\" [1]\n",
      "2024-02-29 01:08:04 URL:http://www.tng-project.org/api/TNG100-3-Dark/?format=api [10756/10756] -> \"/Users/keenan/Data/simim_resources/simulations/TNG100-3-Dark/raw/groups_090/index.html?format=api.tmp\" [1]\n",
      "2024-02-29 01:08:04 URL:http://www.tng-project.org/api/TNG100-3-Dark/files/?format=api [42579/42579] -> \"/Users/keenan/Data/simim_resources/simulations/TNG100-3-Dark/raw/groups_090/index.html?format=api.tmp\" [1]\n",
      "2024-02-29 01:08:04 URL:http://www.tng-project.org/api/TNG100-3-Dark/files/groupcat-90/?format=json [299/299] -> \"/Users/keenan/Data/simim_resources/simulations/TNG100-3-Dark/raw/groups_090/index.html?format=json.tmp\" [1]\n",
      "FINISHED --2024-02-29 01:08:06--\n",
      "Total wall clock time: 3.2s\n",
      "Downloaded: 15 files, 776K in 0.1s (7.97 MB/s)\n"
     ]
    },
    {
     "name": "stdout",
     "output_type": "stream",
     "text": [
      "\n",
      "Downloading Snapshot 91\n"
     ]
    },
    {
     "name": "stderr",
     "output_type": "stream",
     "text": [
      "2024-02-29 01:08:06 URL:http://www.tng-project.org/api/TNG100-3-Dark/files/groupcat-91/?format=api [9164/9164] -> \"/Users/keenan/Data/simim_resources/simulations/TNG100-3-Dark/raw/groups_091/index.html?format=api.tmp\" [1]\n",
      "2024-02-29 01:08:06 URL:http://www.tng-project.org/ [13013/13013] -> \"/Users/keenan/Data/simim_resources/simulations/TNG100-3-Dark/raw/groups_091/index.html.tmp\" [1]\n",
      "2024-02-29 01:08:06 URL:http://www.tng-project.org/about/ [36929/36929] -> \"/Users/keenan/Data/simim_resources/simulations/TNG100-3-Dark/raw/groups_091/index.html.tmp\" [1]\n",
      "2024-02-29 01:08:06 URL:http://www.tng-project.org/people/ [13268/13268] -> \"/Users/keenan/Data/simim_resources/simulations/TNG100-3-Dark/raw/groups_091/index.html.tmp\" [1]\n",
      "2024-02-29 01:08:06 URL:http://www.tng-project.org/results/ [484895/484895] -> \"/Users/keenan/Data/simim_resources/simulations/TNG100-3-Dark/raw/groups_091/index.html.tmp\" [1]\n",
      "2024-02-29 01:08:07 URL:http://www.tng-project.org/media/ [59010/59010] -> \"/Users/keenan/Data/simim_resources/simulations/TNG100-3-Dark/raw/groups_091/index.html.tmp\" [1]\n",
      "2024-02-29 01:08:07 URL:http://www.tng-project.org/data/ [43902/43902] -> \"/Users/keenan/Data/simim_resources/simulations/TNG100-3-Dark/raw/groups_091/index.html.tmp\" [1]\n",
      "2024-02-29 01:08:07 URL:http://www.tng-project.org/explore/ [3989/3989] -> \"/Users/keenan/Data/simim_resources/simulations/TNG100-3-Dark/raw/groups_091/index.html.tmp\" [1]\n",
      "2024-02-29 01:08:07 URL:http://www.tng-project.org/cluster/ [42614/42614] -> \"/Users/keenan/Data/simim_resources/simulations/TNG100-3-Dark/raw/groups_091/index.html.tmp\" [1]\n",
      "2024-02-29 01:08:07 URL:http://www.tng-project.org/users/login/ [5468/5468] -> \"/Users/keenan/Data/simim_resources/simulations/TNG100-3-Dark/raw/groups_091/index.html.tmp\" [1]\n",
      "2024-02-29 01:08:07 URL:http://www.tng-project.org/users/login/ [5468/5468] -> \"/Users/keenan/Data/simim_resources/simulations/TNG100-3-Dark/raw/groups_091/index.html.tmp\" [1]\n",
      "2024-02-29 01:08:07 URL:http://www.tng-project.org/api/?format=api [23499/23499] -> \"/Users/keenan/Data/simim_resources/simulations/TNG100-3-Dark/raw/groups_091/index.html?format=api.tmp\" [1]\n",
      "2024-02-29 01:08:07 URL:http://www.tng-project.org/api/TNG100-3-Dark/?format=api [10756/10756] -> \"/Users/keenan/Data/simim_resources/simulations/TNG100-3-Dark/raw/groups_091/index.html?format=api.tmp\" [1]\n",
      "2024-02-29 01:08:07 URL:http://www.tng-project.org/api/TNG100-3-Dark/files/?format=api [42579/42579] -> \"/Users/keenan/Data/simim_resources/simulations/TNG100-3-Dark/raw/groups_091/index.html?format=api.tmp\" [1]\n",
      "2024-02-29 01:08:07 URL:http://www.tng-project.org/api/TNG100-3-Dark/files/groupcat-91/?format=json [299/299] -> \"/Users/keenan/Data/simim_resources/simulations/TNG100-3-Dark/raw/groups_091/index.html?format=json.tmp\" [1]\n",
      "FINISHED --2024-02-29 01:08:09--\n",
      "Total wall clock time: 3.0s\n",
      "Downloaded: 15 files, 776K in 0.09s (8.20 MB/s)\n"
     ]
    },
    {
     "name": "stdout",
     "output_type": "stream",
     "text": [
      "\n",
      "Downloading Snapshot 92\n"
     ]
    },
    {
     "name": "stderr",
     "output_type": "stream",
     "text": [
      "2024-02-29 01:08:09 URL:http://www.tng-project.org/api/TNG100-3-Dark/files/groupcat-92/?format=api [9164/9164] -> \"/Users/keenan/Data/simim_resources/simulations/TNG100-3-Dark/raw/groups_092/index.html?format=api.tmp\" [1]\n",
      "2024-02-29 01:08:09 URL:http://www.tng-project.org/ [13013/13013] -> \"/Users/keenan/Data/simim_resources/simulations/TNG100-3-Dark/raw/groups_092/index.html.tmp\" [1]\n",
      "2024-02-29 01:08:09 URL:http://www.tng-project.org/about/ [36929/36929] -> \"/Users/keenan/Data/simim_resources/simulations/TNG100-3-Dark/raw/groups_092/index.html.tmp\" [1]\n",
      "2024-02-29 01:08:09 URL:http://www.tng-project.org/people/ [13273/13273] -> \"/Users/keenan/Data/simim_resources/simulations/TNG100-3-Dark/raw/groups_092/index.html.tmp\" [1]\n",
      "2024-02-29 01:08:10 URL:http://www.tng-project.org/results/ [484895/484895] -> \"/Users/keenan/Data/simim_resources/simulations/TNG100-3-Dark/raw/groups_092/index.html.tmp\" [1]\n",
      "2024-02-29 01:08:10 URL:http://www.tng-project.org/media/ [59010/59010] -> \"/Users/keenan/Data/simim_resources/simulations/TNG100-3-Dark/raw/groups_092/index.html.tmp\" [1]\n",
      "2024-02-29 01:08:10 URL:http://www.tng-project.org/data/ [43902/43902] -> \"/Users/keenan/Data/simim_resources/simulations/TNG100-3-Dark/raw/groups_092/index.html.tmp\" [1]\n",
      "2024-02-29 01:08:10 URL:http://www.tng-project.org/explore/ [3989/3989] -> \"/Users/keenan/Data/simim_resources/simulations/TNG100-3-Dark/raw/groups_092/index.html.tmp\" [1]\n",
      "2024-02-29 01:08:10 URL:http://www.tng-project.org/cluster/ [42614/42614] -> \"/Users/keenan/Data/simim_resources/simulations/TNG100-3-Dark/raw/groups_092/index.html.tmp\" [1]\n",
      "2024-02-29 01:08:10 URL:http://www.tng-project.org/users/login/ [5468/5468] -> \"/Users/keenan/Data/simim_resources/simulations/TNG100-3-Dark/raw/groups_092/index.html.tmp\" [1]\n",
      "2024-02-29 01:08:10 URL:http://www.tng-project.org/users/login/ [5468/5468] -> \"/Users/keenan/Data/simim_resources/simulations/TNG100-3-Dark/raw/groups_092/index.html.tmp\" [1]\n",
      "2024-02-29 01:08:10 URL:http://www.tng-project.org/api/?format=api [23499/23499] -> \"/Users/keenan/Data/simim_resources/simulations/TNG100-3-Dark/raw/groups_092/index.html?format=api.tmp\" [1]\n",
      "2024-02-29 01:08:11 URL:http://www.tng-project.org/api/TNG100-3-Dark/?format=api [10756/10756] -> \"/Users/keenan/Data/simim_resources/simulations/TNG100-3-Dark/raw/groups_092/index.html?format=api.tmp\" [1]\n",
      "2024-02-29 01:08:11 URL:http://www.tng-project.org/api/TNG100-3-Dark/files/?format=api [42579/42579] -> \"/Users/keenan/Data/simim_resources/simulations/TNG100-3-Dark/raw/groups_092/index.html?format=api.tmp\" [1]\n",
      "2024-02-29 01:08:11 URL:http://www.tng-project.org/api/TNG100-3-Dark/files/groupcat-92/?format=json [299/299] -> \"/Users/keenan/Data/simim_resources/simulations/TNG100-3-Dark/raw/groups_092/index.html?format=json.tmp\" [1]\n",
      "FINISHED --2024-02-29 01:08:12--\n",
      "Total wall clock time: 3.2s\n",
      "Downloaded: 15 files, 776K in 0.1s (5.60 MB/s)\n"
     ]
    },
    {
     "name": "stdout",
     "output_type": "stream",
     "text": [
      "\n",
      "Downloading Snapshot 93\n"
     ]
    },
    {
     "name": "stderr",
     "output_type": "stream",
     "text": [
      "2024-02-29 01:08:12 URL:http://www.tng-project.org/api/TNG100-3-Dark/files/groupcat-93/?format=api [9164/9164] -> \"/Users/keenan/Data/simim_resources/simulations/TNG100-3-Dark/raw/groups_093/index.html?format=api.tmp\" [1]\n",
      "2024-02-29 01:08:12 URL:http://www.tng-project.org/ [13013/13013] -> \"/Users/keenan/Data/simim_resources/simulations/TNG100-3-Dark/raw/groups_093/index.html.tmp\" [1]\n",
      "2024-02-29 01:08:12 URL:http://www.tng-project.org/about/ [36929/36929] -> \"/Users/keenan/Data/simim_resources/simulations/TNG100-3-Dark/raw/groups_093/index.html.tmp\" [1]\n",
      "2024-02-29 01:08:12 URL:http://www.tng-project.org/people/ [13267/13267] -> \"/Users/keenan/Data/simim_resources/simulations/TNG100-3-Dark/raw/groups_093/index.html.tmp\" [1]\n",
      "2024-02-29 01:08:13 URL:http://www.tng-project.org/results/ [484895/484895] -> \"/Users/keenan/Data/simim_resources/simulations/TNG100-3-Dark/raw/groups_093/index.html.tmp\" [1]\n",
      "2024-02-29 01:08:13 URL:http://www.tng-project.org/media/ [59010/59010] -> \"/Users/keenan/Data/simim_resources/simulations/TNG100-3-Dark/raw/groups_093/index.html.tmp\" [1]\n",
      "2024-02-29 01:08:13 URL:http://www.tng-project.org/data/ [43902/43902] -> \"/Users/keenan/Data/simim_resources/simulations/TNG100-3-Dark/raw/groups_093/index.html.tmp\" [1]\n",
      "2024-02-29 01:08:13 URL:http://www.tng-project.org/explore/ [3989/3989] -> \"/Users/keenan/Data/simim_resources/simulations/TNG100-3-Dark/raw/groups_093/index.html.tmp\" [1]\n",
      "2024-02-29 01:08:13 URL:http://www.tng-project.org/cluster/ [42614/42614] -> \"/Users/keenan/Data/simim_resources/simulations/TNG100-3-Dark/raw/groups_093/index.html.tmp\" [1]\n",
      "2024-02-29 01:08:13 URL:http://www.tng-project.org/users/login/ [5468/5468] -> \"/Users/keenan/Data/simim_resources/simulations/TNG100-3-Dark/raw/groups_093/index.html.tmp\" [1]\n",
      "2024-02-29 01:08:13 URL:http://www.tng-project.org/users/login/ [5468/5468] -> \"/Users/keenan/Data/simim_resources/simulations/TNG100-3-Dark/raw/groups_093/index.html.tmp\" [1]\n",
      "2024-02-29 01:08:14 URL:http://www.tng-project.org/api/?format=api [23499/23499] -> \"/Users/keenan/Data/simim_resources/simulations/TNG100-3-Dark/raw/groups_093/index.html?format=api.tmp\" [1]\n",
      "2024-02-29 01:08:14 URL:http://www.tng-project.org/api/TNG100-3-Dark/?format=api [10756/10756] -> \"/Users/keenan/Data/simim_resources/simulations/TNG100-3-Dark/raw/groups_093/index.html?format=api.tmp\" [1]\n",
      "2024-02-29 01:08:14 URL:http://www.tng-project.org/api/TNG100-3-Dark/files/?format=api [42579/42579] -> \"/Users/keenan/Data/simim_resources/simulations/TNG100-3-Dark/raw/groups_093/index.html?format=api.tmp\" [1]\n",
      "2024-02-29 01:08:14 URL:http://www.tng-project.org/api/TNG100-3-Dark/files/groupcat-93/?format=json [299/299] -> \"/Users/keenan/Data/simim_resources/simulations/TNG100-3-Dark/raw/groups_093/index.html?format=json.tmp\" [1]\n",
      "FINISHED --2024-02-29 01:08:15--\n",
      "Total wall clock time: 3.1s\n",
      "Downloaded: 15 files, 776K in 0.1s (7.81 MB/s)\n"
     ]
    },
    {
     "name": "stdout",
     "output_type": "stream",
     "text": [
      "\n",
      "Downloading Snapshot 94\n"
     ]
    },
    {
     "name": "stderr",
     "output_type": "stream",
     "text": [
      "2024-02-29 01:08:15 URL:http://www.tng-project.org/api/TNG100-3-Dark/files/groupcat-94/?format=api [9164/9164] -> \"/Users/keenan/Data/simim_resources/simulations/TNG100-3-Dark/raw/groups_094/index.html?format=api.tmp\" [1]\n",
      "2024-02-29 01:08:15 URL:http://www.tng-project.org/ [13013/13013] -> \"/Users/keenan/Data/simim_resources/simulations/TNG100-3-Dark/raw/groups_094/index.html.tmp\" [1]\n",
      "2024-02-29 01:08:15 URL:http://www.tng-project.org/about/ [36929/36929] -> \"/Users/keenan/Data/simim_resources/simulations/TNG100-3-Dark/raw/groups_094/index.html.tmp\" [1]\n",
      "2024-02-29 01:08:16 URL:http://www.tng-project.org/people/ [13274/13274] -> \"/Users/keenan/Data/simim_resources/simulations/TNG100-3-Dark/raw/groups_094/index.html.tmp\" [1]\n",
      "2024-02-29 01:08:16 URL:http://www.tng-project.org/results/ [484895/484895] -> \"/Users/keenan/Data/simim_resources/simulations/TNG100-3-Dark/raw/groups_094/index.html.tmp\" [1]\n",
      "2024-02-29 01:08:16 URL:http://www.tng-project.org/media/ [59010/59010] -> \"/Users/keenan/Data/simim_resources/simulations/TNG100-3-Dark/raw/groups_094/index.html.tmp\" [1]\n",
      "2024-02-29 01:08:16 URL:http://www.tng-project.org/data/ [43902/43902] -> \"/Users/keenan/Data/simim_resources/simulations/TNG100-3-Dark/raw/groups_094/index.html.tmp\" [1]\n",
      "2024-02-29 01:08:16 URL:http://www.tng-project.org/explore/ [3989/3989] -> \"/Users/keenan/Data/simim_resources/simulations/TNG100-3-Dark/raw/groups_094/index.html.tmp\" [1]\n",
      "2024-02-29 01:08:16 URL:http://www.tng-project.org/cluster/ [42614/42614] -> \"/Users/keenan/Data/simim_resources/simulations/TNG100-3-Dark/raw/groups_094/index.html.tmp\" [1]\n",
      "2024-02-29 01:08:16 URL:http://www.tng-project.org/users/login/ [5468/5468] -> \"/Users/keenan/Data/simim_resources/simulations/TNG100-3-Dark/raw/groups_094/index.html.tmp\" [1]\n",
      "2024-02-29 01:08:17 URL:http://www.tng-project.org/users/login/ [5468/5468] -> \"/Users/keenan/Data/simim_resources/simulations/TNG100-3-Dark/raw/groups_094/index.html.tmp\" [1]\n",
      "2024-02-29 01:08:17 URL:http://www.tng-project.org/api/?format=api [23499/23499] -> \"/Users/keenan/Data/simim_resources/simulations/TNG100-3-Dark/raw/groups_094/index.html?format=api.tmp\" [1]\n",
      "2024-02-29 01:08:17 URL:http://www.tng-project.org/api/TNG100-3-Dark/?format=api [10756/10756] -> \"/Users/keenan/Data/simim_resources/simulations/TNG100-3-Dark/raw/groups_094/index.html?format=api.tmp\" [1]\n",
      "2024-02-29 01:08:17 URL:http://www.tng-project.org/api/TNG100-3-Dark/files/?format=api [42579/42579] -> \"/Users/keenan/Data/simim_resources/simulations/TNG100-3-Dark/raw/groups_094/index.html?format=api.tmp\" [1]\n",
      "2024-02-29 01:08:17 URL:http://www.tng-project.org/api/TNG100-3-Dark/files/groupcat-94/?format=json [299/299] -> \"/Users/keenan/Data/simim_resources/simulations/TNG100-3-Dark/raw/groups_094/index.html?format=json.tmp\" [1]\n",
      "FINISHED --2024-02-29 01:08:18--\n",
      "Total wall clock time: 3.1s\n",
      "Downloaded: 15 files, 776K in 0.1s (5.39 MB/s)\n"
     ]
    },
    {
     "name": "stdout",
     "output_type": "stream",
     "text": [
      "\n",
      "Downloading Snapshot 95\n"
     ]
    },
    {
     "name": "stderr",
     "output_type": "stream",
     "text": [
      "2024-02-29 01:08:18 URL:http://www.tng-project.org/api/TNG100-3-Dark/files/groupcat-95/?format=api [9164/9164] -> \"/Users/keenan/Data/simim_resources/simulations/TNG100-3-Dark/raw/groups_095/index.html?format=api.tmp\" [1]\n",
      "2024-02-29 01:08:19 URL:http://www.tng-project.org/ [13013/13013] -> \"/Users/keenan/Data/simim_resources/simulations/TNG100-3-Dark/raw/groups_095/index.html.tmp\" [1]\n",
      "2024-02-29 01:08:19 URL:http://www.tng-project.org/about/ [36929/36929] -> \"/Users/keenan/Data/simim_resources/simulations/TNG100-3-Dark/raw/groups_095/index.html.tmp\" [1]\n",
      "2024-02-29 01:08:19 URL:http://www.tng-project.org/people/ [13274/13274] -> \"/Users/keenan/Data/simim_resources/simulations/TNG100-3-Dark/raw/groups_095/index.html.tmp\" [1]\n",
      "2024-02-29 01:08:19 URL:http://www.tng-project.org/results/ [484895/484895] -> \"/Users/keenan/Data/simim_resources/simulations/TNG100-3-Dark/raw/groups_095/index.html.tmp\" [1]\n",
      "2024-02-29 01:08:19 URL:http://www.tng-project.org/media/ [59010/59010] -> \"/Users/keenan/Data/simim_resources/simulations/TNG100-3-Dark/raw/groups_095/index.html.tmp\" [1]\n",
      "2024-02-29 01:08:19 URL:http://www.tng-project.org/data/ [43902/43902] -> \"/Users/keenan/Data/simim_resources/simulations/TNG100-3-Dark/raw/groups_095/index.html.tmp\" [1]\n",
      "2024-02-29 01:08:19 URL:http://www.tng-project.org/explore/ [3989/3989] -> \"/Users/keenan/Data/simim_resources/simulations/TNG100-3-Dark/raw/groups_095/index.html.tmp\" [1]\n",
      "2024-02-29 01:08:20 URL:http://www.tng-project.org/cluster/ [42614/42614] -> \"/Users/keenan/Data/simim_resources/simulations/TNG100-3-Dark/raw/groups_095/index.html.tmp\" [1]\n",
      "2024-02-29 01:08:20 URL:http://www.tng-project.org/users/login/ [5468/5468] -> \"/Users/keenan/Data/simim_resources/simulations/TNG100-3-Dark/raw/groups_095/index.html.tmp\" [1]\n",
      "2024-02-29 01:08:20 URL:http://www.tng-project.org/users/login/ [5468/5468] -> \"/Users/keenan/Data/simim_resources/simulations/TNG100-3-Dark/raw/groups_095/index.html.tmp\" [1]\n",
      "2024-02-29 01:08:20 URL:http://www.tng-project.org/api/?format=api [23499/23499] -> \"/Users/keenan/Data/simim_resources/simulations/TNG100-3-Dark/raw/groups_095/index.html?format=api.tmp\" [1]\n",
      "2024-02-29 01:08:20 URL:http://www.tng-project.org/api/TNG100-3-Dark/?format=api [10756/10756] -> \"/Users/keenan/Data/simim_resources/simulations/TNG100-3-Dark/raw/groups_095/index.html?format=api.tmp\" [1]\n",
      "2024-02-29 01:08:20 URL:http://www.tng-project.org/api/TNG100-3-Dark/files/?format=api [42579/42579] -> \"/Users/keenan/Data/simim_resources/simulations/TNG100-3-Dark/raw/groups_095/index.html?format=api.tmp\" [1]\n",
      "2024-02-29 01:08:20 URL:http://www.tng-project.org/api/TNG100-3-Dark/files/groupcat-95/?format=json [299/299] -> \"/Users/keenan/Data/simim_resources/simulations/TNG100-3-Dark/raw/groups_095/index.html?format=json.tmp\" [1]\n",
      "FINISHED --2024-02-29 01:08:22--\n",
      "Total wall clock time: 3.2s\n",
      "Downloaded: 15 files, 776K in 0.1s (6.17 MB/s)\n"
     ]
    },
    {
     "name": "stdout",
     "output_type": "stream",
     "text": [
      "\n",
      "Downloading Snapshot 96\n"
     ]
    },
    {
     "name": "stderr",
     "output_type": "stream",
     "text": [
      "2024-02-29 01:08:22 URL:http://www.tng-project.org/api/TNG100-3-Dark/files/groupcat-96/?format=api [9164/9164] -> \"/Users/keenan/Data/simim_resources/simulations/TNG100-3-Dark/raw/groups_096/index.html?format=api.tmp\" [1]\n",
      "2024-02-29 01:08:22 URL:http://www.tng-project.org/ [13013/13013] -> \"/Users/keenan/Data/simim_resources/simulations/TNG100-3-Dark/raw/groups_096/index.html.tmp\" [1]\n",
      "2024-02-29 01:08:22 URL:http://www.tng-project.org/about/ [36929/36929] -> \"/Users/keenan/Data/simim_resources/simulations/TNG100-3-Dark/raw/groups_096/index.html.tmp\" [1]\n",
      "2024-02-29 01:08:22 URL:http://www.tng-project.org/people/ [13269/13269] -> \"/Users/keenan/Data/simim_resources/simulations/TNG100-3-Dark/raw/groups_096/index.html.tmp\" [1]\n",
      "2024-02-29 01:08:22 URL:http://www.tng-project.org/results/ [484895/484895] -> \"/Users/keenan/Data/simim_resources/simulations/TNG100-3-Dark/raw/groups_096/index.html.tmp\" [1]\n",
      "2024-02-29 01:08:22 URL:http://www.tng-project.org/media/ [59010/59010] -> \"/Users/keenan/Data/simim_resources/simulations/TNG100-3-Dark/raw/groups_096/index.html.tmp\" [1]\n",
      "2024-02-29 01:08:23 URL:http://www.tng-project.org/data/ [43902/43902] -> \"/Users/keenan/Data/simim_resources/simulations/TNG100-3-Dark/raw/groups_096/index.html.tmp\" [1]\n",
      "2024-02-29 01:08:23 URL:http://www.tng-project.org/explore/ [3989/3989] -> \"/Users/keenan/Data/simim_resources/simulations/TNG100-3-Dark/raw/groups_096/index.html.tmp\" [1]\n",
      "2024-02-29 01:08:23 URL:http://www.tng-project.org/cluster/ [42614/42614] -> \"/Users/keenan/Data/simim_resources/simulations/TNG100-3-Dark/raw/groups_096/index.html.tmp\" [1]\n",
      "2024-02-29 01:08:23 URL:http://www.tng-project.org/users/login/ [5468/5468] -> \"/Users/keenan/Data/simim_resources/simulations/TNG100-3-Dark/raw/groups_096/index.html.tmp\" [1]\n",
      "2024-02-29 01:08:23 URL:http://www.tng-project.org/users/login/ [5468/5468] -> \"/Users/keenan/Data/simim_resources/simulations/TNG100-3-Dark/raw/groups_096/index.html.tmp\" [1]\n",
      "2024-02-29 01:08:23 URL:http://www.tng-project.org/api/?format=api [23499/23499] -> \"/Users/keenan/Data/simim_resources/simulations/TNG100-3-Dark/raw/groups_096/index.html?format=api.tmp\" [1]\n",
      "2024-02-29 01:08:23 URL:http://www.tng-project.org/api/TNG100-3-Dark/?format=api [10756/10756] -> \"/Users/keenan/Data/simim_resources/simulations/TNG100-3-Dark/raw/groups_096/index.html?format=api.tmp\" [1]\n",
      "2024-02-29 01:08:23 URL:http://www.tng-project.org/api/TNG100-3-Dark/files/?format=api [42579/42579] -> \"/Users/keenan/Data/simim_resources/simulations/TNG100-3-Dark/raw/groups_096/index.html?format=api.tmp\" [1]\n",
      "2024-02-29 01:08:23 URL:http://www.tng-project.org/api/TNG100-3-Dark/files/groupcat-96/?format=json [299/299] -> \"/Users/keenan/Data/simim_resources/simulations/TNG100-3-Dark/raw/groups_096/index.html?format=json.tmp\" [1]\n",
      "FINISHED --2024-02-29 01:08:25--\n",
      "Total wall clock time: 3.0s\n",
      "Downloaded: 15 files, 776K in 0.1s (5.46 MB/s)\n"
     ]
    },
    {
     "name": "stdout",
     "output_type": "stream",
     "text": [
      "\n",
      "Downloading Snapshot 97\n"
     ]
    },
    {
     "name": "stderr",
     "output_type": "stream",
     "text": [
      "2024-02-29 01:08:25 URL:http://www.tng-project.org/api/TNG100-3-Dark/files/groupcat-97/?format=api [9164/9164] -> \"/Users/keenan/Data/simim_resources/simulations/TNG100-3-Dark/raw/groups_097/index.html?format=api.tmp\" [1]\n",
      "2024-02-29 01:08:25 URL:http://www.tng-project.org/ [13013/13013] -> \"/Users/keenan/Data/simim_resources/simulations/TNG100-3-Dark/raw/groups_097/index.html.tmp\" [1]\n",
      "2024-02-29 01:08:25 URL:http://www.tng-project.org/about/ [36929/36929] -> \"/Users/keenan/Data/simim_resources/simulations/TNG100-3-Dark/raw/groups_097/index.html.tmp\" [1]\n",
      "2024-02-29 01:08:25 URL:http://www.tng-project.org/people/ [13267/13267] -> \"/Users/keenan/Data/simim_resources/simulations/TNG100-3-Dark/raw/groups_097/index.html.tmp\" [1]\n",
      "2024-02-29 01:08:25 URL:http://www.tng-project.org/results/ [484895/484895] -> \"/Users/keenan/Data/simim_resources/simulations/TNG100-3-Dark/raw/groups_097/index.html.tmp\" [1]\n",
      "2024-02-29 01:08:25 URL:http://www.tng-project.org/media/ [59010/59010] -> \"/Users/keenan/Data/simim_resources/simulations/TNG100-3-Dark/raw/groups_097/index.html.tmp\" [1]\n",
      "2024-02-29 01:08:26 URL:http://www.tng-project.org/data/ [43902/43902] -> \"/Users/keenan/Data/simim_resources/simulations/TNG100-3-Dark/raw/groups_097/index.html.tmp\" [1]\n",
      "2024-02-29 01:08:26 URL:http://www.tng-project.org/explore/ [3989/3989] -> \"/Users/keenan/Data/simim_resources/simulations/TNG100-3-Dark/raw/groups_097/index.html.tmp\" [1]\n",
      "2024-02-29 01:08:26 URL:http://www.tng-project.org/cluster/ [42614/42614] -> \"/Users/keenan/Data/simim_resources/simulations/TNG100-3-Dark/raw/groups_097/index.html.tmp\" [1]\n",
      "2024-02-29 01:08:26 URL:http://www.tng-project.org/users/login/ [5468/5468] -> \"/Users/keenan/Data/simim_resources/simulations/TNG100-3-Dark/raw/groups_097/index.html.tmp\" [1]\n",
      "2024-02-29 01:08:26 URL:http://www.tng-project.org/users/login/ [5468/5468] -> \"/Users/keenan/Data/simim_resources/simulations/TNG100-3-Dark/raw/groups_097/index.html.tmp\" [1]\n",
      "2024-02-29 01:08:26 URL:http://www.tng-project.org/api/?format=api [23499/23499] -> \"/Users/keenan/Data/simim_resources/simulations/TNG100-3-Dark/raw/groups_097/index.html?format=api.tmp\" [1]\n",
      "2024-02-29 01:08:26 URL:http://www.tng-project.org/api/TNG100-3-Dark/?format=api [10756/10756] -> \"/Users/keenan/Data/simim_resources/simulations/TNG100-3-Dark/raw/groups_097/index.html?format=api.tmp\" [1]\n",
      "2024-02-29 01:08:26 URL:http://www.tng-project.org/api/TNG100-3-Dark/files/?format=api [42579/42579] -> \"/Users/keenan/Data/simim_resources/simulations/TNG100-3-Dark/raw/groups_097/index.html?format=api.tmp\" [1]\n",
      "2024-02-29 01:08:26 URL:http://www.tng-project.org/api/TNG100-3-Dark/files/groupcat-97/?format=json [299/299] -> \"/Users/keenan/Data/simim_resources/simulations/TNG100-3-Dark/raw/groups_097/index.html?format=json.tmp\" [1]\n",
      "FINISHED --2024-02-29 01:08:28--\n",
      "Total wall clock time: 3.2s\n",
      "Downloaded: 15 files, 776K in 0.1s (7.95 MB/s)\n"
     ]
    },
    {
     "name": "stdout",
     "output_type": "stream",
     "text": [
      "\n",
      "Downloading Snapshot 98\n"
     ]
    },
    {
     "name": "stderr",
     "output_type": "stream",
     "text": [
      "2024-02-29 01:08:28 URL:http://www.tng-project.org/api/TNG100-3-Dark/files/groupcat-98/?format=api [9164/9164] -> \"/Users/keenan/Data/simim_resources/simulations/TNG100-3-Dark/raw/groups_098/index.html?format=api.tmp\" [1]\n",
      "2024-02-29 01:08:28 URL:http://www.tng-project.org/ [13013/13013] -> \"/Users/keenan/Data/simim_resources/simulations/TNG100-3-Dark/raw/groups_098/index.html.tmp\" [1]\n",
      "2024-02-29 01:08:28 URL:http://www.tng-project.org/about/ [36929/36929] -> \"/Users/keenan/Data/simim_resources/simulations/TNG100-3-Dark/raw/groups_098/index.html.tmp\" [1]\n",
      "2024-02-29 01:08:28 URL:http://www.tng-project.org/people/ [13267/13267] -> \"/Users/keenan/Data/simim_resources/simulations/TNG100-3-Dark/raw/groups_098/index.html.tmp\" [1]\n",
      "2024-02-29 01:08:28 URL:http://www.tng-project.org/results/ [484895/484895] -> \"/Users/keenan/Data/simim_resources/simulations/TNG100-3-Dark/raw/groups_098/index.html.tmp\" [1]\n",
      "2024-02-29 01:08:28 URL:http://www.tng-project.org/media/ [59010/59010] -> \"/Users/keenan/Data/simim_resources/simulations/TNG100-3-Dark/raw/groups_098/index.html.tmp\" [1]\n",
      "2024-02-29 01:08:29 URL:http://www.tng-project.org/data/ [43902/43902] -> \"/Users/keenan/Data/simim_resources/simulations/TNG100-3-Dark/raw/groups_098/index.html.tmp\" [1]\n",
      "2024-02-29 01:08:29 URL:http://www.tng-project.org/explore/ [3989/3989] -> \"/Users/keenan/Data/simim_resources/simulations/TNG100-3-Dark/raw/groups_098/index.html.tmp\" [1]\n",
      "2024-02-29 01:08:29 URL:http://www.tng-project.org/cluster/ [42614/42614] -> \"/Users/keenan/Data/simim_resources/simulations/TNG100-3-Dark/raw/groups_098/index.html.tmp\" [1]\n",
      "2024-02-29 01:08:29 URL:http://www.tng-project.org/users/login/ [5468/5468] -> \"/Users/keenan/Data/simim_resources/simulations/TNG100-3-Dark/raw/groups_098/index.html.tmp\" [1]\n",
      "2024-02-29 01:08:29 URL:http://www.tng-project.org/users/login/ [5468/5468] -> \"/Users/keenan/Data/simim_resources/simulations/TNG100-3-Dark/raw/groups_098/index.html.tmp\" [1]\n",
      "2024-02-29 01:08:29 URL:http://www.tng-project.org/api/?format=api [23499/23499] -> \"/Users/keenan/Data/simim_resources/simulations/TNG100-3-Dark/raw/groups_098/index.html?format=api.tmp\" [1]\n",
      "2024-02-29 01:08:29 URL:http://www.tng-project.org/api/TNG100-3-Dark/?format=api [10756/10756] -> \"/Users/keenan/Data/simim_resources/simulations/TNG100-3-Dark/raw/groups_098/index.html?format=api.tmp\" [1]\n",
      "2024-02-29 01:08:29 URL:http://www.tng-project.org/api/TNG100-3-Dark/files/?format=api [42579/42579] -> \"/Users/keenan/Data/simim_resources/simulations/TNG100-3-Dark/raw/groups_098/index.html?format=api.tmp\" [1]\n",
      "2024-02-29 01:08:29 URL:http://www.tng-project.org/api/TNG100-3-Dark/files/groupcat-98/?format=json [299/299] -> \"/Users/keenan/Data/simim_resources/simulations/TNG100-3-Dark/raw/groups_098/index.html?format=json.tmp\" [1]\n",
      "FINISHED --2024-02-29 01:08:31--\n",
      "Total wall clock time: 3.0s\n",
      "Downloaded: 15 files, 776K in 0.09s (8.05 MB/s)\n"
     ]
    },
    {
     "name": "stdout",
     "output_type": "stream",
     "text": [
      "\n",
      "Downloading Snapshot 99\n"
     ]
    },
    {
     "name": "stderr",
     "output_type": "stream",
     "text": [
      "2024-02-29 01:08:31 URL:http://www.tng-project.org/api/TNG100-3-Dark/files/groupcat-99/?format=api [9164/9164] -> \"/Users/keenan/Data/simim_resources/simulations/TNG100-3-Dark/raw/groups_099/index.html?format=api.tmp\" [1]\n",
      "2024-02-29 01:08:31 URL:http://www.tng-project.org/ [13013/13013] -> \"/Users/keenan/Data/simim_resources/simulations/TNG100-3-Dark/raw/groups_099/index.html.tmp\" [1]\n",
      "2024-02-29 01:08:31 URL:http://www.tng-project.org/about/ [36929/36929] -> \"/Users/keenan/Data/simim_resources/simulations/TNG100-3-Dark/raw/groups_099/index.html.tmp\" [1]\n",
      "2024-02-29 01:08:31 URL:http://www.tng-project.org/people/ [13274/13274] -> \"/Users/keenan/Data/simim_resources/simulations/TNG100-3-Dark/raw/groups_099/index.html.tmp\" [1]\n",
      "2024-02-29 01:08:31 URL:http://www.tng-project.org/results/ [484895/484895] -> \"/Users/keenan/Data/simim_resources/simulations/TNG100-3-Dark/raw/groups_099/index.html.tmp\" [1]\n",
      "2024-02-29 01:08:31 URL:http://www.tng-project.org/media/ [59010/59010] -> \"/Users/keenan/Data/simim_resources/simulations/TNG100-3-Dark/raw/groups_099/index.html.tmp\" [1]\n",
      "2024-02-29 01:08:32 URL:http://www.tng-project.org/data/ [43902/43902] -> \"/Users/keenan/Data/simim_resources/simulations/TNG100-3-Dark/raw/groups_099/index.html.tmp\" [1]\n",
      "2024-02-29 01:08:32 URL:http://www.tng-project.org/explore/ [3989/3989] -> \"/Users/keenan/Data/simim_resources/simulations/TNG100-3-Dark/raw/groups_099/index.html.tmp\" [1]\n",
      "2024-02-29 01:08:32 URL:http://www.tng-project.org/cluster/ [42614/42614] -> \"/Users/keenan/Data/simim_resources/simulations/TNG100-3-Dark/raw/groups_099/index.html.tmp\" [1]\n",
      "2024-02-29 01:08:32 URL:http://www.tng-project.org/users/login/ [5468/5468] -> \"/Users/keenan/Data/simim_resources/simulations/TNG100-3-Dark/raw/groups_099/index.html.tmp\" [1]\n",
      "2024-02-29 01:08:32 URL:http://www.tng-project.org/users/login/ [5468/5468] -> \"/Users/keenan/Data/simim_resources/simulations/TNG100-3-Dark/raw/groups_099/index.html.tmp\" [1]\n",
      "2024-02-29 01:08:32 URL:http://www.tng-project.org/api/?format=api [23499/23499] -> \"/Users/keenan/Data/simim_resources/simulations/TNG100-3-Dark/raw/groups_099/index.html?format=api.tmp\" [1]\n",
      "2024-02-29 01:08:32 URL:http://www.tng-project.org/api/TNG100-3-Dark/?format=api [10756/10756] -> \"/Users/keenan/Data/simim_resources/simulations/TNG100-3-Dark/raw/groups_099/index.html?format=api.tmp\" [1]\n",
      "2024-02-29 01:08:32 URL:http://www.tng-project.org/api/TNG100-3-Dark/files/?format=api [42579/42579] -> \"/Users/keenan/Data/simim_resources/simulations/TNG100-3-Dark/raw/groups_099/index.html?format=api.tmp\" [1]\n",
      "2024-02-29 01:08:33 URL:http://www.tng-project.org/api/TNG100-3-Dark/files/groupcat-99/?format=json [299/299] -> \"/Users/keenan/Data/simim_resources/simulations/TNG100-3-Dark/raw/groups_099/index.html?format=json.tmp\" [1]\n",
      "FINISHED --2024-02-29 01:08:34--\n",
      "Total wall clock time: 3.1s\n",
      "Downloaded: 15 files, 776K in 0.09s (8.14 MB/s)\n"
     ]
    }
   ],
   "source": [
    "# download the data - set the redownload parameter to True\n",
    "# if you want to overwrite snapshots already saved on your \n",
    "# machine.\n",
    "\n",
    "api_key = '[fill in your API key here]' # Replace this with a string containing key\n",
    "cat = sim.IllustrisCatalogs('TNG100-3-Dark',api_key)\n",
    "cat.download_meta()\n",
    "cat.download()"
   ]
  },
  {
   "cell_type": "markdown",
   "metadata": {},
   "source": [
    "Now that the simulation is downloaded we can reformat it to use with **SimIM**. This procedure reformats the data in a uniform format used by **SimIM** to interface with all supported simulations.\n",
    "\n",
    "Formatting is handled by the ``cat.format`` method. A few options are supported for formatting. Setting the ``basic`` parameter to ``True`` keeps only a minimal set of halo properties - position velocity, mass, radius, and a few others - which in the formatted catalog. This can be done to save space when other properties will not be needed.\n",
    "\n",
    "Setting the ``realtime_clean_raw`` parameter to ``True`` will delete the unformatted data (which is kept on the disk by default) as the **SimIM** formatted file is generated. This can save a significant amount of disk space when working with larger simulations, but will require re-downloading data if something goes wrong. We can then also delete the data later, once we've verified that the catalog has been successfully converted to the **SimIM** format, and this approach should be prefered when disk space is not a concern."
   ]
  },
  {
   "cell_type": "code",
   "execution_count": 7,
   "metadata": {},
   "outputs": [
    {
     "name": "stdout",
     "output_type": "stream",
     "text": [
      "Formatting snap 0\n",
      "warning: zero groups, empty return (snap=0).\n",
      "Formatting snap 1\n",
      "warning: zero groups, empty return (snap=1).\n",
      "Formatting snap 2\n",
      "Formatting snap 3\n",
      "Formatting snap 4\n",
      "Formatting snap 5\n",
      "Formatting snap 6\n",
      "Formatting snap 7\n",
      "Formatting snap 8\n",
      "Formatting snap 9\n",
      "Formatting snap 10\n",
      "Formatting snap 11\n",
      "Formatting snap 12\n",
      "Formatting snap 13\n",
      "Formatting snap 14\n",
      "Formatting snap 15\n",
      "Formatting snap 16\n",
      "Formatting snap 17\n",
      "Formatting snap 18\n",
      "Formatting snap 19\n",
      "Formatting snap 20\n",
      "Formatting snap 21\n",
      "Formatting snap 22\n",
      "Formatting snap 23\n",
      "Formatting snap 24\n",
      "Formatting snap 25\n",
      "Formatting snap 26\n",
      "Formatting snap 27\n",
      "Formatting snap 28\n",
      "Formatting snap 29\n",
      "Formatting snap 30\n",
      "Formatting snap 31\n",
      "Formatting snap 32\n",
      "Formatting snap 33\n",
      "Formatting snap 34\n",
      "Formatting snap 35\n",
      "Formatting snap 36\n",
      "Formatting snap 37\n",
      "Formatting snap 38\n",
      "Formatting snap 39\n",
      "Formatting snap 40\n",
      "Formatting snap 41\n",
      "Formatting snap 42\n",
      "Formatting snap 43\n",
      "Formatting snap 44\n",
      "Formatting snap 45\n",
      "Formatting snap 46\n",
      "Formatting snap 47\n",
      "Formatting snap 48\n",
      "Formatting snap 49\n",
      "Formatting snap 50\n",
      "Formatting snap 51\n",
      "Formatting snap 52\n",
      "Formatting snap 53\n",
      "Formatting snap 54\n",
      "Formatting snap 55\n",
      "Formatting snap 56\n",
      "Formatting snap 57\n",
      "Formatting snap 58\n",
      "Formatting snap 59\n",
      "Formatting snap 60\n",
      "Formatting snap 61\n",
      "Formatting snap 62\n",
      "Formatting snap 63\n",
      "Formatting snap 64\n",
      "Formatting snap 65\n",
      "Formatting snap 66\n",
      "Formatting snap 67\n",
      "Formatting snap 68\n",
      "Formatting snap 69\n",
      "Formatting snap 70\n",
      "Formatting snap 71\n",
      "Formatting snap 72\n",
      "Formatting snap 73\n",
      "Formatting snap 74\n",
      "Formatting snap 75\n",
      "Formatting snap 76\n",
      "Formatting snap 77\n",
      "Formatting snap 78\n",
      "Formatting snap 79\n",
      "Formatting snap 80\n",
      "Formatting snap 81\n",
      "Formatting snap 82\n",
      "Formatting snap 83\n",
      "Formatting snap 84\n",
      "Formatting snap 85\n",
      "Formatting snap 86\n",
      "Formatting snap 87\n",
      "Formatting snap 88\n",
      "Formatting snap 89\n",
      "Formatting snap 90\n",
      "Formatting snap 91\n",
      "Formatting snap 92\n",
      "Formatting snap 93\n",
      "Formatting snap 94\n",
      "Formatting snap 95\n",
      "Formatting snap 96\n",
      "Formatting snap 97\n",
      "Formatting snap 98\n",
      "Formatting snap 99\n"
     ]
    }
   ],
   "source": [
    "cat.format(remake=True,basic=False,realtime_clean_raw=False)"
   ]
  },
  {
   "cell_type": "markdown",
   "metadata": {},
   "source": [
    "To remove the unformatted versions of the catalog, we can now call the ``cat.clean_raw`` method."
   ]
  },
  {
   "cell_type": "code",
   "execution_count": 9,
   "metadata": {},
   "outputs": [
    {
     "name": "stdout",
     "output_type": "stream",
     "text": [
      "This will delete raw files for TNG100-3-Dark.\n",
      "Aborting cleanup\n"
     ]
    }
   ],
   "source": [
    "cat.clean_raw()"
   ]
  },
  {
   "cell_type": "markdown",
   "metadata": {},
   "source": [
    "## Partial Simulation Downloads\n",
    "\n",
    "It is also possible to save time and disk space by only downloading and formatting snapshots you need. For instance, if we only wanted the simulation from redshifts 0 to 2 (snapshots 33-99 for IllustrisTNG), then we could do the following:"
   ]
  },
  {
   "cell_type": "code",
   "execution_count": null,
   "metadata": {},
   "outputs": [],
   "source": [
    "snaps = np.arange(33,100)\n",
    "api_key = '[fill in your API key here]' # Replace this with a string containing key\n",
    "cat = sim.illustris.IllustrisCatalogs('TNG100-3-Dark',api_key,snaps=snaps)\n",
    "cat.download_meta(redownload=True)\n",
    "cat.download()\n",
    "cat.format(remake=True)"
   ]
  },
  {
   "cell_type": "markdown",
   "metadata": {},
   "source": [
    "Note that some of the metadata saved with the formatted snapshots depends on the full list of snapshots to be included in the **SimIM** catalogs. Therefore the ``cat.download_meta``, ``cat.download`` and ``cat.format`` methods should all be run with the a  ``simim.siminterface.IllustrisCatalogs`` instance initialized with the same snapshot list."
   ]
  },
  {
   "cell_type": "markdown",
   "metadata": {},
   "source": [
    "## Additional Simulations\n",
    "\n",
    "All simulations in the Illustris and IllustrisTNG can be downloaded and formatted using the ``simim.siminterface.IllustrisCatalogs`` class specifying the name of the desired simulation as the ``sim`` argument. The available simulations are ``Illustris-[N]`` and ``Illustris-[N]-Dark`` (where [N] is replaced with 1, 2, or 3), and ``TNG[S]-[N]`` and ``TNG[S]-[N]-Dark`` (where [S] is 50, 100, or 300 and [N] is again 1, 2, or 3).\n",
    "\n",
    "UniverseMachine catalogs for the BolshoiPlanck, MultiDark Planck 2, and Small MultiDark Placnk simulations. These can be accessed via ``simim.siminterface.UniversemachineCatalogs`` class and the names ``UniverseMachine-BolshoiPlanck``, ``UniverseMachine-MDPL2`` and ``UniverseMachine-SMDPL``."
   ]
  },
  {
   "cell_type": "markdown",
   "metadata": {},
   "source": [
    "It is also relatively straightforward to implement support for new simulations\n",
    "within the **SimIM** framework. Doing so requires adding new code to the \n",
    "**SimIM** package, which can be added by cloning the source code from the\n",
    "[SimIM project GitHub](https://github.com/rpkeenan/simim_public).\n",
    "The procedure for implementing new simulations is then described in the\n",
    "documentation for the ``simim.siminterface._rawsiminterface`` module."
   ]
  }
 ],
 "metadata": {
  "kernelspec": {
   "display_name": "simim",
   "language": "python",
   "name": "python3"
  },
  "language_info": {
   "codemirror_mode": {
    "name": "ipython",
    "version": 3
   },
   "file_extension": ".py",
   "mimetype": "text/x-python",
   "name": "python",
   "nbconvert_exporter": "python",
   "pygments_lexer": "ipython3",
   "version": "3.11.5"
  }
 },
 "nbformat": 4,
 "nbformat_minor": 2
}
